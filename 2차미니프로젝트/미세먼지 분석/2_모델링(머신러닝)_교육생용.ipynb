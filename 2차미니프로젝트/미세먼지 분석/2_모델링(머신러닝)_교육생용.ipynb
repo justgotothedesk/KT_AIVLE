{
  "cells": [
    {
      "cell_type": "markdown",
      "id": "2072748e",
      "metadata": {
        "id": "2072748e"
      },
      "source": [
        "## **AIVLE School 미니프로젝트 5기 AI트랙 2차** ##\n",
        "## **공공데이터를 활용한 <span style=\"color:skyblue\">미세먼지 농도</span> 예측**\n",
        "---"
      ]
    },
    {
      "cell_type": "markdown",
      "id": "71d4fac7",
      "metadata": {
        "id": "71d4fac7"
      },
      "source": [
        "## [step 3] 모델링"
      ]
    },
    {
      "cell_type": "markdown",
      "id": "428de2c9",
      "metadata": {
        "id": "428de2c9"
      },
      "source": [
        "## **0.프로젝트 소개**\n",
        "\n",
        "### (1) 수행 목표\n",
        "- 미세먼지 농도를 예측하는 머신러닝 모델을 만드세요."
      ]
    },
    {
      "cell_type": "markdown",
      "id": "673a15d8",
      "metadata": {
        "id": "673a15d8"
      },
      "source": [
        "#### 우리가 풀어야 하는 문제는 무엇인가요?\n",
        "* 서울 지역의 미세먼지 데이터와 날씨 데이터를 활용하여,\n",
        "미세먼지 예측에 관련 있는 데이터 항목으로 데이터를 구성, 전처리 하여\n",
        "미세먼지 농도를 예측하는 머신러닝 모델 구현\n"
      ]
    },
    {
      "cell_type": "markdown",
      "id": "69494029",
      "metadata": {
        "id": "69494029"
      },
      "source": [
        "### (2) 데이터 소개\n",
        "\n",
        "#### 1) 기본 데이터\n",
        "\n",
        "* 학습 데이터\n",
        "    * air_2022.csv : 2022년 미세먼지 데이터\n",
        "    * weather_2022.csv : 2022년 날씨 데이터\n",
        "* 테스트 데이터\n",
        "    * air_2023.csv : 2023년 미세먼지 데이터\n",
        "    * weather_2023.csv : 2023년 날씨 데이터\n",
        "\n",
        "#### 2) 데이터셋의 변수 소개(weather_2022,2023)\n",
        "\n",
        "* 증기압: 증기가 고체 또는 액체와 동적 평형 상태에 있을 때 증기의 압력 (증기가 되려는 힘)\n",
        "* 이슬점 온도: 불포화 상태의 공기가 냉각될 때, 포화 상태에 도달하여 수증기의 응결이 시작되는 온도\n",
        "* 일조: 일정한 물체나 땅의 겉면에 태양 광선이 비치는 시간 (1시간 중 비율)\n",
        "* 일사(량): 태양으로부터 오는 태양 복사 에너지가 지표에 닿는 양 (면적당 에너지 량)\n",
        "* 전운량: 하늘을 육안으로 관측하여 전부 구름일 때 10, 구름이 덮고 있는 하늘의 비율에 따라 0~10\n",
        "* 중하층운량: 중층과 하층에 있는 구름의 분포량(중하층 구름이 날씨에 영향 주므로 따로 표기)\n",
        "* 운형(운형약어): 구름의 종류. 약어 코드로 기재됨\n",
        "* 최저운고: 가장 낮은 구름의 높이\n",
        "* 현상번호(국내식): 비, 소낙비, 싸락눈, 눈보라 등의 기상현상을 나타낸 코드번호\n",
        "* 지면온도: 지면 0cm 온도\n",
        "* 지중온도: 땅 속 온도변수1"
      ]
    },
    {
      "cell_type": "markdown",
      "id": "bc18a997",
      "metadata": {
        "id": "bc18a997"
      },
      "source": [
        "## **1.환경설정**"
      ]
    },
    {
      "cell_type": "markdown",
      "id": "aa9b0b72",
      "metadata": {
        "id": "aa9b0b72"
      },
      "source": [
        "* 세부 요구사항\n",
        "    - 경로 설정 : 다음의 두가지 방법 중 하나를 선택하여 폴더를 준비하고 데이터를 로딩하시오.\n",
        "        * 1) 로컬 수행(Ananconda)\n",
        "            * 제공된 압축파일을 다운받아 압축을 풀고\n",
        "            * anaconda의 root directory(보통 C:/Users/< ID > 에 project 폴더를 만들고, 복사해 넣습니다.\n",
        "        * 2) 구글코랩\n",
        "            * 구글 드라이브 바로 밑에 project 폴더를 만들고,\n",
        "            * 데이터 파일을 복사해 넣습니다.\n",
        "            \n",
        "    - 기본적으로 필요한 라이브러리를 import 하도록 코드가 작성되어 있습니다.\n",
        "        * 필요하다고 판단되는 라이브러리를 추가하세요."
      ]
    },
    {
      "cell_type": "markdown",
      "id": "a47552a4",
      "metadata": {
        "id": "a47552a4"
      },
      "source": [
        "### (1) 경로 설정\n",
        "* 로컬환경 또는 구글 코랩 중 하나를 사용하시면 됩니다."
      ]
    },
    {
      "cell_type": "markdown",
      "id": "6aac7e46",
      "metadata": {
        "id": "6aac7e46"
      },
      "source": [
        "#### 1) 로컬 수행(Anaconda)\n",
        "* project 폴더에 필요한 파일들을 넣고, 본 파일을 열었다면, 별도 경로 지정이 필요하지 않습니다."
      ]
    },
    {
      "cell_type": "code",
      "execution_count": null,
      "id": "dfe4ca4c",
      "metadata": {
        "id": "dfe4ca4c"
      },
      "outputs": [],
      "source": [
        "path = 'C:/Users/User/project/'"
      ]
    },
    {
      "cell_type": "markdown",
      "id": "73dcba5a",
      "metadata": {
        "id": "73dcba5a"
      },
      "source": [
        "#### 2) 구글 코랩 수행"
      ]
    },
    {
      "cell_type": "markdown",
      "id": "6c4e499c",
      "metadata": {
        "id": "6c4e499c"
      },
      "source": [
        "* 구글 드라이브 연결"
      ]
    },
    {
      "cell_type": "code",
      "execution_count": 1,
      "id": "89670042",
      "metadata": {
        "colab": {
          "base_uri": "https://localhost:8080/"
        },
        "id": "89670042",
        "outputId": "78f54248-4c0e-412e-a387-7d0df3ea7cf3"
      },
      "outputs": [
        {
          "name": "stdout",
          "output_type": "stream",
          "text": [
            "Mounted at /content/drive\n"
          ]
        }
      ],
      "source": [
        "from google.colab import drive\n",
        "drive.mount('/content/drive')"
      ]
    },
    {
      "cell_type": "markdown",
      "id": "effcb513",
      "metadata": {
        "id": "effcb513"
      },
      "source": [
        "### (2) 라이브러리 설치 및 불러오기"
      ]
    },
    {
      "cell_type": "markdown",
      "id": "66a50a8f",
      "metadata": {
        "id": "66a50a8f"
      },
      "source": [
        "#### 1) 라이브러리 설치 및 로딩"
      ]
    },
    {
      "cell_type": "code",
      "execution_count": 17,
      "id": "6c7ede7b",
      "metadata": {
        "id": "6c7ede7b"
      },
      "outputs": [],
      "source": [
        "# 필요한 라이브러리 설치 및 불러오기\n",
        "import pandas as pd\n",
        "import numpy as np\n",
        "import matplotlib.pyplot as plt\n",
        "import seaborn as sns\n",
        "import datetime\n",
        "\n",
        "from statsmodels.graphics.mosaicplot import mosaic\n",
        "from scipy import stats as spst\n",
        "import statsmodels.api as sm\n",
        "import joblib\n",
        "\n",
        "# 더 필요한 라이브러리를 아래에 추가합니다.\n",
        "\n",
        "import pandas as pd\n",
        "\n",
        "from sklearn.neighbors import KNeighborsRegressor\n",
        "from sklearn.linear_model import LinearRegression, Lasso, Ridge, ElasticNet\n",
        "from sklearn.tree import DecisionTreeRegressor as DTR\n",
        "from sklearn.ensemble import RandomForestRegressor as RFR\n",
        "from sklearn.ensemble import GradientBoostingRegressor as GBR\n",
        "from sklearn.metrics import mean_squared_error as mse\n",
        "from sklearn.metrics import r2_score\n",
        "from sklearn.metrics import f1_score\n",
        "from sklearn.metrics import accuracy_score as acc\n",
        "from sklearn.metrics import recall_score as recall\n",
        "import joblib"
      ]
    },
    {
      "cell_type": "code",
      "execution_count": 5,
      "id": "85064fd0",
      "metadata": {
        "id": "85064fd0"
      },
      "outputs": [],
      "source": [
        "# 시각화 한글폰트 설정을 위해 아래 코드를 실행하세요.\n",
        "plt.rc('font', family='Malgun Gothic')\n",
        "sns.set(font=\"Malgun Gothic\",#\"NanumGothicCoding\",\n",
        "        rc={\"axes.unicode_minus\":False}, # 마이너스 부호 깨짐 현상 해결\n",
        "        style='darkgrid')"
      ]
    },
    {
      "cell_type": "markdown",
      "id": "2c10e691",
      "metadata": {
        "id": "2c10e691"
      },
      "source": [
        "### (3) 데이터 불러오기\n",
        "* 주어진 데이터셋\n",
        "    * 미세먼지 및 날씨 데이터 : train_x.csv / train_y.csv / test_x.csv / test_y.csv"
      ]
    },
    {
      "cell_type": "markdown",
      "id": "23ec5bb8",
      "metadata": {
        "id": "23ec5bb8"
      },
      "source": [
        "#### 1) 데이터 로딩"
      ]
    },
    {
      "cell_type": "code",
      "execution_count": null,
      "id": "1b9cf763",
      "metadata": {
        "id": "1b9cf763"
      },
      "outputs": [],
      "source": [
        "# train_x.csv / train_y.csv / test_x.csv / test_y.csv 4개의 데이터 로딩\n"
      ]
    },
    {
      "cell_type": "markdown",
      "id": "bc1e7485",
      "metadata": {
        "id": "bc1e7485"
      },
      "source": [
        "#### 2) 기본 정보 조회\n",
        "* 로딩한 데이터의 기본 정보를 확인 합니다(info 등..)"
      ]
    },
    {
      "cell_type": "code",
      "execution_count": 23,
      "id": "d8cc7d75",
      "metadata": {
        "colab": {
          "base_uri": "https://localhost:8080/"
        },
        "id": "d8cc7d75",
        "outputId": "7405c3aa-b408-46f3-b714-d5eb03e07fc1"
      },
      "outputs": [
        {
          "name": "stdout",
          "output_type": "stream",
          "text": [
            "<class 'pandas.core.frame.DataFrame'>\n",
            "DatetimeIndex: 8760 entries, 2022-01-01 00:00:00 to 2022-12-31 23:00:00\n",
            "Data columns (total 30 columns):\n",
            " #   Column         Non-Null Count  Dtype  \n",
            "---  ------         --------------  -----  \n",
            " 0   측정소코드          8760 non-null   int64  \n",
            " 1   SO2            8760 non-null   float64\n",
            " 2   CO             8760 non-null   float64\n",
            " 3   O3             8760 non-null   float64\n",
            " 4   NO2            8760 non-null   float64\n",
            " 5   PM10           8760 non-null   float64\n",
            " 6   PM25           8760 non-null   float64\n",
            " 7   지점             8760 non-null   int64  \n",
            " 8   기온(°C)         8760 non-null   float64\n",
            " 9   풍속(m/s)        8760 non-null   float64\n",
            " 10  풍향(16방위)       8760 non-null   int64  \n",
            " 11  습도(%)          8760 non-null   int64  \n",
            " 12  증기압(hPa)       8760 non-null   float64\n",
            " 13  이슬점온도(°C)      8760 non-null   float64\n",
            " 14  현지기압(hPa)      8760 non-null   float64\n",
            " 15  해면기압(hPa)      8760 non-null   float64\n",
            " 16  일조(hr)         8760 non-null   float64\n",
            " 17  일사(MJ/m2)      8760 non-null   float64\n",
            " 18  전운량(10분위)      8760 non-null   int64  \n",
            " 19  중하층운량(10분위)    8760 non-null   int64  \n",
            " 20  시정(10m)        8760 non-null   int64  \n",
            " 21  지면온도(°C)       8760 non-null   float64\n",
            " 22  5cm 지중온도(°C)   8760 non-null   float64\n",
            " 23  10cm 지중온도(°C)  8760 non-null   float64\n",
            " 24  20cm 지중온도(°C)  8760 non-null   float64\n",
            " 25  30cm 지중온도(°C)  8760 non-null   float64\n",
            " 26  month          8760 non-null   int64  \n",
            " 27  day            8760 non-null   int64  \n",
            " 28  hour           8760 non-null   int64  \n",
            " 29  전날_미세먼지        8736 non-null   float64\n",
            "dtypes: float64(20), int64(10)\n",
            "memory usage: 2.3 MB\n"
          ]
        }
      ],
      "source": [
        "# 아래에 실습코드를 작성하고 결과를 확인합니다.\n",
        "\n",
        "train_x.info()"
      ]
    },
    {
      "cell_type": "markdown",
      "id": "20aaca37-89d7-4045-affa-5a510c69495e",
      "metadata": {
        "id": "20aaca37-89d7-4045-affa-5a510c69495e",
        "tags": []
      },
      "source": [
        "## **2.머신러닝 모델링**"
      ]
    },
    {
      "cell_type": "markdown",
      "id": "66dca0e8-a0d1-4562-8afe-3e8f85733393",
      "metadata": {
        "id": "66dca0e8-a0d1-4562-8afe-3e8f85733393",
        "tags": []
      },
      "source": [
        "### (1) 모델링: LinearRegression"
      ]
    },
    {
      "cell_type": "markdown",
      "id": "joined-client",
      "metadata": {
        "id": "joined-client"
      },
      "source": [
        "* Train과 Test로 나눈 데이터를 기준으로 LinearRegression 모델링을 진행하고 평가를 해주세요.\n",
        "* 그리고 모델 파일을 pkl로 저장해주세요.\n",
        "* 성능지표 : MSE, R-squared Score(소수점 5째자리까지)"
      ]
    },
    {
      "cell_type": "code",
      "execution_count": 37,
      "id": "willing-disclaimer",
      "metadata": {
        "colab": {
          "base_uri": "https://localhost:8080/",
          "height": 74
        },
        "id": "willing-disclaimer",
        "outputId": "109f179e-ad5a-4104-8ce9-ba59219e3c5d"
      },
      "outputs": [
        {
          "data": {
            "text/html": [
              "<style>#sk-container-id-2 {color: black;background-color: white;}#sk-container-id-2 pre{padding: 0;}#sk-container-id-2 div.sk-toggleable {background-color: white;}#sk-container-id-2 label.sk-toggleable__label {cursor: pointer;display: block;width: 100%;margin-bottom: 0;padding: 0.3em;box-sizing: border-box;text-align: center;}#sk-container-id-2 label.sk-toggleable__label-arrow:before {content: \"▸\";float: left;margin-right: 0.25em;color: #696969;}#sk-container-id-2 label.sk-toggleable__label-arrow:hover:before {color: black;}#sk-container-id-2 div.sk-estimator:hover label.sk-toggleable__label-arrow:before {color: black;}#sk-container-id-2 div.sk-toggleable__content {max-height: 0;max-width: 0;overflow: hidden;text-align: left;background-color: #f0f8ff;}#sk-container-id-2 div.sk-toggleable__content pre {margin: 0.2em;color: black;border-radius: 0.25em;background-color: #f0f8ff;}#sk-container-id-2 input.sk-toggleable__control:checked~div.sk-toggleable__content {max-height: 200px;max-width: 100%;overflow: auto;}#sk-container-id-2 input.sk-toggleable__control:checked~label.sk-toggleable__label-arrow:before {content: \"▾\";}#sk-container-id-2 div.sk-estimator input.sk-toggleable__control:checked~label.sk-toggleable__label {background-color: #d4ebff;}#sk-container-id-2 div.sk-label input.sk-toggleable__control:checked~label.sk-toggleable__label {background-color: #d4ebff;}#sk-container-id-2 input.sk-hidden--visually {border: 0;clip: rect(1px 1px 1px 1px);clip: rect(1px, 1px, 1px, 1px);height: 1px;margin: -1px;overflow: hidden;padding: 0;position: absolute;width: 1px;}#sk-container-id-2 div.sk-estimator {font-family: monospace;background-color: #f0f8ff;border: 1px dotted black;border-radius: 0.25em;box-sizing: border-box;margin-bottom: 0.5em;}#sk-container-id-2 div.sk-estimator:hover {background-color: #d4ebff;}#sk-container-id-2 div.sk-parallel-item::after {content: \"\";width: 100%;border-bottom: 1px solid gray;flex-grow: 1;}#sk-container-id-2 div.sk-label:hover label.sk-toggleable__label {background-color: #d4ebff;}#sk-container-id-2 div.sk-serial::before {content: \"\";position: absolute;border-left: 1px solid gray;box-sizing: border-box;top: 0;bottom: 0;left: 50%;z-index: 0;}#sk-container-id-2 div.sk-serial {display: flex;flex-direction: column;align-items: center;background-color: white;padding-right: 0.2em;padding-left: 0.2em;position: relative;}#sk-container-id-2 div.sk-item {position: relative;z-index: 1;}#sk-container-id-2 div.sk-parallel {display: flex;align-items: stretch;justify-content: center;background-color: white;position: relative;}#sk-container-id-2 div.sk-item::before, #sk-container-id-2 div.sk-parallel-item::before {content: \"\";position: absolute;border-left: 1px solid gray;box-sizing: border-box;top: 0;bottom: 0;left: 50%;z-index: -1;}#sk-container-id-2 div.sk-parallel-item {display: flex;flex-direction: column;z-index: 1;position: relative;background-color: white;}#sk-container-id-2 div.sk-parallel-item:first-child::after {align-self: flex-end;width: 50%;}#sk-container-id-2 div.sk-parallel-item:last-child::after {align-self: flex-start;width: 50%;}#sk-container-id-2 div.sk-parallel-item:only-child::after {width: 0;}#sk-container-id-2 div.sk-dashed-wrapped {border: 1px dashed gray;margin: 0 0.4em 0.5em 0.4em;box-sizing: border-box;padding-bottom: 0.4em;background-color: white;}#sk-container-id-2 div.sk-label label {font-family: monospace;font-weight: bold;display: inline-block;line-height: 1.2em;}#sk-container-id-2 div.sk-label-container {text-align: center;}#sk-container-id-2 div.sk-container {/* jupyter's `normalize.less` sets `[hidden] { display: none; }` but bootstrap.min.css set `[hidden] { display: none !important; }` so we also need the `!important` here to be able to override the default hidden behavior on the sphinx rendered scikit-learn.org. See: https://github.com/scikit-learn/scikit-learn/issues/21755 */display: inline-block !important;position: relative;}#sk-container-id-2 div.sk-text-repr-fallback {display: none;}</style><div id=\"sk-container-id-2\" class=\"sk-top-container\"><div class=\"sk-text-repr-fallback\"><pre>LinearRegression()</pre><b>In a Jupyter environment, please rerun this cell to show the HTML representation or trust the notebook. <br />On GitHub, the HTML representation is unable to render, please try loading this page with nbviewer.org.</b></div><div class=\"sk-container\" hidden><div class=\"sk-item\"><div class=\"sk-estimator sk-toggleable\"><input class=\"sk-toggleable__control sk-hidden--visually\" id=\"sk-estimator-id-2\" type=\"checkbox\" checked><label for=\"sk-estimator-id-2\" class=\"sk-toggleable__label sk-toggleable__label-arrow\">LinearRegression</label><div class=\"sk-toggleable__content\"><pre>LinearRegression()</pre></div></div></div></div></div>"
            ],
            "text/plain": [
              "LinearRegression()"
            ]
          },
          "execution_count": 37,
          "metadata": {},
          "output_type": "execute_result"
        }
      ],
      "source": [
        "from sklearn.impute import SimpleImputer\n",
        "\n",
        "# 평균값으로 결측치 대체\n",
        "imputer = SimpleImputer(strategy='mean')\n",
        "train_x = imputer.fit_transform(train_x)\n",
        "test_x = imputer.transform(test_x)\n",
        "\n",
        "# LinearRegression 모델 학습\n",
        "model = LinearRegression()\n",
        "model.fit(train_x, train_y)"
      ]
    },
    {
      "cell_type": "code",
      "execution_count": 38,
      "id": "34e3d420-703f-4de5-bd81-4b1b167318e2",
      "metadata": {
        "id": "34e3d420-703f-4de5-bd81-4b1b167318e2"
      },
      "outputs": [],
      "source": [
        "# predict로 예측하여 y_pred_LR에 저장해보세요.\n",
        "\n",
        "y_pred_LR = model.predict(test_x)"
      ]
    },
    {
      "cell_type": "code",
      "execution_count": 39,
      "id": "0a21d60f",
      "metadata": {
        "colab": {
          "base_uri": "https://localhost:8080/"
        },
        "id": "0a21d60f",
        "outputId": "ce72fd84-64d2-4b0a-eea9-25f2d4737c7d"
      },
      "outputs": [
        {
          "name": "stdout",
          "output_type": "stream",
          "text": [
            "MSE: 47.70150373074605\n",
            "R-squared Score: 0.9574\n"
          ]
        }
      ],
      "source": [
        "# test_y 데이터와 y_pred_LR 데이터로 성능을 평가하여 출력해보세요.\n",
        "# 성능지표는 mse와 r2를 이용하세요.\n",
        "\n",
        "test_y.fillna(0, inplace=True)\n",
        "mse_value = mse(test_y, y_pred_LR)\n",
        "r2_value = r2_score(test_y, y_pred_LR)\n",
        "\n",
        "print(\"MSE:\", mse_value)\n",
        "print(\"R-squared Score:\", round(r2_value, 5))"
      ]
    },
    {
      "cell_type": "code",
      "execution_count": null,
      "id": "fe2096b7",
      "metadata": {
        "id": "fe2096b7"
      },
      "outputs": [],
      "source": [
        "# 학습한 모델을 pkl 파일로 저장해보세요.(joblib 활용)\n",
        "\n",
        "# joblib.dump(model, 'linear_regression_model.pkl')"
      ]
    },
    {
      "cell_type": "markdown",
      "id": "44e1265e-939a-41d6-87cd-98211da2b7d1",
      "metadata": {
        "id": "44e1265e-939a-41d6-87cd-98211da2b7d1",
        "tags": []
      },
      "source": [
        "### (2) 모델링: 랜덤포레스트"
      ]
    },
    {
      "cell_type": "markdown",
      "id": "crazy-escape",
      "metadata": {
        "id": "crazy-escape"
      },
      "source": [
        "* 랜덤포레스트: 배깅의 일종으로 의사결정나무(Decision Tree) 여러 개를 모아서 숲을 랜덤으로 구성하고 이를 종합해서 최종 모델을 산출하는 기법\n",
        "* Train과 Test로 나눈 데이터를 기준으로 렌덤포레스트로 모델을 학습을 진행하고 평가를 해주세요.\n",
        "* 그리고 모델 파일을 pkl로 저장해주세요.\n",
        "* 성능지표 : MSE, R-squared Score(소수점 5째자리까지)"
      ]
    },
    {
      "cell_type": "code",
      "execution_count": 44,
      "id": "10b33a11",
      "metadata": {
        "colab": {
          "base_uri": "https://localhost:8080/"
        },
        "id": "10b33a11",
        "outputId": "3e288ca2-1f6e-407b-8344-b80b19282a0f"
      },
      "outputs": [
        {
          "name": "stdout",
          "output_type": "stream",
          "text": [
            "MSE: 70.39589195816187\n",
            "R-squared Score: 0.93713\n"
          ]
        }
      ],
      "source": [
        "# 랜덤포레스트로 모델 학습 진행 하고 성능을 평가하여 출력해 보세요.\n",
        "# 성능평가는 MSE, R-Squared Score\n",
        "\n",
        "model = RFR()\n",
        "model.fit(train_x, train_y)\n",
        "\n",
        "y_pred_LR = model.predict(test_x)\n",
        "\n",
        "mse_value = mse(test_y, y_pred_LR)\n",
        "r2_value = r2_score(test_y, y_pred_LR)\n",
        "\n",
        "print(\"MSE:\", mse_value)\n",
        "print(\"R-squared Score:\", round(r2_value, 5))"
      ]
    },
    {
      "cell_type": "markdown",
      "id": "4b942bb3",
      "metadata": {
        "id": "4b942bb3"
      },
      "source": [
        "### (2-1) 랜덤포레스트 feature_importances 확인\n",
        "* 렌덤포레스트로 학습한 모델의 feature_importances를 구해보세요."
      ]
    },
    {
      "cell_type": "code",
      "execution_count": 53,
      "id": "e19f84b0",
      "metadata": {
        "colab": {
          "base_uri": "https://localhost:8080/"
        },
        "id": "e19f84b0",
        "outputId": "151ebbfd-ef4b-4534-8316-3404baa35c83"
      },
      "outputs": [
        {
          "name": "stdout",
          "output_type": "stream",
          "text": [
            "[0.00000000e+00 9.00560227e-04 2.22241679e-03 3.48489518e-03\n",
            " 3.00828035e-03 9.26307073e-01 3.60529677e-03 0.00000000e+00\n",
            " 1.88151551e-03 3.50610233e-03 2.11543926e-03 4.04447880e-03\n",
            " 1.56171909e-03 2.13487331e-03 9.03848246e-03 4.61992777e-03\n",
            " 1.02224320e-03 3.50096622e-03 1.29765574e-03 1.07535879e-03\n",
            " 4.07909660e-03 2.67853518e-03 1.53322111e-03 1.71408289e-03\n",
            " 1.21568924e-03 1.32155104e-03 2.72875544e-03 2.31282017e-03\n",
            " 3.41623335e-03 3.67273027e-03]\n",
            "가장 큰 중요도를 가진 인덱스: 5\n"
          ]
        }
      ],
      "source": [
        "# 렌덤포레스트로 학습한 모델의 feature_importances를 구해보세요.\n",
        "# 아래에 필요한 코드를 작성하고 결과를 확인합니다.\n",
        "print(model.feature_importances_)\n",
        "max_importance_index = np.argmax(model.feature_importances_)\n",
        "print(\"가장 큰 중요도를 가진 인덱스:\", max_importance_index) # NO2"
      ]
    },
    {
      "cell_type": "code",
      "execution_count": null,
      "id": "7c21c320",
      "metadata": {
        "id": "7c21c320"
      },
      "outputs": [],
      "source": [
        "# 확인 후 알수 있었던 인사이트가 있었으면 정리해보세요!\n"
      ]
    },
    {
      "cell_type": "markdown",
      "id": "95401368-9bff-4118-b07a-92b833e33f20",
      "metadata": {
        "id": "95401368-9bff-4118-b07a-92b833e33f20",
        "tags": []
      },
      "source": [
        "### (3) 모델링: GradientBoosting"
      ]
    },
    {
      "cell_type": "markdown",
      "id": "convinced-vocabulary",
      "metadata": {
        "id": "convinced-vocabulary"
      },
      "source": [
        "* GradientBoosting: 앞선 모델의 에러를 다음 모델의 예측 값으로 활용하면서 가중치 업데이트 하는데 경사하강법(Gradient Descent)를 활용해서 최적 모델을 만드는 기법\n",
        "* Train과 Test로 나눈 데이터를 기준으로 그라디언트부스팅으로 모델을 학습을 진행하고 평가를 해주세요.\n",
        "* 그리고 모델 파일을 pkl로 저장해주세요.\n",
        "* 성능지표 : MSE, R-squared Score(소수점 5째자리까지)"
      ]
    },
    {
      "cell_type": "code",
      "execution_count": 54,
      "id": "continent-olympus",
      "metadata": {
        "colab": {
          "base_uri": "https://localhost:8080/"
        },
        "id": "continent-olympus",
        "outputId": "4660207a-71c3-46a8-b1c2-a3e75a235303"
      },
      "outputs": [
        {
          "name": "stdout",
          "output_type": "stream",
          "text": [
            "MSE: 85.05735179148051\n",
            "R-squared Score: 0.92404\n"
          ]
        }
      ],
      "source": [
        "# 아래에 필요한 코드를 작성하고 결과를 확인합니다.\n",
        "\n",
        "# 랜덤포레스트로 모델 학습 진행 하고 성능을 평가하여 출력해 보세요.\n",
        "# 성능평가는 MSE, R-Squared Score\n",
        "\n",
        "model = GBR()\n",
        "model.fit(train_x, train_y)\n",
        "\n",
        "y_pred_LR = model.predict(test_x)\n",
        "\n",
        "mse_value = mse(test_y, y_pred_LR)\n",
        "r2_value = r2_score(test_y, y_pred_LR)\n",
        "\n",
        "print(\"MSE:\", mse_value)\n",
        "print(\"R-squared Score:\", round(r2_value, 5))"
      ]
    },
    {
      "cell_type": "code",
      "execution_count": null,
      "id": "9bdccb80",
      "metadata": {
        "id": "9bdccb80"
      },
      "outputs": [],
      "source": [
        "# 학습한 모델을 파일로 저장해보세요.(joblib 활용)\n",
        "\n",
        "\n"
      ]
    },
    {
      "cell_type": "markdown",
      "id": "803ed8fd",
      "metadata": {
        "id": "803ed8fd"
      },
      "source": [
        "### (3-1) 그라디언트부스팅 feature_importances 확인\n",
        "* 학습한 모델의 feature_importances를 구해보세요."
      ]
    },
    {
      "cell_type": "code",
      "execution_count": 55,
      "id": "8deba58d",
      "metadata": {
        "colab": {
          "base_uri": "https://localhost:8080/"
        },
        "id": "8deba58d",
        "outputId": "7886a7c2-23aa-40a8-b46d-df2c61b6fdf1"
      },
      "outputs": [
        {
          "name": "stdout",
          "output_type": "stream",
          "text": [
            "[0.00000000e+00 8.74919744e-05 2.50947544e-03 1.28088749e-03\n",
            " 8.91456348e-04 9.70912924e-01 8.62058274e-04 0.00000000e+00\n",
            " 9.96954041e-05 4.49197095e-04 4.32359566e-04 9.36515487e-04\n",
            " 8.37202861e-05 1.06315147e-03 1.33383569e-02 6.72460585e-04\n",
            " 5.47320620e-04 9.93569974e-04 2.80516715e-04 4.65100665e-05\n",
            " 9.88141821e-04 3.42945847e-04 7.44521289e-05 0.00000000e+00\n",
            " 2.65210824e-05 1.39778734e-04 2.72772278e-04 3.84782595e-05\n",
            " 1.97094944e-03 6.58292950e-04]\n",
            "가장 큰 중요도를 가진 인덱스: 5\n"
          ]
        }
      ],
      "source": [
        "# 그라디언트부스팅으로 학습한 모델의 feature_importances를 구해보세요.\n",
        "# 아래에 필요한 코드를 작성하고 결과를 확인합니다.\n",
        "\n",
        "print(model.feature_importances_)\n",
        "max_importance_index = np.argmax(model.feature_importances_)\n",
        "print(\"가장 큰 중요도를 가진 인덱스:\", max_importance_index) # NO2"
      ]
    },
    {
      "cell_type": "code",
      "execution_count": null,
      "id": "9d1bfe7d",
      "metadata": {
        "id": "9d1bfe7d",
        "tags": []
      },
      "outputs": [],
      "source": [
        "# 확인 후 알수 있었던 인사이트가 있었으면 정리해보세요!\n"
      ]
    },
    {
      "cell_type": "markdown",
      "id": "eb89852b-b155-4f0a-aaef-2a035caccda7",
      "metadata": {
        "id": "eb89852b-b155-4f0a-aaef-2a035caccda7",
        "tags": []
      },
      "source": [
        "### (4) 모델링: Self Choice Model"
      ]
    },
    {
      "cell_type": "markdown",
      "id": "305bbd5b",
      "metadata": {
        "id": "305bbd5b"
      },
      "source": [
        "* Self Choice Model: 앞선 교육과정에서 배운 머신러닝 모델 중 어떤 것이든 좋습니다. 원하는 모델을 선택해서 학습을 시켜보세요.\n",
        "* Train과 Test로 나눈 데이터를 기준으로 Self Choice Model로 모델을 학습을 진행하고 평가를 해주세요.\n",
        "* 그리고 모델 파일을 pkl로 저장해주세요.\n",
        "* 성능지표 : MSE, R-squared Score(소수점 5째자리까지)"
      ]
    },
    {
      "cell_type": "code",
      "execution_count": 57,
      "id": "a2c66605",
      "metadata": {
        "colab": {
          "base_uri": "https://localhost:8080/"
        },
        "id": "a2c66605",
        "outputId": "6339dc88-c2c4-4ea3-c063-dece081ea44b"
      },
      "outputs": [
        {
          "name": "stdout",
          "output_type": "stream",
          "text": [
            "MSE: 55.73796390843093\n",
            "R-squared Score: 0.95022\n"
          ]
        }
      ],
      "source": [
        "# 아래에 필요한 코드를 작성하고 결과를 확인합니다.\n",
        "\n",
        "from sklearn.ensemble import VotingRegressor\n",
        "from sklearn.metrics import mean_squared_error, r2_score\n",
        "\n",
        "models = [\n",
        "    ('knn', KNeighborsRegressor()),\n",
        "    ('lr', LinearRegression()),\n",
        "    ('lasso', Lasso()),\n",
        "    ('ridge', Ridge()),\n",
        "    ('elastic_net', ElasticNet()),\n",
        "    ('decision_tree', DTR()),\n",
        "    ('random_forest', RFR()),\n",
        "    ('gradient_boosting', GBR())\n",
        "]\n",
        "\n",
        "voting_regressor = VotingRegressor(models)\n",
        "\n",
        "voting_regressor.fit(train_x, train_y)\n",
        "\n",
        "y_pred = voting_regressor.predict(test_x)\n",
        "\n",
        "mse_value = mean_squared_error(test_y, y_pred)\n",
        "r2_value = r2_score(test_y, y_pred)\n",
        "\n",
        "print(\"MSE:\", mse_value)\n",
        "print(\"R-squared Score:\", round(r2_value, 5))\n"
      ]
    },
    {
      "cell_type": "code",
      "execution_count": 58,
      "id": "546ac8bf",
      "metadata": {
        "colab": {
          "base_uri": "https://localhost:8080/"
        },
        "id": "546ac8bf",
        "outputId": "f4c78676-d1d2-4ad9-9c6b-9874a2ad932f"
      },
      "outputs": [
        {
          "name": "stdout",
          "output_type": "stream",
          "text": [
            "[0.00000000e+00 8.74919744e-05 2.50947544e-03 1.28088749e-03\n",
            " 8.91456348e-04 9.70912924e-01 8.62058274e-04 0.00000000e+00\n",
            " 9.96954041e-05 4.49197095e-04 4.32359566e-04 9.36515487e-04\n",
            " 8.37202861e-05 1.06315147e-03 1.33383569e-02 6.72460585e-04\n",
            " 5.47320620e-04 9.93569974e-04 2.80516715e-04 4.65100665e-05\n",
            " 9.88141821e-04 3.42945847e-04 7.44521289e-05 0.00000000e+00\n",
            " 2.65210824e-05 1.39778734e-04 2.72772278e-04 3.84782595e-05\n",
            " 1.97094944e-03 6.58292950e-04]\n",
            "가장 큰 중요도를 가진 인덱스: 5\n"
          ]
        }
      ],
      "source": [
        "print(model.feature_importances_)\n",
        "max_importance_index = np.argmax(model.feature_importances_)\n",
        "print(\"가장 큰 중요도를 가진 인덱스:\", max_importance_index) # NO2"
      ]
    },
    {
      "cell_type": "markdown",
      "id": "cb9a8cf9",
      "metadata": {
        "id": "cb9a8cf9"
      },
      "source": [
        "# 고생하셨습니다👍👍"
      ]
    }
  ],
  "metadata": {
    "colab": {
      "provenance": []
    },
    "kernelspec": {
      "display_name": "Python 3 (ipykernel)",
      "language": "python",
      "name": "python3"
    },
    "language_info": {
      "codemirror_mode": {
        "name": "ipython",
        "version": 3
      },
      "file_extension": ".py",
      "mimetype": "text/x-python",
      "name": "python",
      "nbconvert_exporter": "python",
      "pygments_lexer": "ipython3",
      "version": "3.11.5"
    },
    "vscode": {
      "interpreter": {
        "hash": "f08154012ddadd8e950e6e9e035c7a7b32c136e7647e9b7c77e02eb723a8bedb"
      }
    }
  },
  "nbformat": 4,
  "nbformat_minor": 5
}
