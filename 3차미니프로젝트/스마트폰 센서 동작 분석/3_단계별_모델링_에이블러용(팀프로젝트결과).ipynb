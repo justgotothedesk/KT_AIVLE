{
  "cells": [
    {
      "cell_type": "markdown",
      "metadata": {
        "id": "NbI_RoQ9AP5r"
      },
      "source": [
        "#**스마트폰 센서 데이터 기반 모션 분류**\n",
        "# 단계3 : 단계별 모델링\n"
      ]
    },
    {
      "cell_type": "markdown",
      "metadata": {
        "id": "D67PlTu4JGAY"
      },
      "source": [
        "## 0.미션"
      ]
    },
    {
      "cell_type": "markdown",
      "metadata": {
        "id": "wc1FlP4E09oQ"
      },
      "source": [
        "단계별로 나눠서 모델링을 수행하고자 합니다.  \n",
        "\n",
        "* 단계1 : 정적(0), 동적(1) 행동 분류 모델 생성\n",
        "* 단계2 : 세부 동작에 대한 분류모델 생성\n",
        "    * 단계1 모델에서 0으로 예측 -> 정적 행동 3가지 분류 모델링\n",
        "    * 단계1 모델에서 1으로 예측 -> 동적 행동 3가지 분류 모델링\n",
        "* 모델 통합\n",
        "    * 두 단계 모델을 통합하고, 새로운 데이터에 대해서 최종 예측결과와 성능평가가 나오도록 함수로 만들기\n",
        "* 성능 비교\n",
        "    * 기본 모델링의 성능과 비교\n",
        "    * 모든 모델링은 [다양한 알고리즘 + 성능 튜닝]을 수행해야 합니다.\n"
      ]
    },
    {
      "cell_type": "markdown",
      "metadata": {
        "id": "ZSRC8sG-X5DG"
      },
      "source": [
        "## 1.환경설정"
      ]
    },
    {
      "cell_type": "markdown",
      "metadata": {
        "id": "gIE0bM9rX5DH"
      },
      "source": [
        "### (1) 라이브러리 불러오기"
      ]
    },
    {
      "cell_type": "markdown",
      "metadata": {
        "id": "I_rCs78QJZmI"
      },
      "source": [
        "* 세부 요구사항\n",
        "    - 기본적으로 필요한 라이브러리를 import 하도록 코드가 작성되어 있습니다.\n",
        "    - 필요하다고 판단되는 라이브러리를 추가하세요."
      ]
    },
    {
      "cell_type": "code",
      "execution_count": 1,
      "metadata": {
        "id": "nTVo8GkVX5DI"
      },
      "outputs": [],
      "source": [
        "import pandas as pd\n",
        "import numpy as np\n",
        "import matplotlib.pyplot as plt\n",
        "import seaborn as sns\n",
        "\n",
        "# 필요하다고 판단되는 라이브러리를 추가하세요.\n",
        "\n",
        "from sklearn.model_selection import train_test_split\n",
        "from sklearn.preprocessing import MinMaxScaler\n",
        "from keras.models import Sequential\n",
        "from keras.layers import Dense\n",
        "from keras.backend import clear_session\n",
        "from keras.optimizers import Adam\n",
        "from sklearn.metrics import *"
      ]
    },
    {
      "cell_type": "markdown",
      "metadata": {
        "id": "CJgfVor0X5DJ"
      },
      "source": [
        "### (2) 데이터 불러오기"
      ]
    },
    {
      "cell_type": "code",
      "source": [
        "from google.colab import drive\n",
        "drive.mount('/content/drive')"
      ],
      "metadata": {
        "colab": {
          "base_uri": "https://localhost:8080/"
        },
        "id": "mq1SCmOowUu5",
        "outputId": "9d97ddc1-5810-4cb6-c6fa-99844957dafa"
      },
      "execution_count": 2,
      "outputs": [
        {
          "output_type": "stream",
          "name": "stdout",
          "text": [
            "Drive already mounted at /content/drive; to attempt to forcibly remount, call drive.mount(\"/content/drive\", force_remount=True).\n"
          ]
        }
      ]
    },
    {
      "cell_type": "markdown",
      "metadata": {
        "id": "9OkifR5rnr2D"
      },
      "source": [
        "* 주어진 데이터셋\n",
        "    * data01_train.csv : 학습 및 검증용\n",
        "\n",
        " <br/>  \n",
        "\n",
        "* 세부 요구사항\n",
        "    - data01_train.csv 를 불러와 'data' 이름으로 저장합니다.\n",
        "        - data에서 변수 subject는 삭제합니다.\n",
        "    - data01_test.csv 를 불러와 'new_data' 이름으로 저장합니다.\n"
      ]
    },
    {
      "cell_type": "code",
      "execution_count": 3,
      "metadata": {
        "id": "9CSs-jf6iVJT"
      },
      "outputs": [],
      "source": [
        "data=pd.read_csv('/content/drive/MyDrive/딥러닝/미프3/data01_train.csv')\n",
        "data.drop(columns='subject', axis=1, inplace=True)\n",
        "new_data=pd.read_csv('/content/drive/MyDrive/딥러닝/미프3/data01_test.csv')"
      ]
    },
    {
      "cell_type": "markdown",
      "metadata": {
        "id": "O38e5xai7SIW"
      },
      "source": [
        "## 2.데이터 전처리"
      ]
    },
    {
      "cell_type": "markdown",
      "metadata": {
        "id": "uZwtSLSqcL7G"
      },
      "source": [
        "* 세부 요구사항\n",
        "    - Label 추가 : data 에 Activity_dynamic 를 추가합니다. Activity_dynamic은 과제1에서 is_dynamic과 동일한 값입니다.\n",
        "    - x와 y1, y2로 분할하시오.\n",
        "        * y1 : Activity\n",
        "        * y2 : Activity_dynamic\n",
        "    - train : val = 8 : 2 혹은 7 : 3\n",
        "    - random_state 옵션을 사용하여 다른 모델과 비교를 위해 성능이 재현되도록 합니다."
      ]
    },
    {
      "cell_type": "code",
      "execution_count": 4,
      "metadata": {
        "id": "Bs_FHwUuiWWv"
      },
      "outputs": [],
      "source": [
        "is_dynamic = data['Activity'].map({'STANDING':0, 'SITTING':0, 'LAYING':0,\n",
        "                  'WALKING':1, 'WALKING_UPSTAIRS':1, 'WALKING_DOWNSTAIRS':1})\n",
        "data['Activity_dynamic']=is_dynamic\n",
        "\n",
        "is_dynamic = new_data['Activity'].map({'STANDING':0, 'SITTING':0, 'LAYING':0,\n",
        "                  'WALKING':1, 'WALKING_UPSTAIRS':1, 'WALKING_DOWNSTAIRS':1})\n",
        "new_data['Activity_dynamic']=is_dynamic\n",
        "\n"
      ]
    },
    {
      "cell_type": "code",
      "source": [
        "new_data.drop(columns='subject', axis=1, inplace=True)"
      ],
      "metadata": {
        "id": "Zn5JAICL9aXM"
      },
      "execution_count": 5,
      "outputs": []
    },
    {
      "cell_type": "code",
      "execution_count": 6,
      "metadata": {
        "id": "dBpCxcvyiWRC"
      },
      "outputs": [],
      "source": [
        "x=data.drop(columns=['Activity', 'Activity_dynamic'], axis=1)\n",
        "y_1=data['Activity']\n",
        "y_2=data['Activity_dynamic']\n",
        "\n",
        "x_test=new_data.drop(columns=['Activity', 'Activity_dynamic'], axis=1)\n",
        "y_1_test=new_data['Activity']\n",
        "y_2_test=new_data['Activity_dynamic']"
      ]
    },
    {
      "cell_type": "code",
      "source": [
        "x_train_1, x_val_1, y_train_1, y_val_1=train_test_split(x, y_1, train_size=0.7, random_state=1)\n",
        "x_train_2, x_val_2, y_train_2, y_val_2=train_test_split(x, y_2, train_size=0.7, random_state=1)"
      ],
      "metadata": {
        "id": "tH41ZVICxC27"
      },
      "execution_count": 7,
      "outputs": []
    },
    {
      "cell_type": "code",
      "source": [
        "def dl_history_plot(history):\n",
        "    plt.figure(figsize=(10,6))\n",
        "    plt.plot(history['loss'], label='train_err', marker = '.')\n",
        "    plt.plot(history['val_loss'], label='val_err', marker = '.')\n",
        "\n",
        "    plt.ylabel('Loss')\n",
        "    plt.xlabel('Epoch')\n",
        "    plt.legend()\n",
        "    plt.grid()\n",
        "    plt.show()"
      ],
      "metadata": {
        "id": "q70z04QLqpJA"
      },
      "execution_count": 8,
      "outputs": []
    },
    {
      "cell_type": "markdown",
      "metadata": {
        "id": "bue7ZTLABQzi"
      },
      "source": [
        "## **3.단계별 모델링**"
      ]
    },
    {
      "cell_type": "markdown",
      "metadata": {
        "id": "cuQX1S5q39Ih"
      },
      "source": [
        "![](https://github.com/DA4BAM/image/blob/main/step%20by%20step.png?raw=true)"
      ]
    },
    {
      "cell_type": "markdown",
      "metadata": {
        "id": "dpEHt7u4CXlb"
      },
      "source": [
        "### (1) 단계1 : 정적/동적 행동 분류 모델"
      ]
    },
    {
      "cell_type": "markdown",
      "metadata": {
        "id": "8onfbGBbh1jr"
      },
      "source": [
        "* 세부 요구사항\n",
        "    * 정적 행동(Laying, Sitting, Standing)과 동적 행동(동적 : Walking, Walking-Up, Walking-Down)을 구분하는 모델 생성.\n",
        "    * 몇가지 모델을 만들고 가장 성능이 좋은 모델을 선정하시오."
      ]
    },
    {
      "cell_type": "markdown",
      "metadata": {
        "id": "zUrmn6T9ic5o"
      },
      "source": [
        "#### 1) 알고리즘1 :"
      ]
    },
    {
      "cell_type": "code",
      "source": [
        "# 메모리 정리\n",
        "clear_session()\n",
        "\n",
        "# 모델링\n",
        "nfeatures=561\n",
        "model = Sequential(\n",
        "   [ Dense(128, input_shape = (nfeatures,), activation = 'relu'),\n",
        "    Dense(64, activation='relu'),\n",
        "    Dense(16, activation = 'relu'),\n",
        "    Dense(1, activation = 'sigmoid') ]\n",
        "    )\n",
        "\n",
        "# 요약\n",
        "model.summary()"
      ],
      "metadata": {
        "colab": {
          "base_uri": "https://localhost:8080/"
        },
        "id": "FAMZfUtz2YCn",
        "outputId": "c6f12cca-5178-48e2-93da-3cf11e030cc7"
      },
      "execution_count": 9,
      "outputs": [
        {
          "output_type": "stream",
          "name": "stdout",
          "text": [
            "Model: \"sequential\"\n",
            "_________________________________________________________________\n",
            " Layer (type)                Output Shape              Param #   \n",
            "=================================================================\n",
            " dense (Dense)               (None, 128)               71936     \n",
            "                                                                 \n",
            " dense_1 (Dense)             (None, 64)                8256      \n",
            "                                                                 \n",
            " dense_2 (Dense)             (None, 16)                1040      \n",
            "                                                                 \n",
            " dense_3 (Dense)             (None, 1)                 17        \n",
            "                                                                 \n",
            "=================================================================\n",
            "Total params: 81249 (317.38 KB)\n",
            "Trainable params: 81249 (317.38 KB)\n",
            "Non-trainable params: 0 (0.00 Byte)\n",
            "_________________________________________________________________\n"
          ]
        }
      ]
    },
    {
      "cell_type": "code",
      "source": [
        "model.compile(optimizer = Adam(learning_rate=0.01), loss = 'binary_crossentropy')\n",
        "\n",
        "history = model.fit(x_train_2, y_train_2, epochs = 20, validation_split=0.2).history"
      ],
      "metadata": {
        "colab": {
          "base_uri": "https://localhost:8080/"
        },
        "id": "KrvOP5tl2df2",
        "outputId": "db763223-7ab1-431c-ec77-fea6693f1443"
      },
      "execution_count": 10,
      "outputs": [
        {
          "output_type": "stream",
          "name": "stdout",
          "text": [
            "Epoch 1/20\n",
            "103/103 [==============================] - 3s 12ms/step - loss: 0.0604 - val_loss: 1.7381e-04\n",
            "Epoch 2/20\n",
            "103/103 [==============================] - 1s 14ms/step - loss: 6.1254e-04 - val_loss: 4.2883e-05\n",
            "Epoch 3/20\n",
            "103/103 [==============================] - 1s 12ms/step - loss: 6.5810e-04 - val_loss: 6.7722e-05\n",
            "Epoch 4/20\n",
            "103/103 [==============================] - 1s 14ms/step - loss: 5.9720e-06 - val_loss: 1.5374e-05\n",
            "Epoch 5/20\n",
            "103/103 [==============================] - 1s 11ms/step - loss: 1.1335e-06 - val_loss: 1.0086e-05\n",
            "Epoch 6/20\n",
            "103/103 [==============================] - 1s 7ms/step - loss: 9.4346e-07 - val_loss: 8.8609e-06\n",
            "Epoch 7/20\n",
            "103/103 [==============================] - 1s 10ms/step - loss: 8.6444e-07 - val_loss: 6.2559e-06\n",
            "Epoch 8/20\n",
            "103/103 [==============================] - 1s 8ms/step - loss: 7.6351e-07 - val_loss: 5.3826e-06\n",
            "Epoch 9/20\n",
            "103/103 [==============================] - 1s 8ms/step - loss: 7.0595e-07 - val_loss: 4.8964e-06\n",
            "Epoch 10/20\n",
            "103/103 [==============================] - 1s 7ms/step - loss: 6.5340e-07 - val_loss: 4.7573e-06\n",
            "Epoch 11/20\n",
            "103/103 [==============================] - 1s 10ms/step - loss: 6.0889e-07 - val_loss: 4.0047e-06\n",
            "Epoch 12/20\n",
            "103/103 [==============================] - 1s 6ms/step - loss: 5.6577e-07 - val_loss: 3.6696e-06\n",
            "Epoch 13/20\n",
            "103/103 [==============================] - 1s 9ms/step - loss: 5.2805e-07 - val_loss: 3.4711e-06\n",
            "Epoch 14/20\n",
            "103/103 [==============================] - 1s 11ms/step - loss: 4.9200e-07 - val_loss: 3.1760e-06\n",
            "Epoch 15/20\n",
            "103/103 [==============================] - 1s 7ms/step - loss: 4.5774e-07 - val_loss: 2.9803e-06\n",
            "Epoch 16/20\n",
            "103/103 [==============================] - 1s 9ms/step - loss: 4.3007e-07 - val_loss: 2.7589e-06\n",
            "Epoch 17/20\n",
            "103/103 [==============================] - 1s 12ms/step - loss: 3.9843e-07 - val_loss: 2.5502e-06\n",
            "Epoch 18/20\n",
            "103/103 [==============================] - 1s 13ms/step - loss: 3.7179e-07 - val_loss: 2.4073e-06\n",
            "Epoch 19/20\n",
            "103/103 [==============================] - 1s 13ms/step - loss: 3.5135e-07 - val_loss: 2.3337e-06\n",
            "Epoch 20/20\n",
            "103/103 [==============================] - 1s 11ms/step - loss: 3.3016e-07 - val_loss: 2.2411e-06\n"
          ]
        }
      ]
    },
    {
      "cell_type": "code",
      "source": [
        "dl_history_plot(history)"
      ],
      "metadata": {
        "colab": {
          "base_uri": "https://localhost:8080/",
          "height": 542
        },
        "id": "E-iHLuA13T60",
        "outputId": "61a47c5f-1ea8-4053-ba40-7adcb2e02e2b"
      },
      "execution_count": 11,
      "outputs": [
        {
          "output_type": "display_data",
          "data": {
            "text/plain": [
              "<Figure size 1000x600 with 1 Axes>"
            ],
            "image/png": "[encoded data removed]"
          },
          "metadata": {}
        }
      ]
    },
    {
      "cell_type": "code",
      "source": [
        "pred=model.predict(x_val_2)\n",
        "\n",
        "pred=np.where(pred>0.5, 1, 0)"
      ],
      "metadata": {
        "colab": {
          "base_uri": "https://localhost:8080/"
        },
        "id": "vi1kgc7v3Wtm",
        "outputId": "dc36367d-34b9-4ad2-96e0-cb00ca2f1ab7"
      },
      "execution_count": 12,
      "outputs": [
        {
          "output_type": "stream",
          "name": "stdout",
          "text": [
            "56/56 [==============================] - 0s 2ms/step\n"
          ]
        }
      ]
    },
    {
      "cell_type": "code",
      "source": [
        "print(classification_report(y_val_2, pred))"
      ],
      "metadata": {
        "colab": {
          "base_uri": "https://localhost:8080/"
        },
        "id": "qYlZHK5e3sD3",
        "outputId": "ab79102e-5fd2-4a63-a132-5cde0c20b477"
      },
      "execution_count": 13,
      "outputs": [
        {
          "output_type": "stream",
          "name": "stdout",
          "text": [
            "              precision    recall  f1-score   support\n",
            "\n",
            "           0       1.00      1.00      1.00       954\n",
            "           1       1.00      1.00      1.00       811\n",
            "\n",
            "    accuracy                           1.00      1765\n",
            "   macro avg       1.00      1.00      1.00      1765\n",
            "weighted avg       1.00      1.00      1.00      1765\n",
            "\n"
          ]
        }
      ]
    },
    {
      "cell_type": "code",
      "source": [
        "pred=model.predict(x_test)\n",
        "\n",
        "pred=np.where(pred>0.5, 1, 0)"
      ],
      "metadata": {
        "colab": {
          "base_uri": "https://localhost:8080/"
        },
        "id": "IfvuKPYq4Htr",
        "outputId": "df162606-0433-45d1-8a10-2f22728a200e"
      },
      "execution_count": 14,
      "outputs": [
        {
          "output_type": "stream",
          "name": "stdout",
          "text": [
            "46/46 [==============================] - 0s 2ms/step\n"
          ]
        }
      ]
    },
    {
      "cell_type": "code",
      "source": [
        "print(classification_report(y_2_test, pred))"
      ],
      "metadata": {
        "colab": {
          "base_uri": "https://localhost:8080/"
        },
        "id": "UWQTANgY30v8",
        "outputId": "b5315b55-bcce-428e-f166-049c520afd08"
      },
      "execution_count": 15,
      "outputs": [
        {
          "output_type": "stream",
          "name": "stdout",
          "text": [
            "              precision    recall  f1-score   support\n",
            "\n",
            "           0       1.00      1.00      1.00       833\n",
            "           1       1.00      1.00      1.00       638\n",
            "\n",
            "    accuracy                           1.00      1471\n",
            "   macro avg       1.00      1.00      1.00      1471\n",
            "weighted avg       1.00      1.00      1.00      1471\n",
            "\n"
          ]
        }
      ]
    },
    {
      "cell_type": "markdown",
      "metadata": {
        "id": "yOmrlWjMihf3"
      },
      "source": [
        "#### 2) 알고리즘2 :"
      ]
    },
    {
      "cell_type": "code",
      "execution_count": 15,
      "metadata": {
        "id": "aPFlJFZiihf3"
      },
      "outputs": [],
      "source": []
    },
    {
      "cell_type": "code",
      "execution_count": 15,
      "metadata": {
        "id": "Bsgtsww9ihf4"
      },
      "outputs": [],
      "source": []
    },
    {
      "cell_type": "code",
      "execution_count": 15,
      "metadata": {
        "id": "f4h7doakihf4"
      },
      "outputs": [],
      "source": []
    },
    {
      "cell_type": "code",
      "execution_count": 15,
      "metadata": {
        "id": "M9BEaghdiY-2"
      },
      "outputs": [],
      "source": []
    },
    {
      "cell_type": "markdown",
      "metadata": {
        "id": "9sTQeLpjCfV9"
      },
      "source": [
        "### (2) 단계2-1 : 정적 동작 세부 분류"
      ]
    },
    {
      "cell_type": "markdown",
      "metadata": {
        "id": "tr0QtSuTihs0"
      },
      "source": [
        "* 세부 요구사항\n",
        "    * 정적 행동(Laying, Sitting, Standing)인 데이터 추출\n",
        "    * Laying, Sitting, Standing 를 분류하는 모델을 생성\n",
        "    * 몇가지 모델을 만들고 가장 성능이 좋은 모델을 선정하시오."
      ]
    },
    {
      "cell_type": "code",
      "execution_count": 16,
      "metadata": {
        "id": "AEC-Lh17ik7d"
      },
      "outputs": [],
      "source": [
        "indices_to_keep = y_train_1[y_train_1.isin(['LAYING', 'SITTING', 'STANDING'])].index\n",
        "x_train_temp=x_train_1.loc[indices_to_keep]\n",
        "y_train_temp=y_train_1[indices_to_keep]"
      ]
    },
    {
      "cell_type": "code",
      "source": [
        "indices_to_keep = y_val_1[y_val_1.isin(['LAYING', 'SITTING', 'STANDING'])].index\n",
        "\n",
        "x_val_temp=x_val_1.loc[indices_to_keep]\n",
        "y_val_temp=y_val_1[indices_to_keep]"
      ],
      "metadata": {
        "id": "AqxBa99WtKPp"
      },
      "execution_count": 17,
      "outputs": []
    },
    {
      "cell_type": "code",
      "source": [
        "indices_to_keep = y_1_test[y_1_test.isin(['LAYING', 'SITTING', 'STANDING'])].index\n",
        "new_y_1_test=y_1_test[indices_to_keep]\n",
        "new_x_test=x_test.loc[indices_to_keep]"
      ],
      "metadata": {
        "id": "1-TgdmDyW3_U"
      },
      "execution_count": 18,
      "outputs": []
    },
    {
      "cell_type": "code",
      "source": [
        "label_map={0: 'LAYING', 1: 'SITTING', 2: 'STANDING'}\n",
        "y_train_temp.replace('LAYING', 0, inplace=True)\n",
        "y_train_temp.replace('SITTING', 1, inplace=True)\n",
        "y_train_temp.replace('STANDING', 2, inplace=True)\n",
        "y_val_temp.replace('LAYING', 0, inplace=True)\n",
        "y_val_temp.replace('SITTING', 1, inplace=True)\n",
        "y_val_temp.replace('STANDING', 2, inplace=True)\n",
        "new_y_1_test.replace('LAYING', 0, inplace=True)\n",
        "new_y_1_test.replace('SITTING', 1, inplace=True)\n",
        "new_y_1_test.replace('STANDING', 2, inplace=True)\n",
        "print(y_train_temp)"
      ],
      "metadata": {
        "colab": {
          "base_uri": "https://localhost:8080/"
        },
        "id": "LAr3medOk90p",
        "outputId": "00efcb0d-c922-4701-ec7a-c51d2c8240f3"
      },
      "execution_count": 19,
      "outputs": [
        {
          "output_type": "stream",
          "name": "stdout",
          "text": [
            "2196    0\n",
            "749     1\n",
            "3271    0\n",
            "4610    2\n",
            "4925    2\n",
            "       ..\n",
            "144     0\n",
            "5056    0\n",
            "2763    1\n",
            "3980    0\n",
            "5157    2\n",
            "Name: Activity, Length: 2280, dtype: int64\n"
          ]
        }
      ]
    },
    {
      "cell_type": "code",
      "source": [
        "# 메모리 정리\n",
        "clear_session()\n",
        "\n",
        "# 모델링\n",
        "nfeatures=561\n",
        "model = Sequential(\n",
        "   [ Dense(187, input_shape = (nfeatures,), activation = 'relu'),\n",
        "    Dense(65, activation='relu'),\n",
        "    Dense(17, activation='relu'),\n",
        "    Dense(3, activation = 'softmax') ]\n",
        "    )\n",
        "\n",
        "# 요약\n",
        "model.summary()"
      ],
      "metadata": {
        "colab": {
          "base_uri": "https://localhost:8080/"
        },
        "id": "Nf0iH7n6YpmQ",
        "outputId": "6af1274e-e3aa-4060-cb8a-24e938b40c7d"
      },
      "execution_count": 20,
      "outputs": [
        {
          "output_type": "stream",
          "name": "stdout",
          "text": [
            "Model: \"sequential\"\n",
            "_________________________________________________________________\n",
            " Layer (type)                Output Shape              Param #   \n",
            "=================================================================\n",
            " dense (Dense)               (None, 187)               105094    \n",
            "                                                                 \n",
            " dense_1 (Dense)             (None, 65)                12220     \n",
            "                                                                 \n",
            " dense_2 (Dense)             (None, 17)                1122      \n",
            "                                                                 \n",
            " dense_3 (Dense)             (None, 3)                 54        \n",
            "                                                                 \n",
            "=================================================================\n",
            "Total params: 118490 (462.85 KB)\n",
            "Trainable params: 118490 (462.85 KB)\n",
            "Non-trainable params: 0 (0.00 Byte)\n",
            "_________________________________________________________________\n"
          ]
        }
      ]
    },
    {
      "cell_type": "code",
      "source": [
        "model.compile(optimizer = Adam(learning_rate=0.0001), loss = 'sparse_categorical_crossentropy')\n",
        "\n",
        "history=model.fit(x_train_temp, y_train_temp, epochs=50, validation_split=0.2).history"
      ],
      "metadata": {
        "colab": {
          "base_uri": "https://localhost:8080/"
        },
        "id": "Y3z93B3iZc1g",
        "outputId": "744095d0-3bc6-4aba-bd9d-380fa76a3255"
      },
      "execution_count": 21,
      "outputs": [
        {
          "output_type": "stream",
          "name": "stdout",
          "text": [
            "Epoch 1/50\n",
            "57/57 [==============================] - 1s 9ms/step - loss: 1.0693 - val_loss: 0.9762\n",
            "Epoch 2/50\n",
            "57/57 [==============================] - 0s 7ms/step - loss: 0.8950 - val_loss: 0.7947\n",
            "Epoch 3/50\n",
            "57/57 [==============================] - 0s 7ms/step - loss: 0.7281 - val_loss: 0.5966\n",
            "Epoch 4/50\n",
            "57/57 [==============================] - 0s 7ms/step - loss: 0.5242 - val_loss: 0.4388\n",
            "Epoch 5/50\n",
            "57/57 [==============================] - 0s 8ms/step - loss: 0.4153 - val_loss: 0.3527\n",
            "Epoch 6/50\n",
            "57/57 [==============================] - 0s 8ms/step - loss: 0.3542 - val_loss: 0.3105\n",
            "Epoch 7/50\n",
            "57/57 [==============================] - 0s 8ms/step - loss: 0.3106 - val_loss: 0.2945\n",
            "Epoch 8/50\n",
            "57/57 [==============================] - 0s 8ms/step - loss: 0.2760 - val_loss: 0.2441\n",
            "Epoch 9/50\n",
            "57/57 [==============================] - 0s 7ms/step - loss: 0.2574 - val_loss: 0.2315\n",
            "Epoch 10/50\n",
            "57/57 [==============================] - 0s 5ms/step - loss: 0.2314 - val_loss: 0.2101\n",
            "Epoch 11/50\n",
            "57/57 [==============================] - 0s 5ms/step - loss: 0.2128 - val_loss: 0.1954\n",
            "Epoch 12/50\n",
            "57/57 [==============================] - 0s 5ms/step - loss: 0.2027 - val_loss: 0.1819\n",
            "Epoch 13/50\n",
            "57/57 [==============================] - 0s 6ms/step - loss: 0.1856 - val_loss: 0.1702\n",
            "Epoch 14/50\n",
            "57/57 [==============================] - 0s 6ms/step - loss: 0.1821 - val_loss: 0.1610\n",
            "Epoch 15/50\n",
            "57/57 [==============================] - 0s 5ms/step - loss: 0.1705 - val_loss: 0.1545\n",
            "Epoch 16/50\n",
            "57/57 [==============================] - 0s 7ms/step - loss: 0.1599 - val_loss: 0.1495\n",
            "Epoch 17/50\n",
            "57/57 [==============================] - 0s 5ms/step - loss: 0.1513 - val_loss: 0.1449\n",
            "Epoch 18/50\n",
            "57/57 [==============================] - 0s 5ms/step - loss: 0.1414 - val_loss: 0.1442\n",
            "Epoch 19/50\n",
            "57/57 [==============================] - 0s 4ms/step - loss: 0.1417 - val_loss: 0.1356\n",
            "Epoch 20/50\n",
            "57/57 [==============================] - 0s 5ms/step - loss: 0.1338 - val_loss: 0.1376\n",
            "Epoch 21/50\n",
            "57/57 [==============================] - 0s 5ms/step - loss: 0.1234 - val_loss: 0.1294\n",
            "Epoch 22/50\n",
            "57/57 [==============================] - 0s 5ms/step - loss: 0.1223 - val_loss: 0.1174\n",
            "Epoch 23/50\n",
            "57/57 [==============================] - 0s 5ms/step - loss: 0.1184 - val_loss: 0.1233\n",
            "Epoch 24/50\n",
            "57/57 [==============================] - 0s 5ms/step - loss: 0.1117 - val_loss: 0.1352\n",
            "Epoch 25/50\n",
            "57/57 [==============================] - 0s 4ms/step - loss: 0.1094 - val_loss: 0.1115\n",
            "Epoch 26/50\n",
            "57/57 [==============================] - 0s 5ms/step - loss: 0.1032 - val_loss: 0.1111\n",
            "Epoch 27/50\n",
            "57/57 [==============================] - 0s 5ms/step - loss: 0.1027 - val_loss: 0.1586\n",
            "Epoch 28/50\n",
            "57/57 [==============================] - 0s 5ms/step - loss: 0.1024 - val_loss: 0.1032\n",
            "Epoch 29/50\n",
            "57/57 [==============================] - 0s 5ms/step - loss: 0.0995 - val_loss: 0.1028\n",
            "Epoch 30/50\n",
            "57/57 [==============================] - 0s 4ms/step - loss: 0.0960 - val_loss: 0.1033\n",
            "Epoch 31/50\n",
            "57/57 [==============================] - 0s 5ms/step - loss: 0.0971 - val_loss: 0.1523\n",
            "Epoch 32/50\n",
            "57/57 [==============================] - 0s 5ms/step - loss: 0.1086 - val_loss: 0.1215\n",
            "Epoch 33/50\n",
            "57/57 [==============================] - 0s 4ms/step - loss: 0.0922 - val_loss: 0.0941\n",
            "Epoch 34/50\n",
            "57/57 [==============================] - 0s 5ms/step - loss: 0.0862 - val_loss: 0.1048\n",
            "Epoch 35/50\n",
            "57/57 [==============================] - 0s 5ms/step - loss: 0.0889 - val_loss: 0.0982\n",
            "Epoch 36/50\n",
            "57/57 [==============================] - 0s 4ms/step - loss: 0.0818 - val_loss: 0.0922\n",
            "Epoch 37/50\n",
            "57/57 [==============================] - 0s 5ms/step - loss: 0.0896 - val_loss: 0.0912\n",
            "Epoch 38/50\n",
            "57/57 [==============================] - 0s 5ms/step - loss: 0.0845 - val_loss: 0.1022\n",
            "Epoch 39/50\n",
            "57/57 [==============================] - 0s 5ms/step - loss: 0.0756 - val_loss: 0.0918\n",
            "Epoch 40/50\n",
            "57/57 [==============================] - 0s 4ms/step - loss: 0.0779 - val_loss: 0.0946\n",
            "Epoch 41/50\n",
            "57/57 [==============================] - 0s 5ms/step - loss: 0.0781 - val_loss: 0.0924\n",
            "Epoch 42/50\n",
            "57/57 [==============================] - 0s 5ms/step - loss: 0.0738 - val_loss: 0.0874\n",
            "Epoch 43/50\n",
            "57/57 [==============================] - 0s 5ms/step - loss: 0.0764 - val_loss: 0.0860\n",
            "Epoch 44/50\n",
            "57/57 [==============================] - 0s 5ms/step - loss: 0.0811 - val_loss: 0.0867\n",
            "Epoch 45/50\n",
            "57/57 [==============================] - 0s 8ms/step - loss: 0.0703 - val_loss: 0.0979\n",
            "Epoch 46/50\n",
            "57/57 [==============================] - 0s 7ms/step - loss: 0.0728 - val_loss: 0.0893\n",
            "Epoch 47/50\n",
            "57/57 [==============================] - 0s 7ms/step - loss: 0.0680 - val_loss: 0.0866\n",
            "Epoch 48/50\n",
            "57/57 [==============================] - 0s 7ms/step - loss: 0.0728 - val_loss: 0.0850\n",
            "Epoch 49/50\n",
            "57/57 [==============================] - 0s 7ms/step - loss: 0.0674 - val_loss: 0.0817\n",
            "Epoch 50/50\n",
            "57/57 [==============================] - 0s 7ms/step - loss: 0.0741 - val_loss: 0.0849\n"
          ]
        }
      ]
    },
    {
      "cell_type": "code",
      "source": [
        "dl_history_plot(history)"
      ],
      "metadata": {
        "colab": {
          "base_uri": "https://localhost:8080/",
          "height": 542
        },
        "id": "n8H0BQsukvOp",
        "outputId": "9a408b0e-37c4-406d-92a9-9f117b7a5b7a"
      },
      "execution_count": 22,
      "outputs": [
        {
          "output_type": "display_data",
          "data": {
            "text/plain": [
              "<Figure size 1000x600 with 1 Axes>"
            ],
            "image/png": "[encoded data removed]"
          },
          "metadata": {}
        }
      ]
    },
    {
      "cell_type": "code",
      "source": [
        "pred=model.predict(x_val_temp)\n",
        "\n",
        "pred=np.argmax(pred, axis=1)\n",
        "# print(pred)"
      ],
      "metadata": {
        "colab": {
          "base_uri": "https://localhost:8080/"
        },
        "id": "zAbHlSWLmmez",
        "outputId": "314eb64f-cbe1-4229-f511-6aea7b6683ee"
      },
      "execution_count": 23,
      "outputs": [
        {
          "output_type": "stream",
          "name": "stdout",
          "text": [
            "30/30 [==============================] - 0s 2ms/step\n"
          ]
        }
      ]
    },
    {
      "cell_type": "code",
      "source": [
        "print(classification_report(y_val_temp, pred))"
      ],
      "metadata": {
        "colab": {
          "base_uri": "https://localhost:8080/"
        },
        "id": "cEBTagZunQDC",
        "outputId": "ba487f1d-cc8a-470f-ae4c-4fc2b8b53824"
      },
      "execution_count": 24,
      "outputs": [
        {
          "output_type": "stream",
          "name": "stdout",
          "text": [
            "              precision    recall  f1-score   support\n",
            "\n",
            "           0       1.00      1.00      1.00       331\n",
            "           1       0.93      0.96      0.94       292\n",
            "           2       0.97      0.93      0.95       331\n",
            "\n",
            "    accuracy                           0.97       954\n",
            "   macro avg       0.96      0.97      0.96       954\n",
            "weighted avg       0.97      0.97      0.97       954\n",
            "\n"
          ]
        }
      ]
    },
    {
      "cell_type": "code",
      "source": [
        "pred=model.predict(new_x_test)\n",
        "\n",
        "pred=np.argmax(pred, axis=1)\n",
        "print(classification_report(new_y_1_test, pred))"
      ],
      "metadata": {
        "colab": {
          "base_uri": "https://localhost:8080/"
        },
        "id": "xXfSSmHSnXKJ",
        "outputId": "46d961c5-0c3f-42f3-e164-b1328b5798e3"
      },
      "execution_count": 25,
      "outputs": [
        {
          "output_type": "stream",
          "name": "stdout",
          "text": [
            "27/27 [==============================] - 0s 2ms/step\n",
            "              precision    recall  f1-score   support\n",
            "\n",
            "           0       1.00      1.00      1.00       292\n",
            "           1       0.93      0.94      0.93       254\n",
            "           2       0.95      0.93      0.94       287\n",
            "\n",
            "    accuracy                           0.96       833\n",
            "   macro avg       0.96      0.96      0.96       833\n",
            "weighted avg       0.96      0.96      0.96       833\n",
            "\n"
          ]
        }
      ]
    },
    {
      "cell_type": "code",
      "source": [
        "from sklearn.ensemble import GradientBoostingClassifier"
      ],
      "metadata": {
        "id": "B7JtJAqZ02Fb"
      },
      "execution_count": 42,
      "outputs": []
    },
    {
      "cell_type": "code",
      "source": [
        "model_optimized = GradientBoostingClassifier(\n",
        "    random_state=42,\n",
        "    n_estimators=300,\n",
        "    max_depth=10\n",
        ")\n",
        "model_optimized.fit(x_train_temp, y_train_temp)\n",
        "\n",
        "predictions = model_optimized.predict(x_val_temp)\n",
        "accuracy = accuracy_score(y_val_temp, predictions)\n",
        "print(f'GradientBoostingClassifier accuracy: {accuracy}')\n",
        "\n",
        "\n",
        "conf_matrix = confusion_matrix(y_val_temp, predictions)\n",
        "print('Confusion Matrix:')\n",
        "print(conf_matrix)\n",
        "\n",
        "print('Classification Report:')\n",
        "print(classification_report(y_val_temp, predictions))\n",
        "\n",
        "plt.figure(figsize=(8, 6))\n",
        "sns.heatmap(conf_matrix, annot=True, fmt='d', cmap='Blues', xticklabels=True, yticklabels=True)\n",
        "plt.xlabel('Predicted Labels')\n",
        "plt.ylabel('True Labels')\n",
        "plt.title('Confusion Matrix')\n",
        "plt.show()"
      ],
      "metadata": {
        "colab": {
          "base_uri": "https://localhost:8080/",
          "height": 854
        },
        "id": "OgR8y9uE0wYQ",
        "outputId": "058db2d5-b711-4cd0-e79b-87d88f994a86"
      },
      "execution_count": 43,
      "outputs": [
        {
          "output_type": "stream",
          "name": "stdout",
          "text": [
            "GradientBoostingClassifier accuracy: 0.967940813810111\n",
            "Confusion Matrix:\n",
            "[[290   2   5]\n",
            " [  7 265   3]\n",
            " [  0   9 230]]\n",
            "Classification Report:\n",
            "              precision    recall  f1-score   support\n",
            "\n",
            "           0       0.98      0.98      0.98       297\n",
            "           1       0.96      0.96      0.96       275\n",
            "           2       0.97      0.96      0.96       239\n",
            "\n",
            "    accuracy                           0.97       811\n",
            "   macro avg       0.97      0.97      0.97       811\n",
            "weighted avg       0.97      0.97      0.97       811\n",
            "\n"
          ]
        },
        {
          "output_type": "display_data",
          "data": {
            "text/plain": [
              "<Figure size 800x600 with 2 Axes>"
            ],
            "image/png": "[encoded data removed]"
          },
          "metadata": {}
        }
      ]
    },
    {
      "cell_type": "code",
      "source": [
        "predictions = model_optimized.predict(new_x_test)\n",
        "accuracy = accuracy_score(new_y_1_test, predictions)\n",
        "print(f'GradientBoostingClassifier accuracy: {accuracy}')\n",
        "\n",
        "\n",
        "conf_matrix = confusion_matrix(new_y_1_test, predictions)\n",
        "print('Confusion Matrix:')\n",
        "print(conf_matrix)\n",
        "\n",
        "print('Classification Report:')\n",
        "print(classification_report(new_y_1_test, predictions))\n",
        "\n",
        "plt.figure(figsize=(8, 6))\n",
        "sns.heatmap(conf_matrix, annot=True, fmt='d', cmap='Blues', xticklabels=True, yticklabels=True)\n",
        "plt.xlabel('Predicted Labels')\n",
        "plt.ylabel('True Labels')\n",
        "plt.title('Confusion Matrix')\n",
        "plt.show()"
      ],
      "metadata": {
        "colab": {
          "base_uri": "https://localhost:8080/",
          "height": 854
        },
        "id": "qygRRPdu1rbc",
        "outputId": "626e4382-4cea-4239-fb9c-a5d923ac6461"
      },
      "execution_count": 44,
      "outputs": [
        {
          "output_type": "stream",
          "name": "stdout",
          "text": [
            "GradientBoostingClassifier accuracy: 0.9686520376175548\n",
            "Confusion Matrix:\n",
            "[[223   5   0]\n",
            " [  6 206   3]\n",
            " [  4   2 189]]\n",
            "Classification Report:\n",
            "              precision    recall  f1-score   support\n",
            "\n",
            "           0       0.96      0.98      0.97       228\n",
            "           1       0.97      0.96      0.96       215\n",
            "           2       0.98      0.97      0.98       195\n",
            "\n",
            "    accuracy                           0.97       638\n",
            "   macro avg       0.97      0.97      0.97       638\n",
            "weighted avg       0.97      0.97      0.97       638\n",
            "\n"
          ]
        },
        {
          "output_type": "display_data",
          "data": {
            "text/plain": [
              "<Figure size 800x600 with 2 Axes>"
            ],
            "image/png": "[encoded data removed]"
          },
          "metadata": {}
        }
      ]
    },
    {
      "cell_type": "markdown",
      "metadata": {
        "id": "jjNRQJpRC045"
      },
      "source": [
        "### (3) 단계2-2 : 동적 동작 세부 분류"
      ]
    },
    {
      "cell_type": "markdown",
      "metadata": {
        "id": "Rsy1RELi2qfF"
      },
      "source": [
        "* 세부 요구사항\n",
        "    * 동적 행동(Walking, Walking Upstairs, Walking Downstairs)인 데이터 추출\n",
        "    * Walking, Walking Upstairs, Walking Downstairs 를 분류하는 모델을 생성\n",
        "    * 몇가지 모델을 만들고 가장 성능이 좋은 모델을 선정하시오."
      ]
    },
    {
      "cell_type": "code",
      "execution_count": 26,
      "metadata": {
        "id": "UUZKNQ1Mima2"
      },
      "outputs": [],
      "source": [
        "indices_to_keep = y_train_1[y_train_1.isin(['WALKING', 'WALKING_UPSTAIRS', 'WALKING_DOWNSTAIRS'])].index\n",
        "x_train_temp=x_train_1.loc[indices_to_keep]\n",
        "y_train_temp=y_train_1[indices_to_keep]"
      ]
    },
    {
      "cell_type": "code",
      "execution_count": 27,
      "metadata": {
        "id": "eOMJHLs1imYS"
      },
      "outputs": [],
      "source": [
        "indices_to_keep = y_val_1[y_val_1.isin(['WALKING', 'WALKING_UPSTAIRS', 'WALKING_DOWNSTAIRS'])].index\n",
        "\n",
        "x_val_temp=x_val_1.loc[indices_to_keep]\n",
        "y_val_temp=y_val_1[indices_to_keep]"
      ]
    },
    {
      "cell_type": "code",
      "execution_count": 28,
      "metadata": {
        "id": "JWzMEa_vimVg"
      },
      "outputs": [],
      "source": [
        "indices_to_keep = y_1_test[y_1_test.isin(['WALKING', 'WALKING_UPSTAIRS', 'WALKING_DOWNSTAIRS'])].index\n",
        "new_y_1_test=y_1_test[indices_to_keep]\n",
        "new_x_test=x_test.loc[indices_to_keep]"
      ]
    },
    {
      "cell_type": "code",
      "execution_count": 29,
      "metadata": {
        "id": "lXhP4kVNimSN",
        "colab": {
          "base_uri": "https://localhost:8080/"
        },
        "outputId": "995b1d39-6982-41ea-935f-384e11609c06"
      },
      "outputs": [
        {
          "output_type": "stream",
          "name": "stdout",
          "text": [
            "1603    2\n",
            "3152    0\n",
            "83      2\n",
            "4598    1\n",
            "128     1\n",
            "5444    2\n",
            "3905    1\n",
            "3964    0\n",
            "1545    1\n",
            "4380    0\n",
            "Name: Activity, dtype: int64\n"
          ]
        }
      ],
      "source": [
        "# label_map={0: 'LAYING', 1: 'SITTING', 2: 'STANDING'}\n",
        "y_train_temp.replace('WALKING', 0, inplace=True)\n",
        "y_train_temp.replace('WALKING_UPSTAIRS', 1, inplace=True)\n",
        "y_train_temp.replace('WALKING_DOWNSTAIRS', 2, inplace=True)\n",
        "y_val_temp.replace('WALKING', 0, inplace=True)\n",
        "y_val_temp.replace('WALKING_UPSTAIRS', 1, inplace=True)\n",
        "y_val_temp.replace('WALKING_DOWNSTAIRS', 2, inplace=True)\n",
        "new_y_1_test.replace('WALKING', 0, inplace=True)\n",
        "new_y_1_test.replace('WALKING_UPSTAIRS', 1, inplace=True)\n",
        "new_y_1_test.replace('WALKING_DOWNSTAIRS', 2, inplace=True)\n",
        "print(y_train_temp.head(10))"
      ]
    },
    {
      "cell_type": "code",
      "source": [
        "# 메모리 정리\n",
        "clear_session()\n",
        "\n",
        "# 모델링\n",
        "nfeatures=561\n",
        "model = Sequential(\n",
        "   [ Dense(187, input_shape = (nfeatures,), activation = 'relu'),\n",
        "    Dense(65, activation='relu'),\n",
        "    Dense(17, activation='relu'),\n",
        "    Dense(3, activation = 'softmax') ]\n",
        "    )\n",
        "\n",
        "# 요약\n",
        "model.summary()"
      ],
      "metadata": {
        "colab": {
          "base_uri": "https://localhost:8080/"
        },
        "id": "LNIBRxbmxHqY",
        "outputId": "e0850ff8-5716-49c6-a4b0-c092faa23e3a"
      },
      "execution_count": 30,
      "outputs": [
        {
          "output_type": "stream",
          "name": "stdout",
          "text": [
            "Model: \"sequential\"\n",
            "_________________________________________________________________\n",
            " Layer (type)                Output Shape              Param #   \n",
            "=================================================================\n",
            " dense (Dense)               (None, 187)               105094    \n",
            "                                                                 \n",
            " dense_1 (Dense)             (None, 65)                12220     \n",
            "                                                                 \n",
            " dense_2 (Dense)             (None, 17)                1122      \n",
            "                                                                 \n",
            " dense_3 (Dense)             (None, 3)                 54        \n",
            "                                                                 \n",
            "=================================================================\n",
            "Total params: 118490 (462.85 KB)\n",
            "Trainable params: 118490 (462.85 KB)\n",
            "Non-trainable params: 0 (0.00 Byte)\n",
            "_________________________________________________________________\n"
          ]
        }
      ]
    },
    {
      "cell_type": "code",
      "source": [
        "model.compile(optimizer = Adam(learning_rate=0.0001), loss = 'sparse_categorical_crossentropy')\n",
        "\n",
        "history=model.fit(x_train_temp, y_train_temp, epochs=50, validation_split=0.2).history"
      ],
      "metadata": {
        "colab": {
          "base_uri": "https://localhost:8080/"
        },
        "id": "YvBlwr-RxK7n",
        "outputId": "9d7dd0dd-b623-4aa9-d5ec-c8b1a133584d"
      },
      "execution_count": 31,
      "outputs": [
        {
          "output_type": "stream",
          "name": "stdout",
          "text": [
            "Epoch 1/50\n",
            "46/46 [==============================] - 1s 9ms/step - loss: 1.0699 - val_loss: 0.9086\n",
            "Epoch 2/50\n",
            "46/46 [==============================] - 0s 5ms/step - loss: 0.8157 - val_loss: 0.6725\n",
            "Epoch 3/50\n",
            "46/46 [==============================] - 0s 4ms/step - loss: 0.6554 - val_loss: 0.5545\n",
            "Epoch 4/50\n",
            "46/46 [==============================] - 0s 4ms/step - loss: 0.5475 - val_loss: 0.4549\n",
            "Epoch 5/50\n",
            "46/46 [==============================] - 0s 5ms/step - loss: 0.4476 - val_loss: 0.3616\n",
            "Epoch 6/50\n",
            "46/46 [==============================] - 0s 4ms/step - loss: 0.3484 - val_loss: 0.2761\n",
            "Epoch 7/50\n",
            "46/46 [==============================] - 0s 5ms/step - loss: 0.2629 - val_loss: 0.2056\n",
            "Epoch 8/50\n",
            "46/46 [==============================] - 0s 5ms/step - loss: 0.1976 - val_loss: 0.1699\n",
            "Epoch 9/50\n",
            "46/46 [==============================] - 0s 4ms/step - loss: 0.1539 - val_loss: 0.1273\n",
            "Epoch 10/50\n",
            "46/46 [==============================] - 0s 5ms/step - loss: 0.1209 - val_loss: 0.1010\n",
            "Epoch 11/50\n",
            "46/46 [==============================] - 0s 4ms/step - loss: 0.1002 - val_loss: 0.0882\n",
            "Epoch 12/50\n",
            "46/46 [==============================] - 0s 4ms/step - loss: 0.0828 - val_loss: 0.0738\n",
            "Epoch 13/50\n",
            "46/46 [==============================] - 0s 4ms/step - loss: 0.0699 - val_loss: 0.0659\n",
            "Epoch 14/50\n",
            "46/46 [==============================] - 0s 4ms/step - loss: 0.0601 - val_loss: 0.0589\n",
            "Epoch 15/50\n",
            "46/46 [==============================] - 0s 5ms/step - loss: 0.0521 - val_loss: 0.0523\n",
            "Epoch 16/50\n",
            "46/46 [==============================] - 0s 4ms/step - loss: 0.0466 - val_loss: 0.0467\n",
            "Epoch 17/50\n",
            "46/46 [==============================] - 0s 4ms/step - loss: 0.0398 - val_loss: 0.0426\n",
            "Epoch 18/50\n",
            "46/46 [==============================] - 0s 4ms/step - loss: 0.0357 - val_loss: 0.0381\n",
            "Epoch 19/50\n",
            "46/46 [==============================] - 0s 4ms/step - loss: 0.0318 - val_loss: 0.0377\n",
            "Epoch 20/50\n",
            "46/46 [==============================] - 0s 4ms/step - loss: 0.0310 - val_loss: 0.0336\n",
            "Epoch 21/50\n",
            "46/46 [==============================] - 0s 4ms/step - loss: 0.0273 - val_loss: 0.0297\n",
            "Epoch 22/50\n",
            "46/46 [==============================] - 0s 4ms/step - loss: 0.0241 - val_loss: 0.0280\n",
            "Epoch 23/50\n",
            "46/46 [==============================] - 0s 4ms/step - loss: 0.0208 - val_loss: 0.0258\n",
            "Epoch 24/50\n",
            "46/46 [==============================] - 0s 4ms/step - loss: 0.0211 - val_loss: 0.0261\n",
            "Epoch 25/50\n",
            "46/46 [==============================] - 0s 8ms/step - loss: 0.0185 - val_loss: 0.0228\n",
            "Epoch 26/50\n",
            "46/46 [==============================] - 0s 7ms/step - loss: 0.0151 - val_loss: 0.0218\n",
            "Epoch 27/50\n",
            "46/46 [==============================] - 0s 8ms/step - loss: 0.0142 - val_loss: 0.0201\n",
            "Epoch 28/50\n",
            "46/46 [==============================] - 0s 7ms/step - loss: 0.0134 - val_loss: 0.0192\n",
            "Epoch 29/50\n",
            "46/46 [==============================] - 0s 7ms/step - loss: 0.0125 - val_loss: 0.0181\n",
            "Epoch 30/50\n",
            "46/46 [==============================] - 0s 7ms/step - loss: 0.0112 - val_loss: 0.0167\n",
            "Epoch 31/50\n",
            "46/46 [==============================] - 0s 9ms/step - loss: 0.0103 - val_loss: 0.0161\n",
            "Epoch 32/50\n",
            "46/46 [==============================] - 0s 8ms/step - loss: 0.0096 - val_loss: 0.0163\n",
            "Epoch 33/50\n",
            "46/46 [==============================] - 0s 8ms/step - loss: 0.0094 - val_loss: 0.0149\n",
            "Epoch 34/50\n",
            "46/46 [==============================] - 0s 9ms/step - loss: 0.0081 - val_loss: 0.0145\n",
            "Epoch 35/50\n",
            "46/46 [==============================] - 0s 4ms/step - loss: 0.0075 - val_loss: 0.0142\n",
            "Epoch 36/50\n",
            "46/46 [==============================] - 0s 4ms/step - loss: 0.0072 - val_loss: 0.0130\n",
            "Epoch 37/50\n",
            "46/46 [==============================] - 0s 4ms/step - loss: 0.0065 - val_loss: 0.0122\n",
            "Epoch 38/50\n",
            "46/46 [==============================] - 0s 5ms/step - loss: 0.0064 - val_loss: 0.0144\n",
            "Epoch 39/50\n",
            "46/46 [==============================] - 0s 4ms/step - loss: 0.0063 - val_loss: 0.0127\n",
            "Epoch 40/50\n",
            "46/46 [==============================] - 0s 4ms/step - loss: 0.0057 - val_loss: 0.0115\n",
            "Epoch 41/50\n",
            "46/46 [==============================] - 0s 4ms/step - loss: 0.0052 - val_loss: 0.0103\n",
            "Epoch 42/50\n",
            "46/46 [==============================] - 0s 4ms/step - loss: 0.0050 - val_loss: 0.0098\n",
            "Epoch 43/50\n",
            "46/46 [==============================] - 0s 5ms/step - loss: 0.0046 - val_loss: 0.0096\n",
            "Epoch 44/50\n",
            "46/46 [==============================] - 0s 4ms/step - loss: 0.0043 - val_loss: 0.0114\n",
            "Epoch 45/50\n",
            "46/46 [==============================] - 0s 4ms/step - loss: 0.0040 - val_loss: 0.0098\n",
            "Epoch 46/50\n",
            "46/46 [==============================] - 0s 5ms/step - loss: 0.0038 - val_loss: 0.0090\n",
            "Epoch 47/50\n",
            "46/46 [==============================] - 0s 4ms/step - loss: 0.0036 - val_loss: 0.0093\n",
            "Epoch 48/50\n",
            "46/46 [==============================] - 0s 5ms/step - loss: 0.0035 - val_loss: 0.0082\n",
            "Epoch 49/50\n",
            "46/46 [==============================] - 0s 4ms/step - loss: 0.0030 - val_loss: 0.0082\n",
            "Epoch 50/50\n",
            "46/46 [==============================] - 0s 4ms/step - loss: 0.0030 - val_loss: 0.0082\n"
          ]
        }
      ]
    },
    {
      "cell_type": "code",
      "source": [
        "dl_history_plot(history)"
      ],
      "metadata": {
        "colab": {
          "base_uri": "https://localhost:8080/",
          "height": 542
        },
        "id": "AH1zJwk_xO6q",
        "outputId": "a2e61828-71bd-4954-fcbb-ff5115595c1d"
      },
      "execution_count": 32,
      "outputs": [
        {
          "output_type": "display_data",
          "data": {
            "text/plain": [
              "<Figure size 1000x600 with 1 Axes>"
            ],
            "image/png": "[encoded data removed]"
          },
          "metadata": {}
        }
      ]
    },
    {
      "cell_type": "code",
      "source": [
        "pred=model.predict(x_val_temp)\n",
        "\n",
        "pred=np.argmax(pred, axis=1)\n",
        "# print(pred)"
      ],
      "metadata": {
        "colab": {
          "base_uri": "https://localhost:8080/"
        },
        "id": "5cYzuK_yxRzO",
        "outputId": "5c8a2451-a515-4bc9-f2be-a802f05d308e"
      },
      "execution_count": 33,
      "outputs": [
        {
          "output_type": "stream",
          "name": "stdout",
          "text": [
            "26/26 [==============================] - 0s 2ms/step\n"
          ]
        }
      ]
    },
    {
      "cell_type": "code",
      "source": [
        "print(classification_report(y_val_temp, pred))"
      ],
      "metadata": {
        "colab": {
          "base_uri": "https://localhost:8080/"
        },
        "id": "MPOInpcHxVQR",
        "outputId": "373cae77-0629-4a86-cdd6-75f266c13ad0"
      },
      "execution_count": 34,
      "outputs": [
        {
          "output_type": "stream",
          "name": "stdout",
          "text": [
            "              precision    recall  f1-score   support\n",
            "\n",
            "           0       0.98      1.00      0.99       297\n",
            "           1       1.00      1.00      1.00       275\n",
            "           2       1.00      0.98      0.99       239\n",
            "\n",
            "    accuracy                           0.99       811\n",
            "   macro avg       0.99      0.99      0.99       811\n",
            "weighted avg       0.99      0.99      0.99       811\n",
            "\n"
          ]
        }
      ]
    },
    {
      "cell_type": "code",
      "source": [
        "pred=model.predict(new_x_test)\n",
        "\n",
        "pred=np.argmax(pred, axis=1)\n",
        "print(classification_report(new_y_1_test, pred))"
      ],
      "metadata": {
        "colab": {
          "base_uri": "https://localhost:8080/"
        },
        "id": "Yll2qi5sxYp-",
        "outputId": "292212ef-bb86-4105-cd01-e7dd7a7d2d00"
      },
      "execution_count": 35,
      "outputs": [
        {
          "output_type": "stream",
          "name": "stdout",
          "text": [
            "20/20 [==============================] - 0s 2ms/step\n",
            "              precision    recall  f1-score   support\n",
            "\n",
            "           0       0.99      1.00      0.99       228\n",
            "           1       1.00      1.00      1.00       215\n",
            "           2       1.00      0.98      0.99       195\n",
            "\n",
            "    accuracy                           0.99       638\n",
            "   macro avg       0.99      0.99      0.99       638\n",
            "weighted avg       0.99      0.99      0.99       638\n",
            "\n"
          ]
        }
      ]
    },
    {
      "cell_type": "code",
      "source": [
        "# 메모리 정리\n",
        "clear_session()\n",
        "\n",
        "# 모델링\n",
        "nfeatures=561\n",
        "model = Sequential(\n",
        "   [ Dense(256, input_shape = (nfeatures,), activation = 'relu'),\n",
        "    Dense(128, activation='relu'),\n",
        "    Dense(64, activation='relu'),\n",
        "    Dense(32, activation='relu'),\n",
        "    Dense(3, activation = 'softmax') ]\n",
        "    )\n",
        "\n",
        "# 요약\n",
        "model.summary()"
      ],
      "metadata": {
        "colab": {
          "base_uri": "https://localhost:8080/"
        },
        "id": "OW5Gw_Vvzbvt",
        "outputId": "388b5104-98b8-4f84-ecfc-d2cc6596107d"
      },
      "execution_count": 36,
      "outputs": [
        {
          "output_type": "stream",
          "name": "stdout",
          "text": [
            "Model: \"sequential\"\n",
            "_________________________________________________________________\n",
            " Layer (type)                Output Shape              Param #   \n",
            "=================================================================\n",
            " dense (Dense)               (None, 256)               143872    \n",
            "                                                                 \n",
            " dense_1 (Dense)             (None, 128)               32896     \n",
            "                                                                 \n",
            " dense_2 (Dense)             (None, 64)                8256      \n",
            "                                                                 \n",
            " dense_3 (Dense)             (None, 32)                2080      \n",
            "                                                                 \n",
            " dense_4 (Dense)             (None, 3)                 99        \n",
            "                                                                 \n",
            "=================================================================\n",
            "Total params: 187203 (731.26 KB)\n",
            "Trainable params: 187203 (731.26 KB)\n",
            "Non-trainable params: 0 (0.00 Byte)\n",
            "_________________________________________________________________\n"
          ]
        }
      ]
    },
    {
      "cell_type": "code",
      "source": [
        "model.compile(optimizer = Adam(learning_rate=0.001), loss = 'sparse_categorical_crossentropy')\n",
        "\n",
        "history=model.fit(x_train_temp, y_train_temp, epochs=50, validation_split=0.2).history"
      ],
      "metadata": {
        "colab": {
          "base_uri": "https://localhost:8080/"
        },
        "id": "oyvxFDs80HHd",
        "outputId": "86dc19c0-83bc-4c0f-ece8-b4148f2272a3"
      },
      "execution_count": 37,
      "outputs": [
        {
          "output_type": "stream",
          "name": "stdout",
          "text": [
            "Epoch 1/50\n",
            "46/46 [==============================] - 3s 17ms/step - loss: 0.5921 - val_loss: 0.2278\n",
            "Epoch 2/50\n",
            "46/46 [==============================] - 1s 11ms/step - loss: 0.1753 - val_loss: 0.1860\n",
            "Epoch 3/50\n",
            "46/46 [==============================] - 1s 11ms/step - loss: 0.0842 - val_loss: 0.0644\n",
            "Epoch 4/50\n",
            "46/46 [==============================] - 1s 12ms/step - loss: 0.0507 - val_loss: 0.0308\n",
            "Epoch 5/50\n",
            "46/46 [==============================] - 1s 12ms/step - loss: 0.0182 - val_loss: 0.0173\n",
            "Epoch 6/50\n",
            "46/46 [==============================] - 0s 7ms/step - loss: 0.0303 - val_loss: 0.0437\n",
            "Epoch 7/50\n",
            "46/46 [==============================] - 0s 6ms/step - loss: 0.0233 - val_loss: 0.0177\n",
            "Epoch 8/50\n",
            "46/46 [==============================] - 0s 6ms/step - loss: 0.0068 - val_loss: 0.0103\n",
            "Epoch 9/50\n",
            "46/46 [==============================] - 0s 5ms/step - loss: 0.0062 - val_loss: 0.0109\n",
            "Epoch 10/50\n",
            "46/46 [==============================] - 0s 5ms/step - loss: 0.0085 - val_loss: 0.0123\n",
            "Epoch 11/50\n",
            "46/46 [==============================] - 0s 6ms/step - loss: 0.0064 - val_loss: 0.0118\n",
            "Epoch 12/50\n",
            "46/46 [==============================] - 0s 6ms/step - loss: 0.0229 - val_loss: 0.0101\n",
            "Epoch 13/50\n",
            "46/46 [==============================] - 0s 6ms/step - loss: 0.0046 - val_loss: 0.0037\n",
            "Epoch 14/50\n",
            "46/46 [==============================] - 0s 5ms/step - loss: 0.0257 - val_loss: 0.0925\n",
            "Epoch 15/50\n",
            "46/46 [==============================] - 0s 6ms/step - loss: 0.0169 - val_loss: 0.0951\n",
            "Epoch 16/50\n",
            "46/46 [==============================] - 0s 7ms/step - loss: 0.0571 - val_loss: 0.0478\n",
            "Epoch 17/50\n",
            "46/46 [==============================] - 0s 6ms/step - loss: 0.0092 - val_loss: 0.0041\n",
            "Epoch 18/50\n",
            "46/46 [==============================] - 0s 6ms/step - loss: 0.0265 - val_loss: 0.0068\n",
            "Epoch 19/50\n",
            "46/46 [==============================] - 0s 6ms/step - loss: 0.0224 - val_loss: 0.0072\n",
            "Epoch 20/50\n",
            "46/46 [==============================] - 0s 6ms/step - loss: 0.0025 - val_loss: 0.0028\n",
            "Epoch 21/50\n",
            "46/46 [==============================] - 0s 6ms/step - loss: 4.4991e-04 - val_loss: 0.0015\n",
            "Epoch 22/50\n",
            "46/46 [==============================] - 0s 6ms/step - loss: 2.5159e-04 - val_loss: 0.0012\n",
            "Epoch 23/50\n",
            "46/46 [==============================] - 0s 7ms/step - loss: 1.7157e-04 - val_loss: 0.0011\n",
            "Epoch 24/50\n",
            "46/46 [==============================] - 0s 7ms/step - loss: 1.3754e-04 - val_loss: 9.3327e-04\n",
            "Epoch 25/50\n",
            "46/46 [==============================] - 0s 10ms/step - loss: 1.1196e-04 - val_loss: 9.1322e-04\n",
            "Epoch 26/50\n",
            "46/46 [==============================] - 0s 10ms/step - loss: 9.3864e-05 - val_loss: 8.1012e-04\n",
            "Epoch 27/50\n",
            "46/46 [==============================] - 0s 10ms/step - loss: 8.1467e-05 - val_loss: 8.1320e-04\n",
            "Epoch 28/50\n",
            "46/46 [==============================] - 0s 10ms/step - loss: 7.0984e-05 - val_loss: 8.2117e-04\n",
            "Epoch 29/50\n",
            "46/46 [==============================] - 0s 9ms/step - loss: 6.1945e-05 - val_loss: 7.6615e-04\n",
            "Epoch 30/50\n",
            "46/46 [==============================] - 0s 10ms/step - loss: 5.5023e-05 - val_loss: 6.9664e-04\n",
            "Epoch 31/50\n",
            "46/46 [==============================] - 0s 10ms/step - loss: 4.9016e-05 - val_loss: 6.7740e-04\n",
            "Epoch 32/50\n",
            "46/46 [==============================] - 0s 11ms/step - loss: 4.4809e-05 - val_loss: 7.5408e-04\n",
            "Epoch 33/50\n",
            "46/46 [==============================] - 0s 6ms/step - loss: 3.9951e-05 - val_loss: 6.8303e-04\n",
            "Epoch 34/50\n",
            "46/46 [==============================] - 0s 6ms/step - loss: 3.5853e-05 - val_loss: 6.5914e-04\n",
            "Epoch 35/50\n",
            "46/46 [==============================] - 0s 6ms/step - loss: 3.2772e-05 - val_loss: 6.4075e-04\n",
            "Epoch 36/50\n",
            "46/46 [==============================] - 0s 7ms/step - loss: 3.0028e-05 - val_loss: 6.4275e-04\n",
            "Epoch 37/50\n",
            "46/46 [==============================] - 0s 6ms/step - loss: 2.7506e-05 - val_loss: 6.1460e-04\n",
            "Epoch 38/50\n",
            "46/46 [==============================] - 0s 6ms/step - loss: 2.5062e-05 - val_loss: 6.4009e-04\n",
            "Epoch 39/50\n",
            "46/46 [==============================] - 0s 6ms/step - loss: 2.3188e-05 - val_loss: 5.9754e-04\n",
            "Epoch 40/50\n",
            "46/46 [==============================] - 0s 5ms/step - loss: 2.1287e-05 - val_loss: 6.0463e-04\n",
            "Epoch 41/50\n",
            "46/46 [==============================] - 0s 8ms/step - loss: 1.9580e-05 - val_loss: 5.9646e-04\n",
            "Epoch 42/50\n",
            "46/46 [==============================] - 0s 6ms/step - loss: 1.8169e-05 - val_loss: 6.0298e-04\n",
            "Epoch 43/50\n",
            "46/46 [==============================] - 0s 6ms/step - loss: 1.6785e-05 - val_loss: 5.8051e-04\n",
            "Epoch 44/50\n",
            "46/46 [==============================] - 0s 6ms/step - loss: 1.5507e-05 - val_loss: 6.1719e-04\n",
            "Epoch 45/50\n",
            "46/46 [==============================] - 0s 6ms/step - loss: 1.4445e-05 - val_loss: 5.4656e-04\n",
            "Epoch 46/50\n",
            "46/46 [==============================] - 0s 6ms/step - loss: 1.3387e-05 - val_loss: 5.8041e-04\n",
            "Epoch 47/50\n",
            "46/46 [==============================] - 0s 7ms/step - loss: 1.2525e-05 - val_loss: 5.6170e-04\n",
            "Epoch 48/50\n",
            "46/46 [==============================] - 0s 6ms/step - loss: 1.1636e-05 - val_loss: 5.9239e-04\n",
            "Epoch 49/50\n",
            "46/46 [==============================] - 0s 6ms/step - loss: 1.0915e-05 - val_loss: 5.7079e-04\n",
            "Epoch 50/50\n",
            "46/46 [==============================] - 0s 7ms/step - loss: 1.0218e-05 - val_loss: 5.7098e-04\n"
          ]
        }
      ]
    },
    {
      "cell_type": "code",
      "source": [
        "dl_history_plot(history)"
      ],
      "metadata": {
        "colab": {
          "base_uri": "https://localhost:8080/",
          "height": 542
        },
        "id": "R84RrJJr0OSA",
        "outputId": "077ac39e-5f19-4fb8-d583-a75710535de5"
      },
      "execution_count": 38,
      "outputs": [
        {
          "output_type": "display_data",
          "data": {
            "text/plain": [
              "<Figure size 1000x600 with 1 Axes>"
            ],
            "image/png": "[encoded data removed]"
          },
          "metadata": {}
        }
      ]
    },
    {
      "cell_type": "code",
      "source": [
        "pred=model.predict(x_val_temp)\n",
        "\n",
        "pred=np.argmax(pred, axis=1)\n",
        "# print(pred)"
      ],
      "metadata": {
        "colab": {
          "base_uri": "https://localhost:8080/"
        },
        "id": "9Kvkrbxd0aQ3",
        "outputId": "dfb606b2-faf7-4725-c8ba-ffd9f692eea6"
      },
      "execution_count": 39,
      "outputs": [
        {
          "output_type": "stream",
          "name": "stdout",
          "text": [
            "26/26 [==============================] - 0s 4ms/step\n"
          ]
        }
      ]
    },
    {
      "cell_type": "code",
      "source": [
        "print(classification_report(y_val_temp, pred))"
      ],
      "metadata": {
        "colab": {
          "base_uri": "https://localhost:8080/"
        },
        "id": "PF0nYVgu0dba",
        "outputId": "6d5804e1-c580-4ef6-a125-1bf09765bd0a"
      },
      "execution_count": 40,
      "outputs": [
        {
          "output_type": "stream",
          "name": "stdout",
          "text": [
            "              precision    recall  f1-score   support\n",
            "\n",
            "           0       0.99      1.00      0.99       297\n",
            "           1       1.00      1.00      1.00       275\n",
            "           2       1.00      0.98      0.99       239\n",
            "\n",
            "    accuracy                           0.99       811\n",
            "   macro avg       0.99      0.99      0.99       811\n",
            "weighted avg       0.99      0.99      0.99       811\n",
            "\n"
          ]
        }
      ]
    },
    {
      "cell_type": "code",
      "source": [
        "pred=model.predict(new_x_test)\n",
        "\n",
        "pred=np.argmax(pred, axis=1)\n",
        "print(classification_report(new_y_1_test, pred))"
      ],
      "metadata": {
        "colab": {
          "base_uri": "https://localhost:8080/"
        },
        "id": "es9KGj5a0gZD",
        "outputId": "18f6f9a8-d211-4d7f-c26c-6f6204e350f7"
      },
      "execution_count": 41,
      "outputs": [
        {
          "output_type": "stream",
          "name": "stdout",
          "text": [
            "20/20 [==============================] - 0s 4ms/step\n",
            "              precision    recall  f1-score   support\n",
            "\n",
            "           0       0.99      1.00      1.00       228\n",
            "           1       1.00      0.99      0.99       215\n",
            "           2       1.00      0.99      1.00       195\n",
            "\n",
            "    accuracy                           1.00       638\n",
            "   macro avg       1.00      1.00      1.00       638\n",
            "weighted avg       1.00      1.00      1.00       638\n",
            "\n"
          ]
        }
      ]
    },
    {
      "cell_type": "markdown",
      "metadata": {
        "id": "ShM5xWkwC3YE"
      },
      "source": [
        "### [선택사항] (4) 분류 모델 합치기\n"
      ]
    },
    {
      "cell_type": "code",
      "source": [],
      "metadata": {
        "id": "wTw95sTxxG_E"
      },
      "execution_count": 35,
      "outputs": []
    },
    {
      "cell_type": "markdown",
      "metadata": {
        "id": "K3i2vaxQ3Gmw"
      },
      "source": [
        "* 세부 요구사항\n",
        "    * 두 단계 모델을 통합하고, 새로운 데이터(test)에 대해서 최종 예측결과와 성능평가가 나오도록 함수로 만들기\n",
        "    * 데이터 파이프라인 구축 : test데이터가 로딩되어 전처리 과정을 거치고, 예측 및 성능 평가 수행"
      ]
    },
    {
      "cell_type": "markdown",
      "metadata": {
        "id": "88hluBpL33eB"
      },
      "source": [
        "![](https://github.com/DA4BAM/image/blob/main/pipeline%20function.png?raw=true)"
      ]
    },
    {
      "cell_type": "markdown",
      "metadata": {
        "id": "NDn0mJuGiquO"
      },
      "source": [
        "#### 1) 함수 만들어서 분류 모델 합치기"
      ]
    },
    {
      "cell_type": "code",
      "execution_count": 35,
      "metadata": {
        "id": "U9fP9x76A-gh"
      },
      "outputs": [],
      "source": []
    },
    {
      "cell_type": "code",
      "execution_count": 35,
      "metadata": {
        "id": "DUvISuM6iyqU"
      },
      "outputs": [],
      "source": []
    }
  ],
  "metadata": {
    "colab": {
      "provenance": []
    },
    "kernelspec": {
      "display_name": "Python 3",
      "name": "python3"
    },
    "language_info": {
      "name": "python"
    }
  },
  "nbformat": 4,
  "nbformat_minor": 0
}