{
  "cells": [
    {
      "cell_type": "markdown",
      "metadata": {
        "id": "NbI_RoQ9AP5r"
      },
      "source": [
        "#**스마트폰 센서 데이터 기반 모션 분류**\n",
        "# 단계3 : 단계별 모델링\n"
      ]
    },
    {
      "cell_type": "markdown",
      "metadata": {
        "id": "D67PlTu4JGAY"
      },
      "source": [
        "## 0.미션"
      ]
    },
    {
      "cell_type": "markdown",
      "metadata": {
        "id": "wc1FlP4E09oQ"
      },
      "source": [
        "단계별로 나눠서 모델링을 수행하고자 합니다.  \n",
        "\n",
        "* 단계1 : 정적(0), 동적(1) 행동 분류 모델 생성\n",
        "* 단계2 : 세부 동작에 대한 분류모델 생성\n",
        "    * 단계1 모델에서 0으로 예측 -> 정적 행동 3가지 분류 모델링\n",
        "    * 단계1 모델에서 1으로 예측 -> 동적 행동 3가지 분류 모델링\n",
        "* 모델 통합\n",
        "    * 두 단계 모델을 통합하고, 새로운 데이터에 대해서 최종 예측결과와 성능평가가 나오도록 함수로 만들기\n",
        "* 성능 비교\n",
        "    * 기본 모델링의 성능과 비교\n",
        "    * 모든 모델링은 [다양한 알고리즘 + 성능 튜닝]을 수행해야 합니다.\n"
      ]
    },
    {
      "cell_type": "markdown",
      "metadata": {
        "id": "ZSRC8sG-X5DG"
      },
      "source": [
        "## 1.환경설정"
      ]
    },
    {
      "cell_type": "markdown",
      "metadata": {
        "id": "gIE0bM9rX5DH"
      },
      "source": [
        "### (1) 라이브러리 불러오기"
      ]
    },
    {
      "cell_type": "markdown",
      "metadata": {
        "id": "I_rCs78QJZmI"
      },
      "source": [
        "* 세부 요구사항\n",
        "    - 기본적으로 필요한 라이브러리를 import 하도록 코드가 작성되어 있습니다.\n",
        "    - 필요하다고 판단되는 라이브러리를 추가하세요."
      ]
    },
    {
      "cell_type": "code",
      "source": [
        "from google.colab import drive\n",
        "drive.mount('/content/drive')"
      ],
      "metadata": {
        "colab": {
          "base_uri": "https://localhost:8080/"
        },
        "id": "JY3vpxPtmf1X",
        "outputId": "90bdd19d-e8ef-4fd1-a8c8-f0916d3bdd13"
      },
      "execution_count": 1,
      "outputs": [
        {
          "output_type": "stream",
          "name": "stdout",
          "text": [
            "Mounted at /content/drive\n"
          ]
        }
      ]
    },
    {
      "cell_type": "code",
      "execution_count": 2,
      "metadata": {
        "id": "nTVo8GkVX5DI"
      },
      "outputs": [],
      "source": [
        "import pandas as pd\n",
        "import numpy as np\n",
        "import matplotlib.pyplot as plt\n",
        "import seaborn as sns\n",
        "\n",
        "# 필요하다고 판단되는 라이브러리를 추가하세요.\n",
        "\n",
        "\n",
        "\n"
      ]
    },
    {
      "cell_type": "markdown",
      "metadata": {
        "id": "CJgfVor0X5DJ"
      },
      "source": [
        "### (2) 데이터 불러오기"
      ]
    },
    {
      "cell_type": "markdown",
      "metadata": {
        "id": "9OkifR5rnr2D"
      },
      "source": [
        "* 주어진 데이터셋\n",
        "    * data01_train.csv : 학습 및 검증용\n",
        "\n",
        " <br/>  \n",
        "\n",
        "* 세부 요구사항\n",
        "    - data01_train.csv 를 불러와 'data' 이름으로 저장합니다.\n",
        "        - data에서 변수 subject는 삭제합니다.\n",
        "    - data01_test.csv 를 불러와 'new_data' 이름으로 저장합니다.\n"
      ]
    },
    {
      "cell_type": "code",
      "execution_count": 3,
      "metadata": {
        "id": "9CSs-jf6iVJT"
      },
      "outputs": [],
      "source": [
        "data = pd.read_csv('/content/drive/MyDrive/KTaivle/3차미니프로젝트/data01_train.csv')\n",
        "new_data = pd.read_csv('/content/drive/MyDrive/KTaivle/3차미니프로젝트/data01_test.csv')"
      ]
    },
    {
      "cell_type": "code",
      "execution_count": 4,
      "metadata": {
        "id": "YnDdnoyHiVGZ"
      },
      "outputs": [],
      "source": [
        "data.drop(columns=[\"subject\"], inplace=True)"
      ]
    },
    {
      "cell_type": "code",
      "source": [
        "new_data.drop(columns=[\"subject\"], inplace=True)"
      ],
      "metadata": {
        "id": "QvwusBoruYp1"
      },
      "execution_count": 34,
      "outputs": []
    },
    {
      "cell_type": "markdown",
      "metadata": {
        "id": "O38e5xai7SIW"
      },
      "source": [
        "## 2.데이터 전처리"
      ]
    },
    {
      "cell_type": "markdown",
      "metadata": {
        "id": "uZwtSLSqcL7G"
      },
      "source": [
        "* 세부 요구사항\n",
        "    - Label 추가 : data 에 Activity_dynamic 를 추가합니다. Activity_dynamic은 과제1에서 is_dynamic과 동일한 값입니다.\n",
        "    - x와 y1, y2로 분할하시오.\n",
        "        * y1 : Activity\n",
        "        * y2 : Activity_dynamic\n",
        "    - train : val = 8 : 2 혹은 7 : 3\n",
        "    - random_state 옵션을 사용하여 다른 모델과 비교를 위해 성능이 재현되도록 합니다."
      ]
    },
    {
      "cell_type": "code",
      "source": [
        "new_data['Activity_dynamic'] = new_data['Activity'].isin(['WALKING', 'WALKING_UPSTAIRS', 'WALKING_DOWNSTAIRS']).astype(int)"
      ],
      "metadata": {
        "id": "JRV6yPt8tV7L"
      },
      "execution_count": 25,
      "outputs": []
    },
    {
      "cell_type": "code",
      "execution_count": 6,
      "metadata": {
        "id": "Bs_FHwUuiWWv"
      },
      "outputs": [],
      "source": [
        "data['Activity_dynamic'] = data['Activity'].isin(['WALKING', 'WALKING_UPSTAIRS', 'WALKING_DOWNSTAIRS']).astype(int)"
      ]
    },
    {
      "cell_type": "code",
      "execution_count": 8,
      "metadata": {
        "id": "O0nbejEWiWT1"
      },
      "outputs": [],
      "source": [
        "from sklearn.model_selection import train_test_split\n",
        "\n",
        "x = data.drop(columns=['Activity', 'Activity_dynamic'])\n",
        "y1 = data['Activity']\n",
        "y2 = data['Activity_dynamic']\n",
        "\n",
        "x_train, x_val, y1_train, y1_val = train_test_split(x, y1, test_size=0.2, random_state=42)\n",
        "_, _, y2_train, y2_val = train_test_split(x, y2, test_size=0.2, random_state=42)"
      ]
    },
    {
      "cell_type": "code",
      "source": [
        "test_x = new_data.drop(columns=['Activity', 'Activity_dynamic'])\n",
        "test_y1 = new_data['Activity']\n",
        "test_y2 = new_data['Activity_dynamic']"
      ],
      "metadata": {
        "id": "YfSK5vEhtahr"
      },
      "execution_count": 48,
      "outputs": []
    },
    {
      "cell_type": "markdown",
      "metadata": {
        "id": "bue7ZTLABQzi"
      },
      "source": [
        "## **3.단계별 모델링**"
      ]
    },
    {
      "cell_type": "markdown",
      "metadata": {
        "id": "cuQX1S5q39Ih"
      },
      "source": [
        "![](https://github.com/DA4BAM/image/blob/main/step%20by%20step.png?raw=true)"
      ]
    },
    {
      "cell_type": "markdown",
      "metadata": {
        "id": "dpEHt7u4CXlb"
      },
      "source": [
        "### (1) 단계1 : 정적/동적 행동 분류 모델"
      ]
    },
    {
      "cell_type": "markdown",
      "metadata": {
        "id": "8onfbGBbh1jr"
      },
      "source": [
        "* 세부 요구사항\n",
        "    * 정적 행동(Laying, Sitting, Standing)과 동적 행동(동적 : Walking, Walking-Up, Walking-Down)을 구분하는 모델 생성.\n",
        "    * 몇가지 모델을 만들고 가장 성능이 좋은 모델을 선정하시오."
      ]
    },
    {
      "cell_type": "markdown",
      "metadata": {
        "id": "zUrmn6T9ic5o"
      },
      "source": [
        "#### 1) 알고리즘1 :"
      ]
    },
    {
      "cell_type": "code",
      "execution_count": 317,
      "metadata": {
        "id": "Dl2e52CSiZEa",
        "colab": {
          "base_uri": "https://localhost:8080/"
        },
        "outputId": "9e5fae02-e963-490c-dba9-08271e02d819"
      },
      "outputs": [
        {
          "output_type": "stream",
          "name": "stdout",
          "text": [
            "RandomForest Activity Model Accuracy: 1.0\n",
            "[[657   0]\n",
            " [  0 520]]\n",
            "              precision    recall  f1-score   support\n",
            "\n",
            "           0       1.00      1.00      1.00       657\n",
            "           1       1.00      1.00      1.00       520\n",
            "\n",
            "    accuracy                           1.00      1177\n",
            "   macro avg       1.00      1.00      1.00      1177\n",
            "weighted avg       1.00      1.00      1.00      1177\n",
            "\n"
          ]
        }
      ],
      "source": [
        "from sklearn.ensemble import RandomForestClassifier\n",
        "from sklearn.metrics import accuracy_score\n",
        "\n",
        "model_rf = RandomForestClassifier(random_state=42)\n",
        "model_rf.fit(x_train, y2_train)\n",
        "\n",
        "pred_rf = model_rf.predict(x_val)\n",
        "\n",
        "accuracy_rf = accuracy_score(y2_val, pred_rf)\n",
        "\n",
        "print(\"RandomForest Activity Model Accuracy:\", accuracy_rf)\n",
        "print(confusion_matrix(y2_val, pred_rf))\n",
        "print(classification_report(y2_val, pred_rf))"
      ]
    },
    {
      "cell_type": "code",
      "source": [
        "t_pred_rf = model_rf.predict(test_x)\n",
        "test_accuracy_rf = accuracy_score(test_y2, t_pred_rf)\n",
        "\n",
        "print(\"TEST RandomForest Activity Model Accuracy:\", test_accuracy_rf)\n",
        "print(confusion_matrix(test_y2, t_pred_rf))\n",
        "print(classification_report(test_y2, t_pred_rf))"
      ],
      "metadata": {
        "colab": {
          "base_uri": "https://localhost:8080/"
        },
        "id": "2aBb4TKtt0sv",
        "outputId": "c9b5fb4e-0499-4b49-a42e-b60110a14335"
      },
      "execution_count": 318,
      "outputs": [
        {
          "output_type": "stream",
          "name": "stdout",
          "text": [
            "TEST RandomForest Activity Model Accuracy: 1.0\n",
            "[[833   0]\n",
            " [  0 638]]\n",
            "              precision    recall  f1-score   support\n",
            "\n",
            "           0       1.00      1.00      1.00       833\n",
            "           1       1.00      1.00      1.00       638\n",
            "\n",
            "    accuracy                           1.00      1471\n",
            "   macro avg       1.00      1.00      1.00      1471\n",
            "weighted avg       1.00      1.00      1.00      1471\n",
            "\n"
          ]
        }
      ]
    },
    {
      "cell_type": "markdown",
      "metadata": {
        "id": "yOmrlWjMihf3"
      },
      "source": [
        "#### 2) 알고리즘2 :"
      ]
    },
    {
      "cell_type": "code",
      "execution_count": 319,
      "metadata": {
        "id": "aPFlJFZiihf3",
        "colab": {
          "base_uri": "https://localhost:8080/"
        },
        "outputId": "cd189f0b-f10f-41eb-8d2c-8adb99da73f7"
      },
      "outputs": [
        {
          "output_type": "stream",
          "name": "stdout",
          "text": [
            "Logistic Regression Activity Model Accuracy: 1.0\n",
            "[[657   0]\n",
            " [  0 520]]\n",
            "              precision    recall  f1-score   support\n",
            "\n",
            "           0       1.00      1.00      1.00       657\n",
            "           1       1.00      1.00      1.00       520\n",
            "\n",
            "    accuracy                           1.00      1177\n",
            "   macro avg       1.00      1.00      1.00      1177\n",
            "weighted avg       1.00      1.00      1.00      1177\n",
            "\n"
          ]
        }
      ],
      "source": [
        "from sklearn.linear_model import LogisticRegression\n",
        "\n",
        "model_lr = LogisticRegression(random_state=42)\n",
        "\n",
        "model_lr.fit(x_train, y2_train)\n",
        "\n",
        "pred_lr = model_lr.predict(x_val)\n",
        "\n",
        "accuracy_lr = accuracy_score(y2_val, pred_lr)\n",
        "\n",
        "print(\"Logistic Regression Activity Model Accuracy:\", accuracy_lr)\n",
        "print(confusion_matrix(y2_val, pred_lr))\n",
        "print(classification_report(y2_val, pred_lr))"
      ]
    },
    {
      "cell_type": "code",
      "source": [
        "t_pred_lr = model_lr.predict(test_x)\n",
        "test_accuracy_lr = accuracy_score(test_y2, t_pred_lr)\n",
        "\n",
        "print(\"TEST Logistic Regression Activity Model Accuracy:\", test_accuracy_lr)\n",
        "print(confusion_matrix(test_y2, t_pred_lr))\n",
        "print(classification_report(test_y2, t_pred_lr))"
      ],
      "metadata": {
        "colab": {
          "base_uri": "https://localhost:8080/"
        },
        "id": "g_wLb9bsujGY",
        "outputId": "cbdbedd8-9657-415f-9030-bd8a3fcf1435"
      },
      "execution_count": 320,
      "outputs": [
        {
          "output_type": "stream",
          "name": "stdout",
          "text": [
            "TEST Logistic Regression Activity Model Accuracy: 0.9993201903467029\n",
            "[[832   1]\n",
            " [  0 638]]\n",
            "              precision    recall  f1-score   support\n",
            "\n",
            "           0       1.00      1.00      1.00       833\n",
            "           1       1.00      1.00      1.00       638\n",
            "\n",
            "    accuracy                           1.00      1471\n",
            "   macro avg       1.00      1.00      1.00      1471\n",
            "weighted avg       1.00      1.00      1.00      1471\n",
            "\n"
          ]
        }
      ]
    },
    {
      "cell_type": "markdown",
      "source": [
        "#### 3) 알고리즘3 :"
      ],
      "metadata": {
        "id": "JQkXxquipFun"
      }
    },
    {
      "cell_type": "code",
      "execution_count": 321,
      "metadata": {
        "id": "Bsgtsww9ihf4",
        "colab": {
          "base_uri": "https://localhost:8080/"
        },
        "outputId": "399053e2-1108-4c14-d45d-104776b47333"
      },
      "outputs": [
        {
          "output_type": "stream",
          "name": "stdout",
          "text": [
            "SVM Activity Model Accuracy: 1.0\n",
            "[[657   0]\n",
            " [  0 520]]\n",
            "              precision    recall  f1-score   support\n",
            "\n",
            "           0       1.00      1.00      1.00       657\n",
            "           1       1.00      1.00      1.00       520\n",
            "\n",
            "    accuracy                           1.00      1177\n",
            "   macro avg       1.00      1.00      1.00      1177\n",
            "weighted avg       1.00      1.00      1.00      1177\n",
            "\n"
          ]
        }
      ],
      "source": [
        "from sklearn.svm import SVC\n",
        "\n",
        "model_svm = SVC(random_state=42)\n",
        "\n",
        "model_svm.fit(x_train, y2_train)\n",
        "\n",
        "pred_svm = model_svm.predict(x_val)\n",
        "\n",
        "accuracy_svm = accuracy_score(y2_val, pred_svm)\n",
        "\n",
        "print(\"SVM Activity Model Accuracy:\", accuracy_svm)\n",
        "print(confusion_matrix(y2_val, pred_svm))\n",
        "print(classification_report(y2_val, pred_svm))"
      ]
    },
    {
      "cell_type": "code",
      "source": [
        "t_pred_svm = model_svm.predict(test_x)\n",
        "test_accuracy_svm = accuracy_score(test_y2, t_pred_svm)\n",
        "\n",
        "print(\"TEST SVM Activity Model Accuracy:\", test_accuracy_svm)\n",
        "print(confusion_matrix(test_y2, t_pred_svm))\n",
        "print(classification_report(test_y2, t_pred_svm))"
      ],
      "metadata": {
        "colab": {
          "base_uri": "https://localhost:8080/"
        },
        "id": "f3bJTFDzuuqf",
        "outputId": "d5786adf-666f-40c3-e4c7-aa84ab13144b"
      },
      "execution_count": 322,
      "outputs": [
        {
          "output_type": "stream",
          "name": "stdout",
          "text": [
            "TEST SVM Activity Model Accuracy: 1.0\n",
            "[[833   0]\n",
            " [  0 638]]\n",
            "              precision    recall  f1-score   support\n",
            "\n",
            "           0       1.00      1.00      1.00       833\n",
            "           1       1.00      1.00      1.00       638\n",
            "\n",
            "    accuracy                           1.00      1471\n",
            "   macro avg       1.00      1.00      1.00      1471\n",
            "weighted avg       1.00      1.00      1.00      1471\n",
            "\n"
          ]
        }
      ]
    },
    {
      "cell_type": "markdown",
      "metadata": {
        "id": "9sTQeLpjCfV9"
      },
      "source": [
        "### (2) 단계2-1 : 정적 동작 세부 분류"
      ]
    },
    {
      "cell_type": "markdown",
      "metadata": {
        "id": "tr0QtSuTihs0"
      },
      "source": [
        "* 세부 요구사항\n",
        "    * 정적 행동(Laying, Sitting, Standing)인 데이터 추출\n",
        "    * Laying, Sitting, Standing 를 분류하는 모델을 생성\n",
        "    * 몇가지 모델을 만들고 가장 성능이 좋은 모델을 선정하시오."
      ]
    },
    {
      "cell_type": "code",
      "source": [
        "subset_data = data[data['Activity'].isin(['LAYING', 'SITTING', 'STANDING'])]\n",
        "\n",
        "X_subset = subset_data.drop(columns=['Activity', 'Activity_dynamic'])\n",
        "y_subset = subset_data['Activity']\n",
        "\n",
        "X_train, X_val, y_train, y_val = train_test_split(X_subset, y_subset, test_size=0.2, random_state=42)"
      ],
      "metadata": {
        "id": "-ky2Ax9sps8T"
      },
      "execution_count": 324,
      "outputs": []
    },
    {
      "cell_type": "code",
      "source": [
        "t_subset_data = new_data[new_data['Activity'].isin(['LAYING', 'SITTING', 'STANDING'])]\n",
        "\n",
        "t_X_subset = t_subset_data.drop(columns=['Activity', 'Activity_dynamic'])\n",
        "t_y_subset = t_subset_data['Activity']"
      ],
      "metadata": {
        "id": "ruseEaTRvYDK"
      },
      "execution_count": 330,
      "outputs": []
    },
    {
      "cell_type": "code",
      "execution_count": 331,
      "metadata": {
        "id": "AEC-Lh17ik7d",
        "colab": {
          "base_uri": "https://localhost:8080/"
        },
        "outputId": "f2061285-ce4a-46a3-d15c-7692edd84fe0"
      },
      "outputs": [
        {
          "output_type": "stream",
          "name": "stdout",
          "text": [
            "RandomForest Model Accuracy: 0.9799072642967542\n",
            "[[221   0   0]\n",
            " [  0 202   3]\n",
            " [  0  10 211]]\n",
            "              precision    recall  f1-score   support\n",
            "\n",
            "      LAYING       1.00      1.00      1.00       221\n",
            "     SITTING       0.95      0.99      0.97       205\n",
            "    STANDING       0.99      0.95      0.97       221\n",
            "\n",
            "    accuracy                           0.98       647\n",
            "   macro avg       0.98      0.98      0.98       647\n",
            "weighted avg       0.98      0.98      0.98       647\n",
            "\n"
          ]
        }
      ],
      "source": [
        "rf_classifier = RandomForestClassifier(random_state=42)\n",
        "\n",
        "rf_classifier.fit(X_train, y_train)\n",
        "\n",
        "y_pred = rf_classifier.predict(X_val)\n",
        "\n",
        "accuracy = accuracy_score(y_val, y_pred)\n",
        "\n",
        "print(\"RandomForest Model Accuracy:\", accuracy)\n",
        "print(confusion_matrix(y_val, y_pred))\n",
        "print(classification_report(y_val, y_pred))"
      ]
    },
    {
      "cell_type": "code",
      "source": [
        "t_y_pred = rf_classifier.predict(t_X_subset)\n",
        "t_accuracy = accuracy_score(t_y_subset, t_y_pred)\n",
        "\n",
        "print(\"TEST RandomForest Model Accuracy:\", t_accuracy)\n",
        "print(confusion_matrix(t_y_subset, t_y_pred))\n",
        "print(classification_report(t_y_subset, t_y_pred))"
      ],
      "metadata": {
        "colab": {
          "base_uri": "https://localhost:8080/"
        },
        "id": "eZj3LSFAvnh9",
        "outputId": "d8c3511f-175f-40a2-aa16-acded554ddf9"
      },
      "execution_count": 332,
      "outputs": [
        {
          "output_type": "stream",
          "name": "stdout",
          "text": [
            "TEST RandomForest Model Accuracy: 0.9651860744297719\n",
            "[[291   1   0]\n",
            " [  0 242  12]\n",
            " [  0  16 271]]\n",
            "              precision    recall  f1-score   support\n",
            "\n",
            "      LAYING       1.00      1.00      1.00       292\n",
            "     SITTING       0.93      0.95      0.94       254\n",
            "    STANDING       0.96      0.94      0.95       287\n",
            "\n",
            "    accuracy                           0.97       833\n",
            "   macro avg       0.96      0.96      0.96       833\n",
            "weighted avg       0.97      0.97      0.97       833\n",
            "\n"
          ]
        }
      ]
    },
    {
      "cell_type": "code",
      "execution_count": 333,
      "metadata": {
        "id": "ABa7cIeQik4l",
        "colab": {
          "base_uri": "https://localhost:8080/"
        },
        "outputId": "1e41b1b6-1be0-47cf-e2b5-135939d02354"
      },
      "outputs": [
        {
          "output_type": "stream",
          "name": "stdout",
          "text": [
            "LogisticRegression Model Accuracy: 0.9428129829984544\n",
            "[[221   0   0]\n",
            " [  0 189  16]\n",
            " [  0  21 200]]\n",
            "              precision    recall  f1-score   support\n",
            "\n",
            "      LAYING       1.00      1.00      1.00       221\n",
            "     SITTING       0.90      0.92      0.91       205\n",
            "    STANDING       0.93      0.90      0.92       221\n",
            "\n",
            "    accuracy                           0.94       647\n",
            "   macro avg       0.94      0.94      0.94       647\n",
            "weighted avg       0.94      0.94      0.94       647\n",
            "\n"
          ]
        },
        {
          "output_type": "stream",
          "name": "stderr",
          "text": [
            "/usr/local/lib/python3.10/dist-packages/sklearn/linear_model/_logistic.py:458: ConvergenceWarning: lbfgs failed to converge (status=1):\n",
            "STOP: TOTAL NO. of ITERATIONS REACHED LIMIT.\n",
            "\n",
            "Increase the number of iterations (max_iter) or scale the data as shown in:\n",
            "    https://scikit-learn.org/stable/modules/preprocessing.html\n",
            "Please also refer to the documentation for alternative solver options:\n",
            "    https://scikit-learn.org/stable/modules/linear_model.html#logistic-regression\n",
            "  n_iter_i = _check_optimize_result(\n"
          ]
        }
      ],
      "source": [
        "lr_classifier = LogisticRegression(random_state=42)\n",
        "\n",
        "lr_classifier.fit(X_train, y_train)\n",
        "\n",
        "y_pred = lr_classifier.predict(X_val)\n",
        "\n",
        "accuracy = accuracy_score(y_val, y_pred)\n",
        "\n",
        "print(\"LogisticRegression Model Accuracy:\", accuracy)\n",
        "print(confusion_matrix(y_val, y_pred))\n",
        "print(classification_report(y_val, y_pred))"
      ]
    },
    {
      "cell_type": "code",
      "source": [
        "t_y_pred = lr_classifier.predict(t_X_subset)\n",
        "t_accuracy = accuracy_score(t_y_subset, t_y_pred)\n",
        "\n",
        "print(\"TEST LogisticRegression Model Accuracy:\", t_accuracy)\n",
        "print(confusion_matrix(t_y_subset, t_y_pred))\n",
        "print(classification_report(t_y_subset, t_y_pred))"
      ],
      "metadata": {
        "colab": {
          "base_uri": "https://localhost:8080/"
        },
        "id": "7KTwIaEyv7mz",
        "outputId": "2c566384-36c1-4dbf-f138-dd3f3df78aff"
      },
      "execution_count": 334,
      "outputs": [
        {
          "output_type": "stream",
          "name": "stdout",
          "text": [
            "TEST LogisticRegression Model Accuracy: 0.9303721488595438\n",
            "[[290   2   0]\n",
            " [  0 227  27]\n",
            " [  0  29 258]]\n",
            "              precision    recall  f1-score   support\n",
            "\n",
            "      LAYING       1.00      0.99      1.00       292\n",
            "     SITTING       0.88      0.89      0.89       254\n",
            "    STANDING       0.91      0.90      0.90       287\n",
            "\n",
            "    accuracy                           0.93       833\n",
            "   macro avg       0.93      0.93      0.93       833\n",
            "weighted avg       0.93      0.93      0.93       833\n",
            "\n"
          ]
        }
      ]
    },
    {
      "cell_type": "code",
      "execution_count": 335,
      "metadata": {
        "id": "39ITa0Xjik1t",
        "colab": {
          "base_uri": "https://localhost:8080/"
        },
        "outputId": "e5e83cc6-b096-440b-a09d-cccd7ad5545b"
      },
      "outputs": [
        {
          "output_type": "stream",
          "name": "stdout",
          "text": [
            "SVC Model Accuracy: 0.9211746522411128\n",
            "[[221   0   0]\n",
            " [  0 178  27]\n",
            " [  0  24 197]]\n",
            "              precision    recall  f1-score   support\n",
            "\n",
            "      LAYING       1.00      1.00      1.00       221\n",
            "     SITTING       0.88      0.87      0.87       205\n",
            "    STANDING       0.88      0.89      0.89       221\n",
            "\n",
            "    accuracy                           0.92       647\n",
            "   macro avg       0.92      0.92      0.92       647\n",
            "weighted avg       0.92      0.92      0.92       647\n",
            "\n"
          ]
        }
      ],
      "source": [
        "svm_classifier = SVC(random_state=42)\n",
        "\n",
        "svm_classifier.fit(X_train, y_train)\n",
        "\n",
        "y_pred = svm_classifier.predict(X_val)\n",
        "\n",
        "accuracy = accuracy_score(y_val, y_pred)\n",
        "\n",
        "print(\"SVC Model Accuracy:\", accuracy)\n",
        "print(confusion_matrix(y_val, y_pred))\n",
        "print(classification_report(y_val, y_pred))"
      ]
    },
    {
      "cell_type": "code",
      "source": [
        "t_y_pred = svm_classifier.predict(t_X_subset)\n",
        "t_accuracy = accuracy_score(t_y_subset, t_y_pred)\n",
        "\n",
        "print(\"TEST LogisticRegression Model Accuracy:\", t_accuracy)\n",
        "print(confusion_matrix(t_y_subset, t_y_pred))\n",
        "print(classification_report(t_y_subset, t_y_pred))"
      ],
      "metadata": {
        "colab": {
          "base_uri": "https://localhost:8080/"
        },
        "id": "Qrg0xYC7wCPr",
        "outputId": "1dcf6147-e8a7-49f2-a7dd-d8908584a4b8"
      },
      "execution_count": 336,
      "outputs": [
        {
          "output_type": "stream",
          "name": "stdout",
          "text": [
            "TEST LogisticRegression Model Accuracy: 0.9111644657863145\n",
            "[[292   0   0]\n",
            " [  0 212  42]\n",
            " [  0  32 255]]\n",
            "              precision    recall  f1-score   support\n",
            "\n",
            "      LAYING       1.00      1.00      1.00       292\n",
            "     SITTING       0.87      0.83      0.85       254\n",
            "    STANDING       0.86      0.89      0.87       287\n",
            "\n",
            "    accuracy                           0.91       833\n",
            "   macro avg       0.91      0.91      0.91       833\n",
            "weighted avg       0.91      0.91      0.91       833\n",
            "\n"
          ]
        }
      ]
    },
    {
      "cell_type": "markdown",
      "metadata": {
        "id": "jjNRQJpRC045"
      },
      "source": [
        "### (3) 단계2-2 : 동적 동작 세부 분류"
      ]
    },
    {
      "cell_type": "markdown",
      "metadata": {
        "id": "Rsy1RELi2qfF"
      },
      "source": [
        "* 세부 요구사항\n",
        "    * 동적 행동(Walking, Walking Upstairs, Walking Downstairs)인 데이터 추출\n",
        "    * Walking, Walking Upstairs, Walking Downstairs 를 분류하는 모델을 생성\n",
        "    * 몇가지 모델을 만들고 가장 성능이 좋은 모델을 선정하시오."
      ]
    },
    {
      "cell_type": "code",
      "execution_count": 337,
      "metadata": {
        "id": "UUZKNQ1Mima2"
      },
      "outputs": [],
      "source": [
        "dynamic_data = data[data['Activity'].isin(['WALKING', 'WALKING_UPSTAIRS', 'WALKING_DOWNSTAIRS'])]\n",
        "\n",
        "X_subset = dynamic_data.drop(columns=['Activity', 'Activity_dynamic'])\n",
        "y_subset = dynamic_data['Activity']\n",
        "\n",
        "X_train, X_val, y_train, y_val = train_test_split(X_subset, y_subset, test_size=0.2, random_state=42)"
      ]
    },
    {
      "cell_type": "code",
      "source": [
        "t_dynamic_data = new_data[new_data['Activity'].isin(['WALKING', 'WALKING_UPSTAIRS', 'WALKING_DOWNSTAIRS'])]\n",
        "\n",
        "t_X_subset = dynamic_data.drop(columns=['Activity', 'Activity_dynamic'])\n",
        "t_y_subset = dynamic_data['Activity']"
      ],
      "metadata": {
        "id": "lwJq9zjTwyJF"
      },
      "execution_count": 338,
      "outputs": []
    },
    {
      "cell_type": "code",
      "execution_count": 339,
      "metadata": {
        "id": "eOMJHLs1imYS",
        "colab": {
          "base_uri": "https://localhost:8080/"
        },
        "outputId": "f65d21ab-917d-46ff-c917-4f17afb17fe9"
      },
      "outputs": [
        {
          "output_type": "stream",
          "name": "stdout",
          "text": [
            "RandomForest Model Accuracy: 0.9849056603773585\n",
            "[[193   3   0]\n",
            " [  1 159   3]\n",
            " [  1   0 170]]\n",
            "                    precision    recall  f1-score   support\n",
            "\n",
            "           WALKING       0.99      0.98      0.99       196\n",
            "WALKING_DOWNSTAIRS       0.98      0.98      0.98       163\n",
            "  WALKING_UPSTAIRS       0.98      0.99      0.99       171\n",
            "\n",
            "          accuracy                           0.98       530\n",
            "         macro avg       0.98      0.98      0.98       530\n",
            "      weighted avg       0.98      0.98      0.98       530\n",
            "\n"
          ]
        }
      ],
      "source": [
        "rf_classifier = RandomForestClassifier(random_state=42)\n",
        "\n",
        "rf_classifier.fit(X_train, y_train)\n",
        "\n",
        "y_pred = rf_classifier.predict(X_val)\n",
        "\n",
        "accuracy = accuracy_score(y_val, y_pred)\n",
        "\n",
        "print(\"RandomForest Model Accuracy:\", accuracy)\n",
        "print(confusion_matrix(y_val, y_pred))\n",
        "print(classification_report(y_val, y_pred))"
      ]
    },
    {
      "cell_type": "code",
      "source": [
        "t_y_pred = rf_classifier.predict(t_X_subset)\n",
        "\n",
        "t_accuracy = accuracy_score(t_y_subset, t_y_pred)\n",
        "\n",
        "print(\"TEST RandomForest Model Accuracy:\", t_accuracy)\n",
        "print(confusion_matrix(t_y_subset, t_y_pred))\n",
        "print(classification_report(t_y_subset, t_y_pred))"
      ],
      "metadata": {
        "colab": {
          "base_uri": "https://localhost:8080/"
        },
        "id": "jSnxhijcw3sU",
        "outputId": "d1926adc-4171-4eb9-d45f-e7da7ce9420c"
      },
      "execution_count": 340,
      "outputs": [
        {
          "output_type": "stream",
          "name": "stdout",
          "text": [
            "TEST RandomForest Model Accuracy: 0.9969777106157914\n",
            "[[995   3   0]\n",
            " [  1 787   3]\n",
            " [  1   0 857]]\n",
            "                    precision    recall  f1-score   support\n",
            "\n",
            "           WALKING       1.00      1.00      1.00       998\n",
            "WALKING_DOWNSTAIRS       1.00      0.99      1.00       791\n",
            "  WALKING_UPSTAIRS       1.00      1.00      1.00       858\n",
            "\n",
            "          accuracy                           1.00      2647\n",
            "         macro avg       1.00      1.00      1.00      2647\n",
            "      weighted avg       1.00      1.00      1.00      2647\n",
            "\n"
          ]
        }
      ]
    },
    {
      "cell_type": "code",
      "execution_count": 341,
      "metadata": {
        "id": "JWzMEa_vimVg",
        "colab": {
          "base_uri": "https://localhost:8080/"
        },
        "outputId": "4a350cbb-6e34-4212-a712-7f7afb4ead4c"
      },
      "outputs": [
        {
          "output_type": "stream",
          "name": "stdout",
          "text": [
            "LogisticRegression Model Accuracy: 0.9811320754716981\n",
            "[[193   2   1]\n",
            " [  0 160   3]\n",
            " [  4   0 167]]\n",
            "                    precision    recall  f1-score   support\n",
            "\n",
            "           WALKING       0.98      0.98      0.98       196\n",
            "WALKING_DOWNSTAIRS       0.99      0.98      0.98       163\n",
            "  WALKING_UPSTAIRS       0.98      0.98      0.98       171\n",
            "\n",
            "          accuracy                           0.98       530\n",
            "         macro avg       0.98      0.98      0.98       530\n",
            "      weighted avg       0.98      0.98      0.98       530\n",
            "\n"
          ]
        },
        {
          "output_type": "stream",
          "name": "stderr",
          "text": [
            "/usr/local/lib/python3.10/dist-packages/sklearn/linear_model/_logistic.py:458: ConvergenceWarning: lbfgs failed to converge (status=1):\n",
            "STOP: TOTAL NO. of ITERATIONS REACHED LIMIT.\n",
            "\n",
            "Increase the number of iterations (max_iter) or scale the data as shown in:\n",
            "    https://scikit-learn.org/stable/modules/preprocessing.html\n",
            "Please also refer to the documentation for alternative solver options:\n",
            "    https://scikit-learn.org/stable/modules/linear_model.html#logistic-regression\n",
            "  n_iter_i = _check_optimize_result(\n"
          ]
        }
      ],
      "source": [
        "lr_classifier = LogisticRegression(random_state=42)\n",
        "\n",
        "lr_classifier.fit(X_train, y_train)\n",
        "\n",
        "y_pred = lr_classifier.predict(X_val)\n",
        "\n",
        "accuracy = accuracy_score(y_val, y_pred)\n",
        "\n",
        "print(\"LogisticRegression Model Accuracy:\", accuracy)\n",
        "print(confusion_matrix(y_val, y_pred))\n",
        "print(classification_report(y_val, y_pred))"
      ]
    },
    {
      "cell_type": "code",
      "source": [
        "t_y_pred = lr_classifier.predict(t_X_subset)\n",
        "\n",
        "t_accuracy = accuracy_score(t_y_subset, t_y_pred)\n",
        "\n",
        "print(\"TEST RandomForest Model Accuracy:\", t_accuracy)\n",
        "print(confusion_matrix(t_y_subset, t_y_pred))\n",
        "print(classification_report(t_y_subset, t_y_pred))"
      ],
      "metadata": {
        "colab": {
          "base_uri": "https://localhost:8080/"
        },
        "id": "lNZH--OpxIo8",
        "outputId": "45a60c1e-e07b-41b5-93d3-d839628060d4"
      },
      "execution_count": 342,
      "outputs": [
        {
          "output_type": "stream",
          "name": "stdout",
          "text": [
            "TEST RandomForest Model Accuracy: 0.9871552701171137\n",
            "[[988   4   6]\n",
            " [  3 782   6]\n",
            " [ 11   4 843]]\n",
            "                    precision    recall  f1-score   support\n",
            "\n",
            "           WALKING       0.99      0.99      0.99       998\n",
            "WALKING_DOWNSTAIRS       0.99      0.99      0.99       791\n",
            "  WALKING_UPSTAIRS       0.99      0.98      0.98       858\n",
            "\n",
            "          accuracy                           0.99      2647\n",
            "         macro avg       0.99      0.99      0.99      2647\n",
            "      weighted avg       0.99      0.99      0.99      2647\n",
            "\n"
          ]
        }
      ]
    },
    {
      "cell_type": "code",
      "execution_count": 343,
      "metadata": {
        "id": "lXhP4kVNimSN",
        "colab": {
          "base_uri": "https://localhost:8080/"
        },
        "outputId": "527f737c-eef9-47c8-ce5d-cc5e758d39be"
      },
      "outputs": [
        {
          "output_type": "stream",
          "name": "stdout",
          "text": [
            "SVC Model Accuracy: 0.9811320754716981\n",
            "[[195   0   1]\n",
            " [  0 160   3]\n",
            " [  5   1 165]]\n",
            "                    precision    recall  f1-score   support\n",
            "\n",
            "           WALKING       0.97      0.99      0.98       196\n",
            "WALKING_DOWNSTAIRS       0.99      0.98      0.99       163\n",
            "  WALKING_UPSTAIRS       0.98      0.96      0.97       171\n",
            "\n",
            "          accuracy                           0.98       530\n",
            "         macro avg       0.98      0.98      0.98       530\n",
            "      weighted avg       0.98      0.98      0.98       530\n",
            "\n"
          ]
        }
      ],
      "source": [
        "svm_classifier = SVC(random_state=42)\n",
        "\n",
        "svm_classifier.fit(X_train, y_train)\n",
        "\n",
        "y_pred = svm_classifier.predict(X_val)\n",
        "\n",
        "accuracy = accuracy_score(y_val, y_pred)\n",
        "\n",
        "print(\"SVC Model Accuracy:\", accuracy)\n",
        "print(confusion_matrix(y_val, y_pred))\n",
        "print(classification_report(y_val, y_pred))"
      ]
    },
    {
      "cell_type": "code",
      "source": [
        "t_y_pred = svm_classifier.predict(t_X_subset)\n",
        "\n",
        "t_accuracy = accuracy_score(t_y_subset, t_y_pred)\n",
        "\n",
        "print(\"TEST RandomForest Model Accuracy:\", t_accuracy)\n",
        "print(confusion_matrix(t_y_subset, t_y_pred))\n",
        "print(classification_report(t_y_subset, t_y_pred))"
      ],
      "metadata": {
        "colab": {
          "base_uri": "https://localhost:8080/"
        },
        "id": "ZVwrlUN_xOIf",
        "outputId": "3655eea6-99d6-4fac-84ce-ccee10d812d7"
      },
      "execution_count": 344,
      "outputs": [
        {
          "output_type": "stream",
          "name": "stdout",
          "text": [
            "TEST RandomForest Model Accuracy: 0.9845107669059312\n",
            "[[988   1   9]\n",
            " [  4 779   8]\n",
            " [ 11   8 839]]\n",
            "                    precision    recall  f1-score   support\n",
            "\n",
            "           WALKING       0.99      0.99      0.99       998\n",
            "WALKING_DOWNSTAIRS       0.99      0.98      0.99       791\n",
            "  WALKING_UPSTAIRS       0.98      0.98      0.98       858\n",
            "\n",
            "          accuracy                           0.98      2647\n",
            "         macro avg       0.98      0.98      0.98      2647\n",
            "      weighted avg       0.98      0.98      0.98      2647\n",
            "\n"
          ]
        }
      ]
    },
    {
      "cell_type": "markdown",
      "metadata": {
        "id": "ShM5xWkwC3YE"
      },
      "source": [
        "### [선택사항] (4) 분류 모델 합치기\n"
      ]
    },
    {
      "cell_type": "markdown",
      "metadata": {
        "id": "K3i2vaxQ3Gmw"
      },
      "source": [
        "* 세부 요구사항\n",
        "    * 두 단계 모델을 통합하고, 새로운 데이터(test)에 대해서 최종 예측결과와 성능평가가 나오도록 함수로 만들기\n",
        "    * 데이터 파이프라인 구축 : test데이터가 로딩되어 전처리 과정을 거치고, 예측 및 성능 평가 수행"
      ]
    },
    {
      "cell_type": "markdown",
      "metadata": {
        "id": "88hluBpL33eB"
      },
      "source": [
        "![](https://github.com/DA4BAM/image/blob/main/pipeline%20function.png?raw=true)"
      ]
    },
    {
      "cell_type": "code",
      "source": [
        "x = data.drop(columns=['Activity'])\n",
        "y = data['Activity']\n",
        "\n",
        "x_train, x_valid, y_train, y_valid = train_test_split(x, y, test_size=0.2, random_state=42)\n",
        "\n",
        "rf_model = RandomForestClassifier(random_state=42)\n",
        "\n",
        "rf_model.fit(x_train, y_train)\n",
        "\n",
        "importance = rf_model.feature_importances_\n",
        "names = x_train.columns\n",
        "\n",
        "feature_importance_df = pd.DataFrame({'Feature': names, 'Importance': importance})\n",
        "\n",
        "feature_importance_df = feature_importance_df.sort_values(by='Importance', ascending=False)"
      ],
      "metadata": {
        "id": "F3GYZ7g9YR0g"
      },
      "execution_count": 345,
      "outputs": []
    },
    {
      "cell_type": "markdown",
      "metadata": {
        "id": "NDn0mJuGiquO"
      },
      "source": [
        "#### 1) 함수 만들어서 분류 모델 합치기"
      ]
    },
    {
      "cell_type": "code",
      "source": [
        "from sklearn.pipeline import FeatureUnion, Pipeline\n",
        "from sklearn.compose import ColumnTransformer\n",
        "from sklearn.preprocessing import StandardScaler, OneHotEncoder\n",
        "from sklearn.ensemble import RandomForestClassifier\n",
        "from sklearn.linear_model import LogisticRegression\n",
        "from sklearn.model_selection import train_test_split"
      ],
      "metadata": {
        "id": "xDLlzI9n_YuA"
      },
      "execution_count": 101,
      "outputs": []
    },
    {
      "cell_type": "code",
      "source": [
        "data = pd.read_csv('/content/drive/MyDrive/KTaivle/3차미니프로젝트/data01_train.csv')\n",
        "top_n_features = feature_importance_df['Feature'].head(300).tolist()\n",
        "top_n_features.append(\"Activity\")\n",
        "top_n_features.append(\"Activity_dynamic\")\n",
        "\n",
        "data.drop(columns=[\"subject\"], inplace=True)\n",
        "data['Activity_dynamic'] = data['Activity'].isin(['WALKING', 'WALKING_UPSTAIRS', 'WALKING_DOWNSTAIRS']).astype(int)\n",
        "columns_to_drop = [col for col in data.columns if col not in top_n_features]\n",
        "data.drop(columns=columns_to_drop, inplace=True)\n",
        "\n",
        "x = data.drop(columns=['Activity', 'Activity_dynamic'])\n",
        "\n",
        "y1 = data['Activity']\n",
        "y2 = data['Activity_dynamic']\n",
        "\n",
        "x_train, x_val, y1_train, y1_val = train_test_split(x, y1, test_size=0.2, random_state=42)\n",
        "_, _, y2_train, y2_val = train_test_split(x, y2, test_size=0.2, random_state=42)"
      ],
      "metadata": {
        "id": "h43UEFTzAQ6i"
      },
      "execution_count": 346,
      "outputs": []
    },
    {
      "cell_type": "code",
      "source": [
        "static_data = data[data['Activity'].isin(['LAYING', 'SITTING', 'STANDING'])]\n",
        "\n",
        "s_X_subset = static_data.drop(columns=['Activity', 'Activity_dynamic'])\n",
        "s_y_subset = static_data['Activity']\n",
        "\n",
        "x_train_static, X_val_static, y_train_static, y_val_static = train_test_split(s_X_subset, s_y_subset, test_size=0.2, random_state=42)"
      ],
      "metadata": {
        "id": "4F9gwL4V3sf0"
      },
      "execution_count": 347,
      "outputs": []
    },
    {
      "cell_type": "code",
      "source": [
        "dynamic_data = new_data[data['Activity'].isin(['WALKING', 'WALKING_UPSTAIRS', 'WALKING_DOWNSTAIRS'])]\n",
        "\n",
        "d_X_subset = dynamic_data.drop(columns=['Activity', 'Activity_dynamic'])\n",
        "d_y_subset = dynamic_data['Activity']\n",
        "\n",
        "x_train_dynamic, X_val_dynamic, y_train_dynamic, y_val_dynamic = train_test_split(d_X_subset, d_y_subset, test_size=0.2, random_state=42)"
      ],
      "metadata": {
        "colab": {
          "base_uri": "https://localhost:8080/"
        },
        "id": "nqRUy54G4KNQ",
        "outputId": "42559831-07b5-46fd-9e14-be8bede3feeb"
      },
      "execution_count": 348,
      "outputs": [
        {
          "output_type": "stream",
          "name": "stderr",
          "text": [
            "<ipython-input-348-95a237c8a0ae>:1: UserWarning: Boolean Series key will be reindexed to match DataFrame index.\n",
            "  dynamic_data = new_data[data['Activity'].isin(['WALKING', 'WALKING_UPSTAIRS', 'WALKING_DOWNSTAIRS'])]\n"
          ]
        }
      ]
    },
    {
      "cell_type": "code",
      "source": [
        "from sklearn.model_selection import train_test_split\n",
        "\n",
        "x = data.drop(columns=['Activity', 'Activity_dynamic'])\n",
        "y1 = data['Activity']\n",
        "y2 = data['Activity_dynamic']\n",
        "\n",
        "x_train, x_val, y1_train, y1_val = train_test_split(x, y1, test_size=0.2, random_state=42)\n",
        "_, _, y2_train, y2_val = train_test_split(x, y2, test_size=0.2, random_state=42)"
      ],
      "metadata": {
        "id": "wB_QmW_U65Hf"
      },
      "execution_count": 349,
      "outputs": []
    },
    {
      "cell_type": "code",
      "source": [
        "numeric_features = [col for col in x.columns]\n",
        "\n",
        "# 전처리 및 모델링을 위한 파이프라인 구성\n",
        "preprocessor = ColumnTransformer(\n",
        "    transformers=[\n",
        "        ('num', StandardScaler(), numeric_features),  # 숫자형 변수 스케일링\n",
        "    ])\n",
        "\n",
        "# 파이프라인 구성\n",
        "pipeline_isdynamic_classification = Pipeline([\n",
        "    ('preprocessor', preprocessor),\n",
        "    ('classifier', RandomForestClassifier(random_state=42))  # 랜덤 포레스트 분류기\n",
        "])"
      ],
      "metadata": {
        "id": "l0aKuFL37Ir1"
      },
      "execution_count": 350,
      "outputs": []
    },
    {
      "cell_type": "code",
      "source": [
        "# 파이프라인 훈련\n",
        "pipeline_isdynamic_classification.fit(x_train, y2_train)"
      ],
      "metadata": {
        "colab": {
          "base_uri": "https://localhost:8080/",
          "height": 188
        },
        "id": "pdq-1I2-7Tqe",
        "outputId": "71ffdbb2-62fd-4509-b931-0e2c6d1a3ecf"
      },
      "execution_count": 351,
      "outputs": [
        {
          "output_type": "execute_result",
          "data": {
            "text/plain": [
              "Pipeline(steps=[('preprocessor',\n",
              "                 ColumnTransformer(transformers=[('num', StandardScaler(),\n",
              "                                                  ['tBodyAcc-std()-X',\n",
              "                                                   'tBodyAcc-mad()-X',\n",
              "                                                   'tBodyAcc-max()-X',\n",
              "                                                   'tBodyAcc-energy()-X',\n",
              "                                                   'tBodyAcc-correlation()-X,Y',\n",
              "                                                   'tBodyAcc-correlation()-Y,Z',\n",
              "                                                   'tGravityAcc-mean()-X',\n",
              "                                                   'tGravityAcc-mean()-Y',\n",
              "                                                   'tGravityAcc-mean()-Z',\n",
              "                                                   'tGravityAcc-max()-X',\n",
              "                                                   'tGravityAcc-max()-Y',\n",
              "                                                   'tGravityAc...\n",
              "                                                   'tGravityAcc-entropy()-X',\n",
              "                                                   'tGravityAcc-entropy()-Y',\n",
              "                                                   'tGravityAcc-arCoeff()-X,1',\n",
              "                                                   'tGravityAcc-arCoeff()-X,2',\n",
              "                                                   'tGravityAcc-arCoeff()-X,3',\n",
              "                                                   'tGravityAcc-arCoeff()-X,4',\n",
              "                                                   'tGravityAcc-arCoeff()-Y,1',\n",
              "                                                   'tGravityAcc-arCoeff()-Y,2',\n",
              "                                                   'tGravityAcc-arCoeff()-Y,3',\n",
              "                                                   'tGravityAcc-arCoeff()-Y,4',\n",
              "                                                   'tGravityAcc-arCoeff()-Z,1', ...])])),\n",
              "                ('classifier', RandomForestClassifier(random_state=42))])"
            ],
            "text/html": [
              "<style>#sk-container-id-11 {color: black;background-color: white;}#sk-container-id-11 pre{padding: 0;}#sk-container-id-11 div.sk-toggleable {background-color: white;}#sk-container-id-11 label.sk-toggleable__label {cursor: pointer;display: block;width: 100%;margin-bottom: 0;padding: 0.3em;box-sizing: border-box;text-align: center;}#sk-container-id-11 label.sk-toggleable__label-arrow:before {content: \"▸\";float: left;margin-right: 0.25em;color: #696969;}#sk-container-id-11 label.sk-toggleable__label-arrow:hover:before {color: black;}#sk-container-id-11 div.sk-estimator:hover label.sk-toggleable__label-arrow:before {color: black;}#sk-container-id-11 div.sk-toggleable__content {max-height: 0;max-width: 0;overflow: hidden;text-align: left;background-color: #f0f8ff;}#sk-container-id-11 div.sk-toggleable__content pre {margin: 0.2em;color: black;border-radius: 0.25em;background-color: #f0f8ff;}#sk-container-id-11 input.sk-toggleable__control:checked~div.sk-toggleable__content {max-height: 200px;max-width: 100%;overflow: auto;}#sk-container-id-11 input.sk-toggleable__control:checked~label.sk-toggleable__label-arrow:before {content: \"▾\";}#sk-container-id-11 div.sk-estimator input.sk-toggleable__control:checked~label.sk-toggleable__label {background-color: #d4ebff;}#sk-container-id-11 div.sk-label input.sk-toggleable__control:checked~label.sk-toggleable__label {background-color: #d4ebff;}#sk-container-id-11 input.sk-hidden--visually {border: 0;clip: rect(1px 1px 1px 1px);clip: rect(1px, 1px, 1px, 1px);height: 1px;margin: -1px;overflow: hidden;padding: 0;position: absolute;width: 1px;}#sk-container-id-11 div.sk-estimator {font-family: monospace;background-color: #f0f8ff;border: 1px dotted black;border-radius: 0.25em;box-sizing: border-box;margin-bottom: 0.5em;}#sk-container-id-11 div.sk-estimator:hover {background-color: #d4ebff;}#sk-container-id-11 div.sk-parallel-item::after {content: \"\";width: 100%;border-bottom: 1px solid gray;flex-grow: 1;}#sk-container-id-11 div.sk-label:hover label.sk-toggleable__label {background-color: #d4ebff;}#sk-container-id-11 div.sk-serial::before {content: \"\";position: absolute;border-left: 1px solid gray;box-sizing: border-box;top: 0;bottom: 0;left: 50%;z-index: 0;}#sk-container-id-11 div.sk-serial {display: flex;flex-direction: column;align-items: center;background-color: white;padding-right: 0.2em;padding-left: 0.2em;position: relative;}#sk-container-id-11 div.sk-item {position: relative;z-index: 1;}#sk-container-id-11 div.sk-parallel {display: flex;align-items: stretch;justify-content: center;background-color: white;position: relative;}#sk-container-id-11 div.sk-item::before, #sk-container-id-11 div.sk-parallel-item::before {content: \"\";position: absolute;border-left: 1px solid gray;box-sizing: border-box;top: 0;bottom: 0;left: 50%;z-index: -1;}#sk-container-id-11 div.sk-parallel-item {display: flex;flex-direction: column;z-index: 1;position: relative;background-color: white;}#sk-container-id-11 div.sk-parallel-item:first-child::after {align-self: flex-end;width: 50%;}#sk-container-id-11 div.sk-parallel-item:last-child::after {align-self: flex-start;width: 50%;}#sk-container-id-11 div.sk-parallel-item:only-child::after {width: 0;}#sk-container-id-11 div.sk-dashed-wrapped {border: 1px dashed gray;margin: 0 0.4em 0.5em 0.4em;box-sizing: border-box;padding-bottom: 0.4em;background-color: white;}#sk-container-id-11 div.sk-label label {font-family: monospace;font-weight: bold;display: inline-block;line-height: 1.2em;}#sk-container-id-11 div.sk-label-container {text-align: center;}#sk-container-id-11 div.sk-container {/* jupyter's `normalize.less` sets `[hidden] { display: none; }` but bootstrap.min.css set `[hidden] { display: none !important; }` so we also need the `!important` here to be able to override the default hidden behavior on the sphinx rendered scikit-learn.org. See: https://github.com/scikit-learn/scikit-learn/issues/21755 */display: inline-block !important;position: relative;}#sk-container-id-11 div.sk-text-repr-fallback {display: none;}</style><div id=\"sk-container-id-11\" class=\"sk-top-container\"><div class=\"sk-text-repr-fallback\"><pre>Pipeline(steps=[(&#x27;preprocessor&#x27;,\n",
              "                 ColumnTransformer(transformers=[(&#x27;num&#x27;, StandardScaler(),\n",
              "                                                  [&#x27;tBodyAcc-std()-X&#x27;,\n",
              "                                                   &#x27;tBodyAcc-mad()-X&#x27;,\n",
              "                                                   &#x27;tBodyAcc-max()-X&#x27;,\n",
              "                                                   &#x27;tBodyAcc-energy()-X&#x27;,\n",
              "                                                   &#x27;tBodyAcc-correlation()-X,Y&#x27;,\n",
              "                                                   &#x27;tBodyAcc-correlation()-Y,Z&#x27;,\n",
              "                                                   &#x27;tGravityAcc-mean()-X&#x27;,\n",
              "                                                   &#x27;tGravityAcc-mean()-Y&#x27;,\n",
              "                                                   &#x27;tGravityAcc-mean()-Z&#x27;,\n",
              "                                                   &#x27;tGravityAcc-max()-X&#x27;,\n",
              "                                                   &#x27;tGravityAcc-max()-Y&#x27;,\n",
              "                                                   &#x27;tGravityAc...\n",
              "                                                   &#x27;tGravityAcc-entropy()-X&#x27;,\n",
              "                                                   &#x27;tGravityAcc-entropy()-Y&#x27;,\n",
              "                                                   &#x27;tGravityAcc-arCoeff()-X,1&#x27;,\n",
              "                                                   &#x27;tGravityAcc-arCoeff()-X,2&#x27;,\n",
              "                                                   &#x27;tGravityAcc-arCoeff()-X,3&#x27;,\n",
              "                                                   &#x27;tGravityAcc-arCoeff()-X,4&#x27;,\n",
              "                                                   &#x27;tGravityAcc-arCoeff()-Y,1&#x27;,\n",
              "                                                   &#x27;tGravityAcc-arCoeff()-Y,2&#x27;,\n",
              "                                                   &#x27;tGravityAcc-arCoeff()-Y,3&#x27;,\n",
              "                                                   &#x27;tGravityAcc-arCoeff()-Y,4&#x27;,\n",
              "                                                   &#x27;tGravityAcc-arCoeff()-Z,1&#x27;, ...])])),\n",
              "                (&#x27;classifier&#x27;, RandomForestClassifier(random_state=42))])</pre><b>In a Jupyter environment, please rerun this cell to show the HTML representation or trust the notebook. <br />On GitHub, the HTML representation is unable to render, please try loading this page with nbviewer.org.</b></div><div class=\"sk-container\" hidden><div class=\"sk-item sk-dashed-wrapped\"><div class=\"sk-label-container\"><div class=\"sk-label sk-toggleable\"><input class=\"sk-toggleable__control sk-hidden--visually\" id=\"sk-estimator-id-51\" type=\"checkbox\" ><label for=\"sk-estimator-id-51\" class=\"sk-toggleable__label sk-toggleable__label-arrow\">Pipeline</label><div class=\"sk-toggleable__content\"><pre>Pipeline(steps=[(&#x27;preprocessor&#x27;,\n",
              "                 ColumnTransformer(transformers=[(&#x27;num&#x27;, StandardScaler(),\n",
              "                                                  [&#x27;tBodyAcc-std()-X&#x27;,\n",
              "                                                   &#x27;tBodyAcc-mad()-X&#x27;,\n",
              "                                                   &#x27;tBodyAcc-max()-X&#x27;,\n",
              "                                                   &#x27;tBodyAcc-energy()-X&#x27;,\n",
              "                                                   &#x27;tBodyAcc-correlation()-X,Y&#x27;,\n",
              "                                                   &#x27;tBodyAcc-correlation()-Y,Z&#x27;,\n",
              "                                                   &#x27;tGravityAcc-mean()-X&#x27;,\n",
              "                                                   &#x27;tGravityAcc-mean()-Y&#x27;,\n",
              "                                                   &#x27;tGravityAcc-mean()-Z&#x27;,\n",
              "                                                   &#x27;tGravityAcc-max()-X&#x27;,\n",
              "                                                   &#x27;tGravityAcc-max()-Y&#x27;,\n",
              "                                                   &#x27;tGravityAc...\n",
              "                                                   &#x27;tGravityAcc-entropy()-X&#x27;,\n",
              "                                                   &#x27;tGravityAcc-entropy()-Y&#x27;,\n",
              "                                                   &#x27;tGravityAcc-arCoeff()-X,1&#x27;,\n",
              "                                                   &#x27;tGravityAcc-arCoeff()-X,2&#x27;,\n",
              "                                                   &#x27;tGravityAcc-arCoeff()-X,3&#x27;,\n",
              "                                                   &#x27;tGravityAcc-arCoeff()-X,4&#x27;,\n",
              "                                                   &#x27;tGravityAcc-arCoeff()-Y,1&#x27;,\n",
              "                                                   &#x27;tGravityAcc-arCoeff()-Y,2&#x27;,\n",
              "                                                   &#x27;tGravityAcc-arCoeff()-Y,3&#x27;,\n",
              "                                                   &#x27;tGravityAcc-arCoeff()-Y,4&#x27;,\n",
              "                                                   &#x27;tGravityAcc-arCoeff()-Z,1&#x27;, ...])])),\n",
              "                (&#x27;classifier&#x27;, RandomForestClassifier(random_state=42))])</pre></div></div></div><div class=\"sk-serial\"><div class=\"sk-item sk-dashed-wrapped\"><div class=\"sk-label-container\"><div class=\"sk-label sk-toggleable\"><input class=\"sk-toggleable__control sk-hidden--visually\" id=\"sk-estimator-id-52\" type=\"checkbox\" ><label for=\"sk-estimator-id-52\" class=\"sk-toggleable__label sk-toggleable__label-arrow\">preprocessor: ColumnTransformer</label><div class=\"sk-toggleable__content\"><pre>ColumnTransformer(transformers=[(&#x27;num&#x27;, StandardScaler(),\n",
              "                                 [&#x27;tBodyAcc-std()-X&#x27;, &#x27;tBodyAcc-mad()-X&#x27;,\n",
              "                                  &#x27;tBodyAcc-max()-X&#x27;, &#x27;tBodyAcc-energy()-X&#x27;,\n",
              "                                  &#x27;tBodyAcc-correlation()-X,Y&#x27;,\n",
              "                                  &#x27;tBodyAcc-correlation()-Y,Z&#x27;,\n",
              "                                  &#x27;tGravityAcc-mean()-X&#x27;,\n",
              "                                  &#x27;tGravityAcc-mean()-Y&#x27;,\n",
              "                                  &#x27;tGravityAcc-mean()-Z&#x27;, &#x27;tGravityAcc-max()-X&#x27;,\n",
              "                                  &#x27;tGravityAcc-max()-Y&#x27;, &#x27;tGravityAcc-max()-Z&#x27;,\n",
              "                                  &#x27;tGravityAcc-min()-X&#x27;...\n",
              "                                  &#x27;tGravityAcc-energy()-Y&#x27;,\n",
              "                                  &#x27;tGravityAcc-energy()-Z&#x27;,\n",
              "                                  &#x27;tGravityAcc-entropy()-X&#x27;,\n",
              "                                  &#x27;tGravityAcc-entropy()-Y&#x27;,\n",
              "                                  &#x27;tGravityAcc-arCoeff()-X,1&#x27;,\n",
              "                                  &#x27;tGravityAcc-arCoeff()-X,2&#x27;,\n",
              "                                  &#x27;tGravityAcc-arCoeff()-X,3&#x27;,\n",
              "                                  &#x27;tGravityAcc-arCoeff()-X,4&#x27;,\n",
              "                                  &#x27;tGravityAcc-arCoeff()-Y,1&#x27;,\n",
              "                                  &#x27;tGravityAcc-arCoeff()-Y,2&#x27;,\n",
              "                                  &#x27;tGravityAcc-arCoeff()-Y,3&#x27;,\n",
              "                                  &#x27;tGravityAcc-arCoeff()-Y,4&#x27;,\n",
              "                                  &#x27;tGravityAcc-arCoeff()-Z,1&#x27;, ...])])</pre></div></div></div><div class=\"sk-parallel\"><div class=\"sk-parallel-item\"><div class=\"sk-item\"><div class=\"sk-label-container\"><div class=\"sk-label sk-toggleable\"><input class=\"sk-toggleable__control sk-hidden--visually\" id=\"sk-estimator-id-53\" type=\"checkbox\" ><label for=\"sk-estimator-id-53\" class=\"sk-toggleable__label sk-toggleable__label-arrow\">num</label><div class=\"sk-toggleable__content\"><pre>[&#x27;tBodyAcc-std()-X&#x27;, &#x27;tBodyAcc-mad()-X&#x27;, &#x27;tBodyAcc-max()-X&#x27;, &#x27;tBodyAcc-energy()-X&#x27;, &#x27;tBodyAcc-correlation()-X,Y&#x27;, &#x27;tBodyAcc-correlation()-Y,Z&#x27;, &#x27;tGravityAcc-mean()-X&#x27;, &#x27;tGravityAcc-mean()-Y&#x27;, &#x27;tGravityAcc-mean()-Z&#x27;, &#x27;tGravityAcc-max()-X&#x27;, &#x27;tGravityAcc-max()-Y&#x27;, &#x27;tGravityAcc-max()-Z&#x27;, &#x27;tGravityAcc-min()-X&#x27;, &#x27;tGravityAcc-min()-Y&#x27;, &#x27;tGravityAcc-min()-Z&#x27;, &#x27;tGravityAcc-sma()&#x27;, &#x27;tGravityAcc-energy()-X&#x27;, &#x27;tGravityAcc-energy()-Y&#x27;, &#x27;tGravityAcc-energy()-Z&#x27;, &#x27;tGravityAcc-entropy()-X&#x27;, &#x27;tGravityAcc-entropy()-Y&#x27;, &#x27;tGravityAcc-arCoeff()-X,1&#x27;, &#x27;tGravityAcc-arCoeff()-X,2&#x27;, &#x27;tGravityAcc-arCoeff()-X,3&#x27;, &#x27;tGravityAcc-arCoeff()-X,4&#x27;, &#x27;tGravityAcc-arCoeff()-Y,1&#x27;, &#x27;tGravityAcc-arCoeff()-Y,2&#x27;, &#x27;tGravityAcc-arCoeff()-Y,3&#x27;, &#x27;tGravityAcc-arCoeff()-Y,4&#x27;, &#x27;tGravityAcc-arCoeff()-Z,1&#x27;, &#x27;tGravityAcc-arCoeff()-Z,2&#x27;, &#x27;tGravityAcc-arCoeff()-Z,3&#x27;, &#x27;tGravityAcc-arCoeff()-Z,4&#x27;, &#x27;tGravityAcc-correlation()-X,Y&#x27;, &#x27;tBodyAccJerk-std()-X&#x27;, &#x27;tBodyAccJerk-mad()-X&#x27;, &#x27;tBodyAccJerk-max()-X&#x27;, &#x27;tBodyAccJerk-sma()&#x27;, &#x27;tBodyAccJerk-energy()-X&#x27;, &#x27;tBodyAccJerk-iqr()-X&#x27;, &#x27;tBodyAccJerk-iqr()-Y&#x27;, &#x27;tBodyAccJerk-iqr()-Z&#x27;, &#x27;tBodyAccJerk-entropy()-X&#x27;, &#x27;tBodyAccJerk-entropy()-Y&#x27;, &#x27;tBodyGyro-mad()-X&#x27;, &#x27;tBodyGyro-mad()-Y&#x27;, &#x27;tBodyGyro-max()-X&#x27;, &#x27;tBodyGyro-iqr()-X&#x27;, &#x27;tBodyGyroJerk-iqr()-Z&#x27;, &#x27;tBodyGyroJerk-entropy()-Z&#x27;, &#x27;tBodyAccMag-std()&#x27;, &#x27;tBodyAccMag-mad()&#x27;, &#x27;tBodyAccMag-max()&#x27;, &#x27;tBodyAccMag-arCoeff()1&#x27;, &#x27;tGravityAccMag-std()&#x27;, &#x27;tGravityAccMag-mad()&#x27;, &#x27;tGravityAccMag-max()&#x27;, &#x27;tGravityAccMag-energy()&#x27;, &#x27;tGravityAccMag-arCoeff()1&#x27;, &#x27;tBodyAccJerkMag-mad()&#x27;, &#x27;tBodyAccJerkMag-sma()&#x27;, &#x27;tBodyAccJerkMag-energy()&#x27;, &#x27;tBodyGyroJerkMag-mean()&#x27;, &#x27;tBodyGyroJerkMag-sma()&#x27;, &#x27;fBodyAcc-mean()-X&#x27;, &#x27;fBodyAcc-std()-X&#x27;, &#x27;fBodyAcc-mad()-X&#x27;, &#x27;fBodyAcc-max()-X&#x27;, &#x27;fBodyAcc-sma()&#x27;, &#x27;fBodyAcc-energy()-X&#x27;, &#x27;fBodyAcc-meanFreq()-Z&#x27;, &#x27;fBodyAcc-skewness()-X&#x27;, &#x27;fBodyAcc-bandsEnergy()-1,8&#x27;, &#x27;fBodyAcc-bandsEnergy()-1,16&#x27;, &#x27;fBodyAcc-bandsEnergy()-1,24&#x27;, &#x27;fBodyAccJerk-mean()-X&#x27;, &#x27;fBodyAccJerk-mad()-X&#x27;, &#x27;fBodyAccJerk-max()-X&#x27;, &#x27;fBodyAccJerk-sma()&#x27;, &#x27;fBodyAccJerk-energy()-X&#x27;, &#x27;fBodyAccJerk-entropy()-X&#x27;, &#x27;fBodyAccJerk-bandsEnergy()-1,8&#x27;, &#x27;fBodyAccJerk-bandsEnergy()-17,24&#x27;, &#x27;fBodyAccJerk-bandsEnergy()-1,16&#x27;, &#x27;fBodyAccJerk-bandsEnergy()-1,24&#x27;, &#x27;fBodyGyro-mad()-X&#x27;, &#x27;fBodyGyro-maxInds-X&#x27;, &#x27;fBodyGyro-maxInds-Z&#x27;, &#x27;fBodyGyro-meanFreq()-X&#x27;, &#x27;fBodyGyro-bandsEnergy()-1,16&#x27;, &#x27;fBodyAccMag-std()&#x27;, &#x27;fBodyAccMag-mad()&#x27;, &#x27;fBodyAccMag-max()&#x27;, &#x27;fBodyAccMag-sma()&#x27;, &#x27;fBodyAccMag-energy()&#x27;, &#x27;fBodyAccMag-entropy()&#x27;, &#x27;angle(X,gravityMean)&#x27;, &#x27;angle(Y,gravityMean)&#x27;, &#x27;angle(Z,gravityMean)&#x27;]</pre></div></div></div><div class=\"sk-serial\"><div class=\"sk-item\"><div class=\"sk-estimator sk-toggleable\"><input class=\"sk-toggleable__control sk-hidden--visually\" id=\"sk-estimator-id-54\" type=\"checkbox\" ><label for=\"sk-estimator-id-54\" class=\"sk-toggleable__label sk-toggleable__label-arrow\">StandardScaler</label><div class=\"sk-toggleable__content\"><pre>StandardScaler()</pre></div></div></div></div></div></div></div></div><div class=\"sk-item\"><div class=\"sk-estimator sk-toggleable\"><input class=\"sk-toggleable__control sk-hidden--visually\" id=\"sk-estimator-id-55\" type=\"checkbox\" ><label for=\"sk-estimator-id-55\" class=\"sk-toggleable__label sk-toggleable__label-arrow\">RandomForestClassifier</label><div class=\"sk-toggleable__content\"><pre>RandomForestClassifier(random_state=42)</pre></div></div></div></div></div></div></div>"
            ]
          },
          "metadata": {},
          "execution_count": 351
        }
      ]
    },
    {
      "cell_type": "code",
      "source": [
        "# 예측\n",
        "y_isdynamic_pred = pipeline_isdynamic_classification.predict(x_val)\n",
        "\n",
        "# 동적인 데이터를 분류하는 결과를 바탕으로 해당 데이터가 동적인 경우 동적 활동을 분류하는 모델과 정적 활동을 분류하는 모델을 선택\n",
        "dynamic_indices = np.where(y_isdynamic_pred == 1)[0]\n",
        "static_indices = np.where(y_isdynamic_pred == 0)[0]"
      ],
      "metadata": {
        "id": "UJwoOeJx8hy7"
      },
      "execution_count": 352,
      "outputs": []
    },
    {
      "cell_type": "code",
      "source": [
        "x_val.reset_index(drop=True, inplace=True)\n",
        "\n",
        "x_val_dynamic, x_val_static = x_val.iloc[dynamic_indices], x_val.iloc[static_indices]"
      ],
      "metadata": {
        "id": "Cj7DNdSI9UPV"
      },
      "execution_count": 353,
      "outputs": []
    },
    {
      "cell_type": "code",
      "source": [
        "# 동적 활동 분류 모델 구성\n",
        "pipeline_dynamic_activity = Pipeline([\n",
        "    ('preprocessor', preprocessor),\n",
        "    ('classifier', RandomForestClassifier(random_state=42))  # 랜덤 포레스트 분류기\n",
        "])\n",
        "\n",
        "# 정적 활동 분류 모델 구성\n",
        "pipeline_static_activity = Pipeline([\n",
        "    ('preprocessor', preprocessor),\n",
        "    ('classifier', LogisticRegression(random_state=42))  # 로지스틱 회귀 분류기\n",
        "])\n",
        "\n",
        "# 동적 활동 분류 모델 훈련\n",
        "pipeline_dynamic_activity.fit(x_train_dynamic, y_train_dynamic)\n",
        "\n",
        "# 정적 활동 분류 모델 훈련\n",
        "pipeline_static_activity.fit(x_train_static, y_train_static)\n",
        "\n",
        "# 예측\n",
        "y_dynamic_activity_pred = pipeline_dynamic_activity.predict(x_val_dynamic)\n",
        "y_static_activity_pred = pipeline_static_activity.predict(x_val_static)"
      ],
      "metadata": {
        "colab": {
          "base_uri": "https://localhost:8080/"
        },
        "id": "BvrJmWaN6TES",
        "outputId": "547f0dd5-9a0d-476d-da78-55b3ef5af609"
      },
      "execution_count": 354,
      "outputs": [
        {
          "output_type": "stream",
          "name": "stderr",
          "text": [
            "/usr/local/lib/python3.10/dist-packages/sklearn/linear_model/_logistic.py:458: ConvergenceWarning: lbfgs failed to converge (status=1):\n",
            "STOP: TOTAL NO. of ITERATIONS REACHED LIMIT.\n",
            "\n",
            "Increase the number of iterations (max_iter) or scale the data as shown in:\n",
            "    https://scikit-learn.org/stable/modules/preprocessing.html\n",
            "Please also refer to the documentation for alternative solver options:\n",
            "    https://scikit-learn.org/stable/modules/linear_model.html#logistic-regression\n",
            "  n_iter_i = _check_optimize_result(\n"
          ]
        }
      ]
    },
    {
      "cell_type": "code",
      "source": [
        "final_prediction = []\n",
        "d = 0\n",
        "s = 0\n",
        "\n",
        "for idx in range(len(y_isdynamic_pred)):\n",
        "    if y_isdynamic_pred[idx] == 1:\n",
        "        final_prediction.append(y_dynamic_activity_pred[d])\n",
        "        d += 1\n",
        "    else:\n",
        "        final_prediction.append(y_static_activity_pred[s])\n",
        "        s += 1"
      ],
      "metadata": {
        "id": "rYOYIJoF9mrS"
      },
      "execution_count": 355,
      "outputs": []
    },
    {
      "cell_type": "code",
      "source": [
        "ac = accuracy_score(final_prediction, y1_val)"
      ],
      "metadata": {
        "id": "VArnINjGDInL"
      },
      "execution_count": 356,
      "outputs": []
    },
    {
      "cell_type": "code",
      "source": [
        "print(ac)"
      ],
      "metadata": {
        "colab": {
          "base_uri": "https://localhost:8080/"
        },
        "id": "FUPMoZFSEPl1",
        "outputId": "02a05873-1279-4360-8a15-ee3eeb1fbbf8"
      },
      "execution_count": 357,
      "outputs": [
        {
          "output_type": "stream",
          "name": "stdout",
          "text": [
            "0.6652506372132541\n"
          ]
        }
      ]
    },
    {
      "cell_type": "code",
      "source": [
        "from sklearn.metrics import confusion_matrix, classification_report,accuracy_score\n",
        "\n",
        "print(confusion_matrix(y1_val, final_prediction))\n",
        "print(classification_report(y1_val, final_prediction))"
      ],
      "metadata": {
        "colab": {
          "base_uri": "https://localhost:8080/"
        },
        "id": "Zfl9iZxlnLG_",
        "outputId": "8a8b8ca2-6cdf-46ad-95b2-7a4cd654ee7d"
      },
      "execution_count": 358,
      "outputs": [
        {
          "output_type": "stream",
          "name": "stdout",
          "text": [
            "[[231   0   0   0   0   0]\n",
            " [  0 196   4   0   0   0]\n",
            " [  0  15 211   0   0   0]\n",
            " [  0   0   0   0 198   0]\n",
            " [  0   0   0   0 145   0]\n",
            " [  0   0   0   0 177   0]]\n",
            "                    precision    recall  f1-score   support\n",
            "\n",
            "            LAYING       1.00      1.00      1.00       231\n",
            "           SITTING       0.93      0.98      0.95       200\n",
            "          STANDING       0.98      0.93      0.96       226\n",
            "           WALKING       0.00      0.00      0.00       198\n",
            "WALKING_DOWNSTAIRS       0.28      1.00      0.44       145\n",
            "  WALKING_UPSTAIRS       0.00      0.00      0.00       177\n",
            "\n",
            "          accuracy                           0.67      1177\n",
            "         macro avg       0.53      0.65      0.56      1177\n",
            "      weighted avg       0.58      0.67      0.60      1177\n",
            "\n"
          ]
        },
        {
          "output_type": "stream",
          "name": "stderr",
          "text": [
            "/usr/local/lib/python3.10/dist-packages/sklearn/metrics/_classification.py:1344: UndefinedMetricWarning: Precision and F-score are ill-defined and being set to 0.0 in labels with no predicted samples. Use `zero_division` parameter to control this behavior.\n",
            "  _warn_prf(average, modifier, msg_start, len(result))\n",
            "/usr/local/lib/python3.10/dist-packages/sklearn/metrics/_classification.py:1344: UndefinedMetricWarning: Precision and F-score are ill-defined and being set to 0.0 in labels with no predicted samples. Use `zero_division` parameter to control this behavior.\n",
            "  _warn_prf(average, modifier, msg_start, len(result))\n",
            "/usr/local/lib/python3.10/dist-packages/sklearn/metrics/_classification.py:1344: UndefinedMetricWarning: Precision and F-score are ill-defined and being set to 0.0 in labels with no predicted samples. Use `zero_division` parameter to control this behavior.\n",
            "  _warn_prf(average, modifier, msg_start, len(result))\n"
          ]
        }
      ]
    },
    {
      "cell_type": "markdown",
      "source": [
        "### 테스트 데이터"
      ],
      "metadata": {
        "id": "RZvNH-G_UZ9s"
      }
    },
    {
      "cell_type": "code",
      "source": [
        "new_data = pd.read_csv('/content/drive/MyDrive/KTaivle/3차미니프로젝트/data01_test.csv')\n",
        "\n",
        "new_data.drop(columns=[\"subject\"], inplace=True)\n",
        "new_data['Activity_dynamic'] = new_data['Activity'].isin(['WALKING', 'WALKING_UPSTAIRS', 'WALKING_DOWNSTAIRS']).astype(int)\n",
        "columns_to_drop = [col for col in new_data.columns if col not in top_n_features]\n",
        "new_data.drop(columns=columns_to_drop, inplace=True)\n",
        "\n",
        "test_x = new_data.drop(columns=['Activity', 'Activity_dynamic'])\n",
        "\n",
        "test_y1 = new_data['Activity']\n",
        "test_y2 = new_data['Activity_dynamic']"
      ],
      "metadata": {
        "id": "NvGIyNVrEjws"
      },
      "execution_count": 359,
      "outputs": []
    },
    {
      "cell_type": "code",
      "source": [
        "numeric_features = [col for col in test_x.columns]"
      ],
      "metadata": {
        "id": "SpjAaXaoE0fX"
      },
      "execution_count": 266,
      "outputs": []
    },
    {
      "cell_type": "code",
      "source": [
        "test_isdynamic_pred = pipeline_isdynamic_classification.predict(test_x)\n",
        "\n",
        "test_dynamic_indices = np.where(test_isdynamic_pred == 1)[0]\n",
        "test_static_indices = np.where(test_isdynamic_pred == 0)[0]"
      ],
      "metadata": {
        "id": "WTUyk5hOE5eU"
      },
      "execution_count": 360,
      "outputs": []
    },
    {
      "cell_type": "code",
      "source": [
        "test_x.reset_index(drop=True, inplace=True)\n",
        "\n",
        "test_x_dynamic, test_x_static = test_x.iloc[test_dynamic_indices], test_x.iloc[test_static_indices]"
      ],
      "metadata": {
        "id": "W8I5lxPrFG7m"
      },
      "execution_count": 361,
      "outputs": []
    },
    {
      "cell_type": "code",
      "source": [
        "test_dynamic_activity_pred = pipeline_dynamic_activity.predict(test_x_dynamic)\n",
        "test_static_activity_pred = pipeline_static_activity.predict(test_x_static)"
      ],
      "metadata": {
        "id": "EggRgL9BFSV_"
      },
      "execution_count": 362,
      "outputs": []
    },
    {
      "cell_type": "code",
      "source": [
        "test_final_prediction = []\n",
        "d = 0\n",
        "s = 0\n",
        "\n",
        "for idx in range(len(test_isdynamic_pred)):\n",
        "    if test_isdynamic_pred[idx] == 1:\n",
        "        test_final_prediction.append(test_dynamic_activity_pred[d])\n",
        "        d += 1\n",
        "    else:\n",
        "        test_final_prediction.append(test_static_activity_pred[s])\n",
        "        s += 1"
      ],
      "metadata": {
        "id": "xsei-GOBFcFw"
      },
      "execution_count": 363,
      "outputs": []
    },
    {
      "cell_type": "code",
      "source": [
        "test_ac = accuracy_score(test_final_prediction, test_y1)"
      ],
      "metadata": {
        "id": "xNxhjrGEGBCX"
      },
      "execution_count": 364,
      "outputs": []
    },
    {
      "cell_type": "code",
      "source": [
        "print(test_ac)"
      ],
      "metadata": {
        "colab": {
          "base_uri": "https://localhost:8080/"
        },
        "id": "tVjAbw1eGEq1",
        "outputId": "db381b40-5096-469d-9152-38cc0ce93b2f"
      },
      "execution_count": 365,
      "outputs": [
        {
          "output_type": "stream",
          "name": "stdout",
          "text": [
            "0.4738273283480625\n"
          ]
        }
      ]
    },
    {
      "cell_type": "code",
      "source": [
        "print(confusion_matrix(test_y1, test_final_prediction))\n",
        "print(classification_report(test_y1, test_final_prediction))"
      ],
      "metadata": {
        "colab": {
          "base_uri": "https://localhost:8080/"
        },
        "id": "29vs1EfinjWB",
        "outputId": "1bcefe38-0d3e-49fa-8c06-1ab6696dcec5"
      },
      "execution_count": 366,
      "outputs": [
        {
          "output_type": "stream",
          "name": "stdout",
          "text": [
            "[[211   0   0  42  15  24]\n",
            " [  0 145  10  56   9  34]\n",
            " [  0  11 146  82   3  45]\n",
            " [  0   0   0   0 228   0]\n",
            " [  0   0   0   0 195   0]\n",
            " [  0   0   0   0 215   0]]\n",
            "                    precision    recall  f1-score   support\n",
            "\n",
            "            LAYING       1.00      0.72      0.84       292\n",
            "           SITTING       0.93      0.57      0.71       254\n",
            "          STANDING       0.94      0.51      0.66       287\n",
            "           WALKING       0.00      0.00      0.00       228\n",
            "WALKING_DOWNSTAIRS       0.29      1.00      0.45       195\n",
            "  WALKING_UPSTAIRS       0.00      0.00      0.00       215\n",
            "\n",
            "          accuracy                           0.47      1471\n",
            "         macro avg       0.53      0.47      0.44      1471\n",
            "      weighted avg       0.58      0.47      0.48      1471\n",
            "\n"
          ]
        }
      ]
    }
  ],
  "metadata": {
    "colab": {
      "provenance": []
    },
    "kernelspec": {
      "display_name": "Python 3",
      "name": "python3"
    },
    "language_info": {
      "name": "python"
    }
  },
  "nbformat": 4,
  "nbformat_minor": 0
}
