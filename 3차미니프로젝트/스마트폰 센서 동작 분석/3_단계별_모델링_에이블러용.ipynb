{
  "cells": [
    {
      "cell_type": "markdown",
      "metadata": {
        "id": "NbI_RoQ9AP5r"
      },
      "source": [
        "#**스마트폰 센서 데이터 기반 모션 분류**\n",
        "# 단계3 : 단계별 모델링\n"
      ]
    },
    {
      "cell_type": "markdown",
      "metadata": {
        "id": "D67PlTu4JGAY"
      },
      "source": [
        "## 0.미션"
      ]
    },
    {
      "cell_type": "markdown",
      "metadata": {
        "id": "wc1FlP4E09oQ"
      },
      "source": [
        "단계별로 나눠서 모델링을 수행하고자 합니다.  \n",
        "\n",
        "* 단계1 : 정적(0), 동적(1) 행동 분류 모델 생성\n",
        "* 단계2 : 세부 동작에 대한 분류모델 생성\n",
        "    * 단계1 모델에서 0으로 예측 -> 정적 행동 3가지 분류 모델링\n",
        "    * 단계1 모델에서 1으로 예측 -> 동적 행동 3가지 분류 모델링\n",
        "* 모델 통합\n",
        "    * 두 단계 모델을 통합하고, 새로운 데이터에 대해서 최종 예측결과와 성능평가가 나오도록 함수로 만들기\n",
        "* 성능 비교\n",
        "    * 기본 모델링의 성능과 비교\n",
        "    * 모든 모델링은 [다양한 알고리즘 + 성능 튜닝]을 수행해야 합니다.\n"
      ]
    },
    {
      "cell_type": "markdown",
      "metadata": {
        "id": "ZSRC8sG-X5DG"
      },
      "source": [
        "## 1.환경설정"
      ]
    },
    {
      "cell_type": "markdown",
      "metadata": {
        "id": "gIE0bM9rX5DH"
      },
      "source": [
        "### (1) 라이브러리 불러오기"
      ]
    },
    {
      "cell_type": "markdown",
      "metadata": {
        "id": "I_rCs78QJZmI"
      },
      "source": [
        "* 세부 요구사항\n",
        "    - 기본적으로 필요한 라이브러리를 import 하도록 코드가 작성되어 있습니다.\n",
        "    - 필요하다고 판단되는 라이브러리를 추가하세요."
      ]
    },
    {
      "cell_type": "code",
      "source": [
        "from google.colab import drive\n",
        "drive.mount('/content/drive')"
      ],
      "metadata": {
        "colab": {
          "base_uri": "https://localhost:8080/"
        },
        "id": "JY3vpxPtmf1X",
        "outputId": "90bdd19d-e8ef-4fd1-a8c8-f0916d3bdd13"
      },
      "execution_count": 1,
      "outputs": [
        {
          "output_type": "stream",
          "name": "stdout",
          "text": [
            "Mounted at /content/drive\n"
          ]
        }
      ]
    },
    {
      "cell_type": "code",
      "execution_count": 2,
      "metadata": {
        "id": "nTVo8GkVX5DI"
      },
      "outputs": [],
      "source": [
        "import pandas as pd\n",
        "import numpy as np\n",
        "import matplotlib.pyplot as plt\n",
        "import seaborn as sns\n",
        "\n",
        "# 필요하다고 판단되는 라이브러리를 추가하세요.\n",
        "\n",
        "\n",
        "\n"
      ]
    },
    {
      "cell_type": "markdown",
      "metadata": {
        "id": "CJgfVor0X5DJ"
      },
      "source": [
        "### (2) 데이터 불러오기"
      ]
    },
    {
      "cell_type": "markdown",
      "metadata": {
        "id": "9OkifR5rnr2D"
      },
      "source": [
        "* 주어진 데이터셋\n",
        "    * data01_train.csv : 학습 및 검증용\n",
        "\n",
        " <br/>  \n",
        "\n",
        "* 세부 요구사항\n",
        "    - data01_train.csv 를 불러와 'data' 이름으로 저장합니다.\n",
        "        - data에서 변수 subject는 삭제합니다.\n",
        "    - data01_test.csv 를 불러와 'new_data' 이름으로 저장합니다.\n"
      ]
    },
    {
      "cell_type": "code",
      "execution_count": 3,
      "metadata": {
        "id": "9CSs-jf6iVJT"
      },
      "outputs": [],
      "source": [
        "data = pd.read_csv('/content/drive/MyDrive/KTaivle/3차미니프로젝트/data01_train.csv')\n",
        "new_data = pd.read_csv('/content/drive/MyDrive/KTaivle/3차미니프로젝트/data01_test.csv')"
      ]
    },
    {
      "cell_type": "code",
      "execution_count": 4,
      "metadata": {
        "id": "YnDdnoyHiVGZ"
      },
      "outputs": [],
      "source": [
        "data.drop(columns=[\"subject\"], inplace=True)"
      ]
    },
    {
      "cell_type": "code",
      "source": [
        "new_data.drop(columns=[\"subject\"], inplace=True)"
      ],
      "metadata": {
        "id": "QvwusBoruYp1"
      },
      "execution_count": 34,
      "outputs": []
    },
    {
      "cell_type": "markdown",
      "metadata": {
        "id": "O38e5xai7SIW"
      },
      "source": [
        "## 2.데이터 전처리"
      ]
    },
    {
      "cell_type": "markdown",
      "metadata": {
        "id": "uZwtSLSqcL7G"
      },
      "source": [
        "* 세부 요구사항\n",
        "    - Label 추가 : data 에 Activity_dynamic 를 추가합니다. Activity_dynamic은 과제1에서 is_dynamic과 동일한 값입니다.\n",
        "    - x와 y1, y2로 분할하시오.\n",
        "        * y1 : Activity\n",
        "        * y2 : Activity_dynamic\n",
        "    - train : val = 8 : 2 혹은 7 : 3\n",
        "    - random_state 옵션을 사용하여 다른 모델과 비교를 위해 성능이 재현되도록 합니다."
      ]
    },
    {
      "cell_type": "code",
      "source": [
        "new_data['Activity_dynamic'] = new_data['Activity'].isin(['WALKING', 'WALKING_UPSTAIRS', 'WALKING_DOWNSTAIRS']).astype(int)"
      ],
      "metadata": {
        "id": "JRV6yPt8tV7L"
      },
      "execution_count": 25,
      "outputs": []
    },
    {
      "cell_type": "code",
      "execution_count": 6,
      "metadata": {
        "id": "Bs_FHwUuiWWv"
      },
      "outputs": [],
      "source": [
        "data['Activity_dynamic'] = data['Activity'].isin(['WALKING', 'WALKING_UPSTAIRS', 'WALKING_DOWNSTAIRS']).astype(int)"
      ]
    },
    {
      "cell_type": "code",
      "execution_count": 8,
      "metadata": {
        "id": "O0nbejEWiWT1"
      },
      "outputs": [],
      "source": [
        "from sklearn.model_selection import train_test_split\n",
        "\n",
        "x = data.drop(columns=['Activity', 'Activity_dynamic'])\n",
        "y1 = data['Activity']\n",
        "y2 = data['Activity_dynamic']\n",
        "\n",
        "x_train, x_val, y1_train, y1_val = train_test_split(x, y1, test_size=0.2, random_state=42)\n",
        "_, _, y2_train, y2_val = train_test_split(x, y2, test_size=0.2, random_state=42)"
      ]
    },
    {
      "cell_type": "code",
      "source": [
        "test_x = new_data.drop(columns=['Activity', 'Activity_dynamic'])\n",
        "test_y1 = new_data['Activity']\n",
        "test_y2 = new_data['Activity_dynamic']"
      ],
      "metadata": {
        "id": "YfSK5vEhtahr"
      },
      "execution_count": 48,
      "outputs": []
    },
    {
      "cell_type": "markdown",
      "metadata": {
        "id": "bue7ZTLABQzi"
      },
      "source": [
        "## **3.단계별 모델링**"
      ]
    },
    {
      "cell_type": "markdown",
      "metadata": {
        "id": "cuQX1S5q39Ih"
      },
      "source": [
        "![](https://github.com/DA4BAM/image/blob/main/step%20by%20step.png?raw=true)"
      ]
    },
    {
      "cell_type": "markdown",
      "metadata": {
        "id": "dpEHt7u4CXlb"
      },
      "source": [
        "### (1) 단계1 : 정적/동적 행동 분류 모델"
      ]
    },
    {
      "cell_type": "markdown",
      "metadata": {
        "id": "8onfbGBbh1jr"
      },
      "source": [
        "* 세부 요구사항\n",
        "    * 정적 행동(Laying, Sitting, Standing)과 동적 행동(동적 : Walking, Walking-Up, Walking-Down)을 구분하는 모델 생성.\n",
        "    * 몇가지 모델을 만들고 가장 성능이 좋은 모델을 선정하시오."
      ]
    },
    {
      "cell_type": "markdown",
      "metadata": {
        "id": "zUrmn6T9ic5o"
      },
      "source": [
        "#### 1) 알고리즘1 :"
      ]
    },
    {
      "cell_type": "code",
      "execution_count": 49,
      "metadata": {
        "id": "Dl2e52CSiZEa",
        "colab": {
          "base_uri": "https://localhost:8080/"
        },
        "outputId": "967383e6-f7a2-4ba5-bbd2-1ce9c84f6952"
      },
      "outputs": [
        {
          "output_type": "stream",
          "name": "stdout",
          "text": [
            "RandomForest Activity Model Accuracy: 1.0\n"
          ]
        }
      ],
      "source": [
        "from sklearn.ensemble import RandomForestClassifier\n",
        "from sklearn.metrics import accuracy_score\n",
        "\n",
        "model_rf = RandomForestClassifier(random_state=42)\n",
        "model_rf.fit(x_train, y2_train)\n",
        "\n",
        "pred_rf = model_rf.predict(x_val)\n",
        "\n",
        "accuracy_rf = accuracy_score(y2_val, pred_rf)\n",
        "\n",
        "print(\"RandomForest Activity Model Accuracy:\", accuracy_rf)"
      ]
    },
    {
      "cell_type": "code",
      "source": [
        "t_pred_rf = model_rf.predict(test_x)\n",
        "test_accuracy_rf = accuracy_score(test_y2, t_pred_rf)\n",
        "print(\"TEST RandomForest Activity Model Accuracy:\", test_accuracy_rf)"
      ],
      "metadata": {
        "colab": {
          "base_uri": "https://localhost:8080/"
        },
        "id": "2aBb4TKtt0sv",
        "outputId": "dedfe0a8-8cb3-4f34-81bd-814d0d00cc01"
      },
      "execution_count": 50,
      "outputs": [
        {
          "output_type": "stream",
          "name": "stdout",
          "text": [
            "TEST RandomForest Activity Model Accuracy: 1.0\n"
          ]
        }
      ]
    },
    {
      "cell_type": "markdown",
      "metadata": {
        "id": "yOmrlWjMihf3"
      },
      "source": [
        "#### 2) 알고리즘2 :"
      ]
    },
    {
      "cell_type": "code",
      "execution_count": 51,
      "metadata": {
        "id": "aPFlJFZiihf3",
        "colab": {
          "base_uri": "https://localhost:8080/"
        },
        "outputId": "0f222ada-c762-498e-c34f-75de73111cd2"
      },
      "outputs": [
        {
          "output_type": "stream",
          "name": "stdout",
          "text": [
            "Logistic Regression Activity Model Accuracy: 1.0\n"
          ]
        }
      ],
      "source": [
        "from sklearn.linear_model import LogisticRegression\n",
        "\n",
        "model_lr = LogisticRegression(random_state=42)\n",
        "\n",
        "model_lr.fit(x_train, y2_train)\n",
        "\n",
        "pred_lr = model_lr.predict(x_val)\n",
        "\n",
        "accuracy_lr = accuracy_score(y2_val, pred_lr)\n",
        "\n",
        "print(\"Logistic Regression Activity Model Accuracy:\", accuracy_lr)"
      ]
    },
    {
      "cell_type": "code",
      "source": [
        "t_pred_lr = model_lr.predict(test_x)\n",
        "test_accuracy_lr = accuracy_score(test_y2, t_pred_lr)\n",
        "print(\"TEST Logistic Regression Activity Model Accuracy:\", test_accuracy_lr)"
      ],
      "metadata": {
        "colab": {
          "base_uri": "https://localhost:8080/"
        },
        "id": "g_wLb9bsujGY",
        "outputId": "9ad8f3fe-871f-4176-99b5-24498854e415"
      },
      "execution_count": 52,
      "outputs": [
        {
          "output_type": "stream",
          "name": "stdout",
          "text": [
            "TEST Logistic Regression Activity Model Accuracy: 1.0\n"
          ]
        }
      ]
    },
    {
      "cell_type": "markdown",
      "source": [
        "#### 3) 알고리즘3 :"
      ],
      "metadata": {
        "id": "JQkXxquipFun"
      }
    },
    {
      "cell_type": "code",
      "execution_count": 53,
      "metadata": {
        "id": "Bsgtsww9ihf4",
        "colab": {
          "base_uri": "https://localhost:8080/"
        },
        "outputId": "226af294-d0ff-4325-999b-f3b7dae092fd"
      },
      "outputs": [
        {
          "output_type": "stream",
          "name": "stdout",
          "text": [
            "SVM Activity Model Accuracy: 1.0\n"
          ]
        }
      ],
      "source": [
        "from sklearn.svm import SVC\n",
        "\n",
        "model_svm = SVC(random_state=42)\n",
        "\n",
        "model_svm.fit(x_train, y2_train)\n",
        "\n",
        "pred_svm = model_svm.predict(x_val)\n",
        "\n",
        "accuracy_svm = accuracy_score(y2_val, pred_svm)\n",
        "\n",
        "print(\"SVM Activity Model Accuracy:\", accuracy_svm)"
      ]
    },
    {
      "cell_type": "code",
      "source": [
        "t_pred_svm = model_svm.predict(test_x)\n",
        "test_accuracy_svm = accuracy_score(test_y2, t_pred_svm)\n",
        "print(\"TEST SVM Activity Model Accuracy:\", test_accuracy_svm)"
      ],
      "metadata": {
        "colab": {
          "base_uri": "https://localhost:8080/"
        },
        "id": "f3bJTFDzuuqf",
        "outputId": "5eb742a2-3a99-4545-c3ee-f91cef3b06af"
      },
      "execution_count": 54,
      "outputs": [
        {
          "output_type": "stream",
          "name": "stdout",
          "text": [
            "TEST SVM Activity Model Accuracy: 1.0\n"
          ]
        }
      ]
    },
    {
      "cell_type": "markdown",
      "metadata": {
        "id": "9sTQeLpjCfV9"
      },
      "source": [
        "### (2) 단계2-1 : 정적 동작 세부 분류"
      ]
    },
    {
      "cell_type": "markdown",
      "metadata": {
        "id": "tr0QtSuTihs0"
      },
      "source": [
        "* 세부 요구사항\n",
        "    * 정적 행동(Laying, Sitting, Standing)인 데이터 추출\n",
        "    * Laying, Sitting, Standing 를 분류하는 모델을 생성\n",
        "    * 몇가지 모델을 만들고 가장 성능이 좋은 모델을 선정하시오."
      ]
    },
    {
      "cell_type": "code",
      "source": [
        "subset_data = data[data['Activity'].isin(['LAYING', 'SITTING', 'STANDING'])]\n",
        "\n",
        "X_subset = subset_data.drop(columns=['Activity', 'Activity_dynamic'])\n",
        "y_subset = subset_data['Activity']\n",
        "\n",
        "X_train, X_val, y_train, y_val = train_test_split(X_subset, y_subset, test_size=0.2, random_state=42)"
      ],
      "metadata": {
        "id": "-ky2Ax9sps8T"
      },
      "execution_count": 14,
      "outputs": []
    },
    {
      "cell_type": "code",
      "source": [
        "t_subset_data = new_data[data['Activity'].isin(['LAYING', 'SITTING', 'STANDING'])]\n",
        "\n",
        "t_X_subset = t_subset_data.drop(columns=['Activity', 'Activity_dynamic'])\n",
        "t_y_subset = t_subset_data['Activity']"
      ],
      "metadata": {
        "colab": {
          "base_uri": "https://localhost:8080/"
        },
        "id": "ruseEaTRvYDK",
        "outputId": "f0c88be7-6ed5-4659-d0e4-185bd8dc2cff"
      },
      "execution_count": 44,
      "outputs": [
        {
          "output_type": "stream",
          "name": "stderr",
          "text": [
            "<ipython-input-44-ce3921c79850>:1: UserWarning: Boolean Series key will be reindexed to match DataFrame index.\n",
            "  t_subset_data = new_data[data['Activity'].isin(['LAYING', 'SITTING', 'STANDING'])]\n"
          ]
        }
      ]
    },
    {
      "cell_type": "code",
      "execution_count": 18,
      "metadata": {
        "id": "AEC-Lh17ik7d",
        "colab": {
          "base_uri": "https://localhost:8080/"
        },
        "outputId": "c6680463-a304-4d21-d35d-b08951445fd5"
      },
      "outputs": [
        {
          "output_type": "stream",
          "name": "stdout",
          "text": [
            "RandomForest Model Accuracy: 0.9752704791344667\n"
          ]
        }
      ],
      "source": [
        "rf_classifier = RandomForestClassifier(random_state=42)\n",
        "\n",
        "rf_classifier.fit(X_train, y_train)\n",
        "\n",
        "y_pred = rf_classifier.predict(X_val)\n",
        "\n",
        "accuracy = accuracy_score(y_val, y_pred)\n",
        "\n",
        "print(\"RandomForest Model Accuracy:\", accuracy)"
      ]
    },
    {
      "cell_type": "code",
      "source": [
        "t_y_pred = rf_classifier.predict(t_X_subset)\n",
        "t_accuracy = accuracy_score(t_y_subset, t_y_pred)\n",
        "\n",
        "print(\"TEST RandomForest Model Accuracy:\", t_accuracy)"
      ],
      "metadata": {
        "colab": {
          "base_uri": "https://localhost:8080/"
        },
        "id": "eZj3LSFAvnh9",
        "outputId": "7b60d17c-275d-4711-b920-0c61dcc3ca09"
      },
      "execution_count": 45,
      "outputs": [
        {
          "output_type": "stream",
          "name": "stdout",
          "text": [
            "TEST RandomForest Model Accuracy: 0.4348404255319149\n"
          ]
        }
      ]
    },
    {
      "cell_type": "code",
      "execution_count": 19,
      "metadata": {
        "id": "ABa7cIeQik4l",
        "colab": {
          "base_uri": "https://localhost:8080/"
        },
        "outputId": "c50c5c15-7de5-4f88-e2be-bf48827f833c"
      },
      "outputs": [
        {
          "output_type": "stream",
          "name": "stdout",
          "text": [
            "LogisticRegression Model Accuracy: 0.9752704791344667\n"
          ]
        },
        {
          "output_type": "stream",
          "name": "stderr",
          "text": [
            "/usr/local/lib/python3.10/dist-packages/sklearn/linear_model/_logistic.py:458: ConvergenceWarning: lbfgs failed to converge (status=1):\n",
            "STOP: TOTAL NO. of ITERATIONS REACHED LIMIT.\n",
            "\n",
            "Increase the number of iterations (max_iter) or scale the data as shown in:\n",
            "    https://scikit-learn.org/stable/modules/preprocessing.html\n",
            "Please also refer to the documentation for alternative solver options:\n",
            "    https://scikit-learn.org/stable/modules/linear_model.html#logistic-regression\n",
            "  n_iter_i = _check_optimize_result(\n"
          ]
        }
      ],
      "source": [
        "lr_classifier = LogisticRegression(random_state=42)\n",
        "\n",
        "lr_classifier.fit(X_train, y_train)\n",
        "\n",
        "y_pred = lr_classifier.predict(X_val)\n",
        "\n",
        "accuracy = accuracy_score(y_val, y_pred)\n",
        "\n",
        "print(\"LogisticRegression Model Accuracy:\", accuracy)"
      ]
    },
    {
      "cell_type": "code",
      "source": [
        "t_y_pred = lr_classifier.predict(t_X_subset)\n",
        "t_accuracy = accuracy_score(t_y_subset, t_y_pred)\n",
        "\n",
        "print(\"TEST LogisticRegression Model Accuracy:\", t_accuracy)"
      ],
      "metadata": {
        "colab": {
          "base_uri": "https://localhost:8080/"
        },
        "id": "7KTwIaEyv7mz",
        "outputId": "3f424c87-9e53-4cfb-81ab-8cde339ae975"
      },
      "execution_count": 46,
      "outputs": [
        {
          "output_type": "stream",
          "name": "stdout",
          "text": [
            "TEST LogisticRegression Model Accuracy: 0.44148936170212766\n"
          ]
        }
      ]
    },
    {
      "cell_type": "code",
      "execution_count": 20,
      "metadata": {
        "id": "39ITa0Xjik1t",
        "colab": {
          "base_uri": "https://localhost:8080/"
        },
        "outputId": "5a69485d-d702-4c77-be5a-3418e4491dfa"
      },
      "outputs": [
        {
          "output_type": "stream",
          "name": "stdout",
          "text": [
            "SVC Model Accuracy: 0.9489953632148377\n"
          ]
        }
      ],
      "source": [
        "svm_classifier = SVC(random_state=42)\n",
        "\n",
        "svm_classifier.fit(X_train, y_train)\n",
        "\n",
        "y_pred = svm_classifier.predict(X_val)\n",
        "\n",
        "accuracy = accuracy_score(y_val, y_pred)\n",
        "\n",
        "print(\"SVC Model Accuracy:\", accuracy)"
      ]
    },
    {
      "cell_type": "code",
      "source": [
        "t_y_pred = svm_classifier.predict(t_X_subset)\n",
        "t_accuracy = accuracy_score(t_y_subset, t_y_pred)\n",
        "\n",
        "print(\"TEST LogisticRegression Model Accuracy:\", t_accuracy)"
      ],
      "metadata": {
        "colab": {
          "base_uri": "https://localhost:8080/"
        },
        "id": "Qrg0xYC7wCPr",
        "outputId": "15114351-038c-4c28-a6dd-c282686a4307"
      },
      "execution_count": 47,
      "outputs": [
        {
          "output_type": "stream",
          "name": "stdout",
          "text": [
            "TEST LogisticRegression Model Accuracy: 0.4401595744680851\n"
          ]
        }
      ]
    },
    {
      "cell_type": "markdown",
      "metadata": {
        "id": "jjNRQJpRC045"
      },
      "source": [
        "### (3) 단계2-2 : 동적 동작 세부 분류"
      ]
    },
    {
      "cell_type": "markdown",
      "metadata": {
        "id": "Rsy1RELi2qfF"
      },
      "source": [
        "* 세부 요구사항\n",
        "    * 동적 행동(Walking, Walking Upstairs, Walking Downstairs)인 데이터 추출\n",
        "    * Walking, Walking Upstairs, Walking Downstairs 를 분류하는 모델을 생성\n",
        "    * 몇가지 모델을 만들고 가장 성능이 좋은 모델을 선정하시오."
      ]
    },
    {
      "cell_type": "code",
      "execution_count": 21,
      "metadata": {
        "id": "UUZKNQ1Mima2"
      },
      "outputs": [],
      "source": [
        "dynamic_data = data[data['Activity'].isin(['WALKING', 'WALKING_UPSTAIRS', 'WALKING_DOWNSTAIRS'])]\n",
        "\n",
        "X_subset = dynamic_data.drop(columns=['Activity', 'Activity_dynamic'])\n",
        "y_subset = dynamic_data['Activity']\n",
        "\n",
        "X_train, X_val, y_train, y_val = train_test_split(X_subset, y_subset, test_size=0.2, random_state=42)"
      ]
    },
    {
      "cell_type": "code",
      "source": [
        "t_dynamic_data = new_data[data['Activity'].isin(['WALKING', 'WALKING_UPSTAIRS', 'WALKING_DOWNSTAIRS'])]\n",
        "\n",
        "t_X_subset = dynamic_data.drop(columns=['Activity', 'Activity_dynamic'])\n",
        "t_y_subset = dynamic_data['Activity']"
      ],
      "metadata": {
        "colab": {
          "base_uri": "https://localhost:8080/"
        },
        "id": "lwJq9zjTwyJF",
        "outputId": "508794c6-4a04-4c50-fe3e-d8b0c17503da"
      },
      "execution_count": 55,
      "outputs": [
        {
          "output_type": "stream",
          "name": "stderr",
          "text": [
            "<ipython-input-55-bd25a0e3f503>:1: UserWarning: Boolean Series key will be reindexed to match DataFrame index.\n",
            "  t_dynamic_data = new_data[data['Activity'].isin(['WALKING', 'WALKING_UPSTAIRS', 'WALKING_DOWNSTAIRS'])]\n"
          ]
        }
      ]
    },
    {
      "cell_type": "code",
      "execution_count": 56,
      "metadata": {
        "id": "eOMJHLs1imYS",
        "colab": {
          "base_uri": "https://localhost:8080/"
        },
        "outputId": "4a9e44f6-940c-4d63-d2a7-db728b776b1f"
      },
      "outputs": [
        {
          "output_type": "stream",
          "name": "stdout",
          "text": [
            "RandomForest Model Accuracy: 0.9886792452830189\n"
          ]
        }
      ],
      "source": [
        "rf_classifier = RandomForestClassifier(random_state=42)\n",
        "\n",
        "rf_classifier.fit(X_train, y_train)\n",
        "\n",
        "y_pred = rf_classifier.predict(X_val)\n",
        "\n",
        "accuracy = accuracy_score(y_val, y_pred)\n",
        "\n",
        "print(\"RandomForest Model Accuracy:\", accuracy)"
      ]
    },
    {
      "cell_type": "code",
      "source": [
        "t_y_pred = rf_classifier.predict(t_X_subset)\n",
        "\n",
        "t_accuracy = accuracy_score(t_y_subset, t_y_pred)\n",
        "\n",
        "print(\"TEST RandomForest Model Accuracy:\", t_accuracy)"
      ],
      "metadata": {
        "colab": {
          "base_uri": "https://localhost:8080/"
        },
        "id": "jSnxhijcw3sU",
        "outputId": "6be2a002-b9ef-4246-cafe-e371896fa547"
      },
      "execution_count": 57,
      "outputs": [
        {
          "output_type": "stream",
          "name": "stdout",
          "text": [
            "TEST RandomForest Model Accuracy: 0.9977332829618436\n"
          ]
        }
      ]
    },
    {
      "cell_type": "code",
      "execution_count": 58,
      "metadata": {
        "id": "JWzMEa_vimVg",
        "colab": {
          "base_uri": "https://localhost:8080/"
        },
        "outputId": "6e559b29-e1a5-45a2-cbf1-15431d91fafe"
      },
      "outputs": [
        {
          "output_type": "stream",
          "name": "stdout",
          "text": [
            "LogisticRegression Model Accuracy: 0.9924528301886792\n"
          ]
        },
        {
          "output_type": "stream",
          "name": "stderr",
          "text": [
            "/usr/local/lib/python3.10/dist-packages/sklearn/linear_model/_logistic.py:458: ConvergenceWarning: lbfgs failed to converge (status=1):\n",
            "STOP: TOTAL NO. of ITERATIONS REACHED LIMIT.\n",
            "\n",
            "Increase the number of iterations (max_iter) or scale the data as shown in:\n",
            "    https://scikit-learn.org/stable/modules/preprocessing.html\n",
            "Please also refer to the documentation for alternative solver options:\n",
            "    https://scikit-learn.org/stable/modules/linear_model.html#logistic-regression\n",
            "  n_iter_i = _check_optimize_result(\n"
          ]
        }
      ],
      "source": [
        "lr_classifier = LogisticRegression(random_state=42)\n",
        "\n",
        "lr_classifier.fit(X_train, y_train)\n",
        "\n",
        "y_pred = lr_classifier.predict(X_val)\n",
        "\n",
        "accuracy = accuracy_score(y_val, y_pred)\n",
        "\n",
        "print(\"LogisticRegression Model Accuracy:\", accuracy)"
      ]
    },
    {
      "cell_type": "code",
      "source": [
        "t_y_pred = lr_classifier.predict(t_X_subset)\n",
        "\n",
        "t_accuracy = accuracy_score(t_y_subset, t_y_pred)\n",
        "\n",
        "print(\"TEST RandomForest Model Accuracy:\", t_accuracy)"
      ],
      "metadata": {
        "colab": {
          "base_uri": "https://localhost:8080/"
        },
        "id": "lNZH--OpxIo8",
        "outputId": "024e8086-1931-4d59-fd61-b370a39d588d"
      },
      "execution_count": 59,
      "outputs": [
        {
          "output_type": "stream",
          "name": "stdout",
          "text": [
            "TEST RandomForest Model Accuracy: 0.9984888553078958\n"
          ]
        }
      ]
    },
    {
      "cell_type": "code",
      "execution_count": 24,
      "metadata": {
        "id": "lXhP4kVNimSN",
        "colab": {
          "base_uri": "https://localhost:8080/"
        },
        "outputId": "19edb172-c117-45ff-a11e-b2c4e21c83fd"
      },
      "outputs": [
        {
          "output_type": "stream",
          "name": "stdout",
          "text": [
            "SVC Model Accuracy: 0.9905660377358491\n"
          ]
        }
      ],
      "source": [
        "svm_classifier = SVC(random_state=42)\n",
        "\n",
        "svm_classifier.fit(X_train, y_train)\n",
        "\n",
        "y_pred = svm_classifier.predict(X_val)\n",
        "\n",
        "accuracy = accuracy_score(y_val, y_pred)\n",
        "\n",
        "print(\"SVC Model Accuracy:\", accuracy)"
      ]
    },
    {
      "cell_type": "code",
      "source": [
        "t_y_pred = svm_classifier.predict(t_X_subset)\n",
        "\n",
        "t_accuracy = accuracy_score(t_y_subset, t_y_pred)\n",
        "\n",
        "print(\"TEST RandomForest Model Accuracy:\", t_accuracy)"
      ],
      "metadata": {
        "colab": {
          "base_uri": "https://localhost:8080/"
        },
        "id": "ZVwrlUN_xOIf",
        "outputId": "033691e7-8547-430f-cb2f-41ddbe85ab03"
      },
      "execution_count": 60,
      "outputs": [
        {
          "output_type": "stream",
          "name": "stdout",
          "text": [
            "TEST RandomForest Model Accuracy: 0.9965999244427654\n"
          ]
        }
      ]
    },
    {
      "cell_type": "markdown",
      "metadata": {
        "id": "ShM5xWkwC3YE"
      },
      "source": [
        "### [선택사항] (4) 분류 모델 합치기\n"
      ]
    },
    {
      "cell_type": "markdown",
      "metadata": {
        "id": "K3i2vaxQ3Gmw"
      },
      "source": [
        "* 세부 요구사항\n",
        "    * 두 단계 모델을 통합하고, 새로운 데이터(test)에 대해서 최종 예측결과와 성능평가가 나오도록 함수로 만들기\n",
        "    * 데이터 파이프라인 구축 : test데이터가 로딩되어 전처리 과정을 거치고, 예측 및 성능 평가 수행"
      ]
    },
    {
      "cell_type": "markdown",
      "metadata": {
        "id": "88hluBpL33eB"
      },
      "source": [
        "![](https://github.com/DA4BAM/image/blob/main/pipeline%20function.png?raw=true)"
      ]
    },
    {
      "cell_type": "code",
      "source": [
        "x = data.drop(columns=['Activity'])\n",
        "y = data['Activity']\n",
        "\n",
        "x_train, x_valid, y_train, y_valid = train_test_split(x, y, test_size=0.2, random_state=42)\n",
        "\n",
        "rf_model = RandomForestClassifier(random_state=42)\n",
        "\n",
        "rf_model.fit(x_train, y_train)\n",
        "\n",
        "importance = rf_model.feature_importances_\n",
        "names = x_train.columns\n",
        "\n",
        "feature_importance_df = pd.DataFrame({'Feature': names, 'Importance': importance})\n",
        "\n",
        "feature_importance_df = feature_importance_df.sort_values(by='Importance', ascending=False)"
      ],
      "metadata": {
        "id": "F3GYZ7g9YR0g"
      },
      "execution_count": 252,
      "outputs": []
    },
    {
      "cell_type": "markdown",
      "metadata": {
        "id": "NDn0mJuGiquO"
      },
      "source": [
        "#### 1) 함수 만들어서 분류 모델 합치기"
      ]
    },
    {
      "cell_type": "code",
      "source": [
        "from sklearn.pipeline import FeatureUnion, Pipeline\n",
        "from sklearn.compose import ColumnTransformer\n",
        "from sklearn.preprocessing import StandardScaler, OneHotEncoder\n",
        "from sklearn.ensemble import RandomForestClassifier\n",
        "from sklearn.linear_model import LogisticRegression\n",
        "from sklearn.model_selection import train_test_split"
      ],
      "metadata": {
        "id": "xDLlzI9n_YuA"
      },
      "execution_count": 101,
      "outputs": []
    },
    {
      "cell_type": "code",
      "source": [
        "data = pd.read_csv('/content/drive/MyDrive/KTaivle/3차미니프로젝트/data01_train.csv')\n",
        "top_n_features = feature_importance_df['Feature'].head(100).tolist()\n",
        "top_n_features.append(\"Activity\")\n",
        "top_n_features.append(\"Activity_dynamic\")\n",
        "\n",
        "data.drop(columns=[\"subject\"], inplace=True)\n",
        "data['Activity_dynamic'] = data['Activity'].isin(['WALKING', 'WALKING_UPSTAIRS', 'WALKING_DOWNSTAIRS']).astype(int)\n",
        "columns_to_drop = [col for col in data.columns if col not in top_n_features]\n",
        "data.drop(columns=columns_to_drop, inplace=True)\n",
        "\n",
        "x = data.drop(columns=['Activity', 'Activity_dynamic'])\n",
        "\n",
        "y1 = data['Activity']\n",
        "y2 = data['Activity_dynamic']\n",
        "\n",
        "x_train, x_val, y1_train, y1_val = train_test_split(x, y1, test_size=0.2, random_state=42)\n",
        "_, _, y2_train, y2_val = train_test_split(x, y2, test_size=0.2, random_state=42)"
      ],
      "metadata": {
        "id": "h43UEFTzAQ6i"
      },
      "execution_count": 253,
      "outputs": []
    },
    {
      "cell_type": "code",
      "source": [
        "static_data = data[data['Activity'].isin(['LAYING', 'SITTING', 'STANDING'])]\n",
        "\n",
        "s_X_subset = static_data.drop(columns=['Activity', 'Activity_dynamic'])\n",
        "s_y_subset = static_data['Activity']\n",
        "\n",
        "x_train_static, X_val_static, y_train_static, y_val_static = train_test_split(s_X_subset, s_y_subset, test_size=0.2, random_state=42)"
      ],
      "metadata": {
        "id": "4F9gwL4V3sf0"
      },
      "execution_count": 254,
      "outputs": []
    },
    {
      "cell_type": "code",
      "source": [
        "dynamic_data = new_data[data['Activity'].isin(['WALKING', 'WALKING_UPSTAIRS', 'WALKING_DOWNSTAIRS'])]\n",
        "\n",
        "d_X_subset = dynamic_data.drop(columns=['Activity', 'Activity_dynamic'])\n",
        "d_y_subset = dynamic_data['Activity']\n",
        "\n",
        "x_train_dynamic, X_val_dynamic, y_train_dynamic, y_val_dynamic = train_test_split(d_X_subset, d_y_subset, test_size=0.2, random_state=42)"
      ],
      "metadata": {
        "colab": {
          "base_uri": "https://localhost:8080/"
        },
        "id": "nqRUy54G4KNQ",
        "outputId": "33084b37-3750-4732-e752-e9fec5b99213"
      },
      "execution_count": 255,
      "outputs": [
        {
          "output_type": "stream",
          "name": "stderr",
          "text": [
            "<ipython-input-255-95a237c8a0ae>:1: UserWarning: Boolean Series key will be reindexed to match DataFrame index.\n",
            "  dynamic_data = new_data[data['Activity'].isin(['WALKING', 'WALKING_UPSTAIRS', 'WALKING_DOWNSTAIRS'])]\n"
          ]
        }
      ]
    },
    {
      "cell_type": "code",
      "source": [
        "from sklearn.model_selection import train_test_split\n",
        "\n",
        "x = data.drop(columns=['Activity', 'Activity_dynamic'])\n",
        "y1 = data['Activity']\n",
        "y2 = data['Activity_dynamic']\n",
        "\n",
        "x_train, x_val, y1_train, y1_val = train_test_split(x, y1, test_size=0.2, random_state=42)\n",
        "_, _, y2_train, y2_val = train_test_split(x, y2, test_size=0.2, random_state=42)"
      ],
      "metadata": {
        "id": "wB_QmW_U65Hf"
      },
      "execution_count": 256,
      "outputs": []
    },
    {
      "cell_type": "code",
      "source": [
        "numeric_features = [col for col in x.columns]\n",
        "\n",
        "# 전처리 및 모델링을 위한 파이프라인 구성\n",
        "preprocessor = ColumnTransformer(\n",
        "    transformers=[\n",
        "        ('num', StandardScaler(), numeric_features),  # 숫자형 변수 스케일링\n",
        "    ])\n",
        "\n",
        "# 파이프라인 구성\n",
        "pipeline_isdynamic_classification = Pipeline([\n",
        "    ('preprocessor', preprocessor),\n",
        "    ('classifier', RandomForestClassifier(random_state=42))  # 랜덤 포레스트 분류기\n",
        "])"
      ],
      "metadata": {
        "id": "l0aKuFL37Ir1"
      },
      "execution_count": 257,
      "outputs": []
    },
    {
      "cell_type": "code",
      "source": [
        "# 파이프라인 훈련\n",
        "pipeline_isdynamic_classification.fit(x_train, y2)"
      ],
      "metadata": {
        "colab": {
          "base_uri": "https://localhost:8080/",
          "height": 188
        },
        "id": "pdq-1I2-7Tqe",
        "outputId": "ca385c64-5b9b-412b-bf93-cb1002229ce9"
      },
      "execution_count": 258,
      "outputs": [
        {
          "output_type": "execute_result",
          "data": {
            "text/plain": [
              "Pipeline(steps=[('preprocessor',\n",
              "                 ColumnTransformer(transformers=[('num', StandardScaler(),\n",
              "                                                  ['tBodyAcc-std()-X',\n",
              "                                                   'tBodyAcc-mad()-X',\n",
              "                                                   'tBodyAcc-max()-X',\n",
              "                                                   'tBodyAcc-energy()-X',\n",
              "                                                   'tBodyAcc-correlation()-X,Y',\n",
              "                                                   'tBodyAcc-correlation()-Y,Z',\n",
              "                                                   'tGravityAcc-mean()-X',\n",
              "                                                   'tGravityAcc-mean()-Y',\n",
              "                                                   'tGravityAcc-mean()-Z',\n",
              "                                                   'tGravityAcc-max()-X',\n",
              "                                                   'tGravityAcc-max()-Y',\n",
              "                                                   'tGravityAc...\n",
              "                                                   'tGravityAcc-entropy()-X',\n",
              "                                                   'tGravityAcc-entropy()-Y',\n",
              "                                                   'tGravityAcc-arCoeff()-X,1',\n",
              "                                                   'tGravityAcc-arCoeff()-X,2',\n",
              "                                                   'tGravityAcc-arCoeff()-X,3',\n",
              "                                                   'tGravityAcc-arCoeff()-X,4',\n",
              "                                                   'tGravityAcc-arCoeff()-Y,1',\n",
              "                                                   'tGravityAcc-arCoeff()-Y,2',\n",
              "                                                   'tGravityAcc-arCoeff()-Y,3',\n",
              "                                                   'tGravityAcc-arCoeff()-Y,4',\n",
              "                                                   'tGravityAcc-arCoeff()-Z,1', ...])])),\n",
              "                ('classifier', RandomForestClassifier(random_state=42))])"
            ],
            "text/html": [
              "<style>#sk-container-id-9 {color: black;background-color: white;}#sk-container-id-9 pre{padding: 0;}#sk-container-id-9 div.sk-toggleable {background-color: white;}#sk-container-id-9 label.sk-toggleable__label {cursor: pointer;display: block;width: 100%;margin-bottom: 0;padding: 0.3em;box-sizing: border-box;text-align: center;}#sk-container-id-9 label.sk-toggleable__label-arrow:before {content: \"▸\";float: left;margin-right: 0.25em;color: #696969;}#sk-container-id-9 label.sk-toggleable__label-arrow:hover:before {color: black;}#sk-container-id-9 div.sk-estimator:hover label.sk-toggleable__label-arrow:before {color: black;}#sk-container-id-9 div.sk-toggleable__content {max-height: 0;max-width: 0;overflow: hidden;text-align: left;background-color: #f0f8ff;}#sk-container-id-9 div.sk-toggleable__content pre {margin: 0.2em;color: black;border-radius: 0.25em;background-color: #f0f8ff;}#sk-container-id-9 input.sk-toggleable__control:checked~div.sk-toggleable__content {max-height: 200px;max-width: 100%;overflow: auto;}#sk-container-id-9 input.sk-toggleable__control:checked~label.sk-toggleable__label-arrow:before {content: \"▾\";}#sk-container-id-9 div.sk-estimator input.sk-toggleable__control:checked~label.sk-toggleable__label {background-color: #d4ebff;}#sk-container-id-9 div.sk-label input.sk-toggleable__control:checked~label.sk-toggleable__label {background-color: #d4ebff;}#sk-container-id-9 input.sk-hidden--visually {border: 0;clip: rect(1px 1px 1px 1px);clip: rect(1px, 1px, 1px, 1px);height: 1px;margin: -1px;overflow: hidden;padding: 0;position: absolute;width: 1px;}#sk-container-id-9 div.sk-estimator {font-family: monospace;background-color: #f0f8ff;border: 1px dotted black;border-radius: 0.25em;box-sizing: border-box;margin-bottom: 0.5em;}#sk-container-id-9 div.sk-estimator:hover {background-color: #d4ebff;}#sk-container-id-9 div.sk-parallel-item::after {content: \"\";width: 100%;border-bottom: 1px solid gray;flex-grow: 1;}#sk-container-id-9 div.sk-label:hover label.sk-toggleable__label {background-color: #d4ebff;}#sk-container-id-9 div.sk-serial::before {content: \"\";position: absolute;border-left: 1px solid gray;box-sizing: border-box;top: 0;bottom: 0;left: 50%;z-index: 0;}#sk-container-id-9 div.sk-serial {display: flex;flex-direction: column;align-items: center;background-color: white;padding-right: 0.2em;padding-left: 0.2em;position: relative;}#sk-container-id-9 div.sk-item {position: relative;z-index: 1;}#sk-container-id-9 div.sk-parallel {display: flex;align-items: stretch;justify-content: center;background-color: white;position: relative;}#sk-container-id-9 div.sk-item::before, #sk-container-id-9 div.sk-parallel-item::before {content: \"\";position: absolute;border-left: 1px solid gray;box-sizing: border-box;top: 0;bottom: 0;left: 50%;z-index: -1;}#sk-container-id-9 div.sk-parallel-item {display: flex;flex-direction: column;z-index: 1;position: relative;background-color: white;}#sk-container-id-9 div.sk-parallel-item:first-child::after {align-self: flex-end;width: 50%;}#sk-container-id-9 div.sk-parallel-item:last-child::after {align-self: flex-start;width: 50%;}#sk-container-id-9 div.sk-parallel-item:only-child::after {width: 0;}#sk-container-id-9 div.sk-dashed-wrapped {border: 1px dashed gray;margin: 0 0.4em 0.5em 0.4em;box-sizing: border-box;padding-bottom: 0.4em;background-color: white;}#sk-container-id-9 div.sk-label label {font-family: monospace;font-weight: bold;display: inline-block;line-height: 1.2em;}#sk-container-id-9 div.sk-label-container {text-align: center;}#sk-container-id-9 div.sk-container {/* jupyter's `normalize.less` sets `[hidden] { display: none; }` but bootstrap.min.css set `[hidden] { display: none !important; }` so we also need the `!important` here to be able to override the default hidden behavior on the sphinx rendered scikit-learn.org. See: https://github.com/scikit-learn/scikit-learn/issues/21755 */display: inline-block !important;position: relative;}#sk-container-id-9 div.sk-text-repr-fallback {display: none;}</style><div id=\"sk-container-id-9\" class=\"sk-top-container\"><div class=\"sk-text-repr-fallback\"><pre>Pipeline(steps=[(&#x27;preprocessor&#x27;,\n",
              "                 ColumnTransformer(transformers=[(&#x27;num&#x27;, StandardScaler(),\n",
              "                                                  [&#x27;tBodyAcc-std()-X&#x27;,\n",
              "                                                   &#x27;tBodyAcc-mad()-X&#x27;,\n",
              "                                                   &#x27;tBodyAcc-max()-X&#x27;,\n",
              "                                                   &#x27;tBodyAcc-energy()-X&#x27;,\n",
              "                                                   &#x27;tBodyAcc-correlation()-X,Y&#x27;,\n",
              "                                                   &#x27;tBodyAcc-correlation()-Y,Z&#x27;,\n",
              "                                                   &#x27;tGravityAcc-mean()-X&#x27;,\n",
              "                                                   &#x27;tGravityAcc-mean()-Y&#x27;,\n",
              "                                                   &#x27;tGravityAcc-mean()-Z&#x27;,\n",
              "                                                   &#x27;tGravityAcc-max()-X&#x27;,\n",
              "                                                   &#x27;tGravityAcc-max()-Y&#x27;,\n",
              "                                                   &#x27;tGravityAc...\n",
              "                                                   &#x27;tGravityAcc-entropy()-X&#x27;,\n",
              "                                                   &#x27;tGravityAcc-entropy()-Y&#x27;,\n",
              "                                                   &#x27;tGravityAcc-arCoeff()-X,1&#x27;,\n",
              "                                                   &#x27;tGravityAcc-arCoeff()-X,2&#x27;,\n",
              "                                                   &#x27;tGravityAcc-arCoeff()-X,3&#x27;,\n",
              "                                                   &#x27;tGravityAcc-arCoeff()-X,4&#x27;,\n",
              "                                                   &#x27;tGravityAcc-arCoeff()-Y,1&#x27;,\n",
              "                                                   &#x27;tGravityAcc-arCoeff()-Y,2&#x27;,\n",
              "                                                   &#x27;tGravityAcc-arCoeff()-Y,3&#x27;,\n",
              "                                                   &#x27;tGravityAcc-arCoeff()-Y,4&#x27;,\n",
              "                                                   &#x27;tGravityAcc-arCoeff()-Z,1&#x27;, ...])])),\n",
              "                (&#x27;classifier&#x27;, RandomForestClassifier(random_state=42))])</pre><b>In a Jupyter environment, please rerun this cell to show the HTML representation or trust the notebook. <br />On GitHub, the HTML representation is unable to render, please try loading this page with nbviewer.org.</b></div><div class=\"sk-container\" hidden><div class=\"sk-item sk-dashed-wrapped\"><div class=\"sk-label-container\"><div class=\"sk-label sk-toggleable\"><input class=\"sk-toggleable__control sk-hidden--visually\" id=\"sk-estimator-id-41\" type=\"checkbox\" ><label for=\"sk-estimator-id-41\" class=\"sk-toggleable__label sk-toggleable__label-arrow\">Pipeline</label><div class=\"sk-toggleable__content\"><pre>Pipeline(steps=[(&#x27;preprocessor&#x27;,\n",
              "                 ColumnTransformer(transformers=[(&#x27;num&#x27;, StandardScaler(),\n",
              "                                                  [&#x27;tBodyAcc-std()-X&#x27;,\n",
              "                                                   &#x27;tBodyAcc-mad()-X&#x27;,\n",
              "                                                   &#x27;tBodyAcc-max()-X&#x27;,\n",
              "                                                   &#x27;tBodyAcc-energy()-X&#x27;,\n",
              "                                                   &#x27;tBodyAcc-correlation()-X,Y&#x27;,\n",
              "                                                   &#x27;tBodyAcc-correlation()-Y,Z&#x27;,\n",
              "                                                   &#x27;tGravityAcc-mean()-X&#x27;,\n",
              "                                                   &#x27;tGravityAcc-mean()-Y&#x27;,\n",
              "                                                   &#x27;tGravityAcc-mean()-Z&#x27;,\n",
              "                                                   &#x27;tGravityAcc-max()-X&#x27;,\n",
              "                                                   &#x27;tGravityAcc-max()-Y&#x27;,\n",
              "                                                   &#x27;tGravityAc...\n",
              "                                                   &#x27;tGravityAcc-entropy()-X&#x27;,\n",
              "                                                   &#x27;tGravityAcc-entropy()-Y&#x27;,\n",
              "                                                   &#x27;tGravityAcc-arCoeff()-X,1&#x27;,\n",
              "                                                   &#x27;tGravityAcc-arCoeff()-X,2&#x27;,\n",
              "                                                   &#x27;tGravityAcc-arCoeff()-X,3&#x27;,\n",
              "                                                   &#x27;tGravityAcc-arCoeff()-X,4&#x27;,\n",
              "                                                   &#x27;tGravityAcc-arCoeff()-Y,1&#x27;,\n",
              "                                                   &#x27;tGravityAcc-arCoeff()-Y,2&#x27;,\n",
              "                                                   &#x27;tGravityAcc-arCoeff()-Y,3&#x27;,\n",
              "                                                   &#x27;tGravityAcc-arCoeff()-Y,4&#x27;,\n",
              "                                                   &#x27;tGravityAcc-arCoeff()-Z,1&#x27;, ...])])),\n",
              "                (&#x27;classifier&#x27;, RandomForestClassifier(random_state=42))])</pre></div></div></div><div class=\"sk-serial\"><div class=\"sk-item sk-dashed-wrapped\"><div class=\"sk-label-container\"><div class=\"sk-label sk-toggleable\"><input class=\"sk-toggleable__control sk-hidden--visually\" id=\"sk-estimator-id-42\" type=\"checkbox\" ><label for=\"sk-estimator-id-42\" class=\"sk-toggleable__label sk-toggleable__label-arrow\">preprocessor: ColumnTransformer</label><div class=\"sk-toggleable__content\"><pre>ColumnTransformer(transformers=[(&#x27;num&#x27;, StandardScaler(),\n",
              "                                 [&#x27;tBodyAcc-std()-X&#x27;, &#x27;tBodyAcc-mad()-X&#x27;,\n",
              "                                  &#x27;tBodyAcc-max()-X&#x27;, &#x27;tBodyAcc-energy()-X&#x27;,\n",
              "                                  &#x27;tBodyAcc-correlation()-X,Y&#x27;,\n",
              "                                  &#x27;tBodyAcc-correlation()-Y,Z&#x27;,\n",
              "                                  &#x27;tGravityAcc-mean()-X&#x27;,\n",
              "                                  &#x27;tGravityAcc-mean()-Y&#x27;,\n",
              "                                  &#x27;tGravityAcc-mean()-Z&#x27;, &#x27;tGravityAcc-max()-X&#x27;,\n",
              "                                  &#x27;tGravityAcc-max()-Y&#x27;, &#x27;tGravityAcc-max()-Z&#x27;,\n",
              "                                  &#x27;tGravityAcc-min()-X&#x27;...\n",
              "                                  &#x27;tGravityAcc-energy()-Y&#x27;,\n",
              "                                  &#x27;tGravityAcc-energy()-Z&#x27;,\n",
              "                                  &#x27;tGravityAcc-entropy()-X&#x27;,\n",
              "                                  &#x27;tGravityAcc-entropy()-Y&#x27;,\n",
              "                                  &#x27;tGravityAcc-arCoeff()-X,1&#x27;,\n",
              "                                  &#x27;tGravityAcc-arCoeff()-X,2&#x27;,\n",
              "                                  &#x27;tGravityAcc-arCoeff()-X,3&#x27;,\n",
              "                                  &#x27;tGravityAcc-arCoeff()-X,4&#x27;,\n",
              "                                  &#x27;tGravityAcc-arCoeff()-Y,1&#x27;,\n",
              "                                  &#x27;tGravityAcc-arCoeff()-Y,2&#x27;,\n",
              "                                  &#x27;tGravityAcc-arCoeff()-Y,3&#x27;,\n",
              "                                  &#x27;tGravityAcc-arCoeff()-Y,4&#x27;,\n",
              "                                  &#x27;tGravityAcc-arCoeff()-Z,1&#x27;, ...])])</pre></div></div></div><div class=\"sk-parallel\"><div class=\"sk-parallel-item\"><div class=\"sk-item\"><div class=\"sk-label-container\"><div class=\"sk-label sk-toggleable\"><input class=\"sk-toggleable__control sk-hidden--visually\" id=\"sk-estimator-id-43\" type=\"checkbox\" ><label for=\"sk-estimator-id-43\" class=\"sk-toggleable__label sk-toggleable__label-arrow\">num</label><div class=\"sk-toggleable__content\"><pre>[&#x27;tBodyAcc-std()-X&#x27;, &#x27;tBodyAcc-mad()-X&#x27;, &#x27;tBodyAcc-max()-X&#x27;, &#x27;tBodyAcc-energy()-X&#x27;, &#x27;tBodyAcc-correlation()-X,Y&#x27;, &#x27;tBodyAcc-correlation()-Y,Z&#x27;, &#x27;tGravityAcc-mean()-X&#x27;, &#x27;tGravityAcc-mean()-Y&#x27;, &#x27;tGravityAcc-mean()-Z&#x27;, &#x27;tGravityAcc-max()-X&#x27;, &#x27;tGravityAcc-max()-Y&#x27;, &#x27;tGravityAcc-max()-Z&#x27;, &#x27;tGravityAcc-min()-X&#x27;, &#x27;tGravityAcc-min()-Y&#x27;, &#x27;tGravityAcc-min()-Z&#x27;, &#x27;tGravityAcc-sma()&#x27;, &#x27;tGravityAcc-energy()-X&#x27;, &#x27;tGravityAcc-energy()-Y&#x27;, &#x27;tGravityAcc-energy()-Z&#x27;, &#x27;tGravityAcc-entropy()-X&#x27;, &#x27;tGravityAcc-entropy()-Y&#x27;, &#x27;tGravityAcc-arCoeff()-X,1&#x27;, &#x27;tGravityAcc-arCoeff()-X,2&#x27;, &#x27;tGravityAcc-arCoeff()-X,3&#x27;, &#x27;tGravityAcc-arCoeff()-X,4&#x27;, &#x27;tGravityAcc-arCoeff()-Y,1&#x27;, &#x27;tGravityAcc-arCoeff()-Y,2&#x27;, &#x27;tGravityAcc-arCoeff()-Y,3&#x27;, &#x27;tGravityAcc-arCoeff()-Y,4&#x27;, &#x27;tGravityAcc-arCoeff()-Z,1&#x27;, &#x27;tGravityAcc-arCoeff()-Z,2&#x27;, &#x27;tGravityAcc-arCoeff()-Z,3&#x27;, &#x27;tGravityAcc-arCoeff()-Z,4&#x27;, &#x27;tGravityAcc-correlation()-X,Y&#x27;, &#x27;tBodyAccJerk-std()-X&#x27;, &#x27;tBodyAccJerk-mad()-X&#x27;, &#x27;tBodyAccJerk-max()-X&#x27;, &#x27;tBodyAccJerk-sma()&#x27;, &#x27;tBodyAccJerk-energy()-X&#x27;, &#x27;tBodyAccJerk-iqr()-X&#x27;, &#x27;tBodyAccJerk-iqr()-Y&#x27;, &#x27;tBodyAccJerk-iqr()-Z&#x27;, &#x27;tBodyAccJerk-entropy()-X&#x27;, &#x27;tBodyAccJerk-entropy()-Y&#x27;, &#x27;tBodyGyro-mad()-X&#x27;, &#x27;tBodyGyro-mad()-Y&#x27;, &#x27;tBodyGyro-max()-X&#x27;, &#x27;tBodyGyro-iqr()-X&#x27;, &#x27;tBodyGyroJerk-iqr()-Z&#x27;, &#x27;tBodyGyroJerk-entropy()-Z&#x27;, &#x27;tBodyAccMag-std()&#x27;, &#x27;tBodyAccMag-mad()&#x27;, &#x27;tBodyAccMag-max()&#x27;, &#x27;tBodyAccMag-arCoeff()1&#x27;, &#x27;tGravityAccMag-std()&#x27;, &#x27;tGravityAccMag-mad()&#x27;, &#x27;tGravityAccMag-max()&#x27;, &#x27;tGravityAccMag-energy()&#x27;, &#x27;tGravityAccMag-arCoeff()1&#x27;, &#x27;tBodyAccJerkMag-mad()&#x27;, &#x27;tBodyAccJerkMag-sma()&#x27;, &#x27;tBodyAccJerkMag-energy()&#x27;, &#x27;tBodyGyroJerkMag-mean()&#x27;, &#x27;tBodyGyroJerkMag-sma()&#x27;, &#x27;fBodyAcc-mean()-X&#x27;, &#x27;fBodyAcc-std()-X&#x27;, &#x27;fBodyAcc-mad()-X&#x27;, &#x27;fBodyAcc-max()-X&#x27;, &#x27;fBodyAcc-sma()&#x27;, &#x27;fBodyAcc-energy()-X&#x27;, &#x27;fBodyAcc-meanFreq()-Z&#x27;, &#x27;fBodyAcc-skewness()-X&#x27;, &#x27;fBodyAcc-bandsEnergy()-1,8&#x27;, &#x27;fBodyAcc-bandsEnergy()-1,16&#x27;, &#x27;fBodyAcc-bandsEnergy()-1,24&#x27;, &#x27;fBodyAccJerk-mean()-X&#x27;, &#x27;fBodyAccJerk-mad()-X&#x27;, &#x27;fBodyAccJerk-max()-X&#x27;, &#x27;fBodyAccJerk-sma()&#x27;, &#x27;fBodyAccJerk-energy()-X&#x27;, &#x27;fBodyAccJerk-entropy()-X&#x27;, &#x27;fBodyAccJerk-bandsEnergy()-1,8&#x27;, &#x27;fBodyAccJerk-bandsEnergy()-17,24&#x27;, &#x27;fBodyAccJerk-bandsEnergy()-1,16&#x27;, &#x27;fBodyAccJerk-bandsEnergy()-1,24&#x27;, &#x27;fBodyGyro-mad()-X&#x27;, &#x27;fBodyGyro-maxInds-X&#x27;, &#x27;fBodyGyro-maxInds-Z&#x27;, &#x27;fBodyGyro-meanFreq()-X&#x27;, &#x27;fBodyGyro-bandsEnergy()-1,16&#x27;, &#x27;fBodyAccMag-std()&#x27;, &#x27;fBodyAccMag-mad()&#x27;, &#x27;fBodyAccMag-max()&#x27;, &#x27;fBodyAccMag-sma()&#x27;, &#x27;fBodyAccMag-energy()&#x27;, &#x27;fBodyAccMag-entropy()&#x27;, &#x27;angle(X,gravityMean)&#x27;, &#x27;angle(Y,gravityMean)&#x27;, &#x27;angle(Z,gravityMean)&#x27;]</pre></div></div></div><div class=\"sk-serial\"><div class=\"sk-item\"><div class=\"sk-estimator sk-toggleable\"><input class=\"sk-toggleable__control sk-hidden--visually\" id=\"sk-estimator-id-44\" type=\"checkbox\" ><label for=\"sk-estimator-id-44\" class=\"sk-toggleable__label sk-toggleable__label-arrow\">StandardScaler</label><div class=\"sk-toggleable__content\"><pre>StandardScaler()</pre></div></div></div></div></div></div></div></div><div class=\"sk-item\"><div class=\"sk-estimator sk-toggleable\"><input class=\"sk-toggleable__control sk-hidden--visually\" id=\"sk-estimator-id-45\" type=\"checkbox\" ><label for=\"sk-estimator-id-45\" class=\"sk-toggleable__label sk-toggleable__label-arrow\">RandomForestClassifier</label><div class=\"sk-toggleable__content\"><pre>RandomForestClassifier(random_state=42)</pre></div></div></div></div></div></div></div>"
            ]
          },
          "metadata": {},
          "execution_count": 258
        }
      ]
    },
    {
      "cell_type": "code",
      "source": [
        "# 예측\n",
        "y_isdynamic_pred = pipeline_isdynamic_classification.predict(x_val)\n",
        "\n",
        "# 동적인 데이터를 분류하는 결과를 바탕으로 해당 데이터가 동적인 경우 동적 활동을 분류하는 모델과 정적 활동을 분류하는 모델을 선택\n",
        "dynamic_indices = np.where(y_isdynamic_pred == 1)[0]\n",
        "static_indices = np.where(y_isdynamic_pred == 0)[0]"
      ],
      "metadata": {
        "id": "UJwoOeJx8hy7"
      },
      "execution_count": 259,
      "outputs": []
    },
    {
      "cell_type": "code",
      "source": [
        "x_val.reset_index(drop=True, inplace=True)\n",
        "\n",
        "x_val_dynamic, x_val_static = x_val.iloc[dynamic_indices], x_val.iloc[static_indices]"
      ],
      "metadata": {
        "id": "Cj7DNdSI9UPV"
      },
      "execution_count": 260,
      "outputs": []
    },
    {
      "cell_type": "code",
      "source": [
        "# 동적 활동 분류 모델 구성\n",
        "pipeline_dynamic_activity = Pipeline([\n",
        "    ('preprocessor', preprocessor),\n",
        "    ('classifier', RandomForestClassifier(random_state=42))  # 랜덤 포레스트 분류기\n",
        "])\n",
        "\n",
        "# 정적 활동 분류 모델 구성\n",
        "pipeline_static_activity = Pipeline([\n",
        "    ('preprocessor', preprocessor),\n",
        "    ('classifier', LogisticRegression(random_state=42))  # 로지스틱 회귀 분류기\n",
        "])\n",
        "\n",
        "# 동적 활동 분류 모델 훈련\n",
        "pipeline_dynamic_activity.fit(x_train_dynamic, y_train_dynamic)\n",
        "\n",
        "# 정적 활동 분류 모델 훈련\n",
        "pipeline_static_activity.fit(x_train_static, y_train_static)\n",
        "\n",
        "# 예측\n",
        "y_dynamic_activity_pred = pipeline_dynamic_activity.predict(x_val_dynamic)\n",
        "y_static_activity_pred = pipeline_static_activity.predict(x_val_static)"
      ],
      "metadata": {
        "colab": {
          "base_uri": "https://localhost:8080/"
        },
        "id": "BvrJmWaN6TES",
        "outputId": "01aed503-7f1f-45d4-8403-314fbaf7b3fe"
      },
      "execution_count": 261,
      "outputs": [
        {
          "output_type": "stream",
          "name": "stderr",
          "text": [
            "/usr/local/lib/python3.10/dist-packages/sklearn/linear_model/_logistic.py:458: ConvergenceWarning: lbfgs failed to converge (status=1):\n",
            "STOP: TOTAL NO. of ITERATIONS REACHED LIMIT.\n",
            "\n",
            "Increase the number of iterations (max_iter) or scale the data as shown in:\n",
            "    https://scikit-learn.org/stable/modules/preprocessing.html\n",
            "Please also refer to the documentation for alternative solver options:\n",
            "    https://scikit-learn.org/stable/modules/linear_model.html#logistic-regression\n",
            "  n_iter_i = _check_optimize_result(\n"
          ]
        }
      ]
    },
    {
      "cell_type": "code",
      "source": [
        "final_prediction = []\n",
        "d = 0\n",
        "s = 0\n",
        "\n",
        "for idx in range(len(y_isdynamic_pred)):\n",
        "    if y_isdynamic_pred[idx] == 1:\n",
        "        final_prediction.append(y_dynamic_activity_pred[d])\n",
        "        d += 1\n",
        "    else:\n",
        "        final_prediction.append(y_static_activity_pred[s])\n",
        "        s += 1"
      ],
      "metadata": {
        "id": "rYOYIJoF9mrS"
      },
      "execution_count": 262,
      "outputs": []
    },
    {
      "cell_type": "code",
      "source": [
        "ac = accuracy_score(final_prediction, y1_val)"
      ],
      "metadata": {
        "id": "VArnINjGDInL"
      },
      "execution_count": 263,
      "outputs": []
    },
    {
      "cell_type": "code",
      "source": [
        "print(ac)"
      ],
      "metadata": {
        "colab": {
          "base_uri": "https://localhost:8080/"
        },
        "id": "FUPMoZFSEPl1",
        "outputId": "d615417e-0781-45f0-ccd8-88d6d5122fe2"
      },
      "execution_count": 264,
      "outputs": [
        {
          "output_type": "stream",
          "name": "stdout",
          "text": [
            "0.6652506372132541\n"
          ]
        }
      ]
    },
    {
      "cell_type": "markdown",
      "source": [
        "### 테스트 데이터"
      ],
      "metadata": {
        "id": "RZvNH-G_UZ9s"
      }
    },
    {
      "cell_type": "code",
      "source": [
        "new_data = pd.read_csv('/content/drive/MyDrive/KTaivle/3차미니프로젝트/data01_test.csv')\n",
        "\n",
        "new_data.drop(columns=[\"subject\"], inplace=True)\n",
        "new_data['Activity_dynamic'] = new_data['Activity'].isin(['WALKING', 'WALKING_UPSTAIRS', 'WALKING_DOWNSTAIRS']).astype(int)\n",
        "columns_to_drop = [col for col in new_data.columns if col not in top_n_features]\n",
        "new_data.drop(columns=columns_to_drop, inplace=True)\n",
        "\n",
        "test_x = new_data.drop(columns=['Activity', 'Activity_dynamic'])\n",
        "\n",
        "test_y1 = new_data['Activity']\n",
        "test_y2 = new_data['Activity_dynamic']"
      ],
      "metadata": {
        "id": "NvGIyNVrEjws"
      },
      "execution_count": 265,
      "outputs": []
    },
    {
      "cell_type": "code",
      "source": [
        "numeric_features = [col for col in test_x.columns]"
      ],
      "metadata": {
        "id": "SpjAaXaoE0fX"
      },
      "execution_count": 266,
      "outputs": []
    },
    {
      "cell_type": "code",
      "source": [
        "test_isdynamic_pred = pipeline_isdynamic_classification.predict(test_x)\n",
        "\n",
        "test_dynamic_indices = np.where(test_isdynamic_pred == 1)[0]\n",
        "test_static_indices = np.where(test_isdynamic_pred == 0)[0]"
      ],
      "metadata": {
        "id": "WTUyk5hOE5eU"
      },
      "execution_count": 267,
      "outputs": []
    },
    {
      "cell_type": "code",
      "source": [
        "test_x.reset_index(drop=True, inplace=True)\n",
        "\n",
        "test_x_dynamic, test_x_static = test_x.iloc[test_dynamic_indices], test_x.iloc[test_static_indices]"
      ],
      "metadata": {
        "id": "W8I5lxPrFG7m"
      },
      "execution_count": 268,
      "outputs": []
    },
    {
      "cell_type": "code",
      "source": [
        "test_dynamic_activity_pred = pipeline_dynamic_activity.predict(test_x_dynamic)\n",
        "test_static_activity_pred = pipeline_static_activity.predict(test_x_static)"
      ],
      "metadata": {
        "id": "EggRgL9BFSV_"
      },
      "execution_count": 269,
      "outputs": []
    },
    {
      "cell_type": "code",
      "source": [
        "test_final_prediction = []\n",
        "d = 0\n",
        "s = 0\n",
        "\n",
        "for idx in range(len(test_isdynamic_pred)):\n",
        "    if test_isdynamic_pred[idx] == 1:\n",
        "        test_final_prediction.append(test_dynamic_activity_pred[d])\n",
        "        d += 1\n",
        "    else:\n",
        "        test_final_prediction.append(test_static_activity_pred[s])\n",
        "        s += 1"
      ],
      "metadata": {
        "id": "xsei-GOBFcFw"
      },
      "execution_count": 270,
      "outputs": []
    },
    {
      "cell_type": "code",
      "source": [
        "test_ac = accuracy_score(test_final_prediction, test_y1)"
      ],
      "metadata": {
        "id": "xNxhjrGEGBCX"
      },
      "execution_count": 271,
      "outputs": []
    },
    {
      "cell_type": "code",
      "source": [
        "print(test_ac)"
      ],
      "metadata": {
        "colab": {
          "base_uri": "https://localhost:8080/"
        },
        "id": "tVjAbw1eGEq1",
        "outputId": "0489820c-7001-4c18-902d-70e812899308"
      },
      "execution_count": 272,
      "outputs": [
        {
          "output_type": "stream",
          "name": "stdout",
          "text": [
            "0.4738273283480625\n"
          ]
        }
      ]
    }
  ],
  "metadata": {
    "colab": {
      "provenance": []
    },
    "kernelspec": {
      "display_name": "Python 3",
      "name": "python3"
    },
    "language_info": {
      "name": "python"
    }
  },
  "nbformat": 4,
  "nbformat_minor": 0
}