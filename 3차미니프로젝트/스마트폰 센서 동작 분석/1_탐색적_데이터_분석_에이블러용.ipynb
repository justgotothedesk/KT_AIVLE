{
  "cells": [
    {
      "cell_type": "markdown",
      "metadata": {
        "id": "mJlY5pHkC2AM"
      },
      "source": [
        "#**스마트폰 센서 데이터 기반 모션 분류**\n",
        "# 단계1 : 탐색적 데이터 분석"
      ]
    },
    {
      "cell_type": "markdown",
      "metadata": {
        "id": "D67PlTu4JGAY"
      },
      "source": [
        "## 0.미션"
      ]
    },
    {
      "cell_type": "markdown",
      "metadata": {
        "id": "wc1FlP4E09oQ"
      },
      "source": [
        "### (1) 미션①\n",
        "수많은 feature들을 모두 살펴보는 것은 과도한 시간과 노력이 필요합니다. 그래서 여러분은 **선택과 집중**을 해야 합니다.\n",
        "* 1) **기본 모델을 생성**한 후 **변수 중요도**를 구합니다.   \n",
        "    * random forest 알고리즘 사용을 권장합니다.\n",
        "* 2) **중요한 feature와 중요하지 않은 feature 상위 N개를 선정**하고, 이들을 대상으로 EDA 수행.\n",
        "* 3) **각 feature 그룹별 중요도**도 파악해보며 EDA를 수행  \n",
        "    * Feature 이름에는 계층구조를 담고 있습니다. 그렇다 보니 feature들을 적절하게 그룹으로 묶을 수 있습니다.\n",
        "    * 참고로, feature 그룹의 중요도는 개별 feature 중요도의 합으로 계산할 수 있습니다.\n"
      ]
    },
    {
      "cell_type": "markdown",
      "metadata": {
        "id": "hGGC3Ev4G9O8"
      },
      "source": [
        "### (2) 미션②  \n",
        "다음의 case에 맞게 feature 및 feature 그룹 중요도를 기반으로 탐색적 데이터 분석을 수행하시오.\n",
        "* 1) Target을 **정적/동적 행동**으로 구분\n",
        "    * 6개의 행동은 2개의 그룹(정적행동, 동적행동)으로 나뉩니다.  \n",
        "    * 어떤 feature(혹은 feature 그룹)이 2개 class 그룹(정적행동, 동적행동)를 구분하는데 중요한지를 찾아보고 탐색해봅시다.\n",
        "* 2) Target을 **개별 행동 여부**로 구분\n",
        "    * 6가지의 행동을 분류하는 분석도 중요하지만, 개별 행동에만 특별히 영향을 받는 feature들도 있습니다.\n",
        "    * 예를 들어, 계단을 오르는 행동(Walking_upstairs)과 관련이 큰 feature가 있을 것입니다. [계단을 오르는 행동]인지 아닌지로 구분하는 target을 추가하여 EDA를 수행해 봅시다.\n"
      ]
    },
    {
      "cell_type": "markdown",
      "metadata": {
        "id": "NCptKiLOAn7l"
      },
      "source": [
        "## 1.환경설정"
      ]
    },
    {
      "cell_type": "markdown",
      "metadata": {
        "id": "KnzVh2LmkLDU"
      },
      "source": [
        "### (1) 라이브러리 불러오기"
      ]
    },
    {
      "cell_type": "markdown",
      "metadata": {
        "id": "I_rCs78QJZmI"
      },
      "source": [
        "* 세부 요구사항\n",
        "    - 기본적으로 필요한 라이브러리를 import 하도록 코드가 작성되어 있습니다.\n",
        "    - 필요하다고 판단되는 라이브러리를 추가하세요."
      ]
    },
    {
      "cell_type": "code",
      "source": [
        "from google.colab import drive\n",
        "drive.mount('/content/drive')"
      ],
      "metadata": {
        "colab": {
          "base_uri": "https://localhost:8080/"
        },
        "id": "hRRXa0BgoFFT",
        "outputId": "e1cd32ac-c9f2-42f1-d3bb-d19ced2d70f2"
      },
      "execution_count": 1,
      "outputs": [
        {
          "output_type": "stream",
          "name": "stdout",
          "text": [
            "Mounted at /content/drive\n"
          ]
        }
      ]
    },
    {
      "cell_type": "code",
      "execution_count": 2,
      "metadata": {
        "id": "3rsQerEaELwI"
      },
      "outputs": [],
      "source": [
        "import pandas as pd\n",
        "import numpy as np\n",
        "import matplotlib.pyplot as plt\n",
        "import seaborn as sns\n",
        "\n",
        "# 필요하다고 판단되는 라이브러리를 추가하세요.\n",
        "\n",
        "\n",
        "\n"
      ]
    },
    {
      "cell_type": "markdown",
      "metadata": {
        "id": "mlBhkYHQ491o"
      },
      "source": [
        "* 변수 중요도 함수 생성\n",
        "    * 변수 중요도를 시각화할 수 있는 함수를 제공합니다.\n",
        "    * 입력 :\n",
        "        * importance : 트리모델의 변수 중요도(예: model.feature_importances_)\n",
        "        * names : 변수 이름 목록(예 : x_train.columns\n",
        "        * result_only  : 변수 중요도 순으로 데이터프레임만 return할지, 그래프도 포함할지 결정. False이면 결과 데이터프레임 + 그래프\n",
        "        * topn : 중요도 상위 n개만 표시. all 이면 전체.\n",
        "    * 출력 :\n",
        "        * 중요도 그래프 : 중요도 내림차순으로 정렬\n",
        "        * 중요도 데이터프레임 : 중요도 내림차순으로 정렬"
      ]
    },
    {
      "cell_type": "markdown",
      "metadata": {
        "id": "bA-eHXdwBDCz"
      },
      "source": [
        "### (2) 데이터 불러오기"
      ]
    },
    {
      "cell_type": "markdown",
      "metadata": {
        "id": "9OkifR5rnr2D"
      },
      "source": [
        "* 주어진 데이터셋\n",
        "    * data01_train.csv : 학습 및 검증용 데이터셋\n",
        "    * feature.csv : feature 이름을 계층구조로 정리한 데이터  \n",
        " <br/>\n",
        "    \n",
        "\n",
        "* 세부 요구사항\n",
        "    - 전체 데이터 'data01_train.csv' 를 불러와 'data' 변수에 저장합니다.\n",
        "    - 센서 그룹 데이터 'feature.csv' 를 불러와 'features' 변수에 저장합니다."
      ]
    },
    {
      "cell_type": "code",
      "execution_count": 5,
      "metadata": {
        "id": "LIDx6619D15x"
      },
      "outputs": [],
      "source": [
        "data = pd.read_csv('/content/drive/MyDrive/KTaivle/3차미니프로젝트/data01_train.csv')"
      ]
    },
    {
      "cell_type": "code",
      "execution_count": 6,
      "metadata": {
        "id": "uTi4ZuDWDlem"
      },
      "outputs": [],
      "source": [
        "features = pd.read_csv('/content/drive/MyDrive/KTaivle/3차미니프로젝트/features.csv')"
      ]
    },
    {
      "cell_type": "code",
      "execution_count": 7,
      "metadata": {
        "id": "0umL6MIeFWnd",
        "colab": {
          "base_uri": "https://localhost:8080/"
        },
        "outputId": "0f8ab57c-90b3-4443-bbb9-52cd2d9b05af"
      },
      "outputs": [
        {
          "output_type": "stream",
          "name": "stdout",
          "text": [
            "   tBodyAcc-mean()-X  tBodyAcc-mean()-Y  tBodyAcc-mean()-Z  tBodyAcc-std()-X  \\\n",
            "0           0.288508          -0.009196          -0.103362         -0.988986   \n",
            "1           0.265757          -0.016576          -0.098163         -0.989551   \n",
            "2           0.278709          -0.014511          -0.108717         -0.997720   \n",
            "3           0.289795          -0.035536          -0.150354         -0.231727   \n",
            "4           0.394807           0.034098           0.091229          0.088489   \n",
            "\n",
            "   tBodyAcc-std()-Y  tBodyAcc-std()-Z  tBodyAcc-mad()-X  tBodyAcc-mad()-Y  \\\n",
            "0         -0.962797         -0.967422         -0.989000         -0.962596   \n",
            "1         -0.994636         -0.987435         -0.990189         -0.993870   \n",
            "2         -0.981088         -0.994008         -0.997934         -0.982187   \n",
            "3         -0.006412         -0.338117         -0.273557          0.014245   \n",
            "4         -0.106636         -0.388502         -0.010469         -0.109680   \n",
            "\n",
            "   tBodyAcc-mad()-Z  tBodyAcc-max()-X  ...  fBodyBodyGyroJerkMag-kurtosis()  \\\n",
            "0         -0.965650         -0.929747  ...                        -0.816696   \n",
            "1         -0.987558         -0.937337  ...                        -0.693515   \n",
            "2         -0.995017         -0.942584  ...                        -0.829311   \n",
            "3         -0.347916          0.008288  ...                        -0.408956   \n",
            "4         -0.346372          0.584131  ...                        -0.563437   \n",
            "\n",
            "   angle(tBodyAccMean,gravity)  angle(tBodyAccJerkMean),gravityMean)  \\\n",
            "0                    -0.042494                             -0.044218   \n",
            "1                    -0.062899                              0.388459   \n",
            "2                     0.000265                             -0.525022   \n",
            "3                    -0.255125                              0.612804   \n",
            "4                    -0.044344                             -0.845268   \n",
            "\n",
            "   angle(tBodyGyroMean,gravityMean)  angle(tBodyGyroJerkMean,gravityMean)  \\\n",
            "0                          0.307873                              0.072790   \n",
            "1                         -0.765014                              0.771524   \n",
            "2                         -0.891875                              0.021528   \n",
            "3                          0.747381                             -0.072944   \n",
            "4                         -0.974650                             -0.887846   \n",
            "\n",
            "   angle(X,gravityMean)  angle(Y,gravityMean)  angle(Z,gravityMean)  subject  \\\n",
            "0             -0.601120              0.331298              0.165163       21   \n",
            "1              0.345205             -0.769186             -0.147944       15   \n",
            "2             -0.833564              0.202434             -0.032755       11   \n",
            "3             -0.695819              0.287154              0.111388       17   \n",
            "4             -0.705029              0.264952              0.137758       17   \n",
            "\n",
            "             Activity  \n",
            "0            STANDING  \n",
            "1              LAYING  \n",
            "2            STANDING  \n",
            "3             WALKING  \n",
            "4  WALKING_DOWNSTAIRS  \n",
            "\n",
            "[5 rows x 563 columns]\n",
            "     sensor     agg axis       feature_name\n",
            "0  tBodyAcc  mean()    X  tBodyAcc-mean()-X\n",
            "1  tBodyAcc  mean()    Y  tBodyAcc-mean()-Y\n",
            "2  tBodyAcc  mean()    Z  tBodyAcc-mean()-Z\n",
            "3  tBodyAcc   std()    X   tBodyAcc-std()-X\n",
            "4  tBodyAcc   std()    Y   tBodyAcc-std()-Y\n"
          ]
        }
      ],
      "source": [
        "print(data.head())\n",
        "print(features.head())"
      ]
    },
    {
      "cell_type": "markdown",
      "metadata": {
        "id": "MCdVOxN8BQCc"
      },
      "source": [
        "## 2.데이터 분석 : 기본정보 살펴보기"
      ]
    },
    {
      "cell_type": "markdown",
      "metadata": {
        "id": "JsX1zLaIXwbo"
      },
      "source": [
        "### (1) 기본정보 확인하기\n"
      ]
    },
    {
      "cell_type": "markdown",
      "metadata": {
        "id": "8Z6Fmjg7oizl"
      },
      "source": [
        "* **세부 요구사항**\n",
        "    - 불러온 데이터의 형태, 기초통계량, 정보 등을 확인합니다."
      ]
    },
    {
      "cell_type": "code",
      "execution_count": 8,
      "metadata": {
        "id": "aZ-SzPzsf_Hj",
        "colab": {
          "base_uri": "https://localhost:8080/"
        },
        "outputId": "10c74d99-580a-4247-b0c4-567a0f520a81"
      },
      "outputs": [
        {
          "output_type": "stream",
          "name": "stdout",
          "text": [
            "<class 'pandas.core.frame.DataFrame'>\n",
            "RangeIndex: 5881 entries, 0 to 5880\n",
            "Columns: 563 entries, tBodyAcc-mean()-X to Activity\n",
            "dtypes: float64(561), int64(1), object(1)\n",
            "memory usage: 25.3+ MB\n"
          ]
        }
      ],
      "source": [
        "data.info()"
      ]
    },
    {
      "cell_type": "code",
      "execution_count": 9,
      "metadata": {
        "id": "sH71Rvr2f_ER",
        "colab": {
          "base_uri": "https://localhost:8080/",
          "height": 363
        },
        "outputId": "f63fb3aa-8731-4dd1-b5cc-2ad3b47ba7d0"
      },
      "outputs": [
        {
          "output_type": "execute_result",
          "data": {
            "text/plain": [
              "       tBodyAcc-mean()-X  tBodyAcc-mean()-Y  tBodyAcc-mean()-Z  \\\n",
              "count        5881.000000        5881.000000        5881.000000   \n",
              "mean            0.274811          -0.017799          -0.109396   \n",
              "std             0.067614           0.039422           0.058373   \n",
              "min            -0.503823          -0.684893          -1.000000   \n",
              "25%             0.262919          -0.024877          -0.121051   \n",
              "50%             0.277154          -0.017221          -0.108781   \n",
              "75%             0.288526          -0.010920          -0.098163   \n",
              "max             1.000000           1.000000           1.000000   \n",
              "\n",
              "       tBodyAcc-std()-X  tBodyAcc-std()-Y  tBodyAcc-std()-Z  tBodyAcc-mad()-X  \\\n",
              "count       5881.000000       5881.000000       5881.000000       5881.000000   \n",
              "mean          -0.603138         -0.509815         -0.604058         -0.628151   \n",
              "std            0.448807          0.501815          0.417319          0.424345   \n",
              "min           -1.000000         -0.999844         -0.999667         -1.000000   \n",
              "25%           -0.992774         -0.977680         -0.980127         -0.993602   \n",
              "50%           -0.943933         -0.844575         -0.856352         -0.948501   \n",
              "75%           -0.242130         -0.034499         -0.262690         -0.291138   \n",
              "max            1.000000          0.916238          1.000000          1.000000   \n",
              "\n",
              "       tBodyAcc-mad()-Y  tBodyAcc-mad()-Z  tBodyAcc-max()-X  ...  \\\n",
              "count       5881.000000       5881.000000       5881.000000  ...   \n",
              "mean          -0.525944         -0.605374         -0.465490  ...   \n",
              "std            0.485115          0.413043          0.544995  ...   \n",
              "min           -0.999419         -1.000000         -1.000000  ...   \n",
              "25%           -0.977865         -0.980112         -0.936067  ...   \n",
              "50%           -0.849266         -0.849896         -0.878729  ...   \n",
              "75%           -0.068857         -0.268539         -0.013690  ...   \n",
              "max            0.967664          1.000000          1.000000  ...   \n",
              "\n",
              "       fBodyBodyGyroJerkMag-skewness()  fBodyBodyGyroJerkMag-kurtosis()  \\\n",
              "count                      5881.000000                      5881.000000   \n",
              "mean                         -0.305883                        -0.623548   \n",
              "std                           0.322808                         0.310371   \n",
              "min                          -0.979261                        -0.999765   \n",
              "25%                          -0.541969                        -0.845985   \n",
              "50%                          -0.342923                        -0.712677   \n",
              "75%                          -0.127371                        -0.501158   \n",
              "max                           0.989538                         0.956845   \n",
              "\n",
              "       angle(tBodyAccMean,gravity)  angle(tBodyAccJerkMean),gravityMean)  \\\n",
              "count                  5881.000000                           5881.000000   \n",
              "mean                      0.008524                             -0.001185   \n",
              "std                       0.339730                              0.447197   \n",
              "min                      -0.976580                             -1.000000   \n",
              "25%                      -0.122361                             -0.294369   \n",
              "50%                       0.010278                              0.005146   \n",
              "75%                       0.154985                              0.285030   \n",
              "max                       1.000000                              1.000000   \n",
              "\n",
              "       angle(tBodyGyroMean,gravityMean)  angle(tBodyGyroJerkMean,gravityMean)  \\\n",
              "count                       5881.000000                           5881.000000   \n",
              "mean                           0.009340                             -0.007099   \n",
              "std                            0.608190                              0.476738   \n",
              "min                           -1.000000                             -1.000000   \n",
              "25%                           -0.481718                             -0.373345   \n",
              "50%                            0.011448                             -0.000847   \n",
              "75%                            0.499857                              0.356236   \n",
              "max                            0.998702                              0.996078   \n",
              "\n",
              "       angle(X,gravityMean)  angle(Y,gravityMean)  angle(Z,gravityMean)  \\\n",
              "count           5881.000000           5881.000000           5881.000000   \n",
              "mean              -0.491501              0.059299             -0.054594   \n",
              "std                0.509069              0.297340              0.278479   \n",
              "min               -1.000000             -1.000000             -0.980143   \n",
              "25%               -0.811397             -0.018203             -0.141555   \n",
              "50%               -0.709441              0.182893              0.003951   \n",
              "75%               -0.511330              0.248435              0.111932   \n",
              "max                0.977344              0.478157              1.000000   \n",
              "\n",
              "           subject  \n",
              "count  5881.000000  \n",
              "mean     17.381568  \n",
              "std       8.938316  \n",
              "min       1.000000  \n",
              "25%       8.000000  \n",
              "50%      19.000000  \n",
              "75%      26.000000  \n",
              "max      30.000000  \n",
              "\n",
              "[8 rows x 562 columns]"
            ],
            "text/html": [
              "\n",
              "  <div id=\"df-961c6762-a818-4ec7-a821-8cd36fff934a\" class=\"colab-df-container\">\n",
              "    <div>\n",
              "<style scoped>\n",
              "    .dataframe tbody tr th:only-of-type {\n",
              "        vertical-align: middle;\n",
              "    }\n",
              "\n",
              "    .dataframe tbody tr th {\n",
              "        vertical-align: top;\n",
              "    }\n",
              "\n",
              "    .dataframe thead th {\n",
              "        text-align: right;\n",
              "    }\n",
              "</style>\n",
              "<table border=\"1\" class=\"dataframe\">\n",
              "  <thead>\n",
              "    <tr style=\"text-align: right;\">\n",
              "      <th></th>\n",
              "      <th>tBodyAcc-mean()-X</th>\n",
              "      <th>tBodyAcc-mean()-Y</th>\n",
              "      <th>tBodyAcc-mean()-Z</th>\n",
              "      <th>tBodyAcc-std()-X</th>\n",
              "      <th>tBodyAcc-std()-Y</th>\n",
              "      <th>tBodyAcc-std()-Z</th>\n",
              "      <th>tBodyAcc-mad()-X</th>\n",
              "      <th>tBodyAcc-mad()-Y</th>\n",
              "      <th>tBodyAcc-mad()-Z</th>\n",
              "      <th>tBodyAcc-max()-X</th>\n",
              "      <th>...</th>\n",
              "      <th>fBodyBodyGyroJerkMag-skewness()</th>\n",
              "      <th>fBodyBodyGyroJerkMag-kurtosis()</th>\n",
              "      <th>angle(tBodyAccMean,gravity)</th>\n",
              "      <th>angle(tBodyAccJerkMean),gravityMean)</th>\n",
              "      <th>angle(tBodyGyroMean,gravityMean)</th>\n",
              "      <th>angle(tBodyGyroJerkMean,gravityMean)</th>\n",
              "      <th>angle(X,gravityMean)</th>\n",
              "      <th>angle(Y,gravityMean)</th>\n",
              "      <th>angle(Z,gravityMean)</th>\n",
              "      <th>subject</th>\n",
              "    </tr>\n",
              "  </thead>\n",
              "  <tbody>\n",
              "    <tr>\n",
              "      <th>count</th>\n",
              "      <td>5881.000000</td>\n",
              "      <td>5881.000000</td>\n",
              "      <td>5881.000000</td>\n",
              "      <td>5881.000000</td>\n",
              "      <td>5881.000000</td>\n",
              "      <td>5881.000000</td>\n",
              "      <td>5881.000000</td>\n",
              "      <td>5881.000000</td>\n",
              "      <td>5881.000000</td>\n",
              "      <td>5881.000000</td>\n",
              "      <td>...</td>\n",
              "      <td>5881.000000</td>\n",
              "      <td>5881.000000</td>\n",
              "      <td>5881.000000</td>\n",
              "      <td>5881.000000</td>\n",
              "      <td>5881.000000</td>\n",
              "      <td>5881.000000</td>\n",
              "      <td>5881.000000</td>\n",
              "      <td>5881.000000</td>\n",
              "      <td>5881.000000</td>\n",
              "      <td>5881.000000</td>\n",
              "    </tr>\n",
              "    <tr>\n",
              "      <th>mean</th>\n",
              "      <td>0.274811</td>\n",
              "      <td>-0.017799</td>\n",
              "      <td>-0.109396</td>\n",
              "      <td>-0.603138</td>\n",
              "      <td>-0.509815</td>\n",
              "      <td>-0.604058</td>\n",
              "      <td>-0.628151</td>\n",
              "      <td>-0.525944</td>\n",
              "      <td>-0.605374</td>\n",
              "      <td>-0.465490</td>\n",
              "      <td>...</td>\n",
              "      <td>-0.305883</td>\n",
              "      <td>-0.623548</td>\n",
              "      <td>0.008524</td>\n",
              "      <td>-0.001185</td>\n",
              "      <td>0.009340</td>\n",
              "      <td>-0.007099</td>\n",
              "      <td>-0.491501</td>\n",
              "      <td>0.059299</td>\n",
              "      <td>-0.054594</td>\n",
              "      <td>17.381568</td>\n",
              "    </tr>\n",
              "    <tr>\n",
              "      <th>std</th>\n",
              "      <td>0.067614</td>\n",
              "      <td>0.039422</td>\n",
              "      <td>0.058373</td>\n",
              "      <td>0.448807</td>\n",
              "      <td>0.501815</td>\n",
              "      <td>0.417319</td>\n",
              "      <td>0.424345</td>\n",
              "      <td>0.485115</td>\n",
              "      <td>0.413043</td>\n",
              "      <td>0.544995</td>\n",
              "      <td>...</td>\n",
              "      <td>0.322808</td>\n",
              "      <td>0.310371</td>\n",
              "      <td>0.339730</td>\n",
              "      <td>0.447197</td>\n",
              "      <td>0.608190</td>\n",
              "      <td>0.476738</td>\n",
              "      <td>0.509069</td>\n",
              "      <td>0.297340</td>\n",
              "      <td>0.278479</td>\n",
              "      <td>8.938316</td>\n",
              "    </tr>\n",
              "    <tr>\n",
              "      <th>min</th>\n",
              "      <td>-0.503823</td>\n",
              "      <td>-0.684893</td>\n",
              "      <td>-1.000000</td>\n",
              "      <td>-1.000000</td>\n",
              "      <td>-0.999844</td>\n",
              "      <td>-0.999667</td>\n",
              "      <td>-1.000000</td>\n",
              "      <td>-0.999419</td>\n",
              "      <td>-1.000000</td>\n",
              "      <td>-1.000000</td>\n",
              "      <td>...</td>\n",
              "      <td>-0.979261</td>\n",
              "      <td>-0.999765</td>\n",
              "      <td>-0.976580</td>\n",
              "      <td>-1.000000</td>\n",
              "      <td>-1.000000</td>\n",
              "      <td>-1.000000</td>\n",
              "      <td>-1.000000</td>\n",
              "      <td>-1.000000</td>\n",
              "      <td>-0.980143</td>\n",
              "      <td>1.000000</td>\n",
              "    </tr>\n",
              "    <tr>\n",
              "      <th>25%</th>\n",
              "      <td>0.262919</td>\n",
              "      <td>-0.024877</td>\n",
              "      <td>-0.121051</td>\n",
              "      <td>-0.992774</td>\n",
              "      <td>-0.977680</td>\n",
              "      <td>-0.980127</td>\n",
              "      <td>-0.993602</td>\n",
              "      <td>-0.977865</td>\n",
              "      <td>-0.980112</td>\n",
              "      <td>-0.936067</td>\n",
              "      <td>...</td>\n",
              "      <td>-0.541969</td>\n",
              "      <td>-0.845985</td>\n",
              "      <td>-0.122361</td>\n",
              "      <td>-0.294369</td>\n",
              "      <td>-0.481718</td>\n",
              "      <td>-0.373345</td>\n",
              "      <td>-0.811397</td>\n",
              "      <td>-0.018203</td>\n",
              "      <td>-0.141555</td>\n",
              "      <td>8.000000</td>\n",
              "    </tr>\n",
              "    <tr>\n",
              "      <th>50%</th>\n",
              "      <td>0.277154</td>\n",
              "      <td>-0.017221</td>\n",
              "      <td>-0.108781</td>\n",
              "      <td>-0.943933</td>\n",
              "      <td>-0.844575</td>\n",
              "      <td>-0.856352</td>\n",
              "      <td>-0.948501</td>\n",
              "      <td>-0.849266</td>\n",
              "      <td>-0.849896</td>\n",
              "      <td>-0.878729</td>\n",
              "      <td>...</td>\n",
              "      <td>-0.342923</td>\n",
              "      <td>-0.712677</td>\n",
              "      <td>0.010278</td>\n",
              "      <td>0.005146</td>\n",
              "      <td>0.011448</td>\n",
              "      <td>-0.000847</td>\n",
              "      <td>-0.709441</td>\n",
              "      <td>0.182893</td>\n",
              "      <td>0.003951</td>\n",
              "      <td>19.000000</td>\n",
              "    </tr>\n",
              "    <tr>\n",
              "      <th>75%</th>\n",
              "      <td>0.288526</td>\n",
              "      <td>-0.010920</td>\n",
              "      <td>-0.098163</td>\n",
              "      <td>-0.242130</td>\n",
              "      <td>-0.034499</td>\n",
              "      <td>-0.262690</td>\n",
              "      <td>-0.291138</td>\n",
              "      <td>-0.068857</td>\n",
              "      <td>-0.268539</td>\n",
              "      <td>-0.013690</td>\n",
              "      <td>...</td>\n",
              "      <td>-0.127371</td>\n",
              "      <td>-0.501158</td>\n",
              "      <td>0.154985</td>\n",
              "      <td>0.285030</td>\n",
              "      <td>0.499857</td>\n",
              "      <td>0.356236</td>\n",
              "      <td>-0.511330</td>\n",
              "      <td>0.248435</td>\n",
              "      <td>0.111932</td>\n",
              "      <td>26.000000</td>\n",
              "    </tr>\n",
              "    <tr>\n",
              "      <th>max</th>\n",
              "      <td>1.000000</td>\n",
              "      <td>1.000000</td>\n",
              "      <td>1.000000</td>\n",
              "      <td>1.000000</td>\n",
              "      <td>0.916238</td>\n",
              "      <td>1.000000</td>\n",
              "      <td>1.000000</td>\n",
              "      <td>0.967664</td>\n",
              "      <td>1.000000</td>\n",
              "      <td>1.000000</td>\n",
              "      <td>...</td>\n",
              "      <td>0.989538</td>\n",
              "      <td>0.956845</td>\n",
              "      <td>1.000000</td>\n",
              "      <td>1.000000</td>\n",
              "      <td>0.998702</td>\n",
              "      <td>0.996078</td>\n",
              "      <td>0.977344</td>\n",
              "      <td>0.478157</td>\n",
              "      <td>1.000000</td>\n",
              "      <td>30.000000</td>\n",
              "    </tr>\n",
              "  </tbody>\n",
              "</table>\n",
              "<p>8 rows × 562 columns</p>\n",
              "</div>\n",
              "    <div class=\"colab-df-buttons\">\n",
              "\n",
              "  <div class=\"colab-df-container\">\n",
              "    <button class=\"colab-df-convert\" onclick=\"convertToInteractive('df-961c6762-a818-4ec7-a821-8cd36fff934a')\"\n",
              "            title=\"Convert this dataframe to an interactive table.\"\n",
              "            style=\"display:none;\">\n",
              "\n",
              "  <svg xmlns=\"http://www.w3.org/2000/svg\" height=\"24px\" viewBox=\"0 -960 960 960\">\n",
              "    <path d=\"M120-120v-720h720v720H120Zm60-500h600v-160H180v160Zm220 220h160v-160H400v160Zm0 220h160v-160H400v160ZM180-400h160v-160H180v160Zm440 0h160v-160H620v160ZM180-180h160v-160H180v160Zm440 0h160v-160H620v160Z\"/>\n",
              "  </svg>\n",
              "    </button>\n",
              "\n",
              "  <style>\n",
              "    .colab-df-container {\n",
              "      display:flex;\n",
              "      gap: 12px;\n",
              "    }\n",
              "\n",
              "    .colab-df-convert {\n",
              "      background-color: #E8F0FE;\n",
              "      border: none;\n",
              "      border-radius: 50%;\n",
              "      cursor: pointer;\n",
              "      display: none;\n",
              "      fill: #1967D2;\n",
              "      height: 32px;\n",
              "      padding: 0 0 0 0;\n",
              "      width: 32px;\n",
              "    }\n",
              "\n",
              "    .colab-df-convert:hover {\n",
              "      background-color: #E2EBFA;\n",
              "      box-shadow: 0px 1px 2px rgba(60, 64, 67, 0.3), 0px 1px 3px 1px rgba(60, 64, 67, 0.15);\n",
              "      fill: #174EA6;\n",
              "    }\n",
              "\n",
              "    .colab-df-buttons div {\n",
              "      margin-bottom: 4px;\n",
              "    }\n",
              "\n",
              "    [theme=dark] .colab-df-convert {\n",
              "      background-color: #3B4455;\n",
              "      fill: #D2E3FC;\n",
              "    }\n",
              "\n",
              "    [theme=dark] .colab-df-convert:hover {\n",
              "      background-color: #434B5C;\n",
              "      box-shadow: 0px 1px 3px 1px rgba(0, 0, 0, 0.15);\n",
              "      filter: drop-shadow(0px 1px 2px rgba(0, 0, 0, 0.3));\n",
              "      fill: #FFFFFF;\n",
              "    }\n",
              "  </style>\n",
              "\n",
              "    <script>\n",
              "      const buttonEl =\n",
              "        document.querySelector('#df-961c6762-a818-4ec7-a821-8cd36fff934a button.colab-df-convert');\n",
              "      buttonEl.style.display =\n",
              "        google.colab.kernel.accessAllowed ? 'block' : 'none';\n",
              "\n",
              "      async function convertToInteractive(key) {\n",
              "        const element = document.querySelector('#df-961c6762-a818-4ec7-a821-8cd36fff934a');\n",
              "        const dataTable =\n",
              "          await google.colab.kernel.invokeFunction('convertToInteractive',\n",
              "                                                    [key], {});\n",
              "        if (!dataTable) return;\n",
              "\n",
              "        const docLinkHtml = 'Like what you see? Visit the ' +\n",
              "          '<a target=\"_blank\" href=https://colab.research.google.com/notebooks/data_table.ipynb>data table notebook</a>'\n",
              "          + ' to learn more about interactive tables.';\n",
              "        element.innerHTML = '';\n",
              "        dataTable['output_type'] = 'display_data';\n",
              "        await google.colab.output.renderOutput(dataTable, element);\n",
              "        const docLink = document.createElement('div');\n",
              "        docLink.innerHTML = docLinkHtml;\n",
              "        element.appendChild(docLink);\n",
              "      }\n",
              "    </script>\n",
              "  </div>\n",
              "\n",
              "\n",
              "<div id=\"df-ce2df0a0-77a4-4fe3-9de3-560f565f915f\">\n",
              "  <button class=\"colab-df-quickchart\" onclick=\"quickchart('df-ce2df0a0-77a4-4fe3-9de3-560f565f915f')\"\n",
              "            title=\"Suggest charts\"\n",
              "            style=\"display:none;\">\n",
              "\n",
              "<svg xmlns=\"http://www.w3.org/2000/svg\" height=\"24px\"viewBox=\"0 0 24 24\"\n",
              "     width=\"24px\">\n",
              "    <g>\n",
              "        <path d=\"M19 3H5c-1.1 0-2 .9-2 2v14c0 1.1.9 2 2 2h14c1.1 0 2-.9 2-2V5c0-1.1-.9-2-2-2zM9 17H7v-7h2v7zm4 0h-2V7h2v10zm4 0h-2v-4h2v4z\"/>\n",
              "    </g>\n",
              "</svg>\n",
              "  </button>\n",
              "\n",
              "<style>\n",
              "  .colab-df-quickchart {\n",
              "      --bg-color: #E8F0FE;\n",
              "      --fill-color: #1967D2;\n",
              "      --hover-bg-color: #E2EBFA;\n",
              "      --hover-fill-color: #174EA6;\n",
              "      --disabled-fill-color: #AAA;\n",
              "      --disabled-bg-color: #DDD;\n",
              "  }\n",
              "\n",
              "  [theme=dark] .colab-df-quickchart {\n",
              "      --bg-color: #3B4455;\n",
              "      --fill-color: #D2E3FC;\n",
              "      --hover-bg-color: #434B5C;\n",
              "      --hover-fill-color: #FFFFFF;\n",
              "      --disabled-bg-color: #3B4455;\n",
              "      --disabled-fill-color: #666;\n",
              "  }\n",
              "\n",
              "  .colab-df-quickchart {\n",
              "    background-color: var(--bg-color);\n",
              "    border: none;\n",
              "    border-radius: 50%;\n",
              "    cursor: pointer;\n",
              "    display: none;\n",
              "    fill: var(--fill-color);\n",
              "    height: 32px;\n",
              "    padding: 0;\n",
              "    width: 32px;\n",
              "  }\n",
              "\n",
              "  .colab-df-quickchart:hover {\n",
              "    background-color: var(--hover-bg-color);\n",
              "    box-shadow: 0 1px 2px rgba(60, 64, 67, 0.3), 0 1px 3px 1px rgba(60, 64, 67, 0.15);\n",
              "    fill: var(--button-hover-fill-color);\n",
              "  }\n",
              "\n",
              "  .colab-df-quickchart-complete:disabled,\n",
              "  .colab-df-quickchart-complete:disabled:hover {\n",
              "    background-color: var(--disabled-bg-color);\n",
              "    fill: var(--disabled-fill-color);\n",
              "    box-shadow: none;\n",
              "  }\n",
              "\n",
              "  .colab-df-spinner {\n",
              "    border: 2px solid var(--fill-color);\n",
              "    border-color: transparent;\n",
              "    border-bottom-color: var(--fill-color);\n",
              "    animation:\n",
              "      spin 1s steps(1) infinite;\n",
              "  }\n",
              "\n",
              "  @keyframes spin {\n",
              "    0% {\n",
              "      border-color: transparent;\n",
              "      border-bottom-color: var(--fill-color);\n",
              "      border-left-color: var(--fill-color);\n",
              "    }\n",
              "    20% {\n",
              "      border-color: transparent;\n",
              "      border-left-color: var(--fill-color);\n",
              "      border-top-color: var(--fill-color);\n",
              "    }\n",
              "    30% {\n",
              "      border-color: transparent;\n",
              "      border-left-color: var(--fill-color);\n",
              "      border-top-color: var(--fill-color);\n",
              "      border-right-color: var(--fill-color);\n",
              "    }\n",
              "    40% {\n",
              "      border-color: transparent;\n",
              "      border-right-color: var(--fill-color);\n",
              "      border-top-color: var(--fill-color);\n",
              "    }\n",
              "    60% {\n",
              "      border-color: transparent;\n",
              "      border-right-color: var(--fill-color);\n",
              "    }\n",
              "    80% {\n",
              "      border-color: transparent;\n",
              "      border-right-color: var(--fill-color);\n",
              "      border-bottom-color: var(--fill-color);\n",
              "    }\n",
              "    90% {\n",
              "      border-color: transparent;\n",
              "      border-bottom-color: var(--fill-color);\n",
              "    }\n",
              "  }\n",
              "</style>\n",
              "\n",
              "  <script>\n",
              "    async function quickchart(key) {\n",
              "      const quickchartButtonEl =\n",
              "        document.querySelector('#' + key + ' button');\n",
              "      quickchartButtonEl.disabled = true;  // To prevent multiple clicks.\n",
              "      quickchartButtonEl.classList.add('colab-df-spinner');\n",
              "      try {\n",
              "        const charts = await google.colab.kernel.invokeFunction(\n",
              "            'suggestCharts', [key], {});\n",
              "      } catch (error) {\n",
              "        console.error('Error during call to suggestCharts:', error);\n",
              "      }\n",
              "      quickchartButtonEl.classList.remove('colab-df-spinner');\n",
              "      quickchartButtonEl.classList.add('colab-df-quickchart-complete');\n",
              "    }\n",
              "    (() => {\n",
              "      let quickchartButtonEl =\n",
              "        document.querySelector('#df-ce2df0a0-77a4-4fe3-9de3-560f565f915f button');\n",
              "      quickchartButtonEl.style.display =\n",
              "        google.colab.kernel.accessAllowed ? 'block' : 'none';\n",
              "    })();\n",
              "  </script>\n",
              "</div>\n",
              "\n",
              "    </div>\n",
              "  </div>\n"
            ],
            "application/vnd.google.colaboratory.intrinsic+json": {
              "type": "dataframe"
            }
          },
          "metadata": {},
          "execution_count": 9
        }
      ],
      "source": [
        "data.describe()"
      ]
    },
    {
      "cell_type": "code",
      "source": [
        "pd.set_option('display.max_rows', 10) # None으로 하면 모든 데이터가 출력됨"
      ],
      "metadata": {
        "id": "g1duhhlCpdE9"
      },
      "execution_count": 16,
      "outputs": []
    },
    {
      "cell_type": "code",
      "execution_count": 17,
      "metadata": {
        "id": "k3cVC6Jyf_Bh",
        "colab": {
          "base_uri": "https://localhost:8080/"
        },
        "outputId": "415a39b0-4193-497e-f787-3189e73678e9"
      },
      "outputs": [
        {
          "output_type": "stream",
          "name": "stdout",
          "text": [
            "각 열별 NaN 값의 개수:\n",
            "tBodyAcc-mean()-X       0\n",
            "tBodyAcc-mean()-Y       0\n",
            "tBodyAcc-mean()-Z       0\n",
            "tBodyAcc-std()-X        0\n",
            "tBodyAcc-std()-Y        0\n",
            "                       ..\n",
            "angle(X,gravityMean)    0\n",
            "angle(Y,gravityMean)    0\n",
            "angle(Z,gravityMean)    0\n",
            "subject                 0\n",
            "Activity                0\n",
            "Length: 563, dtype: int64\n"
          ]
        }
      ],
      "source": [
        "nan_count_by_column = data.isna().sum(axis=0)\n",
        "\n",
        "print(\"각 열별 NaN 값의 개수:\")\n",
        "print(nan_count_by_column)"
      ]
    },
    {
      "cell_type": "markdown",
      "metadata": {
        "id": "JS-uDFHkt7rg"
      },
      "source": [
        "### (2) 목표 변수 확인하기"
      ]
    },
    {
      "cell_type": "markdown",
      "metadata": {
        "id": "QivYs5qqMiu0"
      },
      "source": [
        "* **세부 요구사항**\n",
        "    - target인 'Activity'에 대해 단변량 분석을 수행합니다.\n",
        "    - 범주의 종류, 범주별 빈도수 및 비율 등"
      ]
    },
    {
      "cell_type": "code",
      "execution_count": 24,
      "metadata": {
        "id": "dk4XgnqpgAUt",
        "colab": {
          "base_uri": "https://localhost:8080/"
        },
        "outputId": "6022c8c3-8495-4215-aedc-4730ca99a9de"
      },
      "outputs": [
        {
          "output_type": "stream",
          "name": "stdout",
          "text": [
            "Activity의 범주 종류:\n",
            "['STANDING' 'LAYING' 'WALKING' 'WALKING_DOWNSTAIRS' 'WALKING_UPSTAIRS'\n",
            " 'SITTING']\n"
          ]
        }
      ],
      "source": [
        "activity_categories = data['Activity'].unique()\n",
        "\n",
        "print(\"Activity의 범주 종류:\")\n",
        "print(activity_categories)"
      ]
    },
    {
      "cell_type": "code",
      "execution_count": 25,
      "metadata": {
        "id": "a5htSEb5gAR2",
        "colab": {
          "base_uri": "https://localhost:8080/"
        },
        "outputId": "dc5be428-a47a-4ac5-f348-79482f3494b1"
      },
      "outputs": [
        {
          "output_type": "stream",
          "name": "stdout",
          "text": [
            "각 범주별 빈도수:\n",
            "LAYING                1115\n",
            "STANDING              1087\n",
            "SITTING               1032\n",
            "WALKING                998\n",
            "WALKING_UPSTAIRS       858\n",
            "WALKING_DOWNSTAIRS     791\n",
            "Name: Activity, dtype: int64\n",
            "\n"
          ]
        }
      ],
      "source": [
        "activity_counts = data['Activity'].value_counts()\n",
        "\n",
        "print(\"각 범주별 빈도수:\")\n",
        "print(activity_counts)\n",
        "print()"
      ]
    },
    {
      "cell_type": "code",
      "execution_count": 26,
      "metadata": {
        "id": "a9DGZxiDgAOt",
        "colab": {
          "base_uri": "https://localhost:8080/"
        },
        "outputId": "a7c66dbe-074f-462c-b3f5-c8319ea4a4c0"
      },
      "outputs": [
        {
          "output_type": "stream",
          "name": "stdout",
          "text": [
            "각 범주별 비율:\n",
            "LAYING                0.189594\n",
            "STANDING              0.184833\n",
            "SITTING               0.175480\n",
            "WALKING               0.169699\n",
            "WALKING_UPSTAIRS      0.145894\n",
            "WALKING_DOWNSTAIRS    0.134501\n",
            "Name: Activity, dtype: float64\n"
          ]
        }
      ],
      "source": [
        "activity_ratios = data['Activity'].value_counts(normalize=True)\n",
        "\n",
        "print(\"각 범주별 비율:\")\n",
        "print(activity_ratios)"
      ]
    },
    {
      "cell_type": "markdown",
      "metadata": {
        "id": "gT0VQr2lFo2C"
      },
      "source": [
        "### (3) 센서 그룹 데이터: features"
      ]
    },
    {
      "cell_type": "markdown",
      "metadata": {
        "id": "wlmfrOTFV6a-"
      },
      "source": [
        "* **세부 요구사항**\n",
        "    - feature 이름에 대한 계층 구조별로 변수의 수를 카운트 해 봅시다.\n",
        "        - sensor 별 변수의 개수\n",
        "        - agg(regation) 별 변수의 개수\n",
        "        - axis 별 변수의 개수"
      ]
    },
    {
      "cell_type": "code",
      "execution_count": 28,
      "metadata": {
        "id": "PDnJkt_CgBd1",
        "colab": {
          "base_uri": "https://localhost:8080/",
          "height": 419
        },
        "outputId": "373de63d-d93d-4d83-aa56-401fa541abb5"
      },
      "outputs": [
        {
          "output_type": "execute_result",
          "data": {
            "text/plain": [
              "       sensor                agg         axis  \\\n",
              "0    tBodyAcc             mean()            X   \n",
              "1    tBodyAcc             mean()            Y   \n",
              "2    tBodyAcc             mean()            Z   \n",
              "3    tBodyAcc              std()            X   \n",
              "4    tBodyAcc              std()            Y   \n",
              "..        ...                ...          ...   \n",
              "556     angle      tBodyGyroMean  gravityMean   \n",
              "557     angle  tBodyGyroJerkMean  gravityMean   \n",
              "558     angle                  X  gravityMean   \n",
              "559     angle                  Y  gravityMean   \n",
              "560     angle                  Z  gravityMean   \n",
              "\n",
              "                             feature_name  \n",
              "0                       tBodyAcc-mean()-X  \n",
              "1                       tBodyAcc-mean()-Y  \n",
              "2                       tBodyAcc-mean()-Z  \n",
              "3                        tBodyAcc-std()-X  \n",
              "4                        tBodyAcc-std()-Y  \n",
              "..                                    ...  \n",
              "556      angle(tBodyGyroMean,gravityMean)  \n",
              "557  angle(tBodyGyroJerkMean,gravityMean)  \n",
              "558                  angle(X,gravityMean)  \n",
              "559                  angle(Y,gravityMean)  \n",
              "560                  angle(Z,gravityMean)  \n",
              "\n",
              "[561 rows x 4 columns]"
            ],
            "text/html": [
              "\n",
              "  <div id=\"df-7c11b633-0794-445d-98b3-25fd66abdabd\" class=\"colab-df-container\">\n",
              "    <div>\n",
              "<style scoped>\n",
              "    .dataframe tbody tr th:only-of-type {\n",
              "        vertical-align: middle;\n",
              "    }\n",
              "\n",
              "    .dataframe tbody tr th {\n",
              "        vertical-align: top;\n",
              "    }\n",
              "\n",
              "    .dataframe thead th {\n",
              "        text-align: right;\n",
              "    }\n",
              "</style>\n",
              "<table border=\"1\" class=\"dataframe\">\n",
              "  <thead>\n",
              "    <tr style=\"text-align: right;\">\n",
              "      <th></th>\n",
              "      <th>sensor</th>\n",
              "      <th>agg</th>\n",
              "      <th>axis</th>\n",
              "      <th>feature_name</th>\n",
              "    </tr>\n",
              "  </thead>\n",
              "  <tbody>\n",
              "    <tr>\n",
              "      <th>0</th>\n",
              "      <td>tBodyAcc</td>\n",
              "      <td>mean()</td>\n",
              "      <td>X</td>\n",
              "      <td>tBodyAcc-mean()-X</td>\n",
              "    </tr>\n",
              "    <tr>\n",
              "      <th>1</th>\n",
              "      <td>tBodyAcc</td>\n",
              "      <td>mean()</td>\n",
              "      <td>Y</td>\n",
              "      <td>tBodyAcc-mean()-Y</td>\n",
              "    </tr>\n",
              "    <tr>\n",
              "      <th>2</th>\n",
              "      <td>tBodyAcc</td>\n",
              "      <td>mean()</td>\n",
              "      <td>Z</td>\n",
              "      <td>tBodyAcc-mean()-Z</td>\n",
              "    </tr>\n",
              "    <tr>\n",
              "      <th>3</th>\n",
              "      <td>tBodyAcc</td>\n",
              "      <td>std()</td>\n",
              "      <td>X</td>\n",
              "      <td>tBodyAcc-std()-X</td>\n",
              "    </tr>\n",
              "    <tr>\n",
              "      <th>4</th>\n",
              "      <td>tBodyAcc</td>\n",
              "      <td>std()</td>\n",
              "      <td>Y</td>\n",
              "      <td>tBodyAcc-std()-Y</td>\n",
              "    </tr>\n",
              "    <tr>\n",
              "      <th>...</th>\n",
              "      <td>...</td>\n",
              "      <td>...</td>\n",
              "      <td>...</td>\n",
              "      <td>...</td>\n",
              "    </tr>\n",
              "    <tr>\n",
              "      <th>556</th>\n",
              "      <td>angle</td>\n",
              "      <td>tBodyGyroMean</td>\n",
              "      <td>gravityMean</td>\n",
              "      <td>angle(tBodyGyroMean,gravityMean)</td>\n",
              "    </tr>\n",
              "    <tr>\n",
              "      <th>557</th>\n",
              "      <td>angle</td>\n",
              "      <td>tBodyGyroJerkMean</td>\n",
              "      <td>gravityMean</td>\n",
              "      <td>angle(tBodyGyroJerkMean,gravityMean)</td>\n",
              "    </tr>\n",
              "    <tr>\n",
              "      <th>558</th>\n",
              "      <td>angle</td>\n",
              "      <td>X</td>\n",
              "      <td>gravityMean</td>\n",
              "      <td>angle(X,gravityMean)</td>\n",
              "    </tr>\n",
              "    <tr>\n",
              "      <th>559</th>\n",
              "      <td>angle</td>\n",
              "      <td>Y</td>\n",
              "      <td>gravityMean</td>\n",
              "      <td>angle(Y,gravityMean)</td>\n",
              "    </tr>\n",
              "    <tr>\n",
              "      <th>560</th>\n",
              "      <td>angle</td>\n",
              "      <td>Z</td>\n",
              "      <td>gravityMean</td>\n",
              "      <td>angle(Z,gravityMean)</td>\n",
              "    </tr>\n",
              "  </tbody>\n",
              "</table>\n",
              "<p>561 rows × 4 columns</p>\n",
              "</div>\n",
              "    <div class=\"colab-df-buttons\">\n",
              "\n",
              "  <div class=\"colab-df-container\">\n",
              "    <button class=\"colab-df-convert\" onclick=\"convertToInteractive('df-7c11b633-0794-445d-98b3-25fd66abdabd')\"\n",
              "            title=\"Convert this dataframe to an interactive table.\"\n",
              "            style=\"display:none;\">\n",
              "\n",
              "  <svg xmlns=\"http://www.w3.org/2000/svg\" height=\"24px\" viewBox=\"0 -960 960 960\">\n",
              "    <path d=\"M120-120v-720h720v720H120Zm60-500h600v-160H180v160Zm220 220h160v-160H400v160Zm0 220h160v-160H400v160ZM180-400h160v-160H180v160Zm440 0h160v-160H620v160ZM180-180h160v-160H180v160Zm440 0h160v-160H620v160Z\"/>\n",
              "  </svg>\n",
              "    </button>\n",
              "\n",
              "  <style>\n",
              "    .colab-df-container {\n",
              "      display:flex;\n",
              "      gap: 12px;\n",
              "    }\n",
              "\n",
              "    .colab-df-convert {\n",
              "      background-color: #E8F0FE;\n",
              "      border: none;\n",
              "      border-radius: 50%;\n",
              "      cursor: pointer;\n",
              "      display: none;\n",
              "      fill: #1967D2;\n",
              "      height: 32px;\n",
              "      padding: 0 0 0 0;\n",
              "      width: 32px;\n",
              "    }\n",
              "\n",
              "    .colab-df-convert:hover {\n",
              "      background-color: #E2EBFA;\n",
              "      box-shadow: 0px 1px 2px rgba(60, 64, 67, 0.3), 0px 1px 3px 1px rgba(60, 64, 67, 0.15);\n",
              "      fill: #174EA6;\n",
              "    }\n",
              "\n",
              "    .colab-df-buttons div {\n",
              "      margin-bottom: 4px;\n",
              "    }\n",
              "\n",
              "    [theme=dark] .colab-df-convert {\n",
              "      background-color: #3B4455;\n",
              "      fill: #D2E3FC;\n",
              "    }\n",
              "\n",
              "    [theme=dark] .colab-df-convert:hover {\n",
              "      background-color: #434B5C;\n",
              "      box-shadow: 0px 1px 3px 1px rgba(0, 0, 0, 0.15);\n",
              "      filter: drop-shadow(0px 1px 2px rgba(0, 0, 0, 0.3));\n",
              "      fill: #FFFFFF;\n",
              "    }\n",
              "  </style>\n",
              "\n",
              "    <script>\n",
              "      const buttonEl =\n",
              "        document.querySelector('#df-7c11b633-0794-445d-98b3-25fd66abdabd button.colab-df-convert');\n",
              "      buttonEl.style.display =\n",
              "        google.colab.kernel.accessAllowed ? 'block' : 'none';\n",
              "\n",
              "      async function convertToInteractive(key) {\n",
              "        const element = document.querySelector('#df-7c11b633-0794-445d-98b3-25fd66abdabd');\n",
              "        const dataTable =\n",
              "          await google.colab.kernel.invokeFunction('convertToInteractive',\n",
              "                                                    [key], {});\n",
              "        if (!dataTable) return;\n",
              "\n",
              "        const docLinkHtml = 'Like what you see? Visit the ' +\n",
              "          '<a target=\"_blank\" href=https://colab.research.google.com/notebooks/data_table.ipynb>data table notebook</a>'\n",
              "          + ' to learn more about interactive tables.';\n",
              "        element.innerHTML = '';\n",
              "        dataTable['output_type'] = 'display_data';\n",
              "        await google.colab.output.renderOutput(dataTable, element);\n",
              "        const docLink = document.createElement('div');\n",
              "        docLink.innerHTML = docLinkHtml;\n",
              "        element.appendChild(docLink);\n",
              "      }\n",
              "    </script>\n",
              "  </div>\n",
              "\n",
              "\n",
              "<div id=\"df-9d38cd24-ef35-4a3e-8f70-c43ad6db8b86\">\n",
              "  <button class=\"colab-df-quickchart\" onclick=\"quickchart('df-9d38cd24-ef35-4a3e-8f70-c43ad6db8b86')\"\n",
              "            title=\"Suggest charts\"\n",
              "            style=\"display:none;\">\n",
              "\n",
              "<svg xmlns=\"http://www.w3.org/2000/svg\" height=\"24px\"viewBox=\"0 0 24 24\"\n",
              "     width=\"24px\">\n",
              "    <g>\n",
              "        <path d=\"M19 3H5c-1.1 0-2 .9-2 2v14c0 1.1.9 2 2 2h14c1.1 0 2-.9 2-2V5c0-1.1-.9-2-2-2zM9 17H7v-7h2v7zm4 0h-2V7h2v10zm4 0h-2v-4h2v4z\"/>\n",
              "    </g>\n",
              "</svg>\n",
              "  </button>\n",
              "\n",
              "<style>\n",
              "  .colab-df-quickchart {\n",
              "      --bg-color: #E8F0FE;\n",
              "      --fill-color: #1967D2;\n",
              "      --hover-bg-color: #E2EBFA;\n",
              "      --hover-fill-color: #174EA6;\n",
              "      --disabled-fill-color: #AAA;\n",
              "      --disabled-bg-color: #DDD;\n",
              "  }\n",
              "\n",
              "  [theme=dark] .colab-df-quickchart {\n",
              "      --bg-color: #3B4455;\n",
              "      --fill-color: #D2E3FC;\n",
              "      --hover-bg-color: #434B5C;\n",
              "      --hover-fill-color: #FFFFFF;\n",
              "      --disabled-bg-color: #3B4455;\n",
              "      --disabled-fill-color: #666;\n",
              "  }\n",
              "\n",
              "  .colab-df-quickchart {\n",
              "    background-color: var(--bg-color);\n",
              "    border: none;\n",
              "    border-radius: 50%;\n",
              "    cursor: pointer;\n",
              "    display: none;\n",
              "    fill: var(--fill-color);\n",
              "    height: 32px;\n",
              "    padding: 0;\n",
              "    width: 32px;\n",
              "  }\n",
              "\n",
              "  .colab-df-quickchart:hover {\n",
              "    background-color: var(--hover-bg-color);\n",
              "    box-shadow: 0 1px 2px rgba(60, 64, 67, 0.3), 0 1px 3px 1px rgba(60, 64, 67, 0.15);\n",
              "    fill: var(--button-hover-fill-color);\n",
              "  }\n",
              "\n",
              "  .colab-df-quickchart-complete:disabled,\n",
              "  .colab-df-quickchart-complete:disabled:hover {\n",
              "    background-color: var(--disabled-bg-color);\n",
              "    fill: var(--disabled-fill-color);\n",
              "    box-shadow: none;\n",
              "  }\n",
              "\n",
              "  .colab-df-spinner {\n",
              "    border: 2px solid var(--fill-color);\n",
              "    border-color: transparent;\n",
              "    border-bottom-color: var(--fill-color);\n",
              "    animation:\n",
              "      spin 1s steps(1) infinite;\n",
              "  }\n",
              "\n",
              "  @keyframes spin {\n",
              "    0% {\n",
              "      border-color: transparent;\n",
              "      border-bottom-color: var(--fill-color);\n",
              "      border-left-color: var(--fill-color);\n",
              "    }\n",
              "    20% {\n",
              "      border-color: transparent;\n",
              "      border-left-color: var(--fill-color);\n",
              "      border-top-color: var(--fill-color);\n",
              "    }\n",
              "    30% {\n",
              "      border-color: transparent;\n",
              "      border-left-color: var(--fill-color);\n",
              "      border-top-color: var(--fill-color);\n",
              "      border-right-color: var(--fill-color);\n",
              "    }\n",
              "    40% {\n",
              "      border-color: transparent;\n",
              "      border-right-color: var(--fill-color);\n",
              "      border-top-color: var(--fill-color);\n",
              "    }\n",
              "    60% {\n",
              "      border-color: transparent;\n",
              "      border-right-color: var(--fill-color);\n",
              "    }\n",
              "    80% {\n",
              "      border-color: transparent;\n",
              "      border-right-color: var(--fill-color);\n",
              "      border-bottom-color: var(--fill-color);\n",
              "    }\n",
              "    90% {\n",
              "      border-color: transparent;\n",
              "      border-bottom-color: var(--fill-color);\n",
              "    }\n",
              "  }\n",
              "</style>\n",
              "\n",
              "  <script>\n",
              "    async function quickchart(key) {\n",
              "      const quickchartButtonEl =\n",
              "        document.querySelector('#' + key + ' button');\n",
              "      quickchartButtonEl.disabled = true;  // To prevent multiple clicks.\n",
              "      quickchartButtonEl.classList.add('colab-df-spinner');\n",
              "      try {\n",
              "        const charts = await google.colab.kernel.invokeFunction(\n",
              "            'suggestCharts', [key], {});\n",
              "      } catch (error) {\n",
              "        console.error('Error during call to suggestCharts:', error);\n",
              "      }\n",
              "      quickchartButtonEl.classList.remove('colab-df-spinner');\n",
              "      quickchartButtonEl.classList.add('colab-df-quickchart-complete');\n",
              "    }\n",
              "    (() => {\n",
              "      let quickchartButtonEl =\n",
              "        document.querySelector('#df-9d38cd24-ef35-4a3e-8f70-c43ad6db8b86 button');\n",
              "      quickchartButtonEl.style.display =\n",
              "        google.colab.kernel.accessAllowed ? 'block' : 'none';\n",
              "    })();\n",
              "  </script>\n",
              "</div>\n",
              "\n",
              "  <div id=\"id_47452a23-4ae8-45b1-8dfd-eae7acb4f9b6\">\n",
              "    <style>\n",
              "      .colab-df-generate {\n",
              "        background-color: #E8F0FE;\n",
              "        border: none;\n",
              "        border-radius: 50%;\n",
              "        cursor: pointer;\n",
              "        display: none;\n",
              "        fill: #1967D2;\n",
              "        height: 32px;\n",
              "        padding: 0 0 0 0;\n",
              "        width: 32px;\n",
              "      }\n",
              "\n",
              "      .colab-df-generate:hover {\n",
              "        background-color: #E2EBFA;\n",
              "        box-shadow: 0px 1px 2px rgba(60, 64, 67, 0.3), 0px 1px 3px 1px rgba(60, 64, 67, 0.15);\n",
              "        fill: #174EA6;\n",
              "      }\n",
              "\n",
              "      [theme=dark] .colab-df-generate {\n",
              "        background-color: #3B4455;\n",
              "        fill: #D2E3FC;\n",
              "      }\n",
              "\n",
              "      [theme=dark] .colab-df-generate:hover {\n",
              "        background-color: #434B5C;\n",
              "        box-shadow: 0px 1px 3px 1px rgba(0, 0, 0, 0.15);\n",
              "        filter: drop-shadow(0px 1px 2px rgba(0, 0, 0, 0.3));\n",
              "        fill: #FFFFFF;\n",
              "      }\n",
              "    </style>\n",
              "    <button class=\"colab-df-generate\" onclick=\"generateWithVariable('features')\"\n",
              "            title=\"Generate code using this dataframe.\"\n",
              "            style=\"display:none;\">\n",
              "\n",
              "  <svg xmlns=\"http://www.w3.org/2000/svg\" height=\"24px\"viewBox=\"0 0 24 24\"\n",
              "       width=\"24px\">\n",
              "    <path d=\"M7,19H8.4L18.45,9,17,7.55,7,17.6ZM5,21V16.75L18.45,3.32a2,2,0,0,1,2.83,0l1.4,1.43a1.91,1.91,0,0,1,.58,1.4,1.91,1.91,0,0,1-.58,1.4L9.25,21ZM18.45,9,17,7.55Zm-12,3A5.31,5.31,0,0,0,4.9,8.1,5.31,5.31,0,0,0,1,6.5,5.31,5.31,0,0,0,4.9,4.9,5.31,5.31,0,0,0,6.5,1,5.31,5.31,0,0,0,8.1,4.9,5.31,5.31,0,0,0,12,6.5,5.46,5.46,0,0,0,6.5,12Z\"/>\n",
              "  </svg>\n",
              "    </button>\n",
              "    <script>\n",
              "      (() => {\n",
              "      const buttonEl =\n",
              "        document.querySelector('#id_47452a23-4ae8-45b1-8dfd-eae7acb4f9b6 button.colab-df-generate');\n",
              "      buttonEl.style.display =\n",
              "        google.colab.kernel.accessAllowed ? 'block' : 'none';\n",
              "\n",
              "      buttonEl.onclick = () => {\n",
              "        google.colab.notebook.generateWithVariable('features');\n",
              "      }\n",
              "      })();\n",
              "    </script>\n",
              "  </div>\n",
              "\n",
              "    </div>\n",
              "  </div>\n"
            ],
            "application/vnd.google.colaboratory.intrinsic+json": {
              "type": "dataframe",
              "variable_name": "features",
              "summary": "{\n  \"name\": \"features\",\n  \"rows\": 561,\n  \"fields\": [\n    {\n      \"column\": \"sensor\",\n      \"properties\": {\n        \"dtype\": \"category\",\n        \"num_unique_values\": 18,\n        \"samples\": [\n          \"tBodyAcc\",\n          \"tGravityAcc\",\n          \"tBodyGyroMag\"\n        ],\n        \"semantic_type\": \"\",\n        \"description\": \"\"\n      }\n    },\n    {\n      \"column\": \"agg\",\n      \"properties\": {\n        \"dtype\": \"category\",\n        \"num_unique_values\": 27,\n        \"samples\": [\n          \"entropy()\",\n          \"arCoeff()3\",\n          \"arCoeff()\"\n        ],\n        \"semantic_type\": \"\",\n        \"description\": \"\"\n      }\n    },\n    {\n      \"column\": \"axis\",\n      \"properties\": {\n        \"dtype\": \"category\",\n        \"num_unique_values\": 62,\n        \"samples\": [\n          \"33,40.2\",\n          \"33,48.2\",\n          \"X\"\n        ],\n        \"semantic_type\": \"\",\n        \"description\": \"\"\n      }\n    },\n    {\n      \"column\": \"feature_name\",\n      \"properties\": {\n        \"dtype\": \"string\",\n        \"num_unique_values\": 533,\n        \"samples\": [\n          \"tBodyAcc-mad()-X\",\n          \"fBodyBodyAccJerkMag-mad()\",\n          \"tBodyAccJerk-entropy()-Z\"\n        ],\n        \"semantic_type\": \"\",\n        \"description\": \"\"\n      }\n    }\n  ]\n}"
            }
          },
          "metadata": {},
          "execution_count": 28
        }
      ],
      "source": [
        "features"
      ]
    },
    {
      "cell_type": "code",
      "execution_count": 30,
      "metadata": {
        "id": "dRPDj7J6gBa4",
        "colab": {
          "base_uri": "https://localhost:8080/"
        },
        "outputId": "9d862c62-dec6-4ec6-e411-2ad74d011af6"
      },
      "outputs": [
        {
          "output_type": "stream",
          "name": "stdout",
          "text": [
            "각 계층 구조별 변수의 수:\n",
            "fBodyGyro-bandsEnergy()-25,32    3\n",
            "fBodyGyro-bandsEnergy()-33,48    3\n",
            "fBodyGyro-bandsEnergy()-1,8      3\n",
            "fBodyGyro-bandsEnergy()-9,16     3\n",
            "fBodyGyro-bandsEnergy()-17,24    3\n",
            "                                ..\n",
            "tBodyGyro-energy()-Y             1\n",
            "tBodyGyro-energy()-X             1\n",
            "tBodyGyro-min()-Z                1\n",
            "tBodyGyro-min()-Y                1\n",
            "angle-Z-gravityMean              1\n",
            "Name: feature_type, Length: 408, dtype: int64\n"
          ]
        }
      ],
      "source": [
        "features['feature_type'] = features['sensor'] + '-' + features['agg'] + '-' + features['axis']\n",
        "\n",
        "# 각 계층 구조별 변수의 수를 카운트\n",
        "feature_counts = features['feature_type'].value_counts()\n",
        "\n",
        "print(\"각 계층 구조별 변수의 수:\")\n",
        "print(feature_counts)"
      ]
    },
    {
      "cell_type": "markdown",
      "metadata": {
        "id": "SELsrRp4Lin5"
      },
      "source": [
        "## 3.데이터 분석 : 미션1"
      ]
    },
    {
      "cell_type": "markdown",
      "metadata": {
        "id": "ESMbIufqXNSt"
      },
      "source": [
        "수많은 feature들을 모두 살펴보는 것은 과도한 시간과 노력이 필요합니다. 그래서 여러분은 **선택과 집중**을 해야 합니다.\n",
        "* 1) **기본 모델을 생성**한 후 **변수 중요도**를 구합니다.   \n",
        "    * random forest 알고리즘 사용을 권장합니다.\n",
        "* 2) **중요한 feature와 중요하지 않은 feature 상위 N개를 선정**하고, 이들을 대상으로 EDA 수행.\n",
        "* 3) **각 feature 그룹별 중요도**도 파악해보며 EDA를 수행  \n",
        "    * Feature 이름에는 계층구조를 담고 있습니다. 그렇다 보니 feature들을 적절하게 그룹으로 묶을 수 있습니다.\n",
        "    * 참고로, feature 그룹의 중요도는 개별 feature 중요도의 합으로 계산할 수 있습니다."
      ]
    },
    {
      "cell_type": "markdown",
      "metadata": {
        "id": "ny-X5nZaXQZk"
      },
      "source": [
        "### (1) 기본모델링 + 변수중요도 추출"
      ]
    },
    {
      "cell_type": "markdown",
      "metadata": {
        "id": "s9HLFlSwXana"
      },
      "source": [
        "* **세부 요구사항**\n",
        "    - 모델링을 위한 기본 전처리를 수행합니다.\n",
        "        - 주어진 데이터에서는 x, y로 나누고 train과 validation 분할 수행\n",
        "    - 트리기반 알고리즘을 이용하여 모델링을 합니다.\n",
        "        - 랜덤포레스트 권장 : 랜덤포레스트는 튜닝 없이 하이퍼파리미터의 기본값로도 적절한 성능의 모델을 생성할 수 있습니다.\n",
        "    - 변수 중요도 추출\n",
        "        - 사용자정의함수로 생성한 plot_feature_importance 을 이용\n",
        "        - 변수중요도 파악및 결과 저장"
      ]
    },
    {
      "cell_type": "code",
      "source": [
        "# 변수의 특성 중요도 계산하기\n",
        "def plot_feature_importance(importance, names, result_only = False, topn = 'all'):\n",
        "    feature_importance = np.array(importance)\n",
        "    feature_name = np.array(names)\n",
        "\n",
        "    data={'feature_name':feature_name,'feature_importance':feature_importance}\n",
        "    fi_temp = pd.DataFrame(data)\n",
        "\n",
        "    #변수의 특성 중요도 순으로 정렬하기\n",
        "    fi_temp.sort_values(by=['feature_importance'], ascending=False,inplace=True)\n",
        "    fi_temp.reset_index(drop=True, inplace = True)\n",
        "\n",
        "    if topn == 'all' :\n",
        "        fi_df = fi_temp.copy()\n",
        "    else :\n",
        "        fi_df = fi_temp.iloc[:topn]\n",
        "\n",
        "    #변수의 특성 중요도 그래프로 그리기\n",
        "    if result_only == False :\n",
        "        plt.figure(figsize=(10,20))\n",
        "        sns.barplot(x='feature_importance', y='feature_name', data = fi_df)\n",
        "\n",
        "        plt.xlabel('importance')\n",
        "        plt.ylabel('feature name')\n",
        "        plt.grid()\n",
        "\n",
        "    return fi_df"
      ],
      "metadata": {
        "id": "Pt6QlOPYsXkJ"
      },
      "execution_count": 36,
      "outputs": []
    },
    {
      "cell_type": "code",
      "execution_count": 34,
      "metadata": {
        "id": "8mNK5eaJgEI3"
      },
      "outputs": [],
      "source": [
        "from sklearn.model_selection import train_test_split\n",
        "from sklearn.ensemble import RandomForestClassifier\n",
        "import matplotlib.pyplot as plt\n",
        "import seaborn as sns\n",
        "import numpy as np\n",
        "\n",
        "x = data.drop(columns=['Activity'])\n",
        "y = data['Activity']\n",
        "\n",
        "x_train, x_valid, y_train, y_valid = train_test_split(x, y, test_size=0.2, random_state=42)\n",
        "\n",
        "rf_model = RandomForestClassifier(random_state=42)\n",
        "\n",
        "rf_model.fit(x_train, y_train)\n",
        "\n",
        "importance = rf_model.feature_importances_\n",
        "names = x_train.columns"
      ]
    },
    {
      "cell_type": "code",
      "execution_count": 37,
      "metadata": {
        "id": "rBR7wbZ_gEFf",
        "colab": {
          "base_uri": "https://localhost:8080/"
        },
        "outputId": "508f883d-435b-48bf-c804-7419f6057fbb"
      },
      "outputs": [
        {
          "output_type": "stream",
          "name": "stdout",
          "text": [
            "변수 중요도 내림차순:\n",
            "                             Feature  Importance\n",
            "40              tGravityAcc-mean()-X    0.033213\n",
            "50               tGravityAcc-max()-Y    0.029725\n",
            "49               tGravityAcc-max()-X    0.026256\n",
            "52               tGravityAcc-min()-X    0.025537\n",
            "558             angle(X,gravityMean)    0.024184\n",
            "..                               ...         ...\n",
            "480  fBodyGyro-bandsEnergy()-49,56.1    0.000102\n",
            "288             fBodyAcc-entropy()-Y    0.000101\n",
            "237       tBodyAccJerkMag-arCoeff()3    0.000075\n",
            "367         fBodyAccJerk-entropy()-Y    0.000062\n",
            "229            tBodyAccJerkMag-max()    0.000037\n",
            "\n",
            "[562 rows x 2 columns]\n"
          ]
        }
      ],
      "source": [
        "importance = rf_model.feature_importances_\n",
        "names = x_train.columns\n",
        "\n",
        "feature_importance_df = pd.DataFrame({'Feature': names, 'Importance': importance})\n",
        "\n",
        "feature_importance_df = feature_importance_df.sort_values(by='Importance', ascending=False)\n",
        "\n",
        "print(\"변수 중요도 내림차순:\")\n",
        "print(feature_importance_df)"
      ]
    },
    {
      "cell_type": "code",
      "execution_count": 39,
      "metadata": {
        "id": "H2I2N3itgDzg"
      },
      "outputs": [],
      "source": [
        "# 변수 중요도 그래프로 시각화하기, 변수가 너무 많은 까닭에 가독성이 떨어져서 주석 처리했음\n",
        "\n",
        "# fi_df = plot_feature_importance(importance, names)\n",
        "# print(fi_df)"
      ]
    },
    {
      "cell_type": "markdown",
      "metadata": {
        "id": "Xm1TP76PY3wQ"
      },
      "source": [
        "### (2) 중요도 기반 feature 분석"
      ]
    },
    {
      "cell_type": "markdown",
      "metadata": {
        "id": "HTfuP1WKZB7H"
      },
      "source": [
        "* **세부 요구사항**\n",
        "    - 상위 n, 하위 m 개의 변수를 선정\n",
        "    - 선정된 변수(feature)와 target 간의 관계를 kdeplot으로 그리기"
      ]
    },
    {
      "cell_type": "code",
      "execution_count": 40,
      "metadata": {
        "id": "rLTLWAlogIVW",
        "colab": {
          "base_uri": "https://localhost:8080/",
          "height": 601
        },
        "outputId": "024e87fc-56b1-4973-873f-650129af7fbd"
      },
      "outputs": [
        {
          "output_type": "stream",
          "name": "stderr",
          "text": [
            "WARNING:matplotlib.legend:No artists with labels found to put in legend.  Note that artists whose label start with an underscore are ignored when legend() is called with no argument.\n"
          ]
        },
        {
          "output_type": "display_data",
          "data": {
            "text/plain": [
              "<Figure size 1500x600 with 1 Axes>"
            ],
            "image/png": "[encoded data removed]"
          },
          "metadata": {}
        }
      ],
      "source": [
        "import seaborn as sns\n",
        "\n",
        "n_top = 100\n",
        "m_bottom = 100\n",
        "\n",
        "top_features = feature_importance_df.head(n_top)['Feature']\n",
        "bottom_features = feature_importance_df.tail(m_bottom)['Feature']\n",
        "\n",
        "plt.figure(figsize=(15, 6))\n",
        "\n",
        "for feature in top_features:\n",
        "    sns.kdeplot(data=data, x=feature, hue='Activity', fill=True, alpha=0.5)\n",
        "\n",
        "for feature in bottom_features:\n",
        "    sns.kdeplot(data=data, x=feature, hue='Activity', fill=True, alpha=0.5)\n",
        "\n",
        "plt.xlabel('Feature Value')\n",
        "plt.ylabel('Density')\n",
        "plt.title('Top {} and Bottom {} Features KDE Plot'.format(n_top, m_bottom))\n",
        "plt.legend(title='Activity')\n",
        "plt.show()\n"
      ]
    },
    {
      "cell_type": "markdown",
      "metadata": {
        "id": "LCX8WanEcUwJ"
      },
      "source": [
        "### (3) feature 그룹별 분석"
      ]
    },
    {
      "cell_type": "markdown",
      "metadata": {
        "id": "Kb1_hvmpcvQ2"
      },
      "source": [
        "* **세부 요구사항**\n",
        "    - 제공된 features.csv 에는 feature에 대한 계층구조를 정리해 놓았습니다.\n",
        "    - features와 변수중요도 결과를 merge 하시오.\n",
        "    - sensor 별 중요도 합계를 구하고 상위 변수 그룹별 비교 분석을 수행 하시오.\n",
        "    - sensor + agg 별 중요도 합계를 구하고 상위 변수 그룹별 비교 분석을 수행 하시오.\n"
      ]
    },
    {
      "cell_type": "code",
      "source": [
        "feature_importance_df.rename(columns={'Feature': 'feature_name'}, inplace=True)\n",
        "\n",
        "merged_df = pd.merge(features, feature_importance_df, on='feature_name', how='inner')\n",
        "\n",
        "print(merged_df)"
      ],
      "metadata": {
        "colab": {
          "base_uri": "https://localhost:8080/"
        },
        "id": "OMr86hkvuvt9",
        "outputId": "095a2ef0-01e4-411f-c813-0809a2058356"
      },
      "execution_count": 45,
      "outputs": [
        {
          "output_type": "stream",
          "name": "stdout",
          "text": [
            "       sensor                agg         axis  \\\n",
            "0    tBodyAcc             mean()            X   \n",
            "1    tBodyAcc             mean()            Y   \n",
            "2    tBodyAcc             mean()            Z   \n",
            "3    tBodyAcc              std()            X   \n",
            "4    tBodyAcc              std()            Y   \n",
            "..        ...                ...          ...   \n",
            "556     angle      tBodyGyroMean  gravityMean   \n",
            "557     angle  tBodyGyroJerkMean  gravityMean   \n",
            "558     angle                  X  gravityMean   \n",
            "559     angle                  Y  gravityMean   \n",
            "560     angle                  Z  gravityMean   \n",
            "\n",
            "                             feature_name  \\\n",
            "0                       tBodyAcc-mean()-X   \n",
            "1                       tBodyAcc-mean()-Y   \n",
            "2                       tBodyAcc-mean()-Z   \n",
            "3                        tBodyAcc-std()-X   \n",
            "4                        tBodyAcc-std()-Y   \n",
            "..                                    ...   \n",
            "556      angle(tBodyGyroMean,gravityMean)   \n",
            "557  angle(tBodyGyroJerkMean,gravityMean)   \n",
            "558                  angle(X,gravityMean)   \n",
            "559                  angle(Y,gravityMean)   \n",
            "560                  angle(Z,gravityMean)   \n",
            "\n",
            "                            feature_type  Importance  \n",
            "0                      tBodyAcc-mean()-X    0.000279  \n",
            "1                      tBodyAcc-mean()-Y    0.000308  \n",
            "2                      tBodyAcc-mean()-Z    0.000136  \n",
            "3                       tBodyAcc-std()-X    0.005567  \n",
            "4                       tBodyAcc-std()-Y    0.000400  \n",
            "..                                   ...         ...  \n",
            "556      angle-tBodyGyroMean-gravityMean    0.000527  \n",
            "557  angle-tBodyGyroJerkMean-gravityMean    0.000540  \n",
            "558                  angle-X-gravityMean    0.024184  \n",
            "559                  angle-Y-gravityMean    0.024119  \n",
            "560                  angle-Z-gravityMean    0.012210  \n",
            "\n",
            "[561 rows x 6 columns]\n"
          ]
        }
      ]
    },
    {
      "cell_type": "code",
      "execution_count": 49,
      "metadata": {
        "id": "8fhQJaW3gP2E"
      },
      "outputs": [],
      "source": [
        "sensor_importance_sum = merged_df.groupby('sensor')['Importance'].sum().reset_index()\n",
        "\n",
        "top_sensor_groups = sensor_importance_sum.sort_values(by='Importance', ascending=False).head(10)['sensor']\n",
        "\n",
        "merged_df['sensor-agg'] = merged_df['sensor'] + '-' + merged_df['agg']\n",
        "sensor_agg_importance_sum = merged_df.groupby('sensor-agg')['Importance'].sum().reset_index()\n",
        "\n",
        "top_sensor_agg_groups = sensor_agg_importance_sum.sort_values(by='Importance', ascending=False).head(10)['sensor-agg']"
      ]
    },
    {
      "cell_type": "code",
      "execution_count": 54,
      "metadata": {
        "id": "TVMKCVc4gPza",
        "colab": {
          "base_uri": "https://localhost:8080/"
        },
        "outputId": "a3c405cb-5872-4194-f934-961f34cb5da3"
      },
      "outputs": [
        {
          "output_type": "stream",
          "name": "stdout",
          "text": [
            "sensor 별 중요도 합계:\n",
            "                 sensor  Importance\n",
            "0                 angle    0.061880\n",
            "1              fBodyAcc    0.089308\n",
            "2          fBodyAccJerk    0.086659\n",
            "3           fBodyAccMag    0.045020\n",
            "4   fBodyBodyAccJerkMag    0.015203\n",
            "..                  ...         ...\n",
            "13        tBodyGyroJerk    0.039455\n",
            "14     tBodyGyroJerkMag    0.009766\n",
            "15         tBodyGyroMag    0.005501\n",
            "16          tGravityAcc    0.336072\n",
            "17       tGravityAccMag    0.033511\n",
            "\n",
            "[18 rows x 2 columns]\n",
            "\n",
            "Top 10 sensor 그룹:\n",
            "16      tGravityAcc\n",
            "1          fBodyAcc\n",
            "2      fBodyAccJerk\n",
            "7         fBodyGyro\n",
            "9      tBodyAccJerk\n",
            "0             angle\n",
            "3       fBodyAccMag\n",
            "8          tBodyAcc\n",
            "13    tBodyGyroJerk\n",
            "12        tBodyGyro\n",
            "Name: sensor, dtype: object\n",
            "\n",
            "\n",
            "sensor + agg 별 중요도 합계:\n",
            "                 sensor-agg  Importance\n",
            "0                   angle-X    0.024184\n",
            "1                   angle-Y    0.024119\n",
            "2                   angle-Z    0.012210\n",
            "3    angle-tBodyAccJerkMean    0.000170\n",
            "4        angle-tBodyAccMean    0.000130\n",
            "..                      ...         ...\n",
            "216    tGravityAccMag-max()    0.007780\n",
            "217   tGravityAccMag-mean()    0.001009\n",
            "218    tGravityAccMag-min()    0.000107\n",
            "219    tGravityAccMag-sma()    0.000586\n",
            "220    tGravityAccMag-std()    0.008381\n",
            "\n",
            "[221 rows x 2 columns]\n",
            "\n",
            "Top 10 sensor-agg 그룹:\n",
            "197         tGravityAcc-arCoeff()\n",
            "203             tGravityAcc-max()\n",
            "204            tGravityAcc-mean()\n",
            "205             tGravityAcc-min()\n",
            "199          tGravityAcc-energy()\n",
            "87        fBodyGyro-bandsEnergy()\n",
            "21     fBodyAccJerk-bandsEnergy()\n",
            "7          fBodyAcc-bandsEnergy()\n",
            "0                         angle-X\n",
            "1                         angle-Y\n",
            "Name: sensor-agg, dtype: object\n"
          ]
        }
      ],
      "source": [
        "print(\"sensor 별 중요도 합계:\")\n",
        "print(sensor_importance_sum)\n",
        "print(\"\\nTop 10 sensor 그룹:\")\n",
        "print(top_sensor_groups)\n",
        "print(\"\\n\")\n",
        "print(\"sensor + agg 별 중요도 합계:\")\n",
        "print(sensor_agg_importance_sum)\n",
        "print(\"\\nTop 10 sensor-agg 그룹:\")\n",
        "print(top_sensor_agg_groups)"
      ]
    },
    {
      "cell_type": "code",
      "execution_count": 53,
      "metadata": {
        "id": "1ZcW_KjAgPws",
        "colab": {
          "base_uri": "https://localhost:8080/",
          "height": 1000
        },
        "outputId": "d31ef48f-6218-41e6-9015-3a7a4820bffc"
      },
      "outputs": [
        {
          "output_type": "display_data",
          "data": {
            "text/plain": [
              "<Figure size 1000x600 with 1 Axes>"
            ],
            "image/png": "[encoded data removed]"
          },
          "metadata": {}
        },
        {
          "output_type": "display_data",
          "data": {
            "text/plain": [
              "<Figure size 1000x600 with 1 Axes>"
            ],
            "image/png": "[encoded data removed]"
          },
          "metadata": {}
        }
      ],
      "source": [
        "top_sensor_df = merged_df[merged_df['sensor'].isin(top_sensor_groups)]\n",
        "top_sensor_agg_df = merged_df[merged_df['sensor-agg'].isin(top_sensor_agg_groups)]\n",
        "\n",
        "plt.figure(figsize=(10, 6))\n",
        "sns.barplot(data=top_sensor_df, x='sensor', y='Importance', estimator=sum)\n",
        "plt.title('Top 10 Sensor Groups Importance Sum')\n",
        "plt.xlabel('Sensor')\n",
        "plt.ylabel('Importance Sum')\n",
        "plt.show()\n",
        "\n",
        "plt.figure(figsize=(10, 6))\n",
        "sns.barplot(data=top_sensor_agg_df, x='sensor-agg', y='Importance', estimator=sum)\n",
        "plt.title('Top 10 Sensor-Agg Groups Importance Sum')\n",
        "plt.xlabel('Sensor-Agg')\n",
        "plt.ylabel('Importance Sum')\n",
        "plt.show()"
      ]
    },
    {
      "cell_type": "markdown",
      "metadata": {
        "id": "pDCmvL_Hgs3S"
      },
      "source": [
        "## 4.데이터 분석 : 미션2"
      ]
    },
    {
      "cell_type": "markdown",
      "metadata": {
        "id": "wKY2QHikhMvf"
      },
      "source": [
        "다음의 case에 맞게 feature 및 feature 그룹 중요도를 기반으로 탐색적 데이터 분석을 수행하시오.\n",
        "* 1) Target을 **정적/동적 행동**으로 구분\n",
        "    * 6개의 행동은 2개의 그룹(정적행동, 동적행동)으로 나뉩니다.  \n",
        "    * 어떤 feature(혹은 feature 그룹)이 2개 class 그룹(정적행동, 동적행동)를 구분하는데 중요한지를 찾아보고 탐색해봅시다.\n",
        "* 2) Target을 **개별 행동 여부**로 구분\n",
        "    * 6가지의 행동을 분류하는 분석도 중요하지만, 개별 행동에만 특별히 영향을 받는 feature들도 있습니다.\n",
        "    * 예를 들어, 계단을 오르는 행동(Walking_upstairs)과 관련이 큰 feature가 있을 것입니다. [계단을 오르는 행동]인지 아닌지로 구분하는 target을 추가하여 EDA를 수행해 봅시다."
      ]
    },
    {
      "cell_type": "markdown",
      "metadata": {
        "id": "CyvvAdSUhS-1"
      },
      "source": [
        "### (1) 정적/동적 행동으로 구분하여 분석하기"
      ]
    },
    {
      "cell_type": "markdown",
      "metadata": {
        "id": "dYSWKXJuhcaM"
      },
      "source": [
        "* **세부 요구사항**\n",
        "    - Target인 Activity를 is_dynamic 변수로 변경하시오.\n",
        "        * 값 0 : STANDING, SITTING, LAYING\n",
        "        * 값 1 : WALKING, WALKING_UPSTAIRS, WALKING_DOWNSTAIRS\n",
        "    - is_dynamic을 예측하기 위한 기본 모델을 생성하시오.\n",
        "        * x, is_dynamic을 이용하여 train과 validation으로 데이터 분할\n",
        "        * 기본 모델링\n",
        "    - is_dynamic 을 구분하는데 중요한 변수 상위 5를 분석하시오.\n",
        "    - is_dynamic 을 구분하는데 중요한 변수 그룹을 분석하시오.\n",
        "        * sensor별\n",
        "        * sensor+agg 별\n"
      ]
    },
    {
      "cell_type": "markdown",
      "metadata": {
        "id": "FAvEswmsiU7U"
      },
      "source": [
        "#### 1) is_dynamic 추가"
      ]
    },
    {
      "cell_type": "code",
      "execution_count": 58,
      "metadata": {
        "id": "MCBKrl14hZ-O",
        "colab": {
          "base_uri": "https://localhost:8080/"
        },
        "outputId": "b357ba9a-8d4a-4860-cf2b-968a48033de0"
      },
      "outputs": [
        {
          "output_type": "stream",
          "name": "stdout",
          "text": [
            "0       0\n",
            "1       0\n",
            "2       0\n",
            "3       1\n",
            "4       1\n",
            "       ..\n",
            "5876    0\n",
            "5877    1\n",
            "5878    0\n",
            "5879    1\n",
            "5880    0\n",
            "Name: is_dynamic, Length: 5881, dtype: int64\n"
          ]
        }
      ],
      "source": [
        "data['is_dynamic'] = data['Activity'].isin(['WALKING', 'WALKING_UPSTAIRS', 'WALKING_DOWNSTAIRS']).astype(int)\n",
        "\n",
        "print(data['is_dynamic'])"
      ]
    },
    {
      "cell_type": "markdown",
      "metadata": {
        "id": "PRYATCWBi525"
      },
      "source": [
        "#### 2) 기본모델 생성"
      ]
    },
    {
      "cell_type": "code",
      "source": [
        "X = data.drop(columns=['is_dynamic', 'Activity'])\n",
        "y = data['is_dynamic']\n",
        "\n",
        "X_train, X_valid, y_train, y_valid = train_test_split(X, y, test_size=0.2, random_state=42)\n",
        "\n",
        "rf_model = RandomForestClassifier(random_state=42)\n",
        "\n",
        "rf_model.fit(X_train, y_train)\n",
        "\n",
        "y_pred = rf_model.predict(X_valid)\n",
        "\n",
        "accuracy = (y_pred == y_valid).mean()\n",
        "print(\"Accuracy:\", accuracy)"
      ],
      "metadata": {
        "colab": {
          "base_uri": "https://localhost:8080/"
        },
        "id": "-8LOA0gs0FT9",
        "outputId": "649b70f4-feaa-45eb-9559-2eca6eea1ddb"
      },
      "execution_count": 65,
      "outputs": [
        {
          "output_type": "stream",
          "name": "stdout",
          "text": [
            "Accuracy: 1.0\n"
          ]
        }
      ]
    },
    {
      "cell_type": "markdown",
      "metadata": {
        "id": "3A6WdFD8jhGY"
      },
      "source": [
        "#### 3) 변수중요도 상위 5개 분석"
      ]
    },
    {
      "cell_type": "code",
      "execution_count": 71,
      "metadata": {
        "id": "c2qni3QsgafX",
        "colab": {
          "base_uri": "https://localhost:8080/"
        },
        "outputId": "4b49f5bc-e9da-469b-e27e-42e348a91094"
      },
      "outputs": [
        {
          "output_type": "stream",
          "name": "stdout",
          "text": [
            "중요한 상위 변수 5개:\n",
            "                      Feature  Importance\n",
            "181     tBodyGyroJerk-iqr()-Z    0.059999\n",
            "347      fBodyAccJerk-std()-X    0.049973\n",
            "287      fBodyAcc-entropy()-X    0.049795\n",
            "353      fBodyAccJerk-max()-X    0.040065\n",
            "102  tBodyAccJerk-entropy()-X    0.039923\n"
          ]
        }
      ],
      "source": [
        "importance = rf_model.feature_importances_\n",
        "\n",
        "feature_importance_df = pd.DataFrame({'Feature': X.columns, 'Importance': importance})\n",
        "\n",
        "top_5_features = feature_importance_df.sort_values(by='Importance', ascending=False).head(5)\n",
        "print(\"중요한 상위 변수 5개:\")\n",
        "print(top_5_features)"
      ]
    },
    {
      "cell_type": "markdown",
      "metadata": {
        "id": "gDyBWi7yBslD"
      },
      "source": [
        "### (2) 개별 동작 분석 : is_standing\n"
      ]
    },
    {
      "cell_type": "markdown",
      "metadata": {
        "id": "Da8VZAS40Wyg"
      },
      "source": [
        "* **세부 요구사항**\n",
        "    - Target인 Activity를 is_standing 변수로 변경하시오.\n",
        "        * 값 1 : STANDING\n",
        "        * 값 0 : 나머지\n",
        "    - is_standing 을 예측하기 위한 기본 모델을 생성하시오.\n",
        "        * x, is_standing 을 이용하여 train과 validation으로 데이터 분할\n",
        "        * 기본 모델링\n",
        "    - is_standing 을 구분하는데 중요한 변수 상위 5를 분석하시오.\n",
        "    - is_standing 을 구분하는데 중요한 변수 그룹을 분석하시오.\n",
        "        * sensor별\n",
        "        * sensor+agg 별\n"
      ]
    },
    {
      "cell_type": "code",
      "execution_count": 99,
      "metadata": {
        "id": "Num-szT8gfKf"
      },
      "outputs": [],
      "source": [
        "# standing_data = data라고 하면, data 객체를 가르키는 것이기 때문에 data에도 똑같은 column이 추가됨\n",
        "standing_data = data.copy()\n",
        "standing_data['is_standing'] = standing_data['Activity'].isin(['STANDING']).astype(int)"
      ]
    },
    {
      "cell_type": "code",
      "execution_count": 103,
      "metadata": {
        "id": "VZqPiZTRgfHK",
        "colab": {
          "base_uri": "https://localhost:8080/"
        },
        "outputId": "c30ec68c-7d55-42a9-c33a-096d5bf2e5f8"
      },
      "outputs": [
        {
          "output_type": "stream",
          "name": "stdout",
          "text": [
            "Accuracy: 0.9872557349192863\n"
          ]
        }
      ],
      "source": [
        "X = standing_data.drop(columns=['is_dynamic', 'Activity', 'is_standing'])\n",
        "y = standing_data['is_standing']\n",
        "\n",
        "X_train, X_valid, y_train, y_valid = train_test_split(X, y, test_size=0.2, random_state=42)\n",
        "\n",
        "rf_model = RandomForestClassifier(random_state=42)\n",
        "\n",
        "rf_model.fit(X_train, y_train)\n",
        "\n",
        "y_pred = rf_model.predict(X_valid)\n",
        "\n",
        "accuracy = (y_pred == y_valid).mean()\n",
        "print(\"Accuracy:\", accuracy)"
      ]
    },
    {
      "cell_type": "code",
      "execution_count": 104,
      "metadata": {
        "id": "nvJ2DnolgfEG",
        "colab": {
          "base_uri": "https://localhost:8080/"
        },
        "outputId": "3d3472ec-3ccb-4784-a83a-73753ea08a3b"
      },
      "outputs": [
        {
          "output_type": "stream",
          "name": "stdout",
          "text": [
            "중요한 상위 변수 5개:\n",
            "                  Feature  Importance\n",
            "50    tGravityAcc-max()-Y    0.066655\n",
            "559  angle(Y,gravityMean)    0.063110\n",
            "41   tGravityAcc-mean()-Y    0.047829\n",
            "53    tGravityAcc-min()-Y    0.042679\n",
            "560  angle(Z,gravityMean)    0.029686\n"
          ]
        }
      ],
      "source": [
        "importance = rf_model.feature_importances_\n",
        "\n",
        "feature_importance_df = pd.DataFrame({'Feature': X.columns, 'Importance': importance})\n",
        "\n",
        "top_5_features = feature_importance_df.sort_values(by='Importance', ascending=False).head(5)\n",
        "print(\"중요한 상위 변수 5개:\")\n",
        "print(top_5_features)"
      ]
    },
    {
      "cell_type": "markdown",
      "metadata": {
        "id": "uwLvleF33CeJ"
      },
      "source": [
        "### (3) 개별 동작 분석 : is_sitting\n"
      ]
    },
    {
      "cell_type": "markdown",
      "metadata": {
        "id": "-GX_l8ys3CeK"
      },
      "source": [
        "* **세부 요구사항**\n",
        "    - Target인 Activity를 is_sitting 변수로 변경하시오.\n",
        "        * 값 1 : SITTING\n",
        "        * 값 0 : 나머지\n",
        "    - is_sitting 을 예측하기 위한 기본 모델을 생성하시오.\n",
        "        * x, is_sitting 을 이용하여 train과 validation으로 데이터 분할\n",
        "        * 기본 모델링\n",
        "    - is_sitting 을 구분하는데 중요한 변수 상위 5를 분석하시오.\n",
        "    - is_sitting 을 구분하는데 중요한 변수 그룹을 분석하시오.\n",
        "        * sensor별\n",
        "        * sensor+agg 별\n"
      ]
    },
    {
      "cell_type": "code",
      "execution_count": 106,
      "metadata": {
        "id": "X07EV76UgiC-"
      },
      "outputs": [],
      "source": [
        "sitting_data = data.copy()\n",
        "sitting_data['is_sitting'] = data['Activity'].isin(['SITTING']).astype(int)"
      ]
    },
    {
      "cell_type": "code",
      "execution_count": 107,
      "metadata": {
        "id": "QPOQRPAVgh_N",
        "colab": {
          "base_uri": "https://localhost:8080/"
        },
        "outputId": "bfa51dac-fcc1-4b3b-8fba-1ddd7c9462ce"
      },
      "outputs": [
        {
          "output_type": "stream",
          "name": "stdout",
          "text": [
            "Accuracy: 0.989804587935429\n"
          ]
        }
      ],
      "source": [
        "X = sitting_data.drop(columns=['is_dynamic', 'Activity', 'is_sitting'])\n",
        "y = sitting_data['is_sitting']\n",
        "\n",
        "X_train, X_valid, y_train, y_valid = train_test_split(X, y, test_size=0.2, random_state=42)\n",
        "\n",
        "rf_model = RandomForestClassifier(random_state=42)\n",
        "\n",
        "rf_model.fit(X_train, y_train)\n",
        "\n",
        "y_pred = rf_model.predict(X_valid)\n",
        "\n",
        "accuracy = (y_pred == y_valid).mean()\n",
        "print(\"Accuracy:\", accuracy)"
      ]
    },
    {
      "cell_type": "code",
      "execution_count": 108,
      "metadata": {
        "id": "LeLfuciHgh8H",
        "colab": {
          "base_uri": "https://localhost:8080/"
        },
        "outputId": "37921c5d-b8f5-41e8-d277-4a57f384f120"
      },
      "outputs": [
        {
          "output_type": "stream",
          "name": "stdout",
          "text": [
            "중요한 상위 변수 5개:\n",
            "                  Feature  Importance\n",
            "559  angle(Y,gravityMean)    0.051174\n",
            "50    tGravityAcc-max()-Y    0.043982\n",
            "53    tGravityAcc-min()-Y    0.041279\n",
            "558  angle(X,gravityMean)    0.040435\n",
            "41   tGravityAcc-mean()-Y    0.027529\n"
          ]
        }
      ],
      "source": [
        "importance = rf_model.feature_importances_\n",
        "\n",
        "feature_importance_df = pd.DataFrame({'Feature': X.columns, 'Importance': importance})\n",
        "\n",
        "top_5_features = feature_importance_df.sort_values(by='Importance', ascending=False).head(5)\n",
        "print(\"중요한 상위 변수 5개:\")\n",
        "print(top_5_features)"
      ]
    },
    {
      "cell_type": "markdown",
      "metadata": {
        "id": "27EnvYow5Xce"
      },
      "source": [
        "### (4) 개별 동작 분석 : is_laying\n"
      ]
    },
    {
      "cell_type": "markdown",
      "metadata": {
        "id": "V4aio20T5Xce"
      },
      "source": [
        "* **세부 요구사항**\n",
        "    - Target인 Activity를 is_laying 변수로 변경하시오.\n",
        "        * 값 1 : LAYING\n",
        "        * 값 0 : 나머지\n",
        "    - is_laying 을 예측하기 위한 기본 모델을 생성하시오.\n",
        "        * x, is_laying 을 이용하여 train과 validation으로 데이터 분할\n",
        "        * 기본 모델링\n",
        "    - is_laying 을 구분하는데 중요한 변수 상위 5를 분석하시오.\n",
        "    - is_laying 을 구분하는데 중요한 변수 그룹을 분석하시오.\n",
        "        * sensor별\n",
        "        * sensor+agg 별\n"
      ]
    },
    {
      "cell_type": "code",
      "execution_count": 111,
      "metadata": {
        "id": "GTqv4FzKgk_s"
      },
      "outputs": [],
      "source": [
        "laying_data = data.copy()\n",
        "laying_data['is_laying'] = data['Activity'].isin(['LAYING']).astype(int)"
      ]
    },
    {
      "cell_type": "code",
      "execution_count": 112,
      "metadata": {
        "id": "qOy_lIHDgk8z",
        "colab": {
          "base_uri": "https://localhost:8080/"
        },
        "outputId": "c02f7615-3970-42da-b41f-9708d87ca891"
      },
      "outputs": [
        {
          "output_type": "stream",
          "name": "stdout",
          "text": [
            "Accuracy: 1.0\n"
          ]
        }
      ],
      "source": [
        "X = laying_data.drop(columns=['is_dynamic', 'Activity', 'is_laying'])\n",
        "y = laying_data['is_laying']\n",
        "\n",
        "X_train, X_valid, y_train, y_valid = train_test_split(X, y, test_size=0.2, random_state=42)\n",
        "\n",
        "rf_model = RandomForestClassifier(random_state=42)\n",
        "\n",
        "rf_model.fit(X_train, y_train)\n",
        "\n",
        "y_pred = rf_model.predict(X_valid)\n",
        "\n",
        "accuracy = (y_pred == y_valid).mean()\n",
        "print(\"Accuracy:\", accuracy)"
      ]
    },
    {
      "cell_type": "code",
      "execution_count": 113,
      "metadata": {
        "id": "MtJSII50gk5m",
        "colab": {
          "base_uri": "https://localhost:8080/"
        },
        "outputId": "3bddbe25-d63c-4079-acee-3580dfa11913"
      },
      "outputs": [
        {
          "output_type": "stream",
          "name": "stdout",
          "text": [
            "중요한 상위 변수 5개:\n",
            "                    Feature  Importance\n",
            "40     tGravityAcc-mean()-X    0.108937\n",
            "49      tGravityAcc-max()-X    0.104807\n",
            "56   tGravityAcc-energy()-X    0.076181\n",
            "558    angle(X,gravityMean)    0.065231\n",
            "57   tGravityAcc-energy()-Y    0.064073\n"
          ]
        }
      ],
      "source": [
        "importance = rf_model.feature_importances_\n",
        "\n",
        "feature_importance_df = pd.DataFrame({'Feature': X.columns, 'Importance': importance})\n",
        "\n",
        "top_5_features = feature_importance_df.sort_values(by='Importance', ascending=False).head(5)\n",
        "print(\"중요한 상위 변수 5개:\")\n",
        "print(top_5_features)"
      ]
    },
    {
      "cell_type": "markdown",
      "metadata": {
        "id": "qYbmMZar6VKS"
      },
      "source": [
        "### (5) 개별 동작 분석 : is_walking\n"
      ]
    },
    {
      "cell_type": "markdown",
      "metadata": {
        "id": "8M-2sd7_6VKS"
      },
      "source": [
        "* **세부 요구사항**\n",
        "    - Target인 Activity를 is_walking 변수로 변경하시오.\n",
        "        * 값 1 : WALKING\n",
        "        * 값 0 : 나머지\n",
        "    - is_walking 을 예측하기 위한 기본 모델을 생성하시오.\n",
        "        * x, is_walking 을 이용하여 train과 validation으로 데이터 분할\n",
        "        * 기본 모델링\n",
        "    - is_walking 을 구분하는데 중요한 변수 상위 5를 분석하시오.\n",
        "    - is_walking 을 구분하는데 중요한 변수 그룹을 분석하시오.\n",
        "        * sensor별\n",
        "        * sensor+agg 별\n"
      ]
    },
    {
      "cell_type": "code",
      "execution_count": 114,
      "metadata": {
        "id": "s03baisOgqU4"
      },
      "outputs": [],
      "source": [
        "walking_data = data.copy()\n",
        "walking_data['is_walking'] = data['Activity'].isin(['WALKING']).astype(int)"
      ]
    },
    {
      "cell_type": "code",
      "execution_count": 115,
      "metadata": {
        "id": "CvHoWOxggqRS",
        "colab": {
          "base_uri": "https://localhost:8080/"
        },
        "outputId": "97e56744-e304-44bf-b6e3-377a8f504043"
      },
      "outputs": [
        {
          "output_type": "stream",
          "name": "stdout",
          "text": [
            "Accuracy: 0.9966015293118097\n"
          ]
        }
      ],
      "source": [
        "X = walking_data.drop(columns=['is_dynamic', 'Activity', 'is_walking'])\n",
        "y = walking_data['is_walking']\n",
        "\n",
        "X_train, X_valid, y_train, y_valid = train_test_split(X, y, test_size=0.2, random_state=42)\n",
        "\n",
        "rf_model = RandomForestClassifier(random_state=42)\n",
        "\n",
        "rf_model.fit(X_train, y_train)\n",
        "\n",
        "y_pred = rf_model.predict(X_valid)\n",
        "\n",
        "accuracy = (y_pred == y_valid).mean()\n",
        "print(\"Accuracy:\", accuracy)"
      ]
    },
    {
      "cell_type": "code",
      "execution_count": 116,
      "metadata": {
        "id": "EuxziJfLgqO5",
        "colab": {
          "base_uri": "https://localhost:8080/"
        },
        "outputId": "0f6a0a08-17fe-4b3d-a521-2d38ca91606a"
      },
      "outputs": [
        {
          "output_type": "stream",
          "name": "stdout",
          "text": [
            "중요한 상위 변수 5개:\n",
            "                         Feature  Importance\n",
            "503            fBodyAccMag-std()    0.032203\n",
            "310  fBodyAcc-bandsEnergy()-1,16    0.021938\n",
            "274             fBodyAcc-max()-X    0.020874\n",
            "37    tBodyAcc-correlation()-X,Y    0.020669\n",
            "66     tGravityAcc-arCoeff()-X,2    0.019141\n"
          ]
        }
      ],
      "source": [
        "importance = rf_model.feature_importances_\n",
        "\n",
        "feature_importance_df = pd.DataFrame({'Feature': X.columns, 'Importance': importance})\n",
        "\n",
        "top_5_features = feature_importance_df.sort_values(by='Importance', ascending=False).head(5)\n",
        "print(\"중요한 상위 변수 5개:\")\n",
        "print(top_5_features)"
      ]
    },
    {
      "cell_type": "markdown",
      "metadata": {
        "id": "Zk42KHA18n6V"
      },
      "source": [
        "### (6) 개별 동작 분석 : is_walking_up\n"
      ]
    },
    {
      "cell_type": "markdown",
      "metadata": {
        "id": "3adM3SOA8n6V"
      },
      "source": [
        "* **세부 요구사항**\n",
        "    - Target인 Activity를 is_walking_up 변수로 변경하시오.\n",
        "        * 값 1 : WALKING_UPSTAIRS\n",
        "        * 값 0 : 나머지\n",
        "    - is_walking_up 을 예측하기 위한 기본 모델을 생성하시오.\n",
        "        * x, is_walking_up 을 이용하여 train과 validation으로 데이터 분할\n",
        "        * 기본 모델링\n",
        "    - is_walking_up 을 구분하는데 중요한 변수 상위 5를 분석하시오.\n",
        "    - is_walking_up 을 구분하는데 중요한 변수 그룹을 분석하시오.\n",
        "        * sensor별\n",
        "        * sensor+agg 별\n"
      ]
    },
    {
      "cell_type": "code",
      "execution_count": 117,
      "metadata": {
        "id": "XxxuD3yagsH0"
      },
      "outputs": [],
      "source": [
        "walking_up_data = data.copy()\n",
        "walking_up_data['is_walking_up'] = data['Activity'].isin(['WALKING_UPSTAIRS']).astype(int)"
      ]
    },
    {
      "cell_type": "code",
      "execution_count": 118,
      "metadata": {
        "id": "faElCG6KgsEs",
        "colab": {
          "base_uri": "https://localhost:8080/"
        },
        "outputId": "f2bb78d1-f3d8-4d51-d91e-28d284211266"
      },
      "outputs": [
        {
          "output_type": "stream",
          "name": "stdout",
          "text": [
            "Accuracy: 0.9974511469838573\n"
          ]
        }
      ],
      "source": [
        "X = walking_up_data.drop(columns=['is_dynamic', 'Activity', 'is_walking_up'])\n",
        "y = walking_up_data['is_walking_up']\n",
        "\n",
        "X_train, X_valid, y_train, y_valid = train_test_split(X, y, test_size=0.2, random_state=42)\n",
        "\n",
        "rf_model = RandomForestClassifier(random_state=42)\n",
        "\n",
        "rf_model.fit(X_train, y_train)\n",
        "\n",
        "y_pred = rf_model.predict(X_valid)\n",
        "\n",
        "accuracy = (y_pred == y_valid).mean()\n",
        "print(\"Accuracy:\", accuracy)"
      ]
    },
    {
      "cell_type": "code",
      "execution_count": 119,
      "metadata": {
        "id": "B3Wkue-ngsB8",
        "colab": {
          "base_uri": "https://localhost:8080/"
        },
        "outputId": "03728dd1-63cb-4709-be17-b0e32569ff6b"
      },
      "outputs": [
        {
          "output_type": "stream",
          "name": "stdout",
          "text": [
            "중요한 상위 변수 5개:\n",
            "                       Feature  Importance\n",
            "53         tGravityAcc-min()-Y    0.033113\n",
            "74   tGravityAcc-arCoeff()-Z,2    0.026411\n",
            "75   tGravityAcc-arCoeff()-Z,3    0.025354\n",
            "450        fBodyGyro-maxInds-Z    0.025266\n",
            "73   tGravityAcc-arCoeff()-Z,1    0.023002\n"
          ]
        }
      ],
      "source": [
        "importance = rf_model.feature_importances_\n",
        "\n",
        "feature_importance_df = pd.DataFrame({'Feature': X.columns, 'Importance': importance})\n",
        "\n",
        "top_5_features = feature_importance_df.sort_values(by='Importance', ascending=False).head(5)\n",
        "print(\"중요한 상위 변수 5개:\")\n",
        "print(top_5_features)"
      ]
    },
    {
      "cell_type": "markdown",
      "metadata": {
        "id": "MJgd-Sea9dHm"
      },
      "source": [
        "### (7) 개별 동작 분석 : is_walking_down\n"
      ]
    },
    {
      "cell_type": "markdown",
      "metadata": {
        "id": "1jwbHPfa9dHm"
      },
      "source": [
        "* **세부 요구사항**\n",
        "    - Target인 Activity를 is_walking_down 변수로 변경하시오.\n",
        "        * 값 1 : WALKING_DOWNSTAIRS\n",
        "        * 값 0 : 나머지\n",
        "    - is_walking_down 을 예측하기 위한 기본 모델을 생성하시오.\n",
        "        * x, is_walking_down 을 이용하여 train과 validation으로 데이터 분할\n",
        "        * 기본 모델링\n",
        "    - is_walking_down 을 구분하는데 중요한 변수 상위 5를 분석하시오.\n",
        "    - is_walking_down 을 구분하는데 중요한 변수 그룹을 분석하시오.\n",
        "        * sensor별\n",
        "        * sensor+agg 별\n"
      ]
    },
    {
      "cell_type": "code",
      "execution_count": 125,
      "metadata": {
        "id": "6aJ07gaEgn_D"
      },
      "outputs": [],
      "source": [
        "walking_down_data = data.copy()\n",
        "walking_down_data['is_walking_down'] = data['Activity'].isin(['WALKING_DOWNSTAIRS']).astype(int)"
      ]
    },
    {
      "cell_type": "code",
      "execution_count": 126,
      "metadata": {
        "id": "awCWHsubgn79",
        "colab": {
          "base_uri": "https://localhost:8080/"
        },
        "outputId": "f66f6a8b-0a1b-49f6-924c-db813bdeac44"
      },
      "outputs": [
        {
          "output_type": "stream",
          "name": "stdout",
          "text": [
            "Accuracy: 0.9889549702633815\n"
          ]
        }
      ],
      "source": [
        "X = walking_down_data.drop(columns=['is_dynamic', 'Activity', 'is_walking_down'])\n",
        "y = walking_down_data['is_walking_down']\n",
        "\n",
        "X_train, X_valid, y_train, y_valid = train_test_split(X, y, test_size=0.2, random_state=42)\n",
        "\n",
        "rf_model = RandomForestClassifier(random_state=42)\n",
        "\n",
        "rf_model.fit(X_train, y_train)\n",
        "\n",
        "y_pred = rf_model.predict(X_valid)\n",
        "\n",
        "accuracy = (y_pred == y_valid).mean()\n",
        "print(\"Accuracy:\", accuracy)"
      ]
    },
    {
      "cell_type": "code",
      "execution_count": 127,
      "metadata": {
        "id": "RYJmp7B7gn5K",
        "colab": {
          "base_uri": "https://localhost:8080/"
        },
        "outputId": "b8558919-1629-44c8-c009-0b5937c3f5f8"
      },
      "outputs": [
        {
          "output_type": "stream",
          "name": "stdout",
          "text": [
            "중요한 상위 변수 5개:\n",
            "                  Feature  Importance\n",
            "201     tBodyAccMag-std()    0.090652\n",
            "214  tGravityAccMag-std()    0.054868\n",
            "202     tBodyAccMag-mad()    0.043855\n",
            "508  fBodyAccMag-energy()    0.037850\n",
            "215  tGravityAccMag-mad()    0.035167\n"
          ]
        }
      ],
      "source": [
        "importance = rf_model.feature_importances_\n",
        "\n",
        "feature_importance_df = pd.DataFrame({'Feature': X.columns, 'Importance': importance})\n",
        "\n",
        "top_5_features = feature_importance_df.sort_values(by='Importance', ascending=False).head(5)\n",
        "print(\"중요한 상위 변수 5개:\")\n",
        "print(top_5_features)"
      ]
    },
    {
      "cell_type": "markdown",
      "metadata": {
        "id": "2zqwV3BEBx4E"
      },
      "source": [
        "## 5.특성 중요도 저장하기"
      ]
    },
    {
      "cell_type": "markdown",
      "metadata": {
        "id": "2h6R82t7-PN6"
      },
      "source": [
        "* **세부 요구사항**\n",
        "    - 지금까지 변수 중요도를 다양한 관점에서 뽑고 분석을 해 보았습니다.\n",
        "        - 관점1 : 6개 행동 구분\n",
        "        - 관점2 : 동적, 정적 행동 구분\n",
        "        - 관점3 : Standing 여부 구분\n",
        "        - 관점4 : Sitting 여부 구분\n",
        "        - 관점5 : Laying 여부 구분\n",
        "        - 관점6 : Walking 여부 구분\n",
        "        - 관점7 : Walking_upstairs 여부 구분\n",
        "        - 관점8 : Walking_downstairs 여부 구분\n",
        "    - 모든 관점의 변수 중요도를 하나로 합친 후 저장\n",
        "        - merge를 이용하여 features와 합칩니다.\n",
        "        - joblib 패키지의 dump를 이용하여 결과를 저장합니다."
      ]
    },
    {
      "cell_type": "markdown",
      "metadata": {
        "id": "a96bPONJD21Z"
      },
      "source": [
        "### (1) 하나로 합치기\n",
        "* 합치기 위해서는 중요도 결과에서 feature_importance 칼럼 이름을 수정해야 합니다.\n",
        "* pd.merge를 이용해서 하나씩 합치는 작업을 반복 합니다."
      ]
    },
    {
      "cell_type": "code",
      "execution_count": 128,
      "metadata": {
        "id": "rpFj8G1Pg1Mx",
        "colab": {
          "base_uri": "https://localhost:8080/",
          "height": 419
        },
        "outputId": "995d3246-6057-432d-fb81-6497ee46c57a"
      },
      "outputs": [
        {
          "output_type": "execute_result",
          "data": {
            "text/plain": [
              "       sensor                agg         axis  \\\n",
              "0    tBodyAcc             mean()            X   \n",
              "1    tBodyAcc             mean()            Y   \n",
              "2    tBodyAcc             mean()            Z   \n",
              "3    tBodyAcc              std()            X   \n",
              "4    tBodyAcc              std()            Y   \n",
              "..        ...                ...          ...   \n",
              "556     angle      tBodyGyroMean  gravityMean   \n",
              "557     angle  tBodyGyroJerkMean  gravityMean   \n",
              "558     angle                  X  gravityMean   \n",
              "559     angle                  Y  gravityMean   \n",
              "560     angle                  Z  gravityMean   \n",
              "\n",
              "                             feature_name                         feature_type  \n",
              "0                       tBodyAcc-mean()-X                    tBodyAcc-mean()-X  \n",
              "1                       tBodyAcc-mean()-Y                    tBodyAcc-mean()-Y  \n",
              "2                       tBodyAcc-mean()-Z                    tBodyAcc-mean()-Z  \n",
              "3                        tBodyAcc-std()-X                     tBodyAcc-std()-X  \n",
              "4                        tBodyAcc-std()-Y                     tBodyAcc-std()-Y  \n",
              "..                                    ...                                  ...  \n",
              "556      angle(tBodyGyroMean,gravityMean)      angle-tBodyGyroMean-gravityMean  \n",
              "557  angle(tBodyGyroJerkMean,gravityMean)  angle-tBodyGyroJerkMean-gravityMean  \n",
              "558                  angle(X,gravityMean)                  angle-X-gravityMean  \n",
              "559                  angle(Y,gravityMean)                  angle-Y-gravityMean  \n",
              "560                  angle(Z,gravityMean)                  angle-Z-gravityMean  \n",
              "\n",
              "[561 rows x 5 columns]"
            ],
            "text/html": [
              "\n",
              "  <div id=\"df-9a8bb70e-cf3a-4f58-95db-113f176d7a65\" class=\"colab-df-container\">\n",
              "    <div>\n",
              "<style scoped>\n",
              "    .dataframe tbody tr th:only-of-type {\n",
              "        vertical-align: middle;\n",
              "    }\n",
              "\n",
              "    .dataframe tbody tr th {\n",
              "        vertical-align: top;\n",
              "    }\n",
              "\n",
              "    .dataframe thead th {\n",
              "        text-align: right;\n",
              "    }\n",
              "</style>\n",
              "<table border=\"1\" class=\"dataframe\">\n",
              "  <thead>\n",
              "    <tr style=\"text-align: right;\">\n",
              "      <th></th>\n",
              "      <th>sensor</th>\n",
              "      <th>agg</th>\n",
              "      <th>axis</th>\n",
              "      <th>feature_name</th>\n",
              "      <th>feature_type</th>\n",
              "    </tr>\n",
              "  </thead>\n",
              "  <tbody>\n",
              "    <tr>\n",
              "      <th>0</th>\n",
              "      <td>tBodyAcc</td>\n",
              "      <td>mean()</td>\n",
              "      <td>X</td>\n",
              "      <td>tBodyAcc-mean()-X</td>\n",
              "      <td>tBodyAcc-mean()-X</td>\n",
              "    </tr>\n",
              "    <tr>\n",
              "      <th>1</th>\n",
              "      <td>tBodyAcc</td>\n",
              "      <td>mean()</td>\n",
              "      <td>Y</td>\n",
              "      <td>tBodyAcc-mean()-Y</td>\n",
              "      <td>tBodyAcc-mean()-Y</td>\n",
              "    </tr>\n",
              "    <tr>\n",
              "      <th>2</th>\n",
              "      <td>tBodyAcc</td>\n",
              "      <td>mean()</td>\n",
              "      <td>Z</td>\n",
              "      <td>tBodyAcc-mean()-Z</td>\n",
              "      <td>tBodyAcc-mean()-Z</td>\n",
              "    </tr>\n",
              "    <tr>\n",
              "      <th>3</th>\n",
              "      <td>tBodyAcc</td>\n",
              "      <td>std()</td>\n",
              "      <td>X</td>\n",
              "      <td>tBodyAcc-std()-X</td>\n",
              "      <td>tBodyAcc-std()-X</td>\n",
              "    </tr>\n",
              "    <tr>\n",
              "      <th>4</th>\n",
              "      <td>tBodyAcc</td>\n",
              "      <td>std()</td>\n",
              "      <td>Y</td>\n",
              "      <td>tBodyAcc-std()-Y</td>\n",
              "      <td>tBodyAcc-std()-Y</td>\n",
              "    </tr>\n",
              "    <tr>\n",
              "      <th>...</th>\n",
              "      <td>...</td>\n",
              "      <td>...</td>\n",
              "      <td>...</td>\n",
              "      <td>...</td>\n",
              "      <td>...</td>\n",
              "    </tr>\n",
              "    <tr>\n",
              "      <th>556</th>\n",
              "      <td>angle</td>\n",
              "      <td>tBodyGyroMean</td>\n",
              "      <td>gravityMean</td>\n",
              "      <td>angle(tBodyGyroMean,gravityMean)</td>\n",
              "      <td>angle-tBodyGyroMean-gravityMean</td>\n",
              "    </tr>\n",
              "    <tr>\n",
              "      <th>557</th>\n",
              "      <td>angle</td>\n",
              "      <td>tBodyGyroJerkMean</td>\n",
              "      <td>gravityMean</td>\n",
              "      <td>angle(tBodyGyroJerkMean,gravityMean)</td>\n",
              "      <td>angle-tBodyGyroJerkMean-gravityMean</td>\n",
              "    </tr>\n",
              "    <tr>\n",
              "      <th>558</th>\n",
              "      <td>angle</td>\n",
              "      <td>X</td>\n",
              "      <td>gravityMean</td>\n",
              "      <td>angle(X,gravityMean)</td>\n",
              "      <td>angle-X-gravityMean</td>\n",
              "    </tr>\n",
              "    <tr>\n",
              "      <th>559</th>\n",
              "      <td>angle</td>\n",
              "      <td>Y</td>\n",
              "      <td>gravityMean</td>\n",
              "      <td>angle(Y,gravityMean)</td>\n",
              "      <td>angle-Y-gravityMean</td>\n",
              "    </tr>\n",
              "    <tr>\n",
              "      <th>560</th>\n",
              "      <td>angle</td>\n",
              "      <td>Z</td>\n",
              "      <td>gravityMean</td>\n",
              "      <td>angle(Z,gravityMean)</td>\n",
              "      <td>angle-Z-gravityMean</td>\n",
              "    </tr>\n",
              "  </tbody>\n",
              "</table>\n",
              "<p>561 rows × 5 columns</p>\n",
              "</div>\n",
              "    <div class=\"colab-df-buttons\">\n",
              "\n",
              "  <div class=\"colab-df-container\">\n",
              "    <button class=\"colab-df-convert\" onclick=\"convertToInteractive('df-9a8bb70e-cf3a-4f58-95db-113f176d7a65')\"\n",
              "            title=\"Convert this dataframe to an interactive table.\"\n",
              "            style=\"display:none;\">\n",
              "\n",
              "  <svg xmlns=\"http://www.w3.org/2000/svg\" height=\"24px\" viewBox=\"0 -960 960 960\">\n",
              "    <path d=\"M120-120v-720h720v720H120Zm60-500h600v-160H180v160Zm220 220h160v-160H400v160Zm0 220h160v-160H400v160ZM180-400h160v-160H180v160Zm440 0h160v-160H620v160ZM180-180h160v-160H180v160Zm440 0h160v-160H620v160Z\"/>\n",
              "  </svg>\n",
              "    </button>\n",
              "\n",
              "  <style>\n",
              "    .colab-df-container {\n",
              "      display:flex;\n",
              "      gap: 12px;\n",
              "    }\n",
              "\n",
              "    .colab-df-convert {\n",
              "      background-color: #E8F0FE;\n",
              "      border: none;\n",
              "      border-radius: 50%;\n",
              "      cursor: pointer;\n",
              "      display: none;\n",
              "      fill: #1967D2;\n",
              "      height: 32px;\n",
              "      padding: 0 0 0 0;\n",
              "      width: 32px;\n",
              "    }\n",
              "\n",
              "    .colab-df-convert:hover {\n",
              "      background-color: #E2EBFA;\n",
              "      box-shadow: 0px 1px 2px rgba(60, 64, 67, 0.3), 0px 1px 3px 1px rgba(60, 64, 67, 0.15);\n",
              "      fill: #174EA6;\n",
              "    }\n",
              "\n",
              "    .colab-df-buttons div {\n",
              "      margin-bottom: 4px;\n",
              "    }\n",
              "\n",
              "    [theme=dark] .colab-df-convert {\n",
              "      background-color: #3B4455;\n",
              "      fill: #D2E3FC;\n",
              "    }\n",
              "\n",
              "    [theme=dark] .colab-df-convert:hover {\n",
              "      background-color: #434B5C;\n",
              "      box-shadow: 0px 1px 3px 1px rgba(0, 0, 0, 0.15);\n",
              "      filter: drop-shadow(0px 1px 2px rgba(0, 0, 0, 0.3));\n",
              "      fill: #FFFFFF;\n",
              "    }\n",
              "  </style>\n",
              "\n",
              "    <script>\n",
              "      const buttonEl =\n",
              "        document.querySelector('#df-9a8bb70e-cf3a-4f58-95db-113f176d7a65 button.colab-df-convert');\n",
              "      buttonEl.style.display =\n",
              "        google.colab.kernel.accessAllowed ? 'block' : 'none';\n",
              "\n",
              "      async function convertToInteractive(key) {\n",
              "        const element = document.querySelector('#df-9a8bb70e-cf3a-4f58-95db-113f176d7a65');\n",
              "        const dataTable =\n",
              "          await google.colab.kernel.invokeFunction('convertToInteractive',\n",
              "                                                    [key], {});\n",
              "        if (!dataTable) return;\n",
              "\n",
              "        const docLinkHtml = 'Like what you see? Visit the ' +\n",
              "          '<a target=\"_blank\" href=https://colab.research.google.com/notebooks/data_table.ipynb>data table notebook</a>'\n",
              "          + ' to learn more about interactive tables.';\n",
              "        element.innerHTML = '';\n",
              "        dataTable['output_type'] = 'display_data';\n",
              "        await google.colab.output.renderOutput(dataTable, element);\n",
              "        const docLink = document.createElement('div');\n",
              "        docLink.innerHTML = docLinkHtml;\n",
              "        element.appendChild(docLink);\n",
              "      }\n",
              "    </script>\n",
              "  </div>\n",
              "\n",
              "\n",
              "<div id=\"df-4efffc12-4816-48b6-b33f-377d44d4468f\">\n",
              "  <button class=\"colab-df-quickchart\" onclick=\"quickchart('df-4efffc12-4816-48b6-b33f-377d44d4468f')\"\n",
              "            title=\"Suggest charts\"\n",
              "            style=\"display:none;\">\n",
              "\n",
              "<svg xmlns=\"http://www.w3.org/2000/svg\" height=\"24px\"viewBox=\"0 0 24 24\"\n",
              "     width=\"24px\">\n",
              "    <g>\n",
              "        <path d=\"M19 3H5c-1.1 0-2 .9-2 2v14c0 1.1.9 2 2 2h14c1.1 0 2-.9 2-2V5c0-1.1-.9-2-2-2zM9 17H7v-7h2v7zm4 0h-2V7h2v10zm4 0h-2v-4h2v4z\"/>\n",
              "    </g>\n",
              "</svg>\n",
              "  </button>\n",
              "\n",
              "<style>\n",
              "  .colab-df-quickchart {\n",
              "      --bg-color: #E8F0FE;\n",
              "      --fill-color: #1967D2;\n",
              "      --hover-bg-color: #E2EBFA;\n",
              "      --hover-fill-color: #174EA6;\n",
              "      --disabled-fill-color: #AAA;\n",
              "      --disabled-bg-color: #DDD;\n",
              "  }\n",
              "\n",
              "  [theme=dark] .colab-df-quickchart {\n",
              "      --bg-color: #3B4455;\n",
              "      --fill-color: #D2E3FC;\n",
              "      --hover-bg-color: #434B5C;\n",
              "      --hover-fill-color: #FFFFFF;\n",
              "      --disabled-bg-color: #3B4455;\n",
              "      --disabled-fill-color: #666;\n",
              "  }\n",
              "\n",
              "  .colab-df-quickchart {\n",
              "    background-color: var(--bg-color);\n",
              "    border: none;\n",
              "    border-radius: 50%;\n",
              "    cursor: pointer;\n",
              "    display: none;\n",
              "    fill: var(--fill-color);\n",
              "    height: 32px;\n",
              "    padding: 0;\n",
              "    width: 32px;\n",
              "  }\n",
              "\n",
              "  .colab-df-quickchart:hover {\n",
              "    background-color: var(--hover-bg-color);\n",
              "    box-shadow: 0 1px 2px rgba(60, 64, 67, 0.3), 0 1px 3px 1px rgba(60, 64, 67, 0.15);\n",
              "    fill: var(--button-hover-fill-color);\n",
              "  }\n",
              "\n",
              "  .colab-df-quickchart-complete:disabled,\n",
              "  .colab-df-quickchart-complete:disabled:hover {\n",
              "    background-color: var(--disabled-bg-color);\n",
              "    fill: var(--disabled-fill-color);\n",
              "    box-shadow: none;\n",
              "  }\n",
              "\n",
              "  .colab-df-spinner {\n",
              "    border: 2px solid var(--fill-color);\n",
              "    border-color: transparent;\n",
              "    border-bottom-color: var(--fill-color);\n",
              "    animation:\n",
              "      spin 1s steps(1) infinite;\n",
              "  }\n",
              "\n",
              "  @keyframes spin {\n",
              "    0% {\n",
              "      border-color: transparent;\n",
              "      border-bottom-color: var(--fill-color);\n",
              "      border-left-color: var(--fill-color);\n",
              "    }\n",
              "    20% {\n",
              "      border-color: transparent;\n",
              "      border-left-color: var(--fill-color);\n",
              "      border-top-color: var(--fill-color);\n",
              "    }\n",
              "    30% {\n",
              "      border-color: transparent;\n",
              "      border-left-color: var(--fill-color);\n",
              "      border-top-color: var(--fill-color);\n",
              "      border-right-color: var(--fill-color);\n",
              "    }\n",
              "    40% {\n",
              "      border-color: transparent;\n",
              "      border-right-color: var(--fill-color);\n",
              "      border-top-color: var(--fill-color);\n",
              "    }\n",
              "    60% {\n",
              "      border-color: transparent;\n",
              "      border-right-color: var(--fill-color);\n",
              "    }\n",
              "    80% {\n",
              "      border-color: transparent;\n",
              "      border-right-color: var(--fill-color);\n",
              "      border-bottom-color: var(--fill-color);\n",
              "    }\n",
              "    90% {\n",
              "      border-color: transparent;\n",
              "      border-bottom-color: var(--fill-color);\n",
              "    }\n",
              "  }\n",
              "</style>\n",
              "\n",
              "  <script>\n",
              "    async function quickchart(key) {\n",
              "      const quickchartButtonEl =\n",
              "        document.querySelector('#' + key + ' button');\n",
              "      quickchartButtonEl.disabled = true;  // To prevent multiple clicks.\n",
              "      quickchartButtonEl.classList.add('colab-df-spinner');\n",
              "      try {\n",
              "        const charts = await google.colab.kernel.invokeFunction(\n",
              "            'suggestCharts', [key], {});\n",
              "      } catch (error) {\n",
              "        console.error('Error during call to suggestCharts:', error);\n",
              "      }\n",
              "      quickchartButtonEl.classList.remove('colab-df-spinner');\n",
              "      quickchartButtonEl.classList.add('colab-df-quickchart-complete');\n",
              "    }\n",
              "    (() => {\n",
              "      let quickchartButtonEl =\n",
              "        document.querySelector('#df-4efffc12-4816-48b6-b33f-377d44d4468f button');\n",
              "      quickchartButtonEl.style.display =\n",
              "        google.colab.kernel.accessAllowed ? 'block' : 'none';\n",
              "    })();\n",
              "  </script>\n",
              "</div>\n",
              "\n",
              "  <div id=\"id_db600c42-b711-4e10-bfcc-fdfbf152e7be\">\n",
              "    <style>\n",
              "      .colab-df-generate {\n",
              "        background-color: #E8F0FE;\n",
              "        border: none;\n",
              "        border-radius: 50%;\n",
              "        cursor: pointer;\n",
              "        display: none;\n",
              "        fill: #1967D2;\n",
              "        height: 32px;\n",
              "        padding: 0 0 0 0;\n",
              "        width: 32px;\n",
              "      }\n",
              "\n",
              "      .colab-df-generate:hover {\n",
              "        background-color: #E2EBFA;\n",
              "        box-shadow: 0px 1px 2px rgba(60, 64, 67, 0.3), 0px 1px 3px 1px rgba(60, 64, 67, 0.15);\n",
              "        fill: #174EA6;\n",
              "      }\n",
              "\n",
              "      [theme=dark] .colab-df-generate {\n",
              "        background-color: #3B4455;\n",
              "        fill: #D2E3FC;\n",
              "      }\n",
              "\n",
              "      [theme=dark] .colab-df-generate:hover {\n",
              "        background-color: #434B5C;\n",
              "        box-shadow: 0px 1px 3px 1px rgba(0, 0, 0, 0.15);\n",
              "        filter: drop-shadow(0px 1px 2px rgba(0, 0, 0, 0.3));\n",
              "        fill: #FFFFFF;\n",
              "      }\n",
              "    </style>\n",
              "    <button class=\"colab-df-generate\" onclick=\"generateWithVariable('features')\"\n",
              "            title=\"Generate code using this dataframe.\"\n",
              "            style=\"display:none;\">\n",
              "\n",
              "  <svg xmlns=\"http://www.w3.org/2000/svg\" height=\"24px\"viewBox=\"0 0 24 24\"\n",
              "       width=\"24px\">\n",
              "    <path d=\"M7,19H8.4L18.45,9,17,7.55,7,17.6ZM5,21V16.75L18.45,3.32a2,2,0,0,1,2.83,0l1.4,1.43a1.91,1.91,0,0,1,.58,1.4,1.91,1.91,0,0,1-.58,1.4L9.25,21ZM18.45,9,17,7.55Zm-12,3A5.31,5.31,0,0,0,4.9,8.1,5.31,5.31,0,0,0,1,6.5,5.31,5.31,0,0,0,4.9,4.9,5.31,5.31,0,0,0,6.5,1,5.31,5.31,0,0,0,8.1,4.9,5.31,5.31,0,0,0,12,6.5,5.46,5.46,0,0,0,6.5,12Z\"/>\n",
              "  </svg>\n",
              "    </button>\n",
              "    <script>\n",
              "      (() => {\n",
              "      const buttonEl =\n",
              "        document.querySelector('#id_db600c42-b711-4e10-bfcc-fdfbf152e7be button.colab-df-generate');\n",
              "      buttonEl.style.display =\n",
              "        google.colab.kernel.accessAllowed ? 'block' : 'none';\n",
              "\n",
              "      buttonEl.onclick = () => {\n",
              "        google.colab.notebook.generateWithVariable('features');\n",
              "      }\n",
              "      })();\n",
              "    </script>\n",
              "  </div>\n",
              "\n",
              "    </div>\n",
              "  </div>\n"
            ],
            "application/vnd.google.colaboratory.intrinsic+json": {
              "type": "dataframe",
              "variable_name": "features",
              "summary": "{\n  \"name\": \"features\",\n  \"rows\": 561,\n  \"fields\": [\n    {\n      \"column\": \"sensor\",\n      \"properties\": {\n        \"dtype\": \"category\",\n        \"num_unique_values\": 18,\n        \"samples\": [\n          \"tBodyAcc\",\n          \"tGravityAcc\",\n          \"tBodyGyroMag\"\n        ],\n        \"semantic_type\": \"\",\n        \"description\": \"\"\n      }\n    },\n    {\n      \"column\": \"agg\",\n      \"properties\": {\n        \"dtype\": \"category\",\n        \"num_unique_values\": 27,\n        \"samples\": [\n          \"entropy()\",\n          \"arCoeff()3\",\n          \"arCoeff()\"\n        ],\n        \"semantic_type\": \"\",\n        \"description\": \"\"\n      }\n    },\n    {\n      \"column\": \"axis\",\n      \"properties\": {\n        \"dtype\": \"category\",\n        \"num_unique_values\": 62,\n        \"samples\": [\n          \"33,40.2\",\n          \"33,48.2\",\n          \"X\"\n        ],\n        \"semantic_type\": \"\",\n        \"description\": \"\"\n      }\n    },\n    {\n      \"column\": \"feature_name\",\n      \"properties\": {\n        \"dtype\": \"string\",\n        \"num_unique_values\": 533,\n        \"samples\": [\n          \"tBodyAcc-mad()-X\",\n          \"fBodyBodyAccJerkMag-mad()\",\n          \"tBodyAccJerk-entropy()-Z\"\n        ],\n        \"semantic_type\": \"\",\n        \"description\": \"\"\n      }\n    },\n    {\n      \"column\": \"feature_type\",\n      \"properties\": {\n        \"dtype\": \"string\",\n        \"num_unique_values\": 408,\n        \"samples\": [\n          \"tGravityAcc-arCoeff()-Y,4\",\n          \"fBodyAcc-entropy()-Z\",\n          \"fBodyAcc-bandsEnergy()-25,48.1\"\n        ],\n        \"semantic_type\": \"\",\n        \"description\": \"\"\n      }\n    }\n  ]\n}"
            }
          },
          "metadata": {},
          "execution_count": 128
        }
      ],
      "source": [
        "features"
      ]
    },
    {
      "cell_type": "code",
      "source": [
        "data"
      ],
      "metadata": {
        "colab": {
          "base_uri": "https://localhost:8080/",
          "height": 456
        },
        "id": "gDTBhGB07AB0",
        "outputId": "72cbbc6d-cf63-4939-82bb-ebb66e105019"
      },
      "execution_count": 129,
      "outputs": [
        {
          "output_type": "execute_result",
          "data": {
            "text/plain": [
              "      tBodyAcc-mean()-X  tBodyAcc-mean()-Y  tBodyAcc-mean()-Z  \\\n",
              "0              0.288508          -0.009196          -0.103362   \n",
              "1              0.265757          -0.016576          -0.098163   \n",
              "2              0.278709          -0.014511          -0.108717   \n",
              "3              0.289795          -0.035536          -0.150354   \n",
              "4              0.394807           0.034098           0.091229   \n",
              "...                 ...                ...                ...   \n",
              "5876           0.277194          -0.012389          -0.131974   \n",
              "5877           0.191568           0.013328          -0.105174   \n",
              "5878           0.267981          -0.018348          -0.107440   \n",
              "5879           0.212787          -0.048130          -0.121001   \n",
              "5880           0.283815          -0.040658          -0.138018   \n",
              "\n",
              "      tBodyAcc-std()-X  tBodyAcc-std()-Y  tBodyAcc-std()-Z  tBodyAcc-mad()-X  \\\n",
              "0            -0.988986         -0.962797         -0.967422         -0.989000   \n",
              "1            -0.989551         -0.994636         -0.987435         -0.990189   \n",
              "2            -0.997720         -0.981088         -0.994008         -0.997934   \n",
              "3            -0.231727         -0.006412         -0.338117         -0.273557   \n",
              "4             0.088489         -0.106636         -0.388502         -0.010469   \n",
              "...                ...               ...               ...               ...   \n",
              "5876         -0.994046         -0.940578         -0.917337         -0.994261   \n",
              "5877         -0.126969         -0.121729         -0.327480         -0.192523   \n",
              "5878         -0.991303         -0.989881         -0.990313         -0.992386   \n",
              "5879         -0.041373          0.052449         -0.585361         -0.100714   \n",
              "5880         -0.992662         -0.747190         -0.920248         -0.993410   \n",
              "\n",
              "      tBodyAcc-mad()-Y  tBodyAcc-mad()-Z  tBodyAcc-max()-X  ...  \\\n",
              "0            -0.962596         -0.965650         -0.929747  ...   \n",
              "1            -0.993870         -0.987558         -0.937337  ...   \n",
              "2            -0.982187         -0.995017         -0.942584  ...   \n",
              "3             0.014245         -0.347916          0.008288  ...   \n",
              "4            -0.109680         -0.346372          0.584131  ...   \n",
              "...                ...               ...               ...  ...   \n",
              "5876         -0.932830         -0.908088         -0.936219  ...   \n",
              "5877         -0.109923         -0.295286          0.078644  ...   \n",
              "5878         -0.988852         -0.991237         -0.936099  ...   \n",
              "5879          0.023353         -0.554707          0.219814  ...   \n",
              "5880         -0.768055         -0.924587         -0.935871  ...   \n",
              "\n",
              "      angle(tBodyAccMean,gravity)  angle(tBodyAccJerkMean),gravityMean)  \\\n",
              "0                       -0.042494                             -0.044218   \n",
              "1                       -0.062899                              0.388459   \n",
              "2                        0.000265                             -0.525022   \n",
              "3                       -0.255125                              0.612804   \n",
              "4                       -0.044344                             -0.845268   \n",
              "...                           ...                                   ...   \n",
              "5876                    -0.034888                             -0.261437   \n",
              "5877                     0.721718                              0.623151   \n",
              "5878                     0.060173                              0.228739   \n",
              "5879                     0.260880                              0.551742   \n",
              "5880                     0.107690                              0.122242   \n",
              "\n",
              "      angle(tBodyGyroMean,gravityMean)  angle(tBodyGyroJerkMean,gravityMean)  \\\n",
              "0                             0.307873                              0.072790   \n",
              "1                            -0.765014                              0.771524   \n",
              "2                            -0.891875                              0.021528   \n",
              "3                             0.747381                             -0.072944   \n",
              "4                            -0.974650                             -0.887846   \n",
              "...                                ...                                   ...   \n",
              "5876                         -0.391477                             -0.877612   \n",
              "5877                          0.866858                             -0.445660   \n",
              "5878                          0.684400                             -0.216665   \n",
              "5879                         -0.943773                             -0.862899   \n",
              "5880                         -0.077226                             -0.078091   \n",
              "\n",
              "      angle(X,gravityMean)  angle(Y,gravityMean)  angle(Z,gravityMean)  \\\n",
              "0                -0.601120              0.331298              0.165163   \n",
              "1                 0.345205             -0.769186             -0.147944   \n",
              "2                -0.833564              0.202434             -0.032755   \n",
              "3                -0.695819              0.287154              0.111388   \n",
              "4                -0.705029              0.264952              0.137758   \n",
              "...                    ...                   ...                   ...   \n",
              "5876             -0.912365              0.114009              0.080146   \n",
              "5877             -0.690278              0.303194             -0.044188   \n",
              "5878              0.620363             -0.437247             -0.571840   \n",
              "5879             -0.718009              0.292856              0.024920   \n",
              "5880             -0.740244              0.008346             -0.146143   \n",
              "\n",
              "      subject            Activity  is_dynamic  \n",
              "0          21            STANDING           0  \n",
              "1          15              LAYING           0  \n",
              "2          11            STANDING           0  \n",
              "3          17             WALKING           1  \n",
              "4          17  WALKING_DOWNSTAIRS           1  \n",
              "...       ...                 ...         ...  \n",
              "5876       21             SITTING           0  \n",
              "5877       15    WALKING_UPSTAIRS           1  \n",
              "5878       19              LAYING           0  \n",
              "5879        6    WALKING_UPSTAIRS           1  \n",
              "5880       29             SITTING           0  \n",
              "\n",
              "[5881 rows x 564 columns]"
            ],
            "text/html": [
              "\n",
              "  <div id=\"df-a3c2e1d1-5511-478d-815f-ac4867faeb61\" class=\"colab-df-container\">\n",
              "    <div>\n",
              "<style scoped>\n",
              "    .dataframe tbody tr th:only-of-type {\n",
              "        vertical-align: middle;\n",
              "    }\n",
              "\n",
              "    .dataframe tbody tr th {\n",
              "        vertical-align: top;\n",
              "    }\n",
              "\n",
              "    .dataframe thead th {\n",
              "        text-align: right;\n",
              "    }\n",
              "</style>\n",
              "<table border=\"1\" class=\"dataframe\">\n",
              "  <thead>\n",
              "    <tr style=\"text-align: right;\">\n",
              "      <th></th>\n",
              "      <th>tBodyAcc-mean()-X</th>\n",
              "      <th>tBodyAcc-mean()-Y</th>\n",
              "      <th>tBodyAcc-mean()-Z</th>\n",
              "      <th>tBodyAcc-std()-X</th>\n",
              "      <th>tBodyAcc-std()-Y</th>\n",
              "      <th>tBodyAcc-std()-Z</th>\n",
              "      <th>tBodyAcc-mad()-X</th>\n",
              "      <th>tBodyAcc-mad()-Y</th>\n",
              "      <th>tBodyAcc-mad()-Z</th>\n",
              "      <th>tBodyAcc-max()-X</th>\n",
              "      <th>...</th>\n",
              "      <th>angle(tBodyAccMean,gravity)</th>\n",
              "      <th>angle(tBodyAccJerkMean),gravityMean)</th>\n",
              "      <th>angle(tBodyGyroMean,gravityMean)</th>\n",
              "      <th>angle(tBodyGyroJerkMean,gravityMean)</th>\n",
              "      <th>angle(X,gravityMean)</th>\n",
              "      <th>angle(Y,gravityMean)</th>\n",
              "      <th>angle(Z,gravityMean)</th>\n",
              "      <th>subject</th>\n",
              "      <th>Activity</th>\n",
              "      <th>is_dynamic</th>\n",
              "    </tr>\n",
              "  </thead>\n",
              "  <tbody>\n",
              "    <tr>\n",
              "      <th>0</th>\n",
              "      <td>0.288508</td>\n",
              "      <td>-0.009196</td>\n",
              "      <td>-0.103362</td>\n",
              "      <td>-0.988986</td>\n",
              "      <td>-0.962797</td>\n",
              "      <td>-0.967422</td>\n",
              "      <td>-0.989000</td>\n",
              "      <td>-0.962596</td>\n",
              "      <td>-0.965650</td>\n",
              "      <td>-0.929747</td>\n",
              "      <td>...</td>\n",
              "      <td>-0.042494</td>\n",
              "      <td>-0.044218</td>\n",
              "      <td>0.307873</td>\n",
              "      <td>0.072790</td>\n",
              "      <td>-0.601120</td>\n",
              "      <td>0.331298</td>\n",
              "      <td>0.165163</td>\n",
              "      <td>21</td>\n",
              "      <td>STANDING</td>\n",
              "      <td>0</td>\n",
              "    </tr>\n",
              "    <tr>\n",
              "      <th>1</th>\n",
              "      <td>0.265757</td>\n",
              "      <td>-0.016576</td>\n",
              "      <td>-0.098163</td>\n",
              "      <td>-0.989551</td>\n",
              "      <td>-0.994636</td>\n",
              "      <td>-0.987435</td>\n",
              "      <td>-0.990189</td>\n",
              "      <td>-0.993870</td>\n",
              "      <td>-0.987558</td>\n",
              "      <td>-0.937337</td>\n",
              "      <td>...</td>\n",
              "      <td>-0.062899</td>\n",
              "      <td>0.388459</td>\n",
              "      <td>-0.765014</td>\n",
              "      <td>0.771524</td>\n",
              "      <td>0.345205</td>\n",
              "      <td>-0.769186</td>\n",
              "      <td>-0.147944</td>\n",
              "      <td>15</td>\n",
              "      <td>LAYING</td>\n",
              "      <td>0</td>\n",
              "    </tr>\n",
              "    <tr>\n",
              "      <th>2</th>\n",
              "      <td>0.278709</td>\n",
              "      <td>-0.014511</td>\n",
              "      <td>-0.108717</td>\n",
              "      <td>-0.997720</td>\n",
              "      <td>-0.981088</td>\n",
              "      <td>-0.994008</td>\n",
              "      <td>-0.997934</td>\n",
              "      <td>-0.982187</td>\n",
              "      <td>-0.995017</td>\n",
              "      <td>-0.942584</td>\n",
              "      <td>...</td>\n",
              "      <td>0.000265</td>\n",
              "      <td>-0.525022</td>\n",
              "      <td>-0.891875</td>\n",
              "      <td>0.021528</td>\n",
              "      <td>-0.833564</td>\n",
              "      <td>0.202434</td>\n",
              "      <td>-0.032755</td>\n",
              "      <td>11</td>\n",
              "      <td>STANDING</td>\n",
              "      <td>0</td>\n",
              "    </tr>\n",
              "    <tr>\n",
              "      <th>3</th>\n",
              "      <td>0.289795</td>\n",
              "      <td>-0.035536</td>\n",
              "      <td>-0.150354</td>\n",
              "      <td>-0.231727</td>\n",
              "      <td>-0.006412</td>\n",
              "      <td>-0.338117</td>\n",
              "      <td>-0.273557</td>\n",
              "      <td>0.014245</td>\n",
              "      <td>-0.347916</td>\n",
              "      <td>0.008288</td>\n",
              "      <td>...</td>\n",
              "      <td>-0.255125</td>\n",
              "      <td>0.612804</td>\n",
              "      <td>0.747381</td>\n",
              "      <td>-0.072944</td>\n",
              "      <td>-0.695819</td>\n",
              "      <td>0.287154</td>\n",
              "      <td>0.111388</td>\n",
              "      <td>17</td>\n",
              "      <td>WALKING</td>\n",
              "      <td>1</td>\n",
              "    </tr>\n",
              "    <tr>\n",
              "      <th>4</th>\n",
              "      <td>0.394807</td>\n",
              "      <td>0.034098</td>\n",
              "      <td>0.091229</td>\n",
              "      <td>0.088489</td>\n",
              "      <td>-0.106636</td>\n",
              "      <td>-0.388502</td>\n",
              "      <td>-0.010469</td>\n",
              "      <td>-0.109680</td>\n",
              "      <td>-0.346372</td>\n",
              "      <td>0.584131</td>\n",
              "      <td>...</td>\n",
              "      <td>-0.044344</td>\n",
              "      <td>-0.845268</td>\n",
              "      <td>-0.974650</td>\n",
              "      <td>-0.887846</td>\n",
              "      <td>-0.705029</td>\n",
              "      <td>0.264952</td>\n",
              "      <td>0.137758</td>\n",
              "      <td>17</td>\n",
              "      <td>WALKING_DOWNSTAIRS</td>\n",
              "      <td>1</td>\n",
              "    </tr>\n",
              "    <tr>\n",
              "      <th>...</th>\n",
              "      <td>...</td>\n",
              "      <td>...</td>\n",
              "      <td>...</td>\n",
              "      <td>...</td>\n",
              "      <td>...</td>\n",
              "      <td>...</td>\n",
              "      <td>...</td>\n",
              "      <td>...</td>\n",
              "      <td>...</td>\n",
              "      <td>...</td>\n",
              "      <td>...</td>\n",
              "      <td>...</td>\n",
              "      <td>...</td>\n",
              "      <td>...</td>\n",
              "      <td>...</td>\n",
              "      <td>...</td>\n",
              "      <td>...</td>\n",
              "      <td>...</td>\n",
              "      <td>...</td>\n",
              "      <td>...</td>\n",
              "      <td>...</td>\n",
              "    </tr>\n",
              "    <tr>\n",
              "      <th>5876</th>\n",
              "      <td>0.277194</td>\n",
              "      <td>-0.012389</td>\n",
              "      <td>-0.131974</td>\n",
              "      <td>-0.994046</td>\n",
              "      <td>-0.940578</td>\n",
              "      <td>-0.917337</td>\n",
              "      <td>-0.994261</td>\n",
              "      <td>-0.932830</td>\n",
              "      <td>-0.908088</td>\n",
              "      <td>-0.936219</td>\n",
              "      <td>...</td>\n",
              "      <td>-0.034888</td>\n",
              "      <td>-0.261437</td>\n",
              "      <td>-0.391477</td>\n",
              "      <td>-0.877612</td>\n",
              "      <td>-0.912365</td>\n",
              "      <td>0.114009</td>\n",
              "      <td>0.080146</td>\n",
              "      <td>21</td>\n",
              "      <td>SITTING</td>\n",
              "      <td>0</td>\n",
              "    </tr>\n",
              "    <tr>\n",
              "      <th>5877</th>\n",
              "      <td>0.191568</td>\n",
              "      <td>0.013328</td>\n",
              "      <td>-0.105174</td>\n",
              "      <td>-0.126969</td>\n",
              "      <td>-0.121729</td>\n",
              "      <td>-0.327480</td>\n",
              "      <td>-0.192523</td>\n",
              "      <td>-0.109923</td>\n",
              "      <td>-0.295286</td>\n",
              "      <td>0.078644</td>\n",
              "      <td>...</td>\n",
              "      <td>0.721718</td>\n",
              "      <td>0.623151</td>\n",
              "      <td>0.866858</td>\n",
              "      <td>-0.445660</td>\n",
              "      <td>-0.690278</td>\n",
              "      <td>0.303194</td>\n",
              "      <td>-0.044188</td>\n",
              "      <td>15</td>\n",
              "      <td>WALKING_UPSTAIRS</td>\n",
              "      <td>1</td>\n",
              "    </tr>\n",
              "    <tr>\n",
              "      <th>5878</th>\n",
              "      <td>0.267981</td>\n",
              "      <td>-0.018348</td>\n",
              "      <td>-0.107440</td>\n",
              "      <td>-0.991303</td>\n",
              "      <td>-0.989881</td>\n",
              "      <td>-0.990313</td>\n",
              "      <td>-0.992386</td>\n",
              "      <td>-0.988852</td>\n",
              "      <td>-0.991237</td>\n",
              "      <td>-0.936099</td>\n",
              "      <td>...</td>\n",
              "      <td>0.060173</td>\n",
              "      <td>0.228739</td>\n",
              "      <td>0.684400</td>\n",
              "      <td>-0.216665</td>\n",
              "      <td>0.620363</td>\n",
              "      <td>-0.437247</td>\n",
              "      <td>-0.571840</td>\n",
              "      <td>19</td>\n",
              "      <td>LAYING</td>\n",
              "      <td>0</td>\n",
              "    </tr>\n",
              "    <tr>\n",
              "      <th>5879</th>\n",
              "      <td>0.212787</td>\n",
              "      <td>-0.048130</td>\n",
              "      <td>-0.121001</td>\n",
              "      <td>-0.041373</td>\n",
              "      <td>0.052449</td>\n",
              "      <td>-0.585361</td>\n",
              "      <td>-0.100714</td>\n",
              "      <td>0.023353</td>\n",
              "      <td>-0.554707</td>\n",
              "      <td>0.219814</td>\n",
              "      <td>...</td>\n",
              "      <td>0.260880</td>\n",
              "      <td>0.551742</td>\n",
              "      <td>-0.943773</td>\n",
              "      <td>-0.862899</td>\n",
              "      <td>-0.718009</td>\n",
              "      <td>0.292856</td>\n",
              "      <td>0.024920</td>\n",
              "      <td>6</td>\n",
              "      <td>WALKING_UPSTAIRS</td>\n",
              "      <td>1</td>\n",
              "    </tr>\n",
              "    <tr>\n",
              "      <th>5880</th>\n",
              "      <td>0.283815</td>\n",
              "      <td>-0.040658</td>\n",
              "      <td>-0.138018</td>\n",
              "      <td>-0.992662</td>\n",
              "      <td>-0.747190</td>\n",
              "      <td>-0.920248</td>\n",
              "      <td>-0.993410</td>\n",
              "      <td>-0.768055</td>\n",
              "      <td>-0.924587</td>\n",
              "      <td>-0.935871</td>\n",
              "      <td>...</td>\n",
              "      <td>0.107690</td>\n",
              "      <td>0.122242</td>\n",
              "      <td>-0.077226</td>\n",
              "      <td>-0.078091</td>\n",
              "      <td>-0.740244</td>\n",
              "      <td>0.008346</td>\n",
              "      <td>-0.146143</td>\n",
              "      <td>29</td>\n",
              "      <td>SITTING</td>\n",
              "      <td>0</td>\n",
              "    </tr>\n",
              "  </tbody>\n",
              "</table>\n",
              "<p>5881 rows × 564 columns</p>\n",
              "</div>\n",
              "    <div class=\"colab-df-buttons\">\n",
              "\n",
              "  <div class=\"colab-df-container\">\n",
              "    <button class=\"colab-df-convert\" onclick=\"convertToInteractive('df-a3c2e1d1-5511-478d-815f-ac4867faeb61')\"\n",
              "            title=\"Convert this dataframe to an interactive table.\"\n",
              "            style=\"display:none;\">\n",
              "\n",
              "  <svg xmlns=\"http://www.w3.org/2000/svg\" height=\"24px\" viewBox=\"0 -960 960 960\">\n",
              "    <path d=\"M120-120v-720h720v720H120Zm60-500h600v-160H180v160Zm220 220h160v-160H400v160Zm0 220h160v-160H400v160ZM180-400h160v-160H180v160Zm440 0h160v-160H620v160ZM180-180h160v-160H180v160Zm440 0h160v-160H620v160Z\"/>\n",
              "  </svg>\n",
              "    </button>\n",
              "\n",
              "  <style>\n",
              "    .colab-df-container {\n",
              "      display:flex;\n",
              "      gap: 12px;\n",
              "    }\n",
              "\n",
              "    .colab-df-convert {\n",
              "      background-color: #E8F0FE;\n",
              "      border: none;\n",
              "      border-radius: 50%;\n",
              "      cursor: pointer;\n",
              "      display: none;\n",
              "      fill: #1967D2;\n",
              "      height: 32px;\n",
              "      padding: 0 0 0 0;\n",
              "      width: 32px;\n",
              "    }\n",
              "\n",
              "    .colab-df-convert:hover {\n",
              "      background-color: #E2EBFA;\n",
              "      box-shadow: 0px 1px 2px rgba(60, 64, 67, 0.3), 0px 1px 3px 1px rgba(60, 64, 67, 0.15);\n",
              "      fill: #174EA6;\n",
              "    }\n",
              "\n",
              "    .colab-df-buttons div {\n",
              "      margin-bottom: 4px;\n",
              "    }\n",
              "\n",
              "    [theme=dark] .colab-df-convert {\n",
              "      background-color: #3B4455;\n",
              "      fill: #D2E3FC;\n",
              "    }\n",
              "\n",
              "    [theme=dark] .colab-df-convert:hover {\n",
              "      background-color: #434B5C;\n",
              "      box-shadow: 0px 1px 3px 1px rgba(0, 0, 0, 0.15);\n",
              "      filter: drop-shadow(0px 1px 2px rgba(0, 0, 0, 0.3));\n",
              "      fill: #FFFFFF;\n",
              "    }\n",
              "  </style>\n",
              "\n",
              "    <script>\n",
              "      const buttonEl =\n",
              "        document.querySelector('#df-a3c2e1d1-5511-478d-815f-ac4867faeb61 button.colab-df-convert');\n",
              "      buttonEl.style.display =\n",
              "        google.colab.kernel.accessAllowed ? 'block' : 'none';\n",
              "\n",
              "      async function convertToInteractive(key) {\n",
              "        const element = document.querySelector('#df-a3c2e1d1-5511-478d-815f-ac4867faeb61');\n",
              "        const dataTable =\n",
              "          await google.colab.kernel.invokeFunction('convertToInteractive',\n",
              "                                                    [key], {});\n",
              "        if (!dataTable) return;\n",
              "\n",
              "        const docLinkHtml = 'Like what you see? Visit the ' +\n",
              "          '<a target=\"_blank\" href=https://colab.research.google.com/notebooks/data_table.ipynb>data table notebook</a>'\n",
              "          + ' to learn more about interactive tables.';\n",
              "        element.innerHTML = '';\n",
              "        dataTable['output_type'] = 'display_data';\n",
              "        await google.colab.output.renderOutput(dataTable, element);\n",
              "        const docLink = document.createElement('div');\n",
              "        docLink.innerHTML = docLinkHtml;\n",
              "        element.appendChild(docLink);\n",
              "      }\n",
              "    </script>\n",
              "  </div>\n",
              "\n",
              "\n",
              "<div id=\"df-826ff9f8-edd4-425a-9855-62bb54944666\">\n",
              "  <button class=\"colab-df-quickchart\" onclick=\"quickchart('df-826ff9f8-edd4-425a-9855-62bb54944666')\"\n",
              "            title=\"Suggest charts\"\n",
              "            style=\"display:none;\">\n",
              "\n",
              "<svg xmlns=\"http://www.w3.org/2000/svg\" height=\"24px\"viewBox=\"0 0 24 24\"\n",
              "     width=\"24px\">\n",
              "    <g>\n",
              "        <path d=\"M19 3H5c-1.1 0-2 .9-2 2v14c0 1.1.9 2 2 2h14c1.1 0 2-.9 2-2V5c0-1.1-.9-2-2-2zM9 17H7v-7h2v7zm4 0h-2V7h2v10zm4 0h-2v-4h2v4z\"/>\n",
              "    </g>\n",
              "</svg>\n",
              "  </button>\n",
              "\n",
              "<style>\n",
              "  .colab-df-quickchart {\n",
              "      --bg-color: #E8F0FE;\n",
              "      --fill-color: #1967D2;\n",
              "      --hover-bg-color: #E2EBFA;\n",
              "      --hover-fill-color: #174EA6;\n",
              "      --disabled-fill-color: #AAA;\n",
              "      --disabled-bg-color: #DDD;\n",
              "  }\n",
              "\n",
              "  [theme=dark] .colab-df-quickchart {\n",
              "      --bg-color: #3B4455;\n",
              "      --fill-color: #D2E3FC;\n",
              "      --hover-bg-color: #434B5C;\n",
              "      --hover-fill-color: #FFFFFF;\n",
              "      --disabled-bg-color: #3B4455;\n",
              "      --disabled-fill-color: #666;\n",
              "  }\n",
              "\n",
              "  .colab-df-quickchart {\n",
              "    background-color: var(--bg-color);\n",
              "    border: none;\n",
              "    border-radius: 50%;\n",
              "    cursor: pointer;\n",
              "    display: none;\n",
              "    fill: var(--fill-color);\n",
              "    height: 32px;\n",
              "    padding: 0;\n",
              "    width: 32px;\n",
              "  }\n",
              "\n",
              "  .colab-df-quickchart:hover {\n",
              "    background-color: var(--hover-bg-color);\n",
              "    box-shadow: 0 1px 2px rgba(60, 64, 67, 0.3), 0 1px 3px 1px rgba(60, 64, 67, 0.15);\n",
              "    fill: var(--button-hover-fill-color);\n",
              "  }\n",
              "\n",
              "  .colab-df-quickchart-complete:disabled,\n",
              "  .colab-df-quickchart-complete:disabled:hover {\n",
              "    background-color: var(--disabled-bg-color);\n",
              "    fill: var(--disabled-fill-color);\n",
              "    box-shadow: none;\n",
              "  }\n",
              "\n",
              "  .colab-df-spinner {\n",
              "    border: 2px solid var(--fill-color);\n",
              "    border-color: transparent;\n",
              "    border-bottom-color: var(--fill-color);\n",
              "    animation:\n",
              "      spin 1s steps(1) infinite;\n",
              "  }\n",
              "\n",
              "  @keyframes spin {\n",
              "    0% {\n",
              "      border-color: transparent;\n",
              "      border-bottom-color: var(--fill-color);\n",
              "      border-left-color: var(--fill-color);\n",
              "    }\n",
              "    20% {\n",
              "      border-color: transparent;\n",
              "      border-left-color: var(--fill-color);\n",
              "      border-top-color: var(--fill-color);\n",
              "    }\n",
              "    30% {\n",
              "      border-color: transparent;\n",
              "      border-left-color: var(--fill-color);\n",
              "      border-top-color: var(--fill-color);\n",
              "      border-right-color: var(--fill-color);\n",
              "    }\n",
              "    40% {\n",
              "      border-color: transparent;\n",
              "      border-right-color: var(--fill-color);\n",
              "      border-top-color: var(--fill-color);\n",
              "    }\n",
              "    60% {\n",
              "      border-color: transparent;\n",
              "      border-right-color: var(--fill-color);\n",
              "    }\n",
              "    80% {\n",
              "      border-color: transparent;\n",
              "      border-right-color: var(--fill-color);\n",
              "      border-bottom-color: var(--fill-color);\n",
              "    }\n",
              "    90% {\n",
              "      border-color: transparent;\n",
              "      border-bottom-color: var(--fill-color);\n",
              "    }\n",
              "  }\n",
              "</style>\n",
              "\n",
              "  <script>\n",
              "    async function quickchart(key) {\n",
              "      const quickchartButtonEl =\n",
              "        document.querySelector('#' + key + ' button');\n",
              "      quickchartButtonEl.disabled = true;  // To prevent multiple clicks.\n",
              "      quickchartButtonEl.classList.add('colab-df-spinner');\n",
              "      try {\n",
              "        const charts = await google.colab.kernel.invokeFunction(\n",
              "            'suggestCharts', [key], {});\n",
              "      } catch (error) {\n",
              "        console.error('Error during call to suggestCharts:', error);\n",
              "      }\n",
              "      quickchartButtonEl.classList.remove('colab-df-spinner');\n",
              "      quickchartButtonEl.classList.add('colab-df-quickchart-complete');\n",
              "    }\n",
              "    (() => {\n",
              "      let quickchartButtonEl =\n",
              "        document.querySelector('#df-826ff9f8-edd4-425a-9855-62bb54944666 button');\n",
              "      quickchartButtonEl.style.display =\n",
              "        google.colab.kernel.accessAllowed ? 'block' : 'none';\n",
              "    })();\n",
              "  </script>\n",
              "</div>\n",
              "\n",
              "  <div id=\"id_0345ff7e-c6ba-4d51-9ea5-2b88c8269013\">\n",
              "    <style>\n",
              "      .colab-df-generate {\n",
              "        background-color: #E8F0FE;\n",
              "        border: none;\n",
              "        border-radius: 50%;\n",
              "        cursor: pointer;\n",
              "        display: none;\n",
              "        fill: #1967D2;\n",
              "        height: 32px;\n",
              "        padding: 0 0 0 0;\n",
              "        width: 32px;\n",
              "      }\n",
              "\n",
              "      .colab-df-generate:hover {\n",
              "        background-color: #E2EBFA;\n",
              "        box-shadow: 0px 1px 2px rgba(60, 64, 67, 0.3), 0px 1px 3px 1px rgba(60, 64, 67, 0.15);\n",
              "        fill: #174EA6;\n",
              "      }\n",
              "\n",
              "      [theme=dark] .colab-df-generate {\n",
              "        background-color: #3B4455;\n",
              "        fill: #D2E3FC;\n",
              "      }\n",
              "\n",
              "      [theme=dark] .colab-df-generate:hover {\n",
              "        background-color: #434B5C;\n",
              "        box-shadow: 0px 1px 3px 1px rgba(0, 0, 0, 0.15);\n",
              "        filter: drop-shadow(0px 1px 2px rgba(0, 0, 0, 0.3));\n",
              "        fill: #FFFFFF;\n",
              "      }\n",
              "    </style>\n",
              "    <button class=\"colab-df-generate\" onclick=\"generateWithVariable('data')\"\n",
              "            title=\"Generate code using this dataframe.\"\n",
              "            style=\"display:none;\">\n",
              "\n",
              "  <svg xmlns=\"http://www.w3.org/2000/svg\" height=\"24px\"viewBox=\"0 0 24 24\"\n",
              "       width=\"24px\">\n",
              "    <path d=\"M7,19H8.4L18.45,9,17,7.55,7,17.6ZM5,21V16.75L18.45,3.32a2,2,0,0,1,2.83,0l1.4,1.43a1.91,1.91,0,0,1,.58,1.4,1.91,1.91,0,0,1-.58,1.4L9.25,21ZM18.45,9,17,7.55Zm-12,3A5.31,5.31,0,0,0,4.9,8.1,5.31,5.31,0,0,0,1,6.5,5.31,5.31,0,0,0,4.9,4.9,5.31,5.31,0,0,0,6.5,1,5.31,5.31,0,0,0,8.1,4.9,5.31,5.31,0,0,0,12,6.5,5.46,5.46,0,0,0,6.5,12Z\"/>\n",
              "  </svg>\n",
              "    </button>\n",
              "    <script>\n",
              "      (() => {\n",
              "      const buttonEl =\n",
              "        document.querySelector('#id_0345ff7e-c6ba-4d51-9ea5-2b88c8269013 button.colab-df-generate');\n",
              "      buttonEl.style.display =\n",
              "        google.colab.kernel.accessAllowed ? 'block' : 'none';\n",
              "\n",
              "      buttonEl.onclick = () => {\n",
              "        google.colab.notebook.generateWithVariable('data');\n",
              "      }\n",
              "      })();\n",
              "    </script>\n",
              "  </div>\n",
              "\n",
              "    </div>\n",
              "  </div>\n"
            ],
            "application/vnd.google.colaboratory.intrinsic+json": {
              "type": "dataframe",
              "variable_name": "data"
            }
          },
          "metadata": {},
          "execution_count": 129
        }
      ]
    },
    {
      "cell_type": "code",
      "execution_count": null,
      "metadata": {
        "id": "gxeLcPj4g1J4"
      },
      "outputs": [],
      "source": []
    },
    {
      "cell_type": "code",
      "execution_count": null,
      "metadata": {
        "id": "cEXgA9jEg1Gx"
      },
      "outputs": [],
      "source": []
    },
    {
      "cell_type": "markdown",
      "metadata": {
        "id": "fQxizopUGMzc"
      },
      "source": [
        "### (2) 저장하기\n",
        "* joblib.dump를 이용하시오.\n",
        "* 저장할 파일의 확장자는 보통 .pkl 입니다."
      ]
    },
    {
      "cell_type": "code",
      "execution_count": null,
      "metadata": {
        "id": "6CYd0vxfg2B7"
      },
      "outputs": [],
      "source": []
    },
    {
      "cell_type": "code",
      "execution_count": null,
      "metadata": {
        "id": "Qec2vq15g3ET"
      },
      "outputs": [],
      "source": []
    },
    {
      "cell_type": "code",
      "execution_count": null,
      "metadata": {
        "id": "pULuDM2ng3BY"
      },
      "outputs": [],
      "source": []
    }
  ],
  "metadata": {
    "colab": {
      "provenance": []
    },
    "kernelspec": {
      "display_name": "Python 3",
      "name": "python3"
    },
    "language_info": {
      "name": "python"
    }
  },
  "nbformat": 4,
  "nbformat_minor": 0
}