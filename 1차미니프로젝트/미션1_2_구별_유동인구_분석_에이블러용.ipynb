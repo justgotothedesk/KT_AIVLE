{
  "cells": [
    {
      "cell_type": "markdown",
      "id": "boxed-jamaica",
      "metadata": {
        "id": "boxed-jamaica"
      },
      "source": [
        "# 안녕하세요^^\n",
        "## AIVLE 1차 미니프로젝트 '서울시 생활정보 기반 대중교통 수요 분석 ' 과정에 오신 여러분을 환영합니다.\n",
        "* 본 과정에서는 실제 사례와 데이터를 기반으로 문제를 해결하는 전체 과정을 자기 주도형 실습으로 진행해볼 예정입니다.\n",
        "* 앞선 교육과정을 정리하는 마음과 지금까지 배운 내용을 바탕으로 문제 해결을 해볼게요!\n",
        "* 미니 프로젝트를 통한 문제 해결 과정 'A에서 Z까지', 지금부터 시작합니다!"
      ]
    },
    {
      "cell_type": "markdown",
      "id": "ef575059",
      "metadata": {
        "id": "ef575059"
      },
      "source": [
        "---"
      ]
    },
    {
      "cell_type": "markdown",
      "id": "f2bc4fa5",
      "metadata": {
        "id": "f2bc4fa5"
      },
      "source": [
        "# 데이터 분석부터 먼저 시작해보겠습니다.\n",
        "## \"구 별 유동인구 데이터\" 를 확인해 보도록 하겠습니다"
      ]
    },
    {
      "cell_type": "code",
      "execution_count": 1,
      "id": "4c6ced42",
      "metadata": {
        "id": "4c6ced42"
      },
      "outputs": [],
      "source": [
        "# 필요 라이브러리부터 설치합니다.\n",
        "# %pip install pandas seaborn"
      ]
    },
    {
      "cell_type": "markdown",
      "id": "revolutionary-farmer",
      "metadata": {
        "id": "revolutionary-farmer"
      },
      "source": [
        "## 기본전제\n",
        "* 처음에 제공되는 기본/추가 데이터는 '에이블러용' 폴더에 있습니다.\n",
        "\n",
        "[기본 데이터]\n",
        "* seoul_moving_month_202401.csv\n",
        "\n",
        "[데이터 소개]\n",
        "* 서울 시 구별 이동 2024년 1월 데이터\n",
        "* https://data.seoul.go.kr/dataVisual/seoul/seoulLivingMigration.do\n",
        "\n",
        "[변수 소개]\n",
        "* 도착시간 : 0 -> \"0:00~0:59\"를 의미\n",
        "* 출발 자치구 : 자치구 코드\n",
        "* 성별 : F(여성), M(남성)\n",
        "* 나이 : 10 ~ 79세 (5세 단위), 0 ~ 10세, 80세 이상으로 구분\n",
        "* 유형 : H(야간상주지), W(주간상주지), E(기타)\n",
        "* 평균 이동 시간 : 동일 열 내 이동인구의 월 단위 평균 이동 시간 (10분단위)\n",
        "* 이동인구 : 추정 합산값으로 소수점 표출, 개인정보 비식별화를 위해 3명 미만의 경우 * 처리"
      ]
    },
    {
      "cell_type": "markdown",
      "id": "matched-broad",
      "metadata": {
        "id": "matched-broad"
      },
      "source": [
        "---"
      ]
    },
    {
      "cell_type": "markdown",
      "id": "warming-gentleman",
      "metadata": {
        "id": "warming-gentleman"
      },
      "source": [
        "# 1.데이터 불러오기\n",
        "## 모든 미니 프로젝트의 시작은 '데이터 불러오기' 부터라고 할 수 있습니다.\n",
        "+ KeyPoint : 불러오고자 하는 데이터에 따라 자유롭게 변수로 지정할 수 있다."
      ]
    },
    {
      "cell_type": "markdown",
      "id": "measured-administration",
      "metadata": {
        "id": "measured-administration"
      },
      "source": [
        "###  데이터 프레임을 불러오고 변수로 저장(여기서는 CSV 기준으로 진행)\n",
        "* csv : pd.read_csv(\"파일이름. csv\")\n",
        "* txt : pd.read_csv(\"파일이름. csv\", sep=\"구분자\")\n",
        "* xlsx : pd.read_excel('파일이름.xlsx')\n",
        "* pickle : pd.read_pickle(\"파일이름.pkl\") <br>\n",
        " [참고] pickle은 파이썬의 모든 객체를 파일로 저장할 수 있는 방법으로 DataFrame,List,Dict 등 모든 객체 저장 가능(특히 sklearn라이브러리를 통해 모델을 학습시키고, 저장할 때 많이 사용)"
      ]
    },
    {
      "cell_type": "markdown",
      "id": "vocational-animal",
      "metadata": {
        "id": "vocational-animal"
      },
      "source": [
        "#### [실습문제1] 데이터 로딩\n",
        "* Pandas 라이브러리를 활용해서 'seoul_moving_month_202401.csv' 데이터를 확인하세요.\n",
        "    * 아래에 'Pandas'를 Import하고 'seoul_moving_month_202401.csv'파일을 'seoul_moving'에 불러오고,  Shape을 확인하는 소스코드를 작성하고 실행해보세요.\n",
        "    * 데이터 파일 로딩시 참고 사항\n",
        "        * 구분자(sep)는 ',' 입니다\n",
        "        * UTF-8 인코더를 사용해 주세요"
      ]
    },
    {
      "cell_type": "code",
      "source": [
        "from google.colab import drive\n",
        "drive.mount('/content/drive')"
      ],
      "metadata": {
        "colab": {
          "base_uri": "https://localhost:8080/"
        },
        "id": "wY7JHKAOxNz2",
        "outputId": "4698a38a-1a95-4953-a4c9-12c0d6d806a8"
      },
      "id": "wY7JHKAOxNz2",
      "execution_count": 2,
      "outputs": [
        {
          "output_type": "stream",
          "name": "stdout",
          "text": [
            "Drive already mounted at /content/drive; to attempt to forcibly remount, call drive.mount(\"/content/drive\", force_remount=True).\n"
          ]
        }
      ]
    },
    {
      "cell_type": "code",
      "execution_count": 3,
      "id": "saving-slope",
      "metadata": {
        "id": "saving-slope"
      },
      "outputs": [],
      "source": [
        "# 아래에 실습코드를 작성하고 결과를 확인합니다.\n",
        "\n",
        "import pandas as pd\n",
        "seoul_moving = pd.read_csv('/content/drive/MyDrive/KTaivle/1차미니프로젝트/1.2 seoul_moving_month_202401.csv',sep=\",\", encoding = 'UTF-8')"
      ]
    },
    {
      "cell_type": "code",
      "execution_count": 4,
      "id": "funny-subcommittee",
      "metadata": {
        "colab": {
          "base_uri": "https://localhost:8080/"
        },
        "id": "funny-subcommittee",
        "outputId": "0ce28f0c-b6bc-47ed-e9ce-625bb1f65557"
      },
      "outputs": [
        {
          "output_type": "execute_result",
          "data": {
            "text/plain": [
              "(29361031, 10)"
            ]
          },
          "metadata": {},
          "execution_count": 4
        }
      ],
      "source": [
        "# 아래에 실습코드를 작성하고 결과를 확인합니다.\n",
        "# 데이터 프레임의 Shape을 확인합니다.\n",
        "seoul_moving.shape"
      ]
    },
    {
      "cell_type": "markdown",
      "id": "73396b42",
      "metadata": {
        "id": "73396b42"
      },
      "source": [
        "---"
      ]
    },
    {
      "cell_type": "markdown",
      "id": "annoying-trout",
      "metadata": {
        "id": "annoying-trout"
      },
      "source": [
        "# 2.기본 정보 확인 및 클렌징\n",
        "\n",
        "+ 데이터 클렌징 : 결측치, 이상치 등을 제거하여 데이터 분석 결과가 왜곡 되는 문제를 방지하기 위한 정제 과정"
      ]
    },
    {
      "cell_type": "markdown",
      "id": "romantic-johnson",
      "metadata": {
        "id": "romantic-johnson"
      },
      "source": [
        "#### [실습문제2] 기본 정보 확인하기\n",
        "* 'seoul_moving' 데이터의 정보를 확인해보세요.\n",
        "* 'describe', 'info', 'head' 등 전부 활용해 보겠습니다."
      ]
    },
    {
      "cell_type": "code",
      "execution_count": 5,
      "id": "demographic-battery",
      "metadata": {
        "colab": {
          "base_uri": "https://localhost:8080/",
          "height": 297
        },
        "id": "demographic-battery",
        "outputId": "1b72889c-c94b-4c9e-b0fd-234dfe4b06c3"
      },
      "outputs": [
        {
          "output_type": "execute_result",
          "data": {
            "text/plain": [
              "             대상연월          도착시간     출발 시군구 코드     도착 시군구 코드            나이  \\\n",
              "count  29361031.0  2.936103e+07  2.936103e+07  2.936103e+07  2.936103e+07   \n",
              "mean     202401.0  1.362194e+01  1.710538e+04  1.718123e+04  4.285979e+01   \n",
              "std           0.0  5.835017e+00  9.024981e+03  9.037102e+03  1.799456e+01   \n",
              "min      202401.0  0.000000e+00  1.101000e+04  1.101000e+04  0.000000e+00   \n",
              "25%      202401.0  1.000000e+01  1.110000e+04  1.111000e+04  3.000000e+01   \n",
              "50%      202401.0  1.400000e+01  1.120000e+04  1.120000e+04  4.000000e+01   \n",
              "75%      202401.0  1.800000e+01  3.101400e+04  3.101400e+04  5.500000e+01   \n",
              "max      202401.0  2.300000e+01  3.900000e+04  3.900000e+04  8.000000e+01   \n",
              "\n",
              "        평균 이동 시간(분)  \n",
              "count  2.936103e+07  \n",
              "mean   9.366626e+01  \n",
              "std    7.803316e+01  \n",
              "min    1.000000e+00  \n",
              "25%    4.900000e+01  \n",
              "50%    7.400000e+01  \n",
              "75%    1.120000e+02  \n",
              "max    4.462000e+03  "
            ],
            "text/html": [
              "\n",
              "  <div id=\"df-b254fd4b-7546-44ea-8aea-17d203aa7382\" class=\"colab-df-container\">\n",
              "    <div>\n",
              "<style scoped>\n",
              "    .dataframe tbody tr th:only-of-type {\n",
              "        vertical-align: middle;\n",
              "    }\n",
              "\n",
              "    .dataframe tbody tr th {\n",
              "        vertical-align: top;\n",
              "    }\n",
              "\n",
              "    .dataframe thead th {\n",
              "        text-align: right;\n",
              "    }\n",
              "</style>\n",
              "<table border=\"1\" class=\"dataframe\">\n",
              "  <thead>\n",
              "    <tr style=\"text-align: right;\">\n",
              "      <th></th>\n",
              "      <th>대상연월</th>\n",
              "      <th>도착시간</th>\n",
              "      <th>출발 시군구 코드</th>\n",
              "      <th>도착 시군구 코드</th>\n",
              "      <th>나이</th>\n",
              "      <th>평균 이동 시간(분)</th>\n",
              "    </tr>\n",
              "  </thead>\n",
              "  <tbody>\n",
              "    <tr>\n",
              "      <th>count</th>\n",
              "      <td>29361031.0</td>\n",
              "      <td>2.936103e+07</td>\n",
              "      <td>2.936103e+07</td>\n",
              "      <td>2.936103e+07</td>\n",
              "      <td>2.936103e+07</td>\n",
              "      <td>2.936103e+07</td>\n",
              "    </tr>\n",
              "    <tr>\n",
              "      <th>mean</th>\n",
              "      <td>202401.0</td>\n",
              "      <td>1.362194e+01</td>\n",
              "      <td>1.710538e+04</td>\n",
              "      <td>1.718123e+04</td>\n",
              "      <td>4.285979e+01</td>\n",
              "      <td>9.366626e+01</td>\n",
              "    </tr>\n",
              "    <tr>\n",
              "      <th>std</th>\n",
              "      <td>0.0</td>\n",
              "      <td>5.835017e+00</td>\n",
              "      <td>9.024981e+03</td>\n",
              "      <td>9.037102e+03</td>\n",
              "      <td>1.799456e+01</td>\n",
              "      <td>7.803316e+01</td>\n",
              "    </tr>\n",
              "    <tr>\n",
              "      <th>min</th>\n",
              "      <td>202401.0</td>\n",
              "      <td>0.000000e+00</td>\n",
              "      <td>1.101000e+04</td>\n",
              "      <td>1.101000e+04</td>\n",
              "      <td>0.000000e+00</td>\n",
              "      <td>1.000000e+00</td>\n",
              "    </tr>\n",
              "    <tr>\n",
              "      <th>25%</th>\n",
              "      <td>202401.0</td>\n",
              "      <td>1.000000e+01</td>\n",
              "      <td>1.110000e+04</td>\n",
              "      <td>1.111000e+04</td>\n",
              "      <td>3.000000e+01</td>\n",
              "      <td>4.900000e+01</td>\n",
              "    </tr>\n",
              "    <tr>\n",
              "      <th>50%</th>\n",
              "      <td>202401.0</td>\n",
              "      <td>1.400000e+01</td>\n",
              "      <td>1.120000e+04</td>\n",
              "      <td>1.120000e+04</td>\n",
              "      <td>4.000000e+01</td>\n",
              "      <td>7.400000e+01</td>\n",
              "    </tr>\n",
              "    <tr>\n",
              "      <th>75%</th>\n",
              "      <td>202401.0</td>\n",
              "      <td>1.800000e+01</td>\n",
              "      <td>3.101400e+04</td>\n",
              "      <td>3.101400e+04</td>\n",
              "      <td>5.500000e+01</td>\n",
              "      <td>1.120000e+02</td>\n",
              "    </tr>\n",
              "    <tr>\n",
              "      <th>max</th>\n",
              "      <td>202401.0</td>\n",
              "      <td>2.300000e+01</td>\n",
              "      <td>3.900000e+04</td>\n",
              "      <td>3.900000e+04</td>\n",
              "      <td>8.000000e+01</td>\n",
              "      <td>4.462000e+03</td>\n",
              "    </tr>\n",
              "  </tbody>\n",
              "</table>\n",
              "</div>\n",
              "    <div class=\"colab-df-buttons\">\n",
              "\n",
              "  <div class=\"colab-df-container\">\n",
              "    <button class=\"colab-df-convert\" onclick=\"convertToInteractive('df-b254fd4b-7546-44ea-8aea-17d203aa7382')\"\n",
              "            title=\"Convert this dataframe to an interactive table.\"\n",
              "            style=\"display:none;\">\n",
              "\n",
              "  <svg xmlns=\"http://www.w3.org/2000/svg\" height=\"24px\" viewBox=\"0 -960 960 960\">\n",
              "    <path d=\"M120-120v-720h720v720H120Zm60-500h600v-160H180v160Zm220 220h160v-160H400v160Zm0 220h160v-160H400v160ZM180-400h160v-160H180v160Zm440 0h160v-160H620v160ZM180-180h160v-160H180v160Zm440 0h160v-160H620v160Z\"/>\n",
              "  </svg>\n",
              "    </button>\n",
              "\n",
              "  <style>\n",
              "    .colab-df-container {\n",
              "      display:flex;\n",
              "      gap: 12px;\n",
              "    }\n",
              "\n",
              "    .colab-df-convert {\n",
              "      background-color: #E8F0FE;\n",
              "      border: none;\n",
              "      border-radius: 50%;\n",
              "      cursor: pointer;\n",
              "      display: none;\n",
              "      fill: #1967D2;\n",
              "      height: 32px;\n",
              "      padding: 0 0 0 0;\n",
              "      width: 32px;\n",
              "    }\n",
              "\n",
              "    .colab-df-convert:hover {\n",
              "      background-color: #E2EBFA;\n",
              "      box-shadow: 0px 1px 2px rgba(60, 64, 67, 0.3), 0px 1px 3px 1px rgba(60, 64, 67, 0.15);\n",
              "      fill: #174EA6;\n",
              "    }\n",
              "\n",
              "    .colab-df-buttons div {\n",
              "      margin-bottom: 4px;\n",
              "    }\n",
              "\n",
              "    [theme=dark] .colab-df-convert {\n",
              "      background-color: #3B4455;\n",
              "      fill: #D2E3FC;\n",
              "    }\n",
              "\n",
              "    [theme=dark] .colab-df-convert:hover {\n",
              "      background-color: #434B5C;\n",
              "      box-shadow: 0px 1px 3px 1px rgba(0, 0, 0, 0.15);\n",
              "      filter: drop-shadow(0px 1px 2px rgba(0, 0, 0, 0.3));\n",
              "      fill: #FFFFFF;\n",
              "    }\n",
              "  </style>\n",
              "\n",
              "    <script>\n",
              "      const buttonEl =\n",
              "        document.querySelector('#df-b254fd4b-7546-44ea-8aea-17d203aa7382 button.colab-df-convert');\n",
              "      buttonEl.style.display =\n",
              "        google.colab.kernel.accessAllowed ? 'block' : 'none';\n",
              "\n",
              "      async function convertToInteractive(key) {\n",
              "        const element = document.querySelector('#df-b254fd4b-7546-44ea-8aea-17d203aa7382');\n",
              "        const dataTable =\n",
              "          await google.colab.kernel.invokeFunction('convertToInteractive',\n",
              "                                                    [key], {});\n",
              "        if (!dataTable) return;\n",
              "\n",
              "        const docLinkHtml = 'Like what you see? Visit the ' +\n",
              "          '<a target=\"_blank\" href=https://colab.research.google.com/notebooks/data_table.ipynb>data table notebook</a>'\n",
              "          + ' to learn more about interactive tables.';\n",
              "        element.innerHTML = '';\n",
              "        dataTable['output_type'] = 'display_data';\n",
              "        await google.colab.output.renderOutput(dataTable, element);\n",
              "        const docLink = document.createElement('div');\n",
              "        docLink.innerHTML = docLinkHtml;\n",
              "        element.appendChild(docLink);\n",
              "      }\n",
              "    </script>\n",
              "  </div>\n",
              "\n",
              "\n",
              "<div id=\"df-60eb5261-f6a6-40de-a81b-a0ef6a22aaac\">\n",
              "  <button class=\"colab-df-quickchart\" onclick=\"quickchart('df-60eb5261-f6a6-40de-a81b-a0ef6a22aaac')\"\n",
              "            title=\"Suggest charts\"\n",
              "            style=\"display:none;\">\n",
              "\n",
              "<svg xmlns=\"http://www.w3.org/2000/svg\" height=\"24px\"viewBox=\"0 0 24 24\"\n",
              "     width=\"24px\">\n",
              "    <g>\n",
              "        <path d=\"M19 3H5c-1.1 0-2 .9-2 2v14c0 1.1.9 2 2 2h14c1.1 0 2-.9 2-2V5c0-1.1-.9-2-2-2zM9 17H7v-7h2v7zm4 0h-2V7h2v10zm4 0h-2v-4h2v4z\"/>\n",
              "    </g>\n",
              "</svg>\n",
              "  </button>\n",
              "\n",
              "<style>\n",
              "  .colab-df-quickchart {\n",
              "      --bg-color: #E8F0FE;\n",
              "      --fill-color: #1967D2;\n",
              "      --hover-bg-color: #E2EBFA;\n",
              "      --hover-fill-color: #174EA6;\n",
              "      --disabled-fill-color: #AAA;\n",
              "      --disabled-bg-color: #DDD;\n",
              "  }\n",
              "\n",
              "  [theme=dark] .colab-df-quickchart {\n",
              "      --bg-color: #3B4455;\n",
              "      --fill-color: #D2E3FC;\n",
              "      --hover-bg-color: #434B5C;\n",
              "      --hover-fill-color: #FFFFFF;\n",
              "      --disabled-bg-color: #3B4455;\n",
              "      --disabled-fill-color: #666;\n",
              "  }\n",
              "\n",
              "  .colab-df-quickchart {\n",
              "    background-color: var(--bg-color);\n",
              "    border: none;\n",
              "    border-radius: 50%;\n",
              "    cursor: pointer;\n",
              "    display: none;\n",
              "    fill: var(--fill-color);\n",
              "    height: 32px;\n",
              "    padding: 0;\n",
              "    width: 32px;\n",
              "  }\n",
              "\n",
              "  .colab-df-quickchart:hover {\n",
              "    background-color: var(--hover-bg-color);\n",
              "    box-shadow: 0 1px 2px rgba(60, 64, 67, 0.3), 0 1px 3px 1px rgba(60, 64, 67, 0.15);\n",
              "    fill: var(--button-hover-fill-color);\n",
              "  }\n",
              "\n",
              "  .colab-df-quickchart-complete:disabled,\n",
              "  .colab-df-quickchart-complete:disabled:hover {\n",
              "    background-color: var(--disabled-bg-color);\n",
              "    fill: var(--disabled-fill-color);\n",
              "    box-shadow: none;\n",
              "  }\n",
              "\n",
              "  .colab-df-spinner {\n",
              "    border: 2px solid var(--fill-color);\n",
              "    border-color: transparent;\n",
              "    border-bottom-color: var(--fill-color);\n",
              "    animation:\n",
              "      spin 1s steps(1) infinite;\n",
              "  }\n",
              "\n",
              "  @keyframes spin {\n",
              "    0% {\n",
              "      border-color: transparent;\n",
              "      border-bottom-color: var(--fill-color);\n",
              "      border-left-color: var(--fill-color);\n",
              "    }\n",
              "    20% {\n",
              "      border-color: transparent;\n",
              "      border-left-color: var(--fill-color);\n",
              "      border-top-color: var(--fill-color);\n",
              "    }\n",
              "    30% {\n",
              "      border-color: transparent;\n",
              "      border-left-color: var(--fill-color);\n",
              "      border-top-color: var(--fill-color);\n",
              "      border-right-color: var(--fill-color);\n",
              "    }\n",
              "    40% {\n",
              "      border-color: transparent;\n",
              "      border-right-color: var(--fill-color);\n",
              "      border-top-color: var(--fill-color);\n",
              "    }\n",
              "    60% {\n",
              "      border-color: transparent;\n",
              "      border-right-color: var(--fill-color);\n",
              "    }\n",
              "    80% {\n",
              "      border-color: transparent;\n",
              "      border-right-color: var(--fill-color);\n",
              "      border-bottom-color: var(--fill-color);\n",
              "    }\n",
              "    90% {\n",
              "      border-color: transparent;\n",
              "      border-bottom-color: var(--fill-color);\n",
              "    }\n",
              "  }\n",
              "</style>\n",
              "\n",
              "  <script>\n",
              "    async function quickchart(key) {\n",
              "      const quickchartButtonEl =\n",
              "        document.querySelector('#' + key + ' button');\n",
              "      quickchartButtonEl.disabled = true;  // To prevent multiple clicks.\n",
              "      quickchartButtonEl.classList.add('colab-df-spinner');\n",
              "      try {\n",
              "        const charts = await google.colab.kernel.invokeFunction(\n",
              "            'suggestCharts', [key], {});\n",
              "      } catch (error) {\n",
              "        console.error('Error during call to suggestCharts:', error);\n",
              "      }\n",
              "      quickchartButtonEl.classList.remove('colab-df-spinner');\n",
              "      quickchartButtonEl.classList.add('colab-df-quickchart-complete');\n",
              "    }\n",
              "    (() => {\n",
              "      let quickchartButtonEl =\n",
              "        document.querySelector('#df-60eb5261-f6a6-40de-a81b-a0ef6a22aaac button');\n",
              "      quickchartButtonEl.style.display =\n",
              "        google.colab.kernel.accessAllowed ? 'block' : 'none';\n",
              "    })();\n",
              "  </script>\n",
              "</div>\n",
              "\n",
              "    </div>\n",
              "  </div>\n"
            ],
            "application/vnd.google.colaboratory.intrinsic+json": {
              "type": "dataframe",
              "summary": "{\n  \"name\": \"seoul_moving\",\n  \"rows\": 8,\n  \"fields\": [\n    {\n      \"column\": \"\\ub300\\uc0c1\\uc5f0\\uc6d4\",\n      \"properties\": {\n        \"dtype\": \"number\",\n        \"std\": 10319598.344233487,\n        \"min\": 0.0,\n        \"max\": 29361031.0,\n        \"num_unique_values\": 3,\n        \"samples\": [\n          29361031.0,\n          202401.0,\n          0.0\n        ],\n        \"semantic_type\": \"\",\n        \"description\": \"\"\n      }\n    },\n    {\n      \"column\": \"\\ub3c4\\ucc29\\uc2dc\\uac04\",\n      \"properties\": {\n        \"dtype\": \"number\",\n        \"std\": 10380687.795645872,\n        \"min\": 0.0,\n        \"max\": 29361031.0,\n        \"num_unique_values\": 8,\n        \"samples\": [\n          13.621944747103738,\n          14.0,\n          29361031.0\n        ],\n        \"semantic_type\": \"\",\n        \"description\": \"\"\n      }\n    },\n    {\n      \"column\": \"\\ucd9c\\ubc1c \\uc2dc\\uad70\\uad6c \\ucf54\\ub4dc\",\n      \"properties\": {\n        \"dtype\": \"number\",\n        \"std\": 10374159.362408504,\n        \"min\": 9024.981433383215,\n        \"max\": 29361031.0,\n        \"num_unique_values\": 8,\n        \"samples\": [\n          17105.37624182884,\n          11200.0,\n          29361031.0\n        ],\n        \"semantic_type\": \"\",\n        \"description\": \"\"\n      }\n    },\n    {\n      \"column\": \"\\ub3c4\\ucc29 \\uc2dc\\uad70\\uad6c \\ucf54\\ub4dc\",\n      \"properties\": {\n        \"dtype\": \"number\",\n        \"std\": 10374154.410080366,\n        \"min\": 9037.102180891909,\n        \"max\": 29361031.0,\n        \"num_unique_values\": 8,\n        \"samples\": [\n          17181.227120532654,\n          11200.0,\n          29361031.0\n        ],\n        \"semantic_type\": \"\",\n        \"description\": \"\"\n      }\n    },\n    {\n      \"column\": \"\\ub098\\uc774\",\n      \"properties\": {\n        \"dtype\": \"number\",\n        \"std\": 10380678.63371912,\n        \"min\": 0.0,\n        \"max\": 29361031.0,\n        \"num_unique_values\": 8,\n        \"samples\": [\n          42.859793309029236,\n          40.0,\n          29361031.0\n        ],\n        \"semantic_type\": \"\",\n        \"description\": \"\"\n      }\n    },\n    {\n      \"column\": \"\\ud3c9\\uade0 \\uc774\\ub3d9 \\uc2dc\\uac04(\\ubd84)\",\n      \"properties\": {\n        \"dtype\": \"number\",\n        \"std\": 10380446.218331147,\n        \"min\": 1.0,\n        \"max\": 29361031.0,\n        \"num_unique_values\": 8,\n        \"samples\": [\n          93.66626018684426,\n          74.0,\n          29361031.0\n        ],\n        \"semantic_type\": \"\",\n        \"description\": \"\"\n      }\n    }\n  ]\n}"
            }
          },
          "metadata": {},
          "execution_count": 5
        }
      ],
      "source": [
        "# 아래에 실습코드를 작성하고 결과를 확인합니다.\n",
        "# describe()\n",
        "\n",
        "seoul_moving.describe()"
      ]
    },
    {
      "cell_type": "code",
      "execution_count": 6,
      "id": "940a114a",
      "metadata": {
        "colab": {
          "base_uri": "https://localhost:8080/"
        },
        "id": "940a114a",
        "outputId": "3e7d0b2e-68ec-4dc7-ec88-2d07809e5266"
      },
      "outputs": [
        {
          "output_type": "stream",
          "name": "stdout",
          "text": [
            "<class 'pandas.core.frame.DataFrame'>\n",
            "RangeIndex: 29361031 entries, 0 to 29361030\n",
            "Data columns (total 10 columns):\n",
            " #   Column       Dtype \n",
            "---  ------       ----- \n",
            " 0   대상연월         int64 \n",
            " 1   요일           object\n",
            " 2   도착시간         int64 \n",
            " 3   출발 시군구 코드    int64 \n",
            " 4   도착 시군구 코드    int64 \n",
            " 5   성별           object\n",
            " 6   나이           int64 \n",
            " 7   이동유형         object\n",
            " 8   평균 이동 시간(분)  int64 \n",
            " 9   이동인구(합)      object\n",
            "dtypes: int64(6), object(4)\n",
            "memory usage: 2.2+ GB\n"
          ]
        }
      ],
      "source": [
        "# 아래에 실습코드를 작성하고 결과를 확인합니다.\n",
        "# info()\n",
        "seoul_moving.info()"
      ]
    },
    {
      "cell_type": "code",
      "execution_count": 7,
      "id": "7343fadf",
      "metadata": {
        "colab": {
          "base_uri": "https://localhost:8080/",
          "height": 204
        },
        "id": "7343fadf",
        "outputId": "65e852ed-1bcd-4e6e-9fd1-0d468ee2ccc0"
      },
      "outputs": [
        {
          "output_type": "execute_result",
          "data": {
            "text/plain": [
              "     대상연월 요일  도착시간  출발 시군구 코드  도착 시군구 코드 성별  나이 이동유형  평균 이동 시간(분) 이동인구(합)\n",
              "0  202401  일     0      11010      11010  F   0   EE           20   28.06\n",
              "1  202401  일     0      11010      11010  F  10   EE          167   11.96\n",
              "2  202401  일     0      11010      11010  F  10   EH          203   17.63\n",
              "3  202401  일     0      11010      11010  F  10   HE           23    5.96\n",
              "4  202401  일     0      11010      11010  F  10   WH           27    5.90"
            ],
            "text/html": [
              "\n",
              "  <div id=\"df-5988dcfb-556a-4e79-85c7-d4742bba8ccc\" class=\"colab-df-container\">\n",
              "    <div>\n",
              "<style scoped>\n",
              "    .dataframe tbody tr th:only-of-type {\n",
              "        vertical-align: middle;\n",
              "    }\n",
              "\n",
              "    .dataframe tbody tr th {\n",
              "        vertical-align: top;\n",
              "    }\n",
              "\n",
              "    .dataframe thead th {\n",
              "        text-align: right;\n",
              "    }\n",
              "</style>\n",
              "<table border=\"1\" class=\"dataframe\">\n",
              "  <thead>\n",
              "    <tr style=\"text-align: right;\">\n",
              "      <th></th>\n",
              "      <th>대상연월</th>\n",
              "      <th>요일</th>\n",
              "      <th>도착시간</th>\n",
              "      <th>출발 시군구 코드</th>\n",
              "      <th>도착 시군구 코드</th>\n",
              "      <th>성별</th>\n",
              "      <th>나이</th>\n",
              "      <th>이동유형</th>\n",
              "      <th>평균 이동 시간(분)</th>\n",
              "      <th>이동인구(합)</th>\n",
              "    </tr>\n",
              "  </thead>\n",
              "  <tbody>\n",
              "    <tr>\n",
              "      <th>0</th>\n",
              "      <td>202401</td>\n",
              "      <td>일</td>\n",
              "      <td>0</td>\n",
              "      <td>11010</td>\n",
              "      <td>11010</td>\n",
              "      <td>F</td>\n",
              "      <td>0</td>\n",
              "      <td>EE</td>\n",
              "      <td>20</td>\n",
              "      <td>28.06</td>\n",
              "    </tr>\n",
              "    <tr>\n",
              "      <th>1</th>\n",
              "      <td>202401</td>\n",
              "      <td>일</td>\n",
              "      <td>0</td>\n",
              "      <td>11010</td>\n",
              "      <td>11010</td>\n",
              "      <td>F</td>\n",
              "      <td>10</td>\n",
              "      <td>EE</td>\n",
              "      <td>167</td>\n",
              "      <td>11.96</td>\n",
              "    </tr>\n",
              "    <tr>\n",
              "      <th>2</th>\n",
              "      <td>202401</td>\n",
              "      <td>일</td>\n",
              "      <td>0</td>\n",
              "      <td>11010</td>\n",
              "      <td>11010</td>\n",
              "      <td>F</td>\n",
              "      <td>10</td>\n",
              "      <td>EH</td>\n",
              "      <td>203</td>\n",
              "      <td>17.63</td>\n",
              "    </tr>\n",
              "    <tr>\n",
              "      <th>3</th>\n",
              "      <td>202401</td>\n",
              "      <td>일</td>\n",
              "      <td>0</td>\n",
              "      <td>11010</td>\n",
              "      <td>11010</td>\n",
              "      <td>F</td>\n",
              "      <td>10</td>\n",
              "      <td>HE</td>\n",
              "      <td>23</td>\n",
              "      <td>5.96</td>\n",
              "    </tr>\n",
              "    <tr>\n",
              "      <th>4</th>\n",
              "      <td>202401</td>\n",
              "      <td>일</td>\n",
              "      <td>0</td>\n",
              "      <td>11010</td>\n",
              "      <td>11010</td>\n",
              "      <td>F</td>\n",
              "      <td>10</td>\n",
              "      <td>WH</td>\n",
              "      <td>27</td>\n",
              "      <td>5.90</td>\n",
              "    </tr>\n",
              "  </tbody>\n",
              "</table>\n",
              "</div>\n",
              "    <div class=\"colab-df-buttons\">\n",
              "\n",
              "  <div class=\"colab-df-container\">\n",
              "    <button class=\"colab-df-convert\" onclick=\"convertToInteractive('df-5988dcfb-556a-4e79-85c7-d4742bba8ccc')\"\n",
              "            title=\"Convert this dataframe to an interactive table.\"\n",
              "            style=\"display:none;\">\n",
              "\n",
              "  <svg xmlns=\"http://www.w3.org/2000/svg\" height=\"24px\" viewBox=\"0 -960 960 960\">\n",
              "    <path d=\"M120-120v-720h720v720H120Zm60-500h600v-160H180v160Zm220 220h160v-160H400v160Zm0 220h160v-160H400v160ZM180-400h160v-160H180v160Zm440 0h160v-160H620v160ZM180-180h160v-160H180v160Zm440 0h160v-160H620v160Z\"/>\n",
              "  </svg>\n",
              "    </button>\n",
              "\n",
              "  <style>\n",
              "    .colab-df-container {\n",
              "      display:flex;\n",
              "      gap: 12px;\n",
              "    }\n",
              "\n",
              "    .colab-df-convert {\n",
              "      background-color: #E8F0FE;\n",
              "      border: none;\n",
              "      border-radius: 50%;\n",
              "      cursor: pointer;\n",
              "      display: none;\n",
              "      fill: #1967D2;\n",
              "      height: 32px;\n",
              "      padding: 0 0 0 0;\n",
              "      width: 32px;\n",
              "    }\n",
              "\n",
              "    .colab-df-convert:hover {\n",
              "      background-color: #E2EBFA;\n",
              "      box-shadow: 0px 1px 2px rgba(60, 64, 67, 0.3), 0px 1px 3px 1px rgba(60, 64, 67, 0.15);\n",
              "      fill: #174EA6;\n",
              "    }\n",
              "\n",
              "    .colab-df-buttons div {\n",
              "      margin-bottom: 4px;\n",
              "    }\n",
              "\n",
              "    [theme=dark] .colab-df-convert {\n",
              "      background-color: #3B4455;\n",
              "      fill: #D2E3FC;\n",
              "    }\n",
              "\n",
              "    [theme=dark] .colab-df-convert:hover {\n",
              "      background-color: #434B5C;\n",
              "      box-shadow: 0px 1px 3px 1px rgba(0, 0, 0, 0.15);\n",
              "      filter: drop-shadow(0px 1px 2px rgba(0, 0, 0, 0.3));\n",
              "      fill: #FFFFFF;\n",
              "    }\n",
              "  </style>\n",
              "\n",
              "    <script>\n",
              "      const buttonEl =\n",
              "        document.querySelector('#df-5988dcfb-556a-4e79-85c7-d4742bba8ccc button.colab-df-convert');\n",
              "      buttonEl.style.display =\n",
              "        google.colab.kernel.accessAllowed ? 'block' : 'none';\n",
              "\n",
              "      async function convertToInteractive(key) {\n",
              "        const element = document.querySelector('#df-5988dcfb-556a-4e79-85c7-d4742bba8ccc');\n",
              "        const dataTable =\n",
              "          await google.colab.kernel.invokeFunction('convertToInteractive',\n",
              "                                                    [key], {});\n",
              "        if (!dataTable) return;\n",
              "\n",
              "        const docLinkHtml = 'Like what you see? Visit the ' +\n",
              "          '<a target=\"_blank\" href=https://colab.research.google.com/notebooks/data_table.ipynb>data table notebook</a>'\n",
              "          + ' to learn more about interactive tables.';\n",
              "        element.innerHTML = '';\n",
              "        dataTable['output_type'] = 'display_data';\n",
              "        await google.colab.output.renderOutput(dataTable, element);\n",
              "        const docLink = document.createElement('div');\n",
              "        docLink.innerHTML = docLinkHtml;\n",
              "        element.appendChild(docLink);\n",
              "      }\n",
              "    </script>\n",
              "  </div>\n",
              "\n",
              "\n",
              "<div id=\"df-f9d95b9a-982a-434b-bb89-4e86ec57bd26\">\n",
              "  <button class=\"colab-df-quickchart\" onclick=\"quickchart('df-f9d95b9a-982a-434b-bb89-4e86ec57bd26')\"\n",
              "            title=\"Suggest charts\"\n",
              "            style=\"display:none;\">\n",
              "\n",
              "<svg xmlns=\"http://www.w3.org/2000/svg\" height=\"24px\"viewBox=\"0 0 24 24\"\n",
              "     width=\"24px\">\n",
              "    <g>\n",
              "        <path d=\"M19 3H5c-1.1 0-2 .9-2 2v14c0 1.1.9 2 2 2h14c1.1 0 2-.9 2-2V5c0-1.1-.9-2-2-2zM9 17H7v-7h2v7zm4 0h-2V7h2v10zm4 0h-2v-4h2v4z\"/>\n",
              "    </g>\n",
              "</svg>\n",
              "  </button>\n",
              "\n",
              "<style>\n",
              "  .colab-df-quickchart {\n",
              "      --bg-color: #E8F0FE;\n",
              "      --fill-color: #1967D2;\n",
              "      --hover-bg-color: #E2EBFA;\n",
              "      --hover-fill-color: #174EA6;\n",
              "      --disabled-fill-color: #AAA;\n",
              "      --disabled-bg-color: #DDD;\n",
              "  }\n",
              "\n",
              "  [theme=dark] .colab-df-quickchart {\n",
              "      --bg-color: #3B4455;\n",
              "      --fill-color: #D2E3FC;\n",
              "      --hover-bg-color: #434B5C;\n",
              "      --hover-fill-color: #FFFFFF;\n",
              "      --disabled-bg-color: #3B4455;\n",
              "      --disabled-fill-color: #666;\n",
              "  }\n",
              "\n",
              "  .colab-df-quickchart {\n",
              "    background-color: var(--bg-color);\n",
              "    border: none;\n",
              "    border-radius: 50%;\n",
              "    cursor: pointer;\n",
              "    display: none;\n",
              "    fill: var(--fill-color);\n",
              "    height: 32px;\n",
              "    padding: 0;\n",
              "    width: 32px;\n",
              "  }\n",
              "\n",
              "  .colab-df-quickchart:hover {\n",
              "    background-color: var(--hover-bg-color);\n",
              "    box-shadow: 0 1px 2px rgba(60, 64, 67, 0.3), 0 1px 3px 1px rgba(60, 64, 67, 0.15);\n",
              "    fill: var(--button-hover-fill-color);\n",
              "  }\n",
              "\n",
              "  .colab-df-quickchart-complete:disabled,\n",
              "  .colab-df-quickchart-complete:disabled:hover {\n",
              "    background-color: var(--disabled-bg-color);\n",
              "    fill: var(--disabled-fill-color);\n",
              "    box-shadow: none;\n",
              "  }\n",
              "\n",
              "  .colab-df-spinner {\n",
              "    border: 2px solid var(--fill-color);\n",
              "    border-color: transparent;\n",
              "    border-bottom-color: var(--fill-color);\n",
              "    animation:\n",
              "      spin 1s steps(1) infinite;\n",
              "  }\n",
              "\n",
              "  @keyframes spin {\n",
              "    0% {\n",
              "      border-color: transparent;\n",
              "      border-bottom-color: var(--fill-color);\n",
              "      border-left-color: var(--fill-color);\n",
              "    }\n",
              "    20% {\n",
              "      border-color: transparent;\n",
              "      border-left-color: var(--fill-color);\n",
              "      border-top-color: var(--fill-color);\n",
              "    }\n",
              "    30% {\n",
              "      border-color: transparent;\n",
              "      border-left-color: var(--fill-color);\n",
              "      border-top-color: var(--fill-color);\n",
              "      border-right-color: var(--fill-color);\n",
              "    }\n",
              "    40% {\n",
              "      border-color: transparent;\n",
              "      border-right-color: var(--fill-color);\n",
              "      border-top-color: var(--fill-color);\n",
              "    }\n",
              "    60% {\n",
              "      border-color: transparent;\n",
              "      border-right-color: var(--fill-color);\n",
              "    }\n",
              "    80% {\n",
              "      border-color: transparent;\n",
              "      border-right-color: var(--fill-color);\n",
              "      border-bottom-color: var(--fill-color);\n",
              "    }\n",
              "    90% {\n",
              "      border-color: transparent;\n",
              "      border-bottom-color: var(--fill-color);\n",
              "    }\n",
              "  }\n",
              "</style>\n",
              "\n",
              "  <script>\n",
              "    async function quickchart(key) {\n",
              "      const quickchartButtonEl =\n",
              "        document.querySelector('#' + key + ' button');\n",
              "      quickchartButtonEl.disabled = true;  // To prevent multiple clicks.\n",
              "      quickchartButtonEl.classList.add('colab-df-spinner');\n",
              "      try {\n",
              "        const charts = await google.colab.kernel.invokeFunction(\n",
              "            'suggestCharts', [key], {});\n",
              "      } catch (error) {\n",
              "        console.error('Error during call to suggestCharts:', error);\n",
              "      }\n",
              "      quickchartButtonEl.classList.remove('colab-df-spinner');\n",
              "      quickchartButtonEl.classList.add('colab-df-quickchart-complete');\n",
              "    }\n",
              "    (() => {\n",
              "      let quickchartButtonEl =\n",
              "        document.querySelector('#df-f9d95b9a-982a-434b-bb89-4e86ec57bd26 button');\n",
              "      quickchartButtonEl.style.display =\n",
              "        google.colab.kernel.accessAllowed ? 'block' : 'none';\n",
              "    })();\n",
              "  </script>\n",
              "</div>\n",
              "\n",
              "    </div>\n",
              "  </div>\n"
            ],
            "application/vnd.google.colaboratory.intrinsic+json": {
              "type": "dataframe",
              "variable_name": "seoul_moving"
            }
          },
          "metadata": {},
          "execution_count": 7
        }
      ],
      "source": [
        "# 아래에 실습코드를 작성하고 결과를 확인합니다.\n",
        "# head()\n",
        "seoul_moving.head()"
      ]
    },
    {
      "cell_type": "markdown",
      "id": "b90fd066",
      "metadata": {
        "id": "b90fd066"
      },
      "source": [
        "* 1번 열의 의미\n",
        "    * \" 2024년 1월 일요일에 11010(종로구)에서 11010(종로구)으로 이동하여 0시 ~ 0시 59분 사이에 도착했고, E(기타)에서 E(기타)로 이동한 10 ~ 15세 여성은 총 11.96명이며 이들의 평균 이동시간은 167분이다\n"
      ]
    },
    {
      "cell_type": "markdown",
      "id": "003322b3",
      "metadata": {
        "id": "003322b3"
      },
      "source": [
        "#### [실습문제3] 결측치 처리 ( NaN이 아닌 결측치를 처리 해봅시다)\n",
        "\n",
        "* '이동인구(합)' column은 이동 인구의 합산인데 object 타입입니다.\n",
        "\n",
        "    - 왜 일까요?\n",
        "\n",
        "    - Tip! (이동인구 : 추정 합산값으로 소수점 표출, 개인정보 비식별화를 위해 3명 미만의 경우 * 처리)\n",
        "    - 3명 미만의 이동인구는 * 처리 되어 있어서 해당 값을 나름의 기준으로 변경하세요.(중위값)\n",
        "    - '이동인구(합)' 컬럼의 데이터 타입을 수치형으로 변경하세요"
      ]
    },
    {
      "cell_type": "code",
      "execution_count": 8,
      "id": "64977ed3",
      "metadata": {
        "colab": {
          "base_uri": "https://localhost:8080/"
        },
        "id": "64977ed3",
        "outputId": "d90b7734-e49f-473c-d237-cab6f2cfc4ad"
      },
      "outputs": [
        {
          "output_type": "execute_result",
          "data": {
            "text/plain": [
              "*          3870174\n",
              "6.05        420734\n",
              "3.30        397265\n",
              "3.29        286071\n",
              "3.31        234821\n",
              "            ...   \n",
              "1617.95          1\n",
              "2414.11          1\n",
              "1499.98          1\n",
              "1478.45          1\n",
              "689.93           1\n",
              "Name: 이동인구(합), Length: 140404, dtype: int64"
            ]
          },
          "metadata": {},
          "execution_count": 8
        }
      ],
      "source": [
        "# 아래에 실습코드를 작성하고 결과를 확인합니다.\n",
        "# value_counts()\n",
        "seoul_moving['이동인구(합)'].value_counts()"
      ]
    },
    {
      "cell_type": "code",
      "execution_count": 9,
      "id": "703fc8b7",
      "metadata": {
        "id": "703fc8b7"
      },
      "outputs": [],
      "source": [
        "# '*' 값의 최빈값과 평균값을 알 수 없는 상황이라 중위값으로 대체 (1.5명)\n",
        "\n",
        "seoul_moving['이동인구(합)'] = seoul_moving['이동인구(합)'].replace('*', 1.5)"
      ]
    },
    {
      "cell_type": "code",
      "execution_count": 10,
      "id": "3ec3c54b",
      "metadata": {
        "tags": [],
        "id": "3ec3c54b"
      },
      "outputs": [],
      "source": [
        "# 이동인구(합) column의 데이터 타입을 바꿔주세요\n",
        "# astype()\n",
        "\n",
        "seoul_moving['이동인구(합)'] = seoul_moving['이동인구(합)'].astype(float)"
      ]
    },
    {
      "cell_type": "markdown",
      "id": "3666e46c",
      "metadata": {
        "id": "3666e46c"
      },
      "source": [
        "#### [실습문제4] 이동유형, 요일, 성별 변수의 value수를 파악\n",
        "\n",
        "* 역시나 value_counts()를 활용해 봅시다."
      ]
    },
    {
      "cell_type": "code",
      "execution_count": 11,
      "id": "3cd0103e",
      "metadata": {
        "colab": {
          "base_uri": "https://localhost:8080/"
        },
        "id": "3cd0103e",
        "outputId": "3e37dc71-45f7-49f8-86a0-a36711be200e"
      },
      "outputs": [
        {
          "output_type": "execute_result",
          "data": {
            "text/plain": [
              "EH    5947038\n",
              "HE    5585412\n",
              "EE    5224553\n",
              "WH    3078348\n",
              "WE    2759477\n",
              "HW    2700535\n",
              "EW    2330931\n",
              "WW    1082641\n",
              "HH     652096\n",
              "Name: 이동유형, dtype: int64"
            ]
          },
          "metadata": {},
          "execution_count": 11
        }
      ],
      "source": [
        "# 아래에 실습코드를 작성하고 결과를 확인합니다.\n",
        "# 이동유형, value_counts()\n",
        "seoul_moving[\"이동유형\"].value_counts()"
      ]
    },
    {
      "cell_type": "code",
      "execution_count": 12,
      "id": "1cdd246f",
      "metadata": {
        "colab": {
          "base_uri": "https://localhost:8080/"
        },
        "id": "1cdd246f",
        "outputId": "cac1373e-d39c-4b58-ac3c-befc732f1ed2"
      },
      "outputs": [
        {
          "output_type": "execute_result",
          "data": {
            "text/plain": [
              "월    4448237\n",
              "수    4341429\n",
              "화    4300070\n",
              "토    4254525\n",
              "금    4251430\n",
              "목    4005959\n",
              "일    3759381\n",
              "Name: 요일, dtype: int64"
            ]
          },
          "metadata": {},
          "execution_count": 12
        }
      ],
      "source": [
        "# 아래에 실습코드를 작성하고 결과를 확인합니다.\n",
        "# 요일, value_counts()\n",
        "seoul_moving[\"요일\"].value_counts()"
      ]
    },
    {
      "cell_type": "markdown",
      "id": "ba257395",
      "metadata": {
        "id": "ba257395"
      },
      "source": [
        "* 24년 1월의 요일 수를 알려드릴게요\n",
        "    * 일 : 4, 월 : 5, 화 : 5, 수 : 5, 목 : 4, 금 : 4, 토 : 4"
      ]
    },
    {
      "cell_type": "code",
      "execution_count": 13,
      "id": "c3f440b9",
      "metadata": {
        "colab": {
          "base_uri": "https://localhost:8080/"
        },
        "id": "c3f440b9",
        "outputId": "407d6dbe-12ce-4e3e-a14e-c5fcffc7967d"
      },
      "outputs": [
        {
          "output_type": "execute_result",
          "data": {
            "text/plain": [
              "M    16433525\n",
              "F    12927506\n",
              "Name: 성별, dtype: int64"
            ]
          },
          "metadata": {},
          "execution_count": 13
        }
      ],
      "source": [
        "# 아래에 실습코드를 작성하고 결과를 확인합니다.\n",
        "# 성별, value_counts()\n",
        "seoul_moving['성별'].value_counts()"
      ]
    },
    {
      "cell_type": "markdown",
      "id": "6356b00c",
      "metadata": {
        "id": "6356b00c"
      },
      "source": [
        "#### [실습문제5] 어느 요일의 심야 이동이 가장 많을까요?"
      ]
    },
    {
      "cell_type": "code",
      "execution_count": 14,
      "id": "470c3d5d",
      "metadata": {
        "tags": [],
        "colab": {
          "base_uri": "https://localhost:8080/"
        },
        "id": "470c3d5d",
        "outputId": "250f0666-0f2f-46d4-c475-0ab1ecacebde"
      },
      "outputs": [
        {
          "output_type": "stream",
          "name": "stdout",
          "text": [
            "2868922\n",
            "  요일  이동 사례 개수\n",
            "0  토    447240\n",
            "1  월    439563\n",
            "2  수    414321\n",
            "3  화    403295\n",
            "4  금    397406\n",
            "5  일    387318\n",
            "6  목    379779\n"
          ]
        }
      ],
      "source": [
        "# 아래에 실습코드를 작성하고 결과를 확인합니다.\n",
        "# 새벽 5시까지 도착하는 이동 사례, seoul_moving_night 변수 저장\n",
        "\n",
        "seoul_moving_night = seoul_moving[seoul_moving['도착시간'].astype(int) <= 5]\n",
        "print(len(seoul_moving_night))\n",
        "\n",
        "# 요일별로 도착하는 이동 사례 개수 계산\n",
        "seoul_moving_night_by_day = seoul_moving_night['요일'].value_counts().reset_index()\n",
        "seoul_moving_night_by_day.columns = ['요일', '이동 사례 개수']\n",
        "print(seoul_moving_night_by_day)\n"
      ]
    },
    {
      "cell_type": "markdown",
      "id": "45594fc1",
      "metadata": {
        "id": "45594fc1"
      },
      "source": [
        "#### [실습문제6] 서울 지역의 데이터만 골라 보도록 하겠습니다.\n",
        "\n",
        "* 우리는 서울시의 데이터만 필요합니다.\n",
        "* 시군구 코드:광역시도(2자리)+시군구(3자리) / 서울:11, 부산:26, 대구:27, 인천:28, 광주:29, 대전:30, 울산:31)\n",
        "\n",
        "* 출발과 도착이 모두 서울인 데이터만 추출해 주세요."
      ]
    },
    {
      "cell_type": "code",
      "execution_count": 15,
      "id": "fab14a50",
      "metadata": {
        "tags": [],
        "colab": {
          "base_uri": "https://localhost:8080/"
        },
        "id": "fab14a50",
        "outputId": "3939e36c-bbc2-427d-8a8d-282439ee7fa5"
      },
      "outputs": [
        {
          "output_type": "stream",
          "name": "stdout",
          "text": [
            "            대상연월 요일  도착시간  출발 시군구 코드  도착 시군구 코드 성별  나이 이동유형  평균 이동 시간(분)  \\\n",
            "0         202401  일     0      11010      11010  F   0   EE           20   \n",
            "1         202401  일     0      11010      11010  F  10   EE          167   \n",
            "2         202401  일     0      11010      11010  F  10   EH          203   \n",
            "3         202401  일     0      11010      11010  F  10   HE           23   \n",
            "4         202401  일     0      11010      11010  F  10   WH           27   \n",
            "...          ... ..   ...        ...        ... ..  ..  ...          ...   \n",
            "29320192  202401  토    23      11250      11250  M  80   EH           18   \n",
            "29320193  202401  토    23      11250      11250  M  80   HE           78   \n",
            "29320194  202401  토    23      11250      11250  M  80   HW          168   \n",
            "29320195  202401  토    23      11250      11250  M  80   WH           16   \n",
            "29320196  202401  토    23      11250      11250  M  80   WW           78   \n",
            "\n",
            "          이동인구(합)  \n",
            "0           28.06  \n",
            "1           11.96  \n",
            "2           17.63  \n",
            "3            5.96  \n",
            "4            5.90  \n",
            "...           ...  \n",
            "29320192    28.41  \n",
            "29320193     9.46  \n",
            "29320194     9.48  \n",
            "29320195    47.27  \n",
            "29320196    28.51  \n",
            "\n",
            "[10791769 rows x 10 columns]\n"
          ]
        }
      ],
      "source": [
        "# 아래에 실습코드를 작성하고 결과를 확인합니다.\n",
        "# 출발 시군구 코드, 도착 시군구 코드 <20000\n",
        "filtered_seoul_moving = seoul_moving[(seoul_moving['출발 시군구 코드'] < 20000) & (seoul_moving['도착 시군구 코드'] < 20000)]\n",
        "print(filtered_seoul_moving)"
      ]
    },
    {
      "cell_type": "code",
      "execution_count": 16,
      "id": "2b5bdcde",
      "metadata": {
        "id": "2b5bdcde"
      },
      "outputs": [],
      "source": [
        "# 아래에 실습코드를 작성하고 결과를 확인합니다.\n",
        "\n"
      ]
    },
    {
      "cell_type": "markdown",
      "id": "e968a0ae",
      "metadata": {
        "id": "e968a0ae"
      },
      "source": [
        "#### [실습문제7] 서울지역의 구 별로 groupby하여 데이터를 확인하겠습니다 (유동인구 기준)\n",
        "\n",
        "* 유출이 제일 많은 구는?\n",
        "\n",
        "* 유입이 제일 많은 구는?\n",
        "\n",
        "* 유출이 제일 적은 구는?\n",
        "\n",
        "* 유입이 제일 적은 구는?"
      ]
    },
    {
      "cell_type": "markdown",
      "id": "ab98b422",
      "metadata": {
        "id": "ab98b422"
      },
      "source": [
        "* 참고자료 서울 구별 코드\n",
        "    * 11010\t종로구\n",
        "    * 11020\t중구\n",
        "    * 11030\t용산구\n",
        "    * 11040\t성동구\n",
        "    * 11050\t광진구\n",
        "    * 11060\t동대문구\n",
        "    * 11070\t중랑구\n",
        "    * 11080\t성북구\n",
        "    * 11090\t강북구\n",
        "    * 11100\t도봉구\n",
        "    * 11110\t노원구\n",
        "    * 11120\t은평구\n",
        "    * 11130\t서대문구\n",
        "    * 11140\t마포구\n",
        "    * 11150\t양천구\n",
        "    * 11160\t강서구\n",
        "    * 11170\t구로구\n",
        "    * 11180\t금천구\n",
        "    * 11190\t영등포구\n",
        "    * 11200\t동작구\n",
        "    * 11210\t관악구\n",
        "    * 11220\t서초구\n",
        "    * 11230\t강남구\n",
        "    * 11240\t송파구\n",
        "    * 11250\t강동구"
      ]
    },
    {
      "cell_type": "code",
      "source": [
        "code_to_gu = {\n",
        "    11010: '종로구', 11020: '중구', 11030: '용산구', 11040: '성동구', 11050: '광진구',\n",
        "    11060: '동대문구', 11070: '중랑구', 11080: '성북구', 11090: '강북구', 11100: '도봉구',\n",
        "    11110: '노원구', 11120: '은평구', 11130: '서대문구', 11140: '마포구', 11150: '양천구',\n",
        "    11160: '강서구', 11170: '구로구', 11180: '금천구', 11190: '영등포구', 11200: '동작구',\n",
        "    11210: '관악구', 11220: '서초구', 11230: '강남구', 11240: '송파구', 11250: '강동구'\n",
        "}"
      ],
      "metadata": {
        "id": "kF1R1g9a109x"
      },
      "id": "kF1R1g9a109x",
      "execution_count": 17,
      "outputs": []
    },
    {
      "cell_type": "code",
      "execution_count": 26,
      "id": "38564819",
      "metadata": {
        "colab": {
          "base_uri": "https://localhost:8080/"
        },
        "id": "38564819",
        "outputId": "c691501f-42e5-4c4e-8c0f-26cc543bc72a"
      },
      "outputs": [
        {
          "output_type": "stream",
          "name": "stdout",
          "text": [
            "유출이 제일 많은 구는: 강남구\n",
            "유출이 제일 적은 구는: 금천구\n"
          ]
        },
        {
          "output_type": "stream",
          "name": "stderr",
          "text": [
            "<ipython-input-26-582daf0edaf1>:5: FutureWarning: The default value of numeric_only in DataFrameGroupBy.sum is deprecated. In a future version, numeric_only will default to False. Either specify numeric_only or select only columns which should be valid for the function.\n",
            "  seoul_moving_grouped = filtered_seoul_moving.groupby(['출발 시군구 코드', '도착 시군구 코드']).sum()\n"
          ]
        }
      ],
      "source": [
        "# 아래에 실습코드를 작성하고 결과를 확인합니다.\n",
        "# 유출이 제일 많은 구와 적은 구는?\n",
        "\n",
        "# 서울지역의 구 별로 groupby하여 데이터를 확인\n",
        "seoul_moving_grouped = filtered_seoul_moving.groupby(['출발 시군구 코드', '도착 시군구 코드']).sum()\n",
        "\n",
        "# 유출이 제일 많은 구와 적은 구는?\n",
        "outflow_max = seoul_moving_grouped.groupby('출발 시군구 코드')['이동인구(합)'].sum().idxmax()\n",
        "outflow_min = seoul_moving_grouped.groupby('출발 시군구 코드')['이동인구(합)'].sum().idxmin()\n",
        "\n",
        "# 유출이 제일 많은 구와 적은 구를 코드에서 이름으로 변환\n",
        "outflow_max_gu = code_to_gu[outflow_max]\n",
        "outflow_min_gu = code_to_gu[outflow_min]\n",
        "\n",
        "print(f\"유출이 제일 많은 구는: {outflow_max_gu}\")\n",
        "print(f\"유출이 제일 적은 구는: {outflow_min_gu}\")\n"
      ]
    },
    {
      "cell_type": "code",
      "execution_count": 29,
      "id": "5b74bb6d",
      "metadata": {
        "colab": {
          "base_uri": "https://localhost:8080/"
        },
        "id": "5b74bb6d",
        "outputId": "3fcbd518-2688-4555-e4d4-339f81fddc65"
      },
      "outputs": [
        {
          "output_type": "stream",
          "name": "stdout",
          "text": [
            "유입이 제일 많은 구는: 강남구\n",
            "유입이 제일 적은 구는: 금천구\n"
          ]
        }
      ],
      "source": [
        "# 유입이 제일 많은 구와 적은 구는?\n",
        "inflow_max = seoul_moving_grouped.groupby('도착 시군구 코드')['이동인구(합)'].sum().idxmax()\n",
        "inflow_min = seoul_moving_grouped.groupby('도착 시군구 코드')['이동인구(합)'].sum().idxmin()\n",
        "\n",
        "# 유출이 제일 많은 구와 적은 구를 코드에서 이름으로 변환\n",
        "inflow_max_gu = code_to_gu[inflow_max]\n",
        "inflow_min_gu = code_to_gu[inflow_min]\n",
        "\n",
        "print(f\"유입이 제일 많은 구는: {inflow_max_gu}\")\n",
        "print(f\"유입이 제일 적은 구는: {inflow_min_gu}\")\n"
      ]
    },
    {
      "cell_type": "markdown",
      "id": "1ace49d0",
      "metadata": {
        "id": "1ace49d0"
      },
      "source": [
        "#### [실습문제8] 낮시간만 볼게요 심야버스 제외하겠습니다\n",
        "\n",
        "* 도착시간 0부터 4까지(0:00 ~ 4:59) 제거"
      ]
    },
    {
      "cell_type": "code",
      "execution_count": 30,
      "id": "d54050e1",
      "metadata": {
        "id": "d54050e1"
      },
      "outputs": [],
      "source": [
        "# 아래에 실습코드를 작성하고 결과를 확인합니다.\n",
        "# '도착시간' >=5\n",
        "seoul_moving_filtered = seoul_moving[seoul_moving['도착시간'].astype(int) > 4]"
      ]
    },
    {
      "cell_type": "markdown",
      "id": "bff8a6d6",
      "metadata": {
        "id": "bff8a6d6"
      },
      "source": [
        "[실습문제9] '도착 시군구 코드' 를 기준으로 각 구별로 '평균 이동 시간(분)' , '이동인구(합)' 의 평균 과 합을 구해보겠습니다\n",
        "\n",
        "* groupby 사용, as_index=False로 설정해주세요"
      ]
    },
    {
      "cell_type": "code",
      "source": [
        "df_mean2 = seoul_moving_filtered.groupby('출발 시군구 코드', as_index=False).mean()\n",
        "df_sum2 = seoul_moving_filtered.groupby('출발 시군구 코드', as_index=False).sum()\n",
        "df_mean2.rename(columns={'평균 이동 시간(분)': '총 이동 시간', '이동인구(합)': '총 이동인구'}, inplace=True)\n",
        "df_sum2.rename(columns={'평균 이동 시간(분)': '총 이동 시간', '이동인구(합)': '총 이동인구'}, inplace=True)\n",
        "merged_data2 = pd.merge(df_mean2, df_sum2, on='출발 시군구 코드', suffixes=('_평균', '_총'))"
      ],
      "metadata": {
        "colab": {
          "base_uri": "https://localhost:8080/"
        },
        "id": "ebuhLowBAn0r",
        "outputId": "ec8ba407-63f4-4e76-a8d7-f88d61d7e249"
      },
      "id": "ebuhLowBAn0r",
      "execution_count": 40,
      "outputs": [
        {
          "output_type": "stream",
          "name": "stderr",
          "text": [
            "<ipython-input-40-e75c87bae111>:1: FutureWarning: The default value of numeric_only in DataFrameGroupBy.mean is deprecated. In a future version, numeric_only will default to False. Either specify numeric_only or select only columns which should be valid for the function.\n",
            "  df_mean2 = seoul_moving_filtered.groupby('출발 시군구 코드', as_index=False).mean()\n",
            "<ipython-input-40-e75c87bae111>:2: FutureWarning: The default value of numeric_only in DataFrameGroupBy.sum is deprecated. In a future version, numeric_only will default to False. Either specify numeric_only or select only columns which should be valid for the function.\n",
            "  df_sum2 = seoul_moving_filtered.groupby('출발 시군구 코드', as_index=False).sum()\n"
          ]
        }
      ]
    },
    {
      "cell_type": "code",
      "execution_count": 31,
      "id": "7783e416",
      "metadata": {
        "colab": {
          "base_uri": "https://localhost:8080/"
        },
        "id": "7783e416",
        "outputId": "3944d6c5-270c-4113-e0da-862fc84ba28c"
      },
      "outputs": [
        {
          "output_type": "stream",
          "name": "stderr",
          "text": [
            "<ipython-input-31-9865b4e8fb04>:3: FutureWarning: The default value of numeric_only in DataFrameGroupBy.mean is deprecated. In a future version, numeric_only will default to False. Either specify numeric_only or select only columns which should be valid for the function.\n",
            "  df_mean = seoul_moving_filtered.groupby('도착 시군구 코드', as_index=False).mean()\n"
          ]
        }
      ],
      "source": [
        "# 아래에 실습코드를 작성하고 결과를 확인합니다.\n",
        "# 평균을 구해서 df_mean 변수로 저장\n",
        "df_mean = seoul_moving_filtered.groupby('도착 시군구 코드', as_index=False).mean()"
      ]
    },
    {
      "cell_type": "code",
      "execution_count": 32,
      "id": "86bd27f5",
      "metadata": {
        "colab": {
          "base_uri": "https://localhost:8080/"
        },
        "id": "86bd27f5",
        "outputId": "aed65ea6-4344-4d8f-bf7d-78a9bc96404d"
      },
      "outputs": [
        {
          "output_type": "stream",
          "name": "stderr",
          "text": [
            "<ipython-input-32-69d09228c884>:4: FutureWarning: The default value of numeric_only in DataFrameGroupBy.sum is deprecated. In a future version, numeric_only will default to False. Either specify numeric_only or select only columns which should be valid for the function.\n",
            "  df_sum = seoul_moving_filtered.groupby('도착 시군구 코드', as_index=False).sum()\n"
          ]
        }
      ],
      "source": [
        "# 아래에 실습코드를 작성하고 결과를 확인합니다.\n",
        "# 합을 구해서 df_sum 변수로 저장\n",
        "# 평균이동시간(분) -> 총 이동 시간, 이동인구(합) -> 총 이동인구로 이름 대체\n",
        "df_sum = seoul_moving_filtered.groupby('도착 시군구 코드', as_index=False).sum()\n",
        "df_mean.rename(columns={'평균 이동 시간(분)': '총 이동 시간', '이동인구(합)': '총 이동인구'}, inplace=True)\n",
        "df_sum.rename(columns={'평균 이동 시간(분)': '총 이동 시간', '이동인구(합)': '총 이동인구'}, inplace=True)"
      ]
    },
    {
      "cell_type": "code",
      "execution_count": 33,
      "id": "cb213b3a",
      "metadata": {
        "colab": {
          "base_uri": "https://localhost:8080/"
        },
        "id": "cb213b3a",
        "outputId": "38a7faf3-9237-4784-9447-916f4b98a0ec"
      },
      "outputs": [
        {
          "output_type": "stream",
          "name": "stdout",
          "text": [
            "    도착 시군구 코드   대상연월_평균    도착시간_평균  출발 시군구 코드_평균      나이_평균  총 이동 시간_평균  \\\n",
            "0       11010  202401.0  13.997680  19664.247259  43.651434   89.078149   \n",
            "1       11020  202401.0  14.023821  19666.977251  43.437670   86.147932   \n",
            "2       11030  202401.0  14.268318  19715.716120  42.329612   83.355438   \n",
            "3       11040  202401.0  14.433031  19092.924779  42.506510   82.104837   \n",
            "4       11050  202401.0  14.694130  19756.240130  42.312784   84.286551   \n",
            "..        ...       ...        ...           ...        ...         ...   \n",
            "86      35000  202401.0  15.610398  11143.494265  43.173422  238.449560   \n",
            "87      36000  202401.0  15.777381  11140.588925  43.427486  294.255005   \n",
            "88      37000  202401.0  15.574283  11138.241832  42.844427  243.223311   \n",
            "89      38000  202401.0  16.257744  11142.751227  42.135036  307.597047   \n",
            "90      39000  202401.0  15.264588  11149.885407  38.467521  284.634325   \n",
            "\n",
            "    총 이동인구_평균        대상연월_총    도착시간_총  출발 시군구 코드_총      나이_총  총 이동 시간_총  \\\n",
            "0   29.359607  162870465492  11263821  15823662455  35125960   71680474   \n",
            "1   30.982546  165397441977  11459944  16071401469  35496265   70398109   \n",
            "2   23.535457  152016711867  10716463  14807823759  31792375   62605519   \n",
            "3   27.762809  143406573327  10226192  13527852715  30117010   58173494   \n",
            "4   29.074378  140828389389  10224014  13746174564  29440770   58645655   \n",
            "..        ...           ...       ...          ...       ...        ...   \n",
            "86   6.076256   16534340091   1275229    910323190   3526880   19479183   \n",
            "87   5.658802   10705596093    834513    589259170   2297010   15564030   \n",
            "88   5.984591   17736602031   1364790    976055270   3754500   21313902   \n",
            "89   5.377447   11460349422    920546    630924860   2385770   17416760   \n",
            "90  18.900762    6128904681    462227    337629680   1164835    8619012   \n",
            "\n",
            "       총 이동인구_총  \n",
            "0   23625440.51  \n",
            "1   25318223.76  \n",
            "2   17676705.10  \n",
            "3   19670699.94  \n",
            "4   20229632.68  \n",
            "..          ...  \n",
            "86    496375.41  \n",
            "87    299311.02  \n",
            "88    524435.73  \n",
            "89    304481.80  \n",
            "90    572333.98  \n",
            "\n",
            "[91 rows x 13 columns]\n"
          ]
        }
      ],
      "source": [
        "# 파일을 합쳐볼까요\n",
        "# pd.merge()\n",
        "merged_data = pd.merge(df_mean, df_sum, on='도착 시군구 코드', suffixes=('_평균', '_총'))\n",
        "\n",
        "print(merged_data)\n",
        "# df_mean\n",
        "# df_sum"
      ]
    },
    {
      "cell_type": "code",
      "execution_count": null,
      "id": "b7389d07",
      "metadata": {
        "id": "b7389d07"
      },
      "outputs": [],
      "source": [
        "# 해당 데이터프레임을 csv 파일로 저장하세요\n",
        "# to_csv()\n"
      ]
    },
    {
      "cell_type": "markdown",
      "id": "602b8bae",
      "metadata": {
        "id": "602b8bae"
      },
      "source": [
        "---"
      ]
    },
    {
      "cell_type": "markdown",
      "id": "southeast-integration",
      "metadata": {
        "id": "southeast-integration"
      },
      "source": [
        "# 3.데이터 분석하기\n",
        "+ KeyPoint : 데이터의 형태를 살펴보고 다양한 분석기법을 통해 모델링에 적합하도록 정제요소를 선별할 수 있다.\n",
        "  * 데이터들의 패턴 탐색\n",
        "  * 변수들간의 관계 파악"
      ]
    },
    {
      "cell_type": "code",
      "execution_count": 34,
      "id": "194ae01d",
      "metadata": {
        "id": "194ae01d"
      },
      "outputs": [],
      "source": [
        "# 시각화 한글폰트 설정\n",
        "import seaborn as sns\n",
        "import matplotlib.pyplot as plt\n",
        "\n",
        "plt.rc('font', family='Gothic')\n",
        "sns.set(font=\"NanumBarunGothic\",#\"NanumGothicCoding\",\n",
        "        rc={\"axes.unicode_minus\":False}, # 마이너스 부호 깨짐 현상 해결\n",
        "        style='darkgrid')"
      ]
    },
    {
      "cell_type": "markdown",
      "id": "material-complex",
      "metadata": {
        "id": "material-complex"
      },
      "source": [
        "#### [실습문제10] 데이터 분포 알아보기\n",
        "* 다양한 변수를 기준으로 그래프를 그려보고 인사이트를 도출해보세요."
      ]
    },
    {
      "cell_type": "code",
      "source": [
        "!sudo apt-get install -y fonts-nanum\n",
        "!sudo fc-cache -fv\n",
        "!rm ~/.cache/matplotlib -rf"
      ],
      "metadata": {
        "colab": {
          "base_uri": "https://localhost:8080/"
        },
        "id": "5-hNFJnP6JWE",
        "outputId": "3b43f1dd-1872-4d53-c4d5-ca56db4d5af8"
      },
      "id": "5-hNFJnP6JWE",
      "execution_count": 35,
      "outputs": [
        {
          "output_type": "stream",
          "name": "stdout",
          "text": [
            "Reading package lists... Done\n",
            "Building dependency tree... Done\n",
            "Reading state information... Done\n",
            "fonts-nanum is already the newest version (20200506-1).\n",
            "0 upgraded, 0 newly installed, 0 to remove and 35 not upgraded.\n",
            "/usr/share/fonts: caching, new cache contents: 0 fonts, 1 dirs\n",
            "/usr/share/fonts/truetype: caching, new cache contents: 0 fonts, 3 dirs\n",
            "/usr/share/fonts/truetype/humor-sans: caching, new cache contents: 1 fonts, 0 dirs\n",
            "/usr/share/fonts/truetype/liberation: caching, new cache contents: 16 fonts, 0 dirs\n",
            "/usr/share/fonts/truetype/nanum: caching, new cache contents: 12 fonts, 0 dirs\n",
            "/usr/local/share/fonts: caching, new cache contents: 0 fonts, 0 dirs\n",
            "/root/.local/share/fonts: skipping, no such directory\n",
            "/root/.fonts: skipping, no such directory\n",
            "/usr/share/fonts/truetype: skipping, looped directory detected\n",
            "/usr/share/fonts/truetype/humor-sans: skipping, looped directory detected\n",
            "/usr/share/fonts/truetype/liberation: skipping, looped directory detected\n",
            "/usr/share/fonts/truetype/nanum: skipping, looped directory detected\n",
            "/var/cache/fontconfig: cleaning cache directory\n",
            "/root/.cache/fontconfig: not cleaning non-existent cache directory\n",
            "/root/.fontconfig: not cleaning non-existent cache directory\n",
            "fc-cache: succeeded\n"
          ]
        }
      ]
    },
    {
      "cell_type": "code",
      "execution_count": 39,
      "id": "2a610ade",
      "metadata": {
        "colab": {
          "base_uri": "https://localhost:8080/",
          "height": 1000
        },
        "id": "2a610ade",
        "outputId": "ae84dd82-f572-47c1-d778-b705a24f732a"
      },
      "outputs": [
        {
          "output_type": "stream",
          "name": "stderr",
          "text": [
            "<ipython-input-39-ccc297dbd634>:15: FutureWarning: \n",
            "\n",
            "Passing `palette` without assigning `hue` is deprecated and will be removed in v0.14.0. Assign the `x` variable to `hue` and set `legend=False` for the same effect.\n",
            "\n",
            "  sns.barplot(x='도착 시군구', y='총 이동 시간_총', data=merged_data, palette='viridis')\n",
            "<ipython-input-39-ccc297dbd634>:19: FutureWarning: \n",
            "\n",
            "Passing `palette` without assigning `hue` is deprecated and will be removed in v0.14.0. Assign the `x` variable to `hue` and set `legend=False` for the same effect.\n",
            "\n",
            "  sns.barplot(x='도착 시군구', y='총 이동인구_총', data=merged_data, palette='viridis')\n",
            "<ipython-input-39-ccc297dbd634>:24: FutureWarning: \n",
            "\n",
            "Passing `palette` without assigning `hue` is deprecated and will be removed in v0.14.0. Assign the `x` variable to `hue` and set `legend=False` for the same effect.\n",
            "\n",
            "  sns.barplot(x='도착 시군구', y='총 이동 시간_평균', data=merged_data, palette='viridis')\n",
            "<ipython-input-39-ccc297dbd634>:28: FutureWarning: \n",
            "\n",
            "Passing `palette` without assigning `hue` is deprecated and will be removed in v0.14.0. Assign the `x` variable to `hue` and set `legend=False` for the same effect.\n",
            "\n",
            "  sns.barplot(x='도착 시군구', y='총 이동인구_평균', data=merged_data, palette='viridis')\n"
          ]
        },
        {
          "output_type": "display_data",
          "data": {
            "text/plain": [
              "<Figure size 1000x2000 with 4 Axes>"
            ],
            "image/png": "[encoded data removed]"
          },
          "metadata": {}
        }
      ],
      "source": [
        "# 출발 시군구 코드와 도착 시군구 코드로 된 데이터를 각각 구 이름으로 변환\n",
        "merged_data['출발 시군구'] = merged_data['도착 시군구 코드'].map(code_to_gu)\n",
        "merged_data['도착 시군구'] = merged_data['도착 시군구 코드'].map(code_to_gu)\n",
        "\n",
        "# 시각화를 위한 라이브러리\n",
        "import matplotlib.pyplot as plt\n",
        "plt.rc('font', family='NanumBarunGothic')\n",
        "plt.rcParams['axes.unicode_minus'] = False\n",
        "\n",
        "# 그래프 크기 설정\n",
        "plt.figure(figsize=(10, 20))\n",
        "\n",
        "# 총 이동 시간과 총 이동인구에 대한 막대 그래프\n",
        "plt.subplot(4, 1, 1)\n",
        "sns.barplot(x='도착 시군구', y='총 이동 시간_총', data=merged_data, palette='viridis')\n",
        "plt.title('각 구별 총 이동 시간')\n",
        "\n",
        "plt.subplot(4, 1, 2)\n",
        "sns.barplot(x='도착 시군구', y='총 이동인구_총', data=merged_data, palette='viridis')\n",
        "plt.title('각 구별 총 이동인구')\n",
        "\n",
        "# 평균 이동 시간과 평균 이동인구에 대한 막대 그래프\n",
        "plt.subplot(4, 1, 3)\n",
        "sns.barplot(x='도착 시군구', y='총 이동 시간_평균', data=merged_data, palette='viridis')\n",
        "plt.title('각 구별 평균 이동 시간')\n",
        "\n",
        "plt.subplot(4, 1, 4)\n",
        "sns.barplot(x='도착 시군구', y='총 이동인구_평균', data=merged_data, palette='viridis')\n",
        "plt.title('각 구별 평균 이동인구')\n",
        "\n",
        "# 그래프 사이의 간격 조절\n",
        "plt.tight_layout()\n",
        "\n",
        "# 그래프 출력\n",
        "plt.show()\n"
      ]
    },
    {
      "cell_type": "code",
      "source": [
        "# 출발 시군구 코드와 도착 시군구 코드로 된 데이터를 각각 구 이름으로 변환\n",
        "merged_data2['출발 시군구'] = merged_data2['출발 시군구 코드'].map(code_to_gu)\n",
        "merged_data2['도착 시군구'] = merged_data2['출발 시군구 코드'].map(code_to_gu)\n",
        "\n",
        "# 시각화를 위한 라이브러리\n",
        "import matplotlib.pyplot as plt\n",
        "plt.rc('font', family='NanumBarunGothic')\n",
        "plt.rcParams['axes.unicode_minus'] = False\n",
        "\n",
        "# 그래프 크기 설정\n",
        "plt.figure(figsize=(10, 20))\n",
        "\n",
        "# 총 이동 시간과 총 이동인구에 대한 막대 그래프\n",
        "plt.subplot(4, 1, 1)\n",
        "sns.barplot(x='출발 시군구', y='총 이동 시간_총', data=merged_data2, palette='viridis')\n",
        "plt.title('각 구별 총 이동 시간')\n",
        "\n",
        "plt.subplot(4, 1, 2)\n",
        "sns.barplot(x='출발 시군구', y='총 이동인구_총', data=merged_data2, palette='viridis')\n",
        "plt.title('각 구별 총 이동인구')\n",
        "\n",
        "# 평균 이동 시간과 평균 이동인구에 대한 막대 그래프\n",
        "plt.subplot(4, 1, 3)\n",
        "sns.barplot(x='출발 시군구', y='총 이동 시간_평균', data=merged_data2, palette='viridis')\n",
        "plt.title('각 구별 평균 이동 시간')\n",
        "\n",
        "plt.subplot(4, 1, 4)\n",
        "sns.barplot(x='출발 시군구', y='총 이동인구_평균', data=merged_data2, palette='viridis')\n",
        "plt.title('각 구별 평균 이동인구')\n",
        "\n",
        "# 그래프 사이의 간격 조절\n",
        "plt.tight_layout()\n",
        "\n",
        "# 그래프 출력\n",
        "plt.show()\n"
      ],
      "metadata": {
        "colab": {
          "base_uri": "https://localhost:8080/",
          "height": 1000
        },
        "id": "1Z8gjarIA5XF",
        "outputId": "4a7602f8-462a-4595-d910-1ed37c2a08d2"
      },
      "id": "1Z8gjarIA5XF",
      "execution_count": 42,
      "outputs": [
        {
          "output_type": "stream",
          "name": "stderr",
          "text": [
            "<ipython-input-42-f4a10931d1bd>:15: FutureWarning: \n",
            "\n",
            "Passing `palette` without assigning `hue` is deprecated and will be removed in v0.14.0. Assign the `x` variable to `hue` and set `legend=False` for the same effect.\n",
            "\n",
            "  sns.barplot(x='출발 시군구', y='총 이동 시간_총', data=merged_data2, palette='viridis')\n",
            "<ipython-input-42-f4a10931d1bd>:19: FutureWarning: \n",
            "\n",
            "Passing `palette` without assigning `hue` is deprecated and will be removed in v0.14.0. Assign the `x` variable to `hue` and set `legend=False` for the same effect.\n",
            "\n",
            "  sns.barplot(x='출발 시군구', y='총 이동인구_총', data=merged_data2, palette='viridis')\n",
            "<ipython-input-42-f4a10931d1bd>:24: FutureWarning: \n",
            "\n",
            "Passing `palette` without assigning `hue` is deprecated and will be removed in v0.14.0. Assign the `x` variable to `hue` and set `legend=False` for the same effect.\n",
            "\n",
            "  sns.barplot(x='출발 시군구', y='총 이동 시간_평균', data=merged_data2, palette='viridis')\n",
            "<ipython-input-42-f4a10931d1bd>:28: FutureWarning: \n",
            "\n",
            "Passing `palette` without assigning `hue` is deprecated and will be removed in v0.14.0. Assign the `x` variable to `hue` and set `legend=False` for the same effect.\n",
            "\n",
            "  sns.barplot(x='출발 시군구', y='총 이동인구_평균', data=merged_data2, palette='viridis')\n"
          ]
        },
        {
          "output_type": "display_data",
          "data": {
            "text/plain": [
              "<Figure size 1000x2000 with 4 Axes>"
            ],
            "image/png": "[encoded data removed]"
          },
          "metadata": {}
        }
      ]
    },
    {
      "cell_type": "code",
      "execution_count": null,
      "id": "86892a60",
      "metadata": {
        "id": "86892a60"
      },
      "outputs": [],
      "source": [
        "# 위 차트를 통해 알게된 사실을 정리해봅시다.\n",
        "# 1.\n",
        "# 2.\n",
        "# 3."
      ]
    },
    {
      "cell_type": "markdown",
      "id": "ca567b34",
      "metadata": {
        "id": "ca567b34"
      },
      "source": [
        "---"
      ]
    }
  ],
  "metadata": {
    "kernelspec": {
      "display_name": "Python 3 (ipykernel)",
      "language": "python",
      "name": "python3"
    },
    "language_info": {
      "codemirror_mode": {
        "name": "ipython",
        "version": 3
      },
      "file_extension": ".py",
      "mimetype": "text/x-python",
      "name": "python",
      "nbconvert_exporter": "python",
      "pygments_lexer": "ipython3",
      "version": "3.11.5"
    },
    "vscode": {
      "interpreter": {
        "hash": "136ac6390a149cc93e6470a8f7f2b930c2fa00ca17cae58650efc746ba1de66d"
      }
    },
    "colab": {
      "provenance": []
    }
  },
  "nbformat": 4,
  "nbformat_minor": 5
}