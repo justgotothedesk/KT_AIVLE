{
  "cells": [
    {
      "cell_type": "markdown",
      "id": "boxed-jamaica",
      "metadata": {
        "id": "boxed-jamaica"
      },
      "source": [
        "# 안녕하세요, 에이블러 여러분!\n",
        "## AIVLE스쿨 1차 미니프로젝트 '서울시 생활정보 기반 대중교통 수요 분석 ' 과정에 오신 여러분을 환영합니다.\n",
        "* 본 과정에서는 실제 사례와 데이터를 기반으로 문제를 해결하는 전체 과정을 자기 주도형 실습으로 진행해볼 예정입니다.\n",
        "* 앞선 교육과정을 정리하는 마음과 지금까지 배운 내용을 바탕으로 문제 해결을 해볼게요!\n",
        "* 미니 프로젝트를 통한 문제 해결 과정 'A에서 Z까지', 지금부터 시작합니다!"
      ]
    },
    {
      "cell_type": "markdown",
      "id": "ef575059",
      "metadata": {
        "id": "ef575059"
      },
      "source": [
        "---"
      ]
    },
    {
      "cell_type": "markdown",
      "id": "f2bc4fa5",
      "metadata": {
        "id": "f2bc4fa5"
      },
      "source": [
        "# 데이터 분석부터 먼저 시작해보겠습니다.\n",
        "## \"버스 정류장 데이터\" 를 확인해 보도록 하겠습니다"
      ]
    },
    {
      "cell_type": "code",
      "execution_count": null,
      "id": "4c6ced42",
      "metadata": {
        "id": "4c6ced42"
      },
      "outputs": [],
      "source": [
        "# 필요 라이브러리부터 설치합니다.\n",
        "# %pip install pandas seaborn"
      ]
    },
    {
      "cell_type": "markdown",
      "id": "revolutionary-farmer",
      "metadata": {
        "id": "revolutionary-farmer"
      },
      "source": [
        "## 기본전제\n",
        "* 제공되는 기본/추가 데이터는 '에이블러용' 폴더에 있습니다.\n",
        "\n",
        "[기본 데이터]\n",
        "* 1.1 bus_station_boarding_month_202401.csv\n",
        "\n",
        "* 서울시 버스노선별 정류장별 승하차 인원 정보\n",
        "* https://data.seoul.go.kr/dataList/OA-12912/S/1/datasetView.do\n",
        "\n",
        "\n",
        "[추가 데이터]\n",
        "* 1.1 bus_station_202401.xlsx\n",
        "\n",
        "* 서울시 버스정류장 위치정보\n",
        "* https://data.seoul.go.kr/dataList/OA-15067/S/1/datasetView.do"
      ]
    },
    {
      "cell_type": "markdown",
      "id": "matched-broad",
      "metadata": {
        "id": "matched-broad"
      },
      "source": [
        "---"
      ]
    },
    {
      "cell_type": "markdown",
      "id": "warming-gentleman",
      "metadata": {
        "id": "warming-gentleman"
      },
      "source": [
        "# 1.데이터 불러오기\n",
        "## 모든 미니 프로젝트의 시작은 '데이터 불러오기' 부터입니다."
      ]
    },
    {
      "cell_type": "markdown",
      "id": "measured-administration",
      "metadata": {
        "id": "measured-administration"
      },
      "source": [
        "###  데이터 프레임을 불러오고 변수로 저장(CSV 기준으로 진행)\n",
        "* csv : pd.read_csv(\"파일이름. csv\")\n",
        "* txt : pd.read_csv(\"파일이름. csv\", sep=\"구분자\")\n",
        "* xlsx : pd.read_excel('파일이름.xlsx')\n",
        "* pickle : pd.read_pickle(\"파일이름.pkl\") <br>\n",
        " [참고] pickle은 sklearn 라이브러리를 통해 모델을 학습시키고 저장할 때 많이 사용, 파이썬의 모든 객체를 파일로 저장할 수 있다."
      ]
    },
    {
      "cell_type": "markdown",
      "id": "vocational-animal",
      "metadata": {
        "id": "vocational-animal"
      },
      "source": [
        "#### [실습문제1] 데이터 로딩\n",
        "* Pandas 라이브러리를 활용해서 '1.1 bus_station_boarding_month_202401.csv'파일을 'bus_station' 변수에 저장하세요.\n",
        "    * 데이터 파일 로딩시 참고 사항\n",
        "        * 구분자(sep)는 ',' 입니다\n",
        "        * cp949 인코더를 사용해 주세요"
      ]
    },
    {
      "cell_type": "code",
      "execution_count": 1,
      "id": "0bd83ddf",
      "metadata": {
        "id": "0bd83ddf"
      },
      "outputs": [],
      "source": [
        "# 아래 실습코드를 실행해주세요.\n",
        "\n",
        "import sys\n",
        "import numpy as np\n",
        "import pandas as pd"
      ]
    },
    {
      "cell_type": "code",
      "source": [
        "from google.colab import drive\n",
        "drive.mount('/content/drive')"
      ],
      "metadata": {
        "colab": {
          "base_uri": "https://localhost:8080/"
        },
        "id": "1aAd27kkJFgx",
        "outputId": "fa008ded-64ed-45ad-b912-e60396a316c8"
      },
      "id": "1aAd27kkJFgx",
      "execution_count": 2,
      "outputs": [
        {
          "output_type": "stream",
          "name": "stdout",
          "text": [
            "Drive already mounted at /content/drive; to attempt to forcibly remount, call drive.mount(\"/content/drive\", force_remount=True).\n"
          ]
        }
      ]
    },
    {
      "cell_type": "code",
      "execution_count": 3,
      "id": "saving-slope",
      "metadata": {
        "id": "saving-slope"
      },
      "outputs": [],
      "source": [
        "# 아래에 실습코드를 작성하고 결과를 확인합니다.\n",
        "\n",
        "bus_station = pd.read_csv('/content/drive/MyDrive/KTaivle/1차미니프로젝트/1.1 bus_station_boarding_month_202401.csv', sep=\",\", encoding = \"cp949\")"
      ]
    },
    {
      "cell_type": "code",
      "execution_count": 24,
      "id": "funny-subcommittee",
      "metadata": {
        "colab": {
          "base_uri": "https://localhost:8080/"
        },
        "id": "funny-subcommittee",
        "outputId": "9f1912a4-c14c-4020-9a74-3f5baaae58c6"
      },
      "outputs": [
        {
          "output_type": "execute_result",
          "data": {
            "text/plain": [
              "(1048575, 8)"
            ]
          },
          "metadata": {},
          "execution_count": 24
        }
      ],
      "source": [
        "# 데이터 프레임의 Shape을 확인합니다.\n",
        "\n",
        "bus_station.shape"
      ]
    },
    {
      "cell_type": "markdown",
      "id": "73396b42",
      "metadata": {
        "id": "73396b42"
      },
      "source": [
        "---"
      ]
    },
    {
      "cell_type": "markdown",
      "id": "annoying-trout",
      "metadata": {
        "id": "annoying-trout"
      },
      "source": [
        "# 2.기본 정보 확인 및 클렌징\n",
        "\n",
        "+ 데이터 클렌징 : 결측치, 이상치 등을 제거하여 데이터 분석 결과가 왜곡 되는 문제를 방지하기 위한 정제 과정"
      ]
    },
    {
      "cell_type": "markdown",
      "id": "romantic-johnson",
      "metadata": {
        "id": "romantic-johnson"
      },
      "source": [
        "#### [실습문제2] 기본 정보 확인하기\n",
        "* 'bus_station' 데이터의 정보를 확인해보세요.\n",
        "* 'describe', 'info', 'head' 등 전부 활용해 보세요."
      ]
    },
    {
      "cell_type": "code",
      "execution_count": 25,
      "id": "7343fadf",
      "metadata": {
        "colab": {
          "base_uri": "https://localhost:8080/",
          "height": 289
        },
        "id": "7343fadf",
        "outputId": "0e750e26-ea7a-4aef-88b7-057faccd54bc"
      },
      "outputs": [
        {
          "output_type": "execute_result",
          "data": {
            "text/plain": [
              "       사용일자  노선번호                  노선명 버스정류장ARS번호                        역명  \\\n",
              "0  20240101   101        101번(화계사~동대문)       6178            대광고등학교앞(00055)   \n",
              "1  20240101  9408  9408번(구미동차고지~고속터미널)      22337      헌인마을.서울농업기술센터(00042)   \n",
              "2  20240101  9408  9408번(구미동차고지~고속터미널)      22336      헌인마을.서울농업기술센터(00078)   \n",
              "3  20240101  9408  9408번(구미동차고지~고속터미널)      22334  헌인릉.강남서초과학화예비군훈련장(00043)   \n",
              "4  20240101  9408  9408번(구미동차고지~고속터미널)      22333  헌인릉.강남서초과학화예비군훈련장(00076)   \n",
              "\n",
              "   승차총승객수  하차총승객수      등록일자  \n",
              "0      39      76  20240104  \n",
              "1       1       0  20240104  \n",
              "2       2       0  20240104  \n",
              "3       0       2  20240104  \n",
              "4       2       1  20240104  "
            ],
            "text/html": [
              "\n",
              "  <div id=\"df-0e17d32f-99cd-4e7e-9987-c371f3539824\" class=\"colab-df-container\">\n",
              "    <div>\n",
              "<style scoped>\n",
              "    .dataframe tbody tr th:only-of-type {\n",
              "        vertical-align: middle;\n",
              "    }\n",
              "\n",
              "    .dataframe tbody tr th {\n",
              "        vertical-align: top;\n",
              "    }\n",
              "\n",
              "    .dataframe thead th {\n",
              "        text-align: right;\n",
              "    }\n",
              "</style>\n",
              "<table border=\"1\" class=\"dataframe\">\n",
              "  <thead>\n",
              "    <tr style=\"text-align: right;\">\n",
              "      <th></th>\n",
              "      <th>사용일자</th>\n",
              "      <th>노선번호</th>\n",
              "      <th>노선명</th>\n",
              "      <th>버스정류장ARS번호</th>\n",
              "      <th>역명</th>\n",
              "      <th>승차총승객수</th>\n",
              "      <th>하차총승객수</th>\n",
              "      <th>등록일자</th>\n",
              "    </tr>\n",
              "  </thead>\n",
              "  <tbody>\n",
              "    <tr>\n",
              "      <th>0</th>\n",
              "      <td>20240101</td>\n",
              "      <td>101</td>\n",
              "      <td>101번(화계사~동대문)</td>\n",
              "      <td>6178</td>\n",
              "      <td>대광고등학교앞(00055)</td>\n",
              "      <td>39</td>\n",
              "      <td>76</td>\n",
              "      <td>20240104</td>\n",
              "    </tr>\n",
              "    <tr>\n",
              "      <th>1</th>\n",
              "      <td>20240101</td>\n",
              "      <td>9408</td>\n",
              "      <td>9408번(구미동차고지~고속터미널)</td>\n",
              "      <td>22337</td>\n",
              "      <td>헌인마을.서울농업기술센터(00042)</td>\n",
              "      <td>1</td>\n",
              "      <td>0</td>\n",
              "      <td>20240104</td>\n",
              "    </tr>\n",
              "    <tr>\n",
              "      <th>2</th>\n",
              "      <td>20240101</td>\n",
              "      <td>9408</td>\n",
              "      <td>9408번(구미동차고지~고속터미널)</td>\n",
              "      <td>22336</td>\n",
              "      <td>헌인마을.서울농업기술센터(00078)</td>\n",
              "      <td>2</td>\n",
              "      <td>0</td>\n",
              "      <td>20240104</td>\n",
              "    </tr>\n",
              "    <tr>\n",
              "      <th>3</th>\n",
              "      <td>20240101</td>\n",
              "      <td>9408</td>\n",
              "      <td>9408번(구미동차고지~고속터미널)</td>\n",
              "      <td>22334</td>\n",
              "      <td>헌인릉.강남서초과학화예비군훈련장(00043)</td>\n",
              "      <td>0</td>\n",
              "      <td>2</td>\n",
              "      <td>20240104</td>\n",
              "    </tr>\n",
              "    <tr>\n",
              "      <th>4</th>\n",
              "      <td>20240101</td>\n",
              "      <td>9408</td>\n",
              "      <td>9408번(구미동차고지~고속터미널)</td>\n",
              "      <td>22333</td>\n",
              "      <td>헌인릉.강남서초과학화예비군훈련장(00076)</td>\n",
              "      <td>2</td>\n",
              "      <td>1</td>\n",
              "      <td>20240104</td>\n",
              "    </tr>\n",
              "  </tbody>\n",
              "</table>\n",
              "</div>\n",
              "    <div class=\"colab-df-buttons\">\n",
              "\n",
              "  <div class=\"colab-df-container\">\n",
              "    <button class=\"colab-df-convert\" onclick=\"convertToInteractive('df-0e17d32f-99cd-4e7e-9987-c371f3539824')\"\n",
              "            title=\"Convert this dataframe to an interactive table.\"\n",
              "            style=\"display:none;\">\n",
              "\n",
              "  <svg xmlns=\"http://www.w3.org/2000/svg\" height=\"24px\" viewBox=\"0 -960 960 960\">\n",
              "    <path d=\"M120-120v-720h720v720H120Zm60-500h600v-160H180v160Zm220 220h160v-160H400v160Zm0 220h160v-160H400v160ZM180-400h160v-160H180v160Zm440 0h160v-160H620v160ZM180-180h160v-160H180v160Zm440 0h160v-160H620v160Z\"/>\n",
              "  </svg>\n",
              "    </button>\n",
              "\n",
              "  <style>\n",
              "    .colab-df-container {\n",
              "      display:flex;\n",
              "      gap: 12px;\n",
              "    }\n",
              "\n",
              "    .colab-df-convert {\n",
              "      background-color: #E8F0FE;\n",
              "      border: none;\n",
              "      border-radius: 50%;\n",
              "      cursor: pointer;\n",
              "      display: none;\n",
              "      fill: #1967D2;\n",
              "      height: 32px;\n",
              "      padding: 0 0 0 0;\n",
              "      width: 32px;\n",
              "    }\n",
              "\n",
              "    .colab-df-convert:hover {\n",
              "      background-color: #E2EBFA;\n",
              "      box-shadow: 0px 1px 2px rgba(60, 64, 67, 0.3), 0px 1px 3px 1px rgba(60, 64, 67, 0.15);\n",
              "      fill: #174EA6;\n",
              "    }\n",
              "\n",
              "    .colab-df-buttons div {\n",
              "      margin-bottom: 4px;\n",
              "    }\n",
              "\n",
              "    [theme=dark] .colab-df-convert {\n",
              "      background-color: #3B4455;\n",
              "      fill: #D2E3FC;\n",
              "    }\n",
              "\n",
              "    [theme=dark] .colab-df-convert:hover {\n",
              "      background-color: #434B5C;\n",
              "      box-shadow: 0px 1px 3px 1px rgba(0, 0, 0, 0.15);\n",
              "      filter: drop-shadow(0px 1px 2px rgba(0, 0, 0, 0.3));\n",
              "      fill: #FFFFFF;\n",
              "    }\n",
              "  </style>\n",
              "\n",
              "    <script>\n",
              "      const buttonEl =\n",
              "        document.querySelector('#df-0e17d32f-99cd-4e7e-9987-c371f3539824 button.colab-df-convert');\n",
              "      buttonEl.style.display =\n",
              "        google.colab.kernel.accessAllowed ? 'block' : 'none';\n",
              "\n",
              "      async function convertToInteractive(key) {\n",
              "        const element = document.querySelector('#df-0e17d32f-99cd-4e7e-9987-c371f3539824');\n",
              "        const dataTable =\n",
              "          await google.colab.kernel.invokeFunction('convertToInteractive',\n",
              "                                                    [key], {});\n",
              "        if (!dataTable) return;\n",
              "\n",
              "        const docLinkHtml = 'Like what you see? Visit the ' +\n",
              "          '<a target=\"_blank\" href=https://colab.research.google.com/notebooks/data_table.ipynb>data table notebook</a>'\n",
              "          + ' to learn more about interactive tables.';\n",
              "        element.innerHTML = '';\n",
              "        dataTable['output_type'] = 'display_data';\n",
              "        await google.colab.output.renderOutput(dataTable, element);\n",
              "        const docLink = document.createElement('div');\n",
              "        docLink.innerHTML = docLinkHtml;\n",
              "        element.appendChild(docLink);\n",
              "      }\n",
              "    </script>\n",
              "  </div>\n",
              "\n",
              "\n",
              "<div id=\"df-5af26ff9-1a47-498a-8b01-7d5f43654c87\">\n",
              "  <button class=\"colab-df-quickchart\" onclick=\"quickchart('df-5af26ff9-1a47-498a-8b01-7d5f43654c87')\"\n",
              "            title=\"Suggest charts\"\n",
              "            style=\"display:none;\">\n",
              "\n",
              "<svg xmlns=\"http://www.w3.org/2000/svg\" height=\"24px\"viewBox=\"0 0 24 24\"\n",
              "     width=\"24px\">\n",
              "    <g>\n",
              "        <path d=\"M19 3H5c-1.1 0-2 .9-2 2v14c0 1.1.9 2 2 2h14c1.1 0 2-.9 2-2V5c0-1.1-.9-2-2-2zM9 17H7v-7h2v7zm4 0h-2V7h2v10zm4 0h-2v-4h2v4z\"/>\n",
              "    </g>\n",
              "</svg>\n",
              "  </button>\n",
              "\n",
              "<style>\n",
              "  .colab-df-quickchart {\n",
              "      --bg-color: #E8F0FE;\n",
              "      --fill-color: #1967D2;\n",
              "      --hover-bg-color: #E2EBFA;\n",
              "      --hover-fill-color: #174EA6;\n",
              "      --disabled-fill-color: #AAA;\n",
              "      --disabled-bg-color: #DDD;\n",
              "  }\n",
              "\n",
              "  [theme=dark] .colab-df-quickchart {\n",
              "      --bg-color: #3B4455;\n",
              "      --fill-color: #D2E3FC;\n",
              "      --hover-bg-color: #434B5C;\n",
              "      --hover-fill-color: #FFFFFF;\n",
              "      --disabled-bg-color: #3B4455;\n",
              "      --disabled-fill-color: #666;\n",
              "  }\n",
              "\n",
              "  .colab-df-quickchart {\n",
              "    background-color: var(--bg-color);\n",
              "    border: none;\n",
              "    border-radius: 50%;\n",
              "    cursor: pointer;\n",
              "    display: none;\n",
              "    fill: var(--fill-color);\n",
              "    height: 32px;\n",
              "    padding: 0;\n",
              "    width: 32px;\n",
              "  }\n",
              "\n",
              "  .colab-df-quickchart:hover {\n",
              "    background-color: var(--hover-bg-color);\n",
              "    box-shadow: 0 1px 2px rgba(60, 64, 67, 0.3), 0 1px 3px 1px rgba(60, 64, 67, 0.15);\n",
              "    fill: var(--button-hover-fill-color);\n",
              "  }\n",
              "\n",
              "  .colab-df-quickchart-complete:disabled,\n",
              "  .colab-df-quickchart-complete:disabled:hover {\n",
              "    background-color: var(--disabled-bg-color);\n",
              "    fill: var(--disabled-fill-color);\n",
              "    box-shadow: none;\n",
              "  }\n",
              "\n",
              "  .colab-df-spinner {\n",
              "    border: 2px solid var(--fill-color);\n",
              "    border-color: transparent;\n",
              "    border-bottom-color: var(--fill-color);\n",
              "    animation:\n",
              "      spin 1s steps(1) infinite;\n",
              "  }\n",
              "\n",
              "  @keyframes spin {\n",
              "    0% {\n",
              "      border-color: transparent;\n",
              "      border-bottom-color: var(--fill-color);\n",
              "      border-left-color: var(--fill-color);\n",
              "    }\n",
              "    20% {\n",
              "      border-color: transparent;\n",
              "      border-left-color: var(--fill-color);\n",
              "      border-top-color: var(--fill-color);\n",
              "    }\n",
              "    30% {\n",
              "      border-color: transparent;\n",
              "      border-left-color: var(--fill-color);\n",
              "      border-top-color: var(--fill-color);\n",
              "      border-right-color: var(--fill-color);\n",
              "    }\n",
              "    40% {\n",
              "      border-color: transparent;\n",
              "      border-right-color: var(--fill-color);\n",
              "      border-top-color: var(--fill-color);\n",
              "    }\n",
              "    60% {\n",
              "      border-color: transparent;\n",
              "      border-right-color: var(--fill-color);\n",
              "    }\n",
              "    80% {\n",
              "      border-color: transparent;\n",
              "      border-right-color: var(--fill-color);\n",
              "      border-bottom-color: var(--fill-color);\n",
              "    }\n",
              "    90% {\n",
              "      border-color: transparent;\n",
              "      border-bottom-color: var(--fill-color);\n",
              "    }\n",
              "  }\n",
              "</style>\n",
              "\n",
              "  <script>\n",
              "    async function quickchart(key) {\n",
              "      const quickchartButtonEl =\n",
              "        document.querySelector('#' + key + ' button');\n",
              "      quickchartButtonEl.disabled = true;  // To prevent multiple clicks.\n",
              "      quickchartButtonEl.classList.add('colab-df-spinner');\n",
              "      try {\n",
              "        const charts = await google.colab.kernel.invokeFunction(\n",
              "            'suggestCharts', [key], {});\n",
              "      } catch (error) {\n",
              "        console.error('Error during call to suggestCharts:', error);\n",
              "      }\n",
              "      quickchartButtonEl.classList.remove('colab-df-spinner');\n",
              "      quickchartButtonEl.classList.add('colab-df-quickchart-complete');\n",
              "    }\n",
              "    (() => {\n",
              "      let quickchartButtonEl =\n",
              "        document.querySelector('#df-5af26ff9-1a47-498a-8b01-7d5f43654c87 button');\n",
              "      quickchartButtonEl.style.display =\n",
              "        google.colab.kernel.accessAllowed ? 'block' : 'none';\n",
              "    })();\n",
              "  </script>\n",
              "</div>\n",
              "\n",
              "    </div>\n",
              "  </div>\n"
            ],
            "application/vnd.google.colaboratory.intrinsic+json": {
              "type": "dataframe",
              "variable_name": "bus_station"
            }
          },
          "metadata": {},
          "execution_count": 25
        }
      ],
      "source": [
        "# head()\n",
        "bus_station.head()"
      ]
    },
    {
      "cell_type": "code",
      "execution_count": 26,
      "id": "7f77b32f",
      "metadata": {
        "colab": {
          "base_uri": "https://localhost:8080/",
          "height": 204
        },
        "id": "7f77b32f",
        "outputId": "d0c9f413-3619-40e9-af41-ab9b466b6c6f"
      },
      "outputs": [
        {
          "output_type": "execute_result",
          "data": {
            "text/plain": [
              "             사용일자  노선번호               노선명 버스정류장ARS번호                역명  \\\n",
              "1048570  20240126  종로05  종로05(서대문역~배화여중고)       1837     스위스대사관(00025)   \n",
              "1048571  20240126  종로05  종로05(서대문역~배화여중고)       1831       월암공원(00024)   \n",
              "1048572  20240126  종로05  종로05(서대문역~배화여중고)       1514   적십자병원후문앞(00002)   \n",
              "1048573  20240126  성북07  성북07(정릉4동종점~길음역)       8454     정릉4동종점(00014)   \n",
              "1048574  20240126  종로05  종로05(서대문역~배화여중고)       1587  신학대학교총회본부(00011)   \n",
              "\n",
              "         승차총승객수  하차총승객수      등록일자  \n",
              "1048570       1      19  20240129  \n",
              "1048571      25      21  20240129  \n",
              "1048572       9       6  20240129  \n",
              "1048573       0     181  20240129  \n",
              "1048574      13      68  20240129  "
            ],
            "text/html": [
              "\n",
              "  <div id=\"df-98b0ba6a-dc87-4451-b96c-ed5a4db2146d\" class=\"colab-df-container\">\n",
              "    <div>\n",
              "<style scoped>\n",
              "    .dataframe tbody tr th:only-of-type {\n",
              "        vertical-align: middle;\n",
              "    }\n",
              "\n",
              "    .dataframe tbody tr th {\n",
              "        vertical-align: top;\n",
              "    }\n",
              "\n",
              "    .dataframe thead th {\n",
              "        text-align: right;\n",
              "    }\n",
              "</style>\n",
              "<table border=\"1\" class=\"dataframe\">\n",
              "  <thead>\n",
              "    <tr style=\"text-align: right;\">\n",
              "      <th></th>\n",
              "      <th>사용일자</th>\n",
              "      <th>노선번호</th>\n",
              "      <th>노선명</th>\n",
              "      <th>버스정류장ARS번호</th>\n",
              "      <th>역명</th>\n",
              "      <th>승차총승객수</th>\n",
              "      <th>하차총승객수</th>\n",
              "      <th>등록일자</th>\n",
              "    </tr>\n",
              "  </thead>\n",
              "  <tbody>\n",
              "    <tr>\n",
              "      <th>1048570</th>\n",
              "      <td>20240126</td>\n",
              "      <td>종로05</td>\n",
              "      <td>종로05(서대문역~배화여중고)</td>\n",
              "      <td>1837</td>\n",
              "      <td>스위스대사관(00025)</td>\n",
              "      <td>1</td>\n",
              "      <td>19</td>\n",
              "      <td>20240129</td>\n",
              "    </tr>\n",
              "    <tr>\n",
              "      <th>1048571</th>\n",
              "      <td>20240126</td>\n",
              "      <td>종로05</td>\n",
              "      <td>종로05(서대문역~배화여중고)</td>\n",
              "      <td>1831</td>\n",
              "      <td>월암공원(00024)</td>\n",
              "      <td>25</td>\n",
              "      <td>21</td>\n",
              "      <td>20240129</td>\n",
              "    </tr>\n",
              "    <tr>\n",
              "      <th>1048572</th>\n",
              "      <td>20240126</td>\n",
              "      <td>종로05</td>\n",
              "      <td>종로05(서대문역~배화여중고)</td>\n",
              "      <td>1514</td>\n",
              "      <td>적십자병원후문앞(00002)</td>\n",
              "      <td>9</td>\n",
              "      <td>6</td>\n",
              "      <td>20240129</td>\n",
              "    </tr>\n",
              "    <tr>\n",
              "      <th>1048573</th>\n",
              "      <td>20240126</td>\n",
              "      <td>성북07</td>\n",
              "      <td>성북07(정릉4동종점~길음역)</td>\n",
              "      <td>8454</td>\n",
              "      <td>정릉4동종점(00014)</td>\n",
              "      <td>0</td>\n",
              "      <td>181</td>\n",
              "      <td>20240129</td>\n",
              "    </tr>\n",
              "    <tr>\n",
              "      <th>1048574</th>\n",
              "      <td>20240126</td>\n",
              "      <td>종로05</td>\n",
              "      <td>종로05(서대문역~배화여중고)</td>\n",
              "      <td>1587</td>\n",
              "      <td>신학대학교총회본부(00011)</td>\n",
              "      <td>13</td>\n",
              "      <td>68</td>\n",
              "      <td>20240129</td>\n",
              "    </tr>\n",
              "  </tbody>\n",
              "</table>\n",
              "</div>\n",
              "    <div class=\"colab-df-buttons\">\n",
              "\n",
              "  <div class=\"colab-df-container\">\n",
              "    <button class=\"colab-df-convert\" onclick=\"convertToInteractive('df-98b0ba6a-dc87-4451-b96c-ed5a4db2146d')\"\n",
              "            title=\"Convert this dataframe to an interactive table.\"\n",
              "            style=\"display:none;\">\n",
              "\n",
              "  <svg xmlns=\"http://www.w3.org/2000/svg\" height=\"24px\" viewBox=\"0 -960 960 960\">\n",
              "    <path d=\"M120-120v-720h720v720H120Zm60-500h600v-160H180v160Zm220 220h160v-160H400v160Zm0 220h160v-160H400v160ZM180-400h160v-160H180v160Zm440 0h160v-160H620v160ZM180-180h160v-160H180v160Zm440 0h160v-160H620v160Z\"/>\n",
              "  </svg>\n",
              "    </button>\n",
              "\n",
              "  <style>\n",
              "    .colab-df-container {\n",
              "      display:flex;\n",
              "      gap: 12px;\n",
              "    }\n",
              "\n",
              "    .colab-df-convert {\n",
              "      background-color: #E8F0FE;\n",
              "      border: none;\n",
              "      border-radius: 50%;\n",
              "      cursor: pointer;\n",
              "      display: none;\n",
              "      fill: #1967D2;\n",
              "      height: 32px;\n",
              "      padding: 0 0 0 0;\n",
              "      width: 32px;\n",
              "    }\n",
              "\n",
              "    .colab-df-convert:hover {\n",
              "      background-color: #E2EBFA;\n",
              "      box-shadow: 0px 1px 2px rgba(60, 64, 67, 0.3), 0px 1px 3px 1px rgba(60, 64, 67, 0.15);\n",
              "      fill: #174EA6;\n",
              "    }\n",
              "\n",
              "    .colab-df-buttons div {\n",
              "      margin-bottom: 4px;\n",
              "    }\n",
              "\n",
              "    [theme=dark] .colab-df-convert {\n",
              "      background-color: #3B4455;\n",
              "      fill: #D2E3FC;\n",
              "    }\n",
              "\n",
              "    [theme=dark] .colab-df-convert:hover {\n",
              "      background-color: #434B5C;\n",
              "      box-shadow: 0px 1px 3px 1px rgba(0, 0, 0, 0.15);\n",
              "      filter: drop-shadow(0px 1px 2px rgba(0, 0, 0, 0.3));\n",
              "      fill: #FFFFFF;\n",
              "    }\n",
              "  </style>\n",
              "\n",
              "    <script>\n",
              "      const buttonEl =\n",
              "        document.querySelector('#df-98b0ba6a-dc87-4451-b96c-ed5a4db2146d button.colab-df-convert');\n",
              "      buttonEl.style.display =\n",
              "        google.colab.kernel.accessAllowed ? 'block' : 'none';\n",
              "\n",
              "      async function convertToInteractive(key) {\n",
              "        const element = document.querySelector('#df-98b0ba6a-dc87-4451-b96c-ed5a4db2146d');\n",
              "        const dataTable =\n",
              "          await google.colab.kernel.invokeFunction('convertToInteractive',\n",
              "                                                    [key], {});\n",
              "        if (!dataTable) return;\n",
              "\n",
              "        const docLinkHtml = 'Like what you see? Visit the ' +\n",
              "          '<a target=\"_blank\" href=https://colab.research.google.com/notebooks/data_table.ipynb>data table notebook</a>'\n",
              "          + ' to learn more about interactive tables.';\n",
              "        element.innerHTML = '';\n",
              "        dataTable['output_type'] = 'display_data';\n",
              "        await google.colab.output.renderOutput(dataTable, element);\n",
              "        const docLink = document.createElement('div');\n",
              "        docLink.innerHTML = docLinkHtml;\n",
              "        element.appendChild(docLink);\n",
              "      }\n",
              "    </script>\n",
              "  </div>\n",
              "\n",
              "\n",
              "<div id=\"df-da3276c1-0c0b-4adb-ad2c-755823c5b1a7\">\n",
              "  <button class=\"colab-df-quickchart\" onclick=\"quickchart('df-da3276c1-0c0b-4adb-ad2c-755823c5b1a7')\"\n",
              "            title=\"Suggest charts\"\n",
              "            style=\"display:none;\">\n",
              "\n",
              "<svg xmlns=\"http://www.w3.org/2000/svg\" height=\"24px\"viewBox=\"0 0 24 24\"\n",
              "     width=\"24px\">\n",
              "    <g>\n",
              "        <path d=\"M19 3H5c-1.1 0-2 .9-2 2v14c0 1.1.9 2 2 2h14c1.1 0 2-.9 2-2V5c0-1.1-.9-2-2-2zM9 17H7v-7h2v7zm4 0h-2V7h2v10zm4 0h-2v-4h2v4z\"/>\n",
              "    </g>\n",
              "</svg>\n",
              "  </button>\n",
              "\n",
              "<style>\n",
              "  .colab-df-quickchart {\n",
              "      --bg-color: #E8F0FE;\n",
              "      --fill-color: #1967D2;\n",
              "      --hover-bg-color: #E2EBFA;\n",
              "      --hover-fill-color: #174EA6;\n",
              "      --disabled-fill-color: #AAA;\n",
              "      --disabled-bg-color: #DDD;\n",
              "  }\n",
              "\n",
              "  [theme=dark] .colab-df-quickchart {\n",
              "      --bg-color: #3B4455;\n",
              "      --fill-color: #D2E3FC;\n",
              "      --hover-bg-color: #434B5C;\n",
              "      --hover-fill-color: #FFFFFF;\n",
              "      --disabled-bg-color: #3B4455;\n",
              "      --disabled-fill-color: #666;\n",
              "  }\n",
              "\n",
              "  .colab-df-quickchart {\n",
              "    background-color: var(--bg-color);\n",
              "    border: none;\n",
              "    border-radius: 50%;\n",
              "    cursor: pointer;\n",
              "    display: none;\n",
              "    fill: var(--fill-color);\n",
              "    height: 32px;\n",
              "    padding: 0;\n",
              "    width: 32px;\n",
              "  }\n",
              "\n",
              "  .colab-df-quickchart:hover {\n",
              "    background-color: var(--hover-bg-color);\n",
              "    box-shadow: 0 1px 2px rgba(60, 64, 67, 0.3), 0 1px 3px 1px rgba(60, 64, 67, 0.15);\n",
              "    fill: var(--button-hover-fill-color);\n",
              "  }\n",
              "\n",
              "  .colab-df-quickchart-complete:disabled,\n",
              "  .colab-df-quickchart-complete:disabled:hover {\n",
              "    background-color: var(--disabled-bg-color);\n",
              "    fill: var(--disabled-fill-color);\n",
              "    box-shadow: none;\n",
              "  }\n",
              "\n",
              "  .colab-df-spinner {\n",
              "    border: 2px solid var(--fill-color);\n",
              "    border-color: transparent;\n",
              "    border-bottom-color: var(--fill-color);\n",
              "    animation:\n",
              "      spin 1s steps(1) infinite;\n",
              "  }\n",
              "\n",
              "  @keyframes spin {\n",
              "    0% {\n",
              "      border-color: transparent;\n",
              "      border-bottom-color: var(--fill-color);\n",
              "      border-left-color: var(--fill-color);\n",
              "    }\n",
              "    20% {\n",
              "      border-color: transparent;\n",
              "      border-left-color: var(--fill-color);\n",
              "      border-top-color: var(--fill-color);\n",
              "    }\n",
              "    30% {\n",
              "      border-color: transparent;\n",
              "      border-left-color: var(--fill-color);\n",
              "      border-top-color: var(--fill-color);\n",
              "      border-right-color: var(--fill-color);\n",
              "    }\n",
              "    40% {\n",
              "      border-color: transparent;\n",
              "      border-right-color: var(--fill-color);\n",
              "      border-top-color: var(--fill-color);\n",
              "    }\n",
              "    60% {\n",
              "      border-color: transparent;\n",
              "      border-right-color: var(--fill-color);\n",
              "    }\n",
              "    80% {\n",
              "      border-color: transparent;\n",
              "      border-right-color: var(--fill-color);\n",
              "      border-bottom-color: var(--fill-color);\n",
              "    }\n",
              "    90% {\n",
              "      border-color: transparent;\n",
              "      border-bottom-color: var(--fill-color);\n",
              "    }\n",
              "  }\n",
              "</style>\n",
              "\n",
              "  <script>\n",
              "    async function quickchart(key) {\n",
              "      const quickchartButtonEl =\n",
              "        document.querySelector('#' + key + ' button');\n",
              "      quickchartButtonEl.disabled = true;  // To prevent multiple clicks.\n",
              "      quickchartButtonEl.classList.add('colab-df-spinner');\n",
              "      try {\n",
              "        const charts = await google.colab.kernel.invokeFunction(\n",
              "            'suggestCharts', [key], {});\n",
              "      } catch (error) {\n",
              "        console.error('Error during call to suggestCharts:', error);\n",
              "      }\n",
              "      quickchartButtonEl.classList.remove('colab-df-spinner');\n",
              "      quickchartButtonEl.classList.add('colab-df-quickchart-complete');\n",
              "    }\n",
              "    (() => {\n",
              "      let quickchartButtonEl =\n",
              "        document.querySelector('#df-da3276c1-0c0b-4adb-ad2c-755823c5b1a7 button');\n",
              "      quickchartButtonEl.style.display =\n",
              "        google.colab.kernel.accessAllowed ? 'block' : 'none';\n",
              "    })();\n",
              "  </script>\n",
              "</div>\n",
              "\n",
              "    </div>\n",
              "  </div>\n"
            ],
            "application/vnd.google.colaboratory.intrinsic+json": {
              "type": "dataframe",
              "summary": "{\n  \"name\": \"bus_station\",\n  \"rows\": 5,\n  \"fields\": [\n    {\n      \"column\": \"\\uc0ac\\uc6a9\\uc77c\\uc790\",\n      \"properties\": {\n        \"dtype\": \"number\",\n        \"std\": 0,\n        \"min\": 20240126,\n        \"max\": 20240126,\n        \"num_unique_values\": 1,\n        \"samples\": [\n          20240126\n        ],\n        \"semantic_type\": \"\",\n        \"description\": \"\"\n      }\n    },\n    {\n      \"column\": \"\\ub178\\uc120\\ubc88\\ud638\",\n      \"properties\": {\n        \"dtype\": \"category\",\n        \"num_unique_values\": 2,\n        \"samples\": [\n          \"\\uc131\\ubd8107\"\n        ],\n        \"semantic_type\": \"\",\n        \"description\": \"\"\n      }\n    },\n    {\n      \"column\": \"\\ub178\\uc120\\uba85\",\n      \"properties\": {\n        \"dtype\": \"category\",\n        \"num_unique_values\": 2,\n        \"samples\": [\n          \"\\uc131\\ubd8107(\\uc815\\ub9894\\ub3d9\\uc885\\uc810~\\uae38\\uc74c\\uc5ed)\"\n        ],\n        \"semantic_type\": \"\",\n        \"description\": \"\"\n      }\n    },\n    {\n      \"column\": \"\\ubc84\\uc2a4\\uc815\\ub958\\uc7a5ARS\\ubc88\\ud638\",\n      \"properties\": {\n        \"dtype\": \"string\",\n        \"num_unique_values\": 5,\n        \"samples\": [\n          \"1831\"\n        ],\n        \"semantic_type\": \"\",\n        \"description\": \"\"\n      }\n    },\n    {\n      \"column\": \"\\uc5ed\\uba85\",\n      \"properties\": {\n        \"dtype\": \"string\",\n        \"num_unique_values\": 5,\n        \"samples\": [\n          \"\\uc6d4\\uc554\\uacf5\\uc6d0(00024)\"\n        ],\n        \"semantic_type\": \"\",\n        \"description\": \"\"\n      }\n    },\n    {\n      \"column\": \"\\uc2b9\\ucc28\\ucd1d\\uc2b9\\uac1d\\uc218\",\n      \"properties\": {\n        \"dtype\": \"number\",\n        \"std\": 10,\n        \"min\": 0,\n        \"max\": 25,\n        \"num_unique_values\": 5,\n        \"samples\": [\n          25\n        ],\n        \"semantic_type\": \"\",\n        \"description\": \"\"\n      }\n    },\n    {\n      \"column\": \"\\ud558\\ucc28\\ucd1d\\uc2b9\\uac1d\\uc218\",\n      \"properties\": {\n        \"dtype\": \"number\",\n        \"std\": 72,\n        \"min\": 6,\n        \"max\": 181,\n        \"num_unique_values\": 5,\n        \"samples\": [\n          21\n        ],\n        \"semantic_type\": \"\",\n        \"description\": \"\"\n      }\n    },\n    {\n      \"column\": \"\\ub4f1\\ub85d\\uc77c\\uc790\",\n      \"properties\": {\n        \"dtype\": \"number\",\n        \"std\": 0,\n        \"min\": 20240129,\n        \"max\": 20240129,\n        \"num_unique_values\": 1,\n        \"samples\": [\n          20240129\n        ],\n        \"semantic_type\": \"\",\n        \"description\": \"\"\n      }\n    }\n  ]\n}"
            }
          },
          "metadata": {},
          "execution_count": 26
        }
      ],
      "source": [
        "# tail()\n",
        "bus_station.tail()"
      ]
    },
    {
      "cell_type": "code",
      "execution_count": 27,
      "id": "demographic-battery",
      "metadata": {
        "colab": {
          "base_uri": "https://localhost:8080/"
        },
        "id": "demographic-battery",
        "outputId": "29003849-f353-4cf8-b4ed-597e6660ae4b"
      },
      "outputs": [
        {
          "output_type": "stream",
          "name": "stdout",
          "text": [
            "<class 'pandas.core.frame.DataFrame'>\n",
            "RangeIndex: 1048575 entries, 0 to 1048574\n",
            "Data columns (total 8 columns):\n",
            " #   Column      Non-Null Count    Dtype \n",
            "---  ------      --------------    ----- \n",
            " 0   사용일자        1048575 non-null  int64 \n",
            " 1   노선번호        1048575 non-null  object\n",
            " 2   노선명         1048575 non-null  object\n",
            " 3   버스정류장ARS번호  1048575 non-null  object\n",
            " 4   역명          1048575 non-null  object\n",
            " 5   승차총승객수      1048575 non-null  int64 \n",
            " 6   하차총승객수      1048575 non-null  int64 \n",
            " 7   등록일자        1048575 non-null  int64 \n",
            "dtypes: int64(4), object(4)\n",
            "memory usage: 64.0+ MB\n"
          ]
        }
      ],
      "source": [
        "# 아래에 실습코드를 작성하고 결과를 확인합니다.\n",
        "# info()\n",
        "bus_station.info()"
      ]
    },
    {
      "cell_type": "code",
      "execution_count": 28,
      "id": "940a114a",
      "metadata": {
        "colab": {
          "base_uri": "https://localhost:8080/",
          "height": 297
        },
        "id": "940a114a",
        "outputId": "6d194542-1996-4d1a-b102-f0fcfa2dadb6"
      },
      "outputs": [
        {
          "output_type": "execute_result",
          "data": {
            "text/plain": [
              "               사용일자        승차총승객수        하차총승객수          등록일자\n",
              "count  1.048575e+06  1.048575e+06  1.048575e+06  1.048575e+06\n",
              "mean   2.024011e+07  1.030953e+02  1.010178e+02  2.024012e+07\n",
              "std    7.455044e+00  1.486801e+02  1.348374e+02  7.455044e+00\n",
              "min    2.024010e+07  0.000000e+00  0.000000e+00  2.024010e+07\n",
              "25%    2.024011e+07  1.300000e+01  1.600000e+01  2.024011e+07\n",
              "50%    2.024011e+07  5.700000e+01  6.200000e+01  2.024012e+07\n",
              "75%    2.024012e+07  1.370000e+02  1.370000e+02  2.024012e+07\n",
              "max    2.024013e+07  5.027000e+03  4.352000e+03  2.024013e+07"
            ],
            "text/html": [
              "\n",
              "  <div id=\"df-d0dea44c-36e4-4db5-901b-a52989a975b6\" class=\"colab-df-container\">\n",
              "    <div>\n",
              "<style scoped>\n",
              "    .dataframe tbody tr th:only-of-type {\n",
              "        vertical-align: middle;\n",
              "    }\n",
              "\n",
              "    .dataframe tbody tr th {\n",
              "        vertical-align: top;\n",
              "    }\n",
              "\n",
              "    .dataframe thead th {\n",
              "        text-align: right;\n",
              "    }\n",
              "</style>\n",
              "<table border=\"1\" class=\"dataframe\">\n",
              "  <thead>\n",
              "    <tr style=\"text-align: right;\">\n",
              "      <th></th>\n",
              "      <th>사용일자</th>\n",
              "      <th>승차총승객수</th>\n",
              "      <th>하차총승객수</th>\n",
              "      <th>등록일자</th>\n",
              "    </tr>\n",
              "  </thead>\n",
              "  <tbody>\n",
              "    <tr>\n",
              "      <th>count</th>\n",
              "      <td>1.048575e+06</td>\n",
              "      <td>1.048575e+06</td>\n",
              "      <td>1.048575e+06</td>\n",
              "      <td>1.048575e+06</td>\n",
              "    </tr>\n",
              "    <tr>\n",
              "      <th>mean</th>\n",
              "      <td>2.024011e+07</td>\n",
              "      <td>1.030953e+02</td>\n",
              "      <td>1.010178e+02</td>\n",
              "      <td>2.024012e+07</td>\n",
              "    </tr>\n",
              "    <tr>\n",
              "      <th>std</th>\n",
              "      <td>7.455044e+00</td>\n",
              "      <td>1.486801e+02</td>\n",
              "      <td>1.348374e+02</td>\n",
              "      <td>7.455044e+00</td>\n",
              "    </tr>\n",
              "    <tr>\n",
              "      <th>min</th>\n",
              "      <td>2.024010e+07</td>\n",
              "      <td>0.000000e+00</td>\n",
              "      <td>0.000000e+00</td>\n",
              "      <td>2.024010e+07</td>\n",
              "    </tr>\n",
              "    <tr>\n",
              "      <th>25%</th>\n",
              "      <td>2.024011e+07</td>\n",
              "      <td>1.300000e+01</td>\n",
              "      <td>1.600000e+01</td>\n",
              "      <td>2.024011e+07</td>\n",
              "    </tr>\n",
              "    <tr>\n",
              "      <th>50%</th>\n",
              "      <td>2.024011e+07</td>\n",
              "      <td>5.700000e+01</td>\n",
              "      <td>6.200000e+01</td>\n",
              "      <td>2.024012e+07</td>\n",
              "    </tr>\n",
              "    <tr>\n",
              "      <th>75%</th>\n",
              "      <td>2.024012e+07</td>\n",
              "      <td>1.370000e+02</td>\n",
              "      <td>1.370000e+02</td>\n",
              "      <td>2.024012e+07</td>\n",
              "    </tr>\n",
              "    <tr>\n",
              "      <th>max</th>\n",
              "      <td>2.024013e+07</td>\n",
              "      <td>5.027000e+03</td>\n",
              "      <td>4.352000e+03</td>\n",
              "      <td>2.024013e+07</td>\n",
              "    </tr>\n",
              "  </tbody>\n",
              "</table>\n",
              "</div>\n",
              "    <div class=\"colab-df-buttons\">\n",
              "\n",
              "  <div class=\"colab-df-container\">\n",
              "    <button class=\"colab-df-convert\" onclick=\"convertToInteractive('df-d0dea44c-36e4-4db5-901b-a52989a975b6')\"\n",
              "            title=\"Convert this dataframe to an interactive table.\"\n",
              "            style=\"display:none;\">\n",
              "\n",
              "  <svg xmlns=\"http://www.w3.org/2000/svg\" height=\"24px\" viewBox=\"0 -960 960 960\">\n",
              "    <path d=\"M120-120v-720h720v720H120Zm60-500h600v-160H180v160Zm220 220h160v-160H400v160Zm0 220h160v-160H400v160ZM180-400h160v-160H180v160Zm440 0h160v-160H620v160ZM180-180h160v-160H180v160Zm440 0h160v-160H620v160Z\"/>\n",
              "  </svg>\n",
              "    </button>\n",
              "\n",
              "  <style>\n",
              "    .colab-df-container {\n",
              "      display:flex;\n",
              "      gap: 12px;\n",
              "    }\n",
              "\n",
              "    .colab-df-convert {\n",
              "      background-color: #E8F0FE;\n",
              "      border: none;\n",
              "      border-radius: 50%;\n",
              "      cursor: pointer;\n",
              "      display: none;\n",
              "      fill: #1967D2;\n",
              "      height: 32px;\n",
              "      padding: 0 0 0 0;\n",
              "      width: 32px;\n",
              "    }\n",
              "\n",
              "    .colab-df-convert:hover {\n",
              "      background-color: #E2EBFA;\n",
              "      box-shadow: 0px 1px 2px rgba(60, 64, 67, 0.3), 0px 1px 3px 1px rgba(60, 64, 67, 0.15);\n",
              "      fill: #174EA6;\n",
              "    }\n",
              "\n",
              "    .colab-df-buttons div {\n",
              "      margin-bottom: 4px;\n",
              "    }\n",
              "\n",
              "    [theme=dark] .colab-df-convert {\n",
              "      background-color: #3B4455;\n",
              "      fill: #D2E3FC;\n",
              "    }\n",
              "\n",
              "    [theme=dark] .colab-df-convert:hover {\n",
              "      background-color: #434B5C;\n",
              "      box-shadow: 0px 1px 3px 1px rgba(0, 0, 0, 0.15);\n",
              "      filter: drop-shadow(0px 1px 2px rgba(0, 0, 0, 0.3));\n",
              "      fill: #FFFFFF;\n",
              "    }\n",
              "  </style>\n",
              "\n",
              "    <script>\n",
              "      const buttonEl =\n",
              "        document.querySelector('#df-d0dea44c-36e4-4db5-901b-a52989a975b6 button.colab-df-convert');\n",
              "      buttonEl.style.display =\n",
              "        google.colab.kernel.accessAllowed ? 'block' : 'none';\n",
              "\n",
              "      async function convertToInteractive(key) {\n",
              "        const element = document.querySelector('#df-d0dea44c-36e4-4db5-901b-a52989a975b6');\n",
              "        const dataTable =\n",
              "          await google.colab.kernel.invokeFunction('convertToInteractive',\n",
              "                                                    [key], {});\n",
              "        if (!dataTable) return;\n",
              "\n",
              "        const docLinkHtml = 'Like what you see? Visit the ' +\n",
              "          '<a target=\"_blank\" href=https://colab.research.google.com/notebooks/data_table.ipynb>data table notebook</a>'\n",
              "          + ' to learn more about interactive tables.';\n",
              "        element.innerHTML = '';\n",
              "        dataTable['output_type'] = 'display_data';\n",
              "        await google.colab.output.renderOutput(dataTable, element);\n",
              "        const docLink = document.createElement('div');\n",
              "        docLink.innerHTML = docLinkHtml;\n",
              "        element.appendChild(docLink);\n",
              "      }\n",
              "    </script>\n",
              "  </div>\n",
              "\n",
              "\n",
              "<div id=\"df-11f4c60f-7e85-4730-a50a-d36686d3080c\">\n",
              "  <button class=\"colab-df-quickchart\" onclick=\"quickchart('df-11f4c60f-7e85-4730-a50a-d36686d3080c')\"\n",
              "            title=\"Suggest charts\"\n",
              "            style=\"display:none;\">\n",
              "\n",
              "<svg xmlns=\"http://www.w3.org/2000/svg\" height=\"24px\"viewBox=\"0 0 24 24\"\n",
              "     width=\"24px\">\n",
              "    <g>\n",
              "        <path d=\"M19 3H5c-1.1 0-2 .9-2 2v14c0 1.1.9 2 2 2h14c1.1 0 2-.9 2-2V5c0-1.1-.9-2-2-2zM9 17H7v-7h2v7zm4 0h-2V7h2v10zm4 0h-2v-4h2v4z\"/>\n",
              "    </g>\n",
              "</svg>\n",
              "  </button>\n",
              "\n",
              "<style>\n",
              "  .colab-df-quickchart {\n",
              "      --bg-color: #E8F0FE;\n",
              "      --fill-color: #1967D2;\n",
              "      --hover-bg-color: #E2EBFA;\n",
              "      --hover-fill-color: #174EA6;\n",
              "      --disabled-fill-color: #AAA;\n",
              "      --disabled-bg-color: #DDD;\n",
              "  }\n",
              "\n",
              "  [theme=dark] .colab-df-quickchart {\n",
              "      --bg-color: #3B4455;\n",
              "      --fill-color: #D2E3FC;\n",
              "      --hover-bg-color: #434B5C;\n",
              "      --hover-fill-color: #FFFFFF;\n",
              "      --disabled-bg-color: #3B4455;\n",
              "      --disabled-fill-color: #666;\n",
              "  }\n",
              "\n",
              "  .colab-df-quickchart {\n",
              "    background-color: var(--bg-color);\n",
              "    border: none;\n",
              "    border-radius: 50%;\n",
              "    cursor: pointer;\n",
              "    display: none;\n",
              "    fill: var(--fill-color);\n",
              "    height: 32px;\n",
              "    padding: 0;\n",
              "    width: 32px;\n",
              "  }\n",
              "\n",
              "  .colab-df-quickchart:hover {\n",
              "    background-color: var(--hover-bg-color);\n",
              "    box-shadow: 0 1px 2px rgba(60, 64, 67, 0.3), 0 1px 3px 1px rgba(60, 64, 67, 0.15);\n",
              "    fill: var(--button-hover-fill-color);\n",
              "  }\n",
              "\n",
              "  .colab-df-quickchart-complete:disabled,\n",
              "  .colab-df-quickchart-complete:disabled:hover {\n",
              "    background-color: var(--disabled-bg-color);\n",
              "    fill: var(--disabled-fill-color);\n",
              "    box-shadow: none;\n",
              "  }\n",
              "\n",
              "  .colab-df-spinner {\n",
              "    border: 2px solid var(--fill-color);\n",
              "    border-color: transparent;\n",
              "    border-bottom-color: var(--fill-color);\n",
              "    animation:\n",
              "      spin 1s steps(1) infinite;\n",
              "  }\n",
              "\n",
              "  @keyframes spin {\n",
              "    0% {\n",
              "      border-color: transparent;\n",
              "      border-bottom-color: var(--fill-color);\n",
              "      border-left-color: var(--fill-color);\n",
              "    }\n",
              "    20% {\n",
              "      border-color: transparent;\n",
              "      border-left-color: var(--fill-color);\n",
              "      border-top-color: var(--fill-color);\n",
              "    }\n",
              "    30% {\n",
              "      border-color: transparent;\n",
              "      border-left-color: var(--fill-color);\n",
              "      border-top-color: var(--fill-color);\n",
              "      border-right-color: var(--fill-color);\n",
              "    }\n",
              "    40% {\n",
              "      border-color: transparent;\n",
              "      border-right-color: var(--fill-color);\n",
              "      border-top-color: var(--fill-color);\n",
              "    }\n",
              "    60% {\n",
              "      border-color: transparent;\n",
              "      border-right-color: var(--fill-color);\n",
              "    }\n",
              "    80% {\n",
              "      border-color: transparent;\n",
              "      border-right-color: var(--fill-color);\n",
              "      border-bottom-color: var(--fill-color);\n",
              "    }\n",
              "    90% {\n",
              "      border-color: transparent;\n",
              "      border-bottom-color: var(--fill-color);\n",
              "    }\n",
              "  }\n",
              "</style>\n",
              "\n",
              "  <script>\n",
              "    async function quickchart(key) {\n",
              "      const quickchartButtonEl =\n",
              "        document.querySelector('#' + key + ' button');\n",
              "      quickchartButtonEl.disabled = true;  // To prevent multiple clicks.\n",
              "      quickchartButtonEl.classList.add('colab-df-spinner');\n",
              "      try {\n",
              "        const charts = await google.colab.kernel.invokeFunction(\n",
              "            'suggestCharts', [key], {});\n",
              "      } catch (error) {\n",
              "        console.error('Error during call to suggestCharts:', error);\n",
              "      }\n",
              "      quickchartButtonEl.classList.remove('colab-df-spinner');\n",
              "      quickchartButtonEl.classList.add('colab-df-quickchart-complete');\n",
              "    }\n",
              "    (() => {\n",
              "      let quickchartButtonEl =\n",
              "        document.querySelector('#df-11f4c60f-7e85-4730-a50a-d36686d3080c button');\n",
              "      quickchartButtonEl.style.display =\n",
              "        google.colab.kernel.accessAllowed ? 'block' : 'none';\n",
              "    })();\n",
              "  </script>\n",
              "</div>\n",
              "\n",
              "    </div>\n",
              "  </div>\n"
            ],
            "application/vnd.google.colaboratory.intrinsic+json": {
              "type": "dataframe",
              "summary": "{\n  \"name\": \"bus_station\",\n  \"rows\": 8,\n  \"fields\": [\n    {\n      \"column\": \"\\uc0ac\\uc6a9\\uc77c\\uc790\",\n      \"properties\": {\n        \"dtype\": \"number\",\n        \"std\": 9130953.737517968,\n        \"min\": 7.4550436749936795,\n        \"max\": 20240126.0,\n        \"num_unique_values\": 8,\n        \"samples\": [\n          20240113.424662042,\n          20240113.0,\n          1048575.0\n        ],\n        \"semantic_type\": \"\",\n        \"description\": \"\"\n      }\n    },\n    {\n      \"column\": \"\\uc2b9\\ucc28\\ucd1d\\uc2b9\\uac1d\\uc218\",\n      \"properties\": {\n        \"dtype\": \"number\",\n        \"std\": 370454.2272665664,\n        \"min\": 0.0,\n        \"max\": 1048575.0,\n        \"num_unique_values\": 8,\n        \"samples\": [\n          103.09525689626398,\n          57.0,\n          1048575.0\n        ],\n        \"semantic_type\": \"\",\n        \"description\": \"\"\n      }\n    },\n    {\n      \"column\": \"\\ud558\\ucc28\\ucd1d\\uc2b9\\uac1d\\uc218\",\n      \"properties\": {\n        \"dtype\": \"number\",\n        \"std\": 370487.6918257362,\n        \"min\": 0.0,\n        \"max\": 1048575.0,\n        \"num_unique_values\": 8,\n        \"samples\": [\n          101.01775552535584,\n          62.0,\n          1048575.0\n        ],\n        \"semantic_type\": \"\",\n        \"description\": \"\"\n      }\n    },\n    {\n      \"column\": \"\\ub4f1\\ub85d\\uc77c\\uc790\",\n      \"properties\": {\n        \"dtype\": \"number\",\n        \"std\": 9130955.1255939,\n        \"min\": 7.4550436749936795,\n        \"max\": 20240129.0,\n        \"num_unique_values\": 8,\n        \"samples\": [\n          20240116.424662042,\n          20240116.0,\n          1048575.0\n        ],\n        \"semantic_type\": \"\",\n        \"description\": \"\"\n      }\n    }\n  ]\n}"
            }
          },
          "metadata": {},
          "execution_count": 28
        }
      ],
      "source": [
        "# 아래에 실습코드를 작성하고 결과를 확인합니다.\n",
        "# describe()\n",
        "bus_station.describe()"
      ]
    },
    {
      "cell_type": "markdown",
      "id": "f26c27a6",
      "metadata": {
        "id": "f26c27a6"
      },
      "source": [
        "#### [실습문제3] 위 데이터에서 버스정류장 위치를 구 별로 구분 해보기\n",
        "\n",
        "* 'bus_station' 데이터의 정보를 확인해보세요.\n",
        "\n",
        "* 버스정류장 ARS번호의 앞 두자리가 구를 의미합니다.\n",
        "\n",
        "* '자치구' column을 추가 -> 정류장이 위치한 구 이름을 등록\n"
      ]
    },
    {
      "cell_type": "code",
      "execution_count": 29,
      "id": "98e2fc76",
      "metadata": {
        "colab": {
          "base_uri": "https://localhost:8080/"
        },
        "id": "98e2fc76",
        "outputId": "cf980146-1aee-4326-d291-c979409616c4"
      },
      "outputs": [
        {
          "output_type": "execute_result",
          "data": {
            "text/plain": [
              "0           6178\n",
              "1          22337\n",
              "2          22336\n",
              "3          22334\n",
              "4          22333\n",
              "           ...  \n",
              "1048570     1837\n",
              "1048571     1831\n",
              "1048572     1514\n",
              "1048573     8454\n",
              "1048574     1587\n",
              "Name: 버스정류장ARS번호, Length: 1048575, dtype: object"
            ]
          },
          "metadata": {},
          "execution_count": 29
        }
      ],
      "source": [
        "# \"버스정류장ARS번호\" 컬럼 확인하기\n",
        "bus_station['버스정류장ARS번호']\n",
        "print()"
      ]
    },
    {
      "cell_type": "code",
      "source": [
        "# \"버스정류장ARS번호\" 컬럼의 길이 계산\n",
        "length_of_ars_numbers = bus_station['버스정류장ARS번호'].apply(lambda x: len(str(x)))\n",
        "\n",
        "# 각 길이별 갯수 출력\n",
        "length_counts = length_of_ars_numbers.value_counts()\n",
        "\n",
        "# 결과 출력\n",
        "print(length_counts)"
      ],
      "metadata": {
        "colab": {
          "base_uri": "https://localhost:8080/"
        },
        "id": "gxIhSQUSM9Cp",
        "outputId": "bc14f83c-b01f-4e13-8490-d9f22739b0b9"
      },
      "id": "gxIhSQUSM9Cp",
      "execution_count": 4,
      "outputs": [
        {
          "output_type": "stream",
          "name": "stdout",
          "text": [
            "5    748548\n",
            "4    295601\n",
            "1      4426\n",
            "Name: 버스정류장ARS번호, dtype: int64\n"
          ]
        }
      ]
    },
    {
      "cell_type": "code",
      "source": [
        "ars_numbers_length_1 = bus_station[bus_station['버스정류장ARS번호'].astype(str).apply(len) == 4]\n",
        "print(ars_numbers_length_1)\n"
      ],
      "metadata": {
        "colab": {
          "base_uri": "https://localhost:8080/"
        },
        "id": "2Fo8GtTCNGMC",
        "outputId": "5ff43db9-ff49-4d30-d79e-cb35d73a6b83"
      },
      "id": "2Fo8GtTCNGMC",
      "execution_count": 5,
      "outputs": [
        {
          "output_type": "stream",
          "name": "stdout",
          "text": [
            "             사용일자  노선번호               노선명 버스정류장ARS번호  \\\n",
            "0        20240101   101     101번(화계사~동대문)       6178   \n",
            "146      20240101  9701    9701번(가좌동~서울역)       2694   \n",
            "147      20240101  9701    9701번(가좌동~서울역)       2145   \n",
            "148      20240101  9701    9701번(가좌동~서울역)       2140   \n",
            "149      20240101  9701    9701번(가좌동~서울역)       2113   \n",
            "...           ...   ...               ...        ...   \n",
            "1048570  20240126  종로05  종로05(서대문역~배화여중고)       1837   \n",
            "1048571  20240126  종로05  종로05(서대문역~배화여중고)       1831   \n",
            "1048572  20240126  종로05  종로05(서대문역~배화여중고)       1514   \n",
            "1048573  20240126  성북07  성북07(정릉4동종점~길음역)       8454   \n",
            "1048574  20240126  종로05  종로05(서대문역~배화여중고)       1587   \n",
            "\n",
            "                                역명  승차총승객수  하차총승객수      등록일자  \n",
            "0                   대광고등학교앞(00055)      39      76  20240104  \n",
            "146                     서울역(00066)      49      10  20240104  \n",
            "147               남대문시장.회현역(00065)      32      33  20240104  \n",
            "148                   롯데백화점(00064)      41      86  20240104  \n",
            "149      서대문경찰서.농협은행.유관순활동터(00067)      21       0  20240104  \n",
            "...                            ...     ...     ...       ...  \n",
            "1048570              스위스대사관(00025)       1      19  20240129  \n",
            "1048571                월암공원(00024)      25      21  20240129  \n",
            "1048572            적십자병원후문앞(00002)       9       6  20240129  \n",
            "1048573              정릉4동종점(00014)       0     181  20240129  \n",
            "1048574           신학대학교총회본부(00011)      13      68  20240129  \n",
            "\n",
            "[295601 rows x 8 columns]\n"
          ]
        }
      ]
    },
    {
      "cell_type": "code",
      "source": [
        "bus_station['버스정류장ARS번호'] = bus_station['버스정류장ARS번호'].apply(lambda x: '0' + str(x) if len(str(x)) == 4 else str(x))"
      ],
      "metadata": {
        "id": "81CNjlzfNWU4"
      },
      "id": "81CNjlzfNWU4",
      "execution_count": 6,
      "outputs": []
    },
    {
      "cell_type": "code",
      "source": [
        "# \"버스정류장ARS번호\" 컬럼의 길이 계산\n",
        "length_of_ars_numbers = bus_station['버스정류장ARS번호'].apply(lambda x: len(str(x)))\n",
        "\n",
        "# 각 길이별 갯수 출력\n",
        "length_counts = length_of_ars_numbers.value_counts()\n",
        "\n",
        "# 결과 출력\n",
        "print(length_counts)"
      ],
      "metadata": {
        "colab": {
          "base_uri": "https://localhost:8080/"
        },
        "id": "zP_f4YTvNYiP",
        "outputId": "ca16d216-8dd7-4e62-a0c5-ff7a4062b2e0"
      },
      "id": "zP_f4YTvNYiP",
      "execution_count": 7,
      "outputs": [
        {
          "output_type": "stream",
          "name": "stdout",
          "text": [
            "5    1044149\n",
            "1       4426\n",
            "Name: 버스정류장ARS번호, dtype: int64\n"
          ]
        }
      ]
    },
    {
      "cell_type": "code",
      "execution_count": 8,
      "id": "056437b2",
      "metadata": {
        "id": "056437b2"
      },
      "outputs": [],
      "source": [
        "# 버스정류장 ARS번호에서 시작하는 앞자리 2개로 '자치구'라는 새로운 컬럼 생성\n",
        "# str() : 정수나 실수를 문자열 형태로 바꿔주는 함수, slice()\n",
        "\n",
        "bus_station['자치구'] = bus_station['버스정류장ARS번호'].apply(lambda x: str(x)[:2])"
      ]
    },
    {
      "cell_type": "markdown",
      "id": "1e97c502",
      "metadata": {
        "id": "1e97c502"
      },
      "source": [
        "* 버스정류장 ARS 번호 : 01~25까지 앞 숫자 두개가 위치한 구를 의미\n",
        "    01. 종로구\n",
        "    02. 중구\n",
        "    03. 용산구\n",
        "    04. 성동구\n",
        "    05. 광진구\n",
        "    06. 동대문구\n",
        "    07. 중랑구\n",
        "    08. 성북구\n",
        "    09. 강북구\n",
        "    10. 도봉구\n",
        "    11. 노원구\n",
        "    12. 은평구\n",
        "    13. 서대문구\n",
        "    14. 마포구\n",
        "    15. 양천구\n",
        "    16. 강서구\n",
        "    17. 구로구\n",
        "    18. 금천구\n",
        "    19. 영등포구\n",
        "    20. 동작구\n",
        "    21. 관악구\n",
        "    22. 서초구\n",
        "    23. 강남구\n",
        "    24. 송파구\n",
        "    25. 강동구"
      ]
    },
    {
      "cell_type": "code",
      "execution_count": 9,
      "id": "e6a4256b",
      "metadata": {
        "id": "e6a4256b"
      },
      "outputs": [],
      "source": [
        "# 구 코드를 구 이름으로 변환하기\n",
        "# map() : 리스트, 튜플 등 반복 가능한 데이터 집합을 입력으로 받아 변환하는 함수\n",
        "\n",
        "bus_station['자치구'] = bus_station['자치구'].map({\n",
        "    '01': '종로구',\n",
        "    '02': '중구',\n",
        "    '03': '용산구',\n",
        "    '04': '성동구',\n",
        "    '05': '광진구',\n",
        "    '06': '동대문구',\n",
        "    '07': '중랑구',\n",
        "    '08': '성북구',\n",
        "    '09': '강북구',\n",
        "    '10': '도봉구',\n",
        "    '11': '노원구',\n",
        "    '12': '은평구',\n",
        "    '13': '서대문구',\n",
        "    '14': '마포구',\n",
        "    '15': '양천구',\n",
        "    '16': '강서구',\n",
        "    '17': '구로구',\n",
        "    '18': '금천구',\n",
        "    '19': '영등포구',\n",
        "    '20': '동작구',\n",
        "    '21': '관악구',\n",
        "    '22': '서초구',\n",
        "    '23': '강남구',\n",
        "    '24': '송파구',\n",
        "    '25': '강동구'})\n"
      ]
    },
    {
      "cell_type": "code",
      "execution_count": 37,
      "id": "fdac5d95",
      "metadata": {
        "colab": {
          "base_uri": "https://localhost:8080/",
          "height": 546
        },
        "id": "fdac5d95",
        "outputId": "4cce2cd2-1253-4706-bbd3-19cb093df435"
      },
      "outputs": [
        {
          "output_type": "execute_result",
          "data": {
            "text/plain": [
              "             사용일자  노선번호               노선명 버스정류장ARS번호                 역명  \\\n",
              "1048565  20240126  종로05  종로05(서대문역~배화여중고)      01849      강북삼성병원(00027)   \n",
              "1048566  20240126  종로03   종로03(낙산공원~종로5가)      01825        창신초교(00021)   \n",
              "1048567  20240126  종로05  종로05(서대문역~배화여중고)      01796  배화여중고.매동초교(00017)   \n",
              "1048568  20240126  종로05  종로05(서대문역~배화여중고)      01820     교남동주민센터(00022)   \n",
              "1048569  20240126  종로05  종로05(서대문역~배화여중고)      01554    독립문역3번출구(00006)   \n",
              "1048570  20240126  종로05  종로05(서대문역~배화여중고)      01837      스위스대사관(00025)   \n",
              "1048571  20240126  종로05  종로05(서대문역~배화여중고)      01831        월암공원(00024)   \n",
              "1048572  20240126  종로05  종로05(서대문역~배화여중고)      01514    적십자병원후문앞(00002)   \n",
              "1048573  20240126  성북07  성북07(정릉4동종점~길음역)      08454      정릉4동종점(00014)   \n",
              "1048574  20240126  종로05  종로05(서대문역~배화여중고)      01587   신학대학교총회본부(00011)   \n",
              "\n",
              "         승차총승객수  하차총승객수      등록일자  자치구  \n",
              "1048565       6     175  20240129  종로구  \n",
              "1048566      63      86  20240129  종로구  \n",
              "1048567      22      91  20240129  종로구  \n",
              "1048568       7      25  20240129  종로구  \n",
              "1048569     343     191  20240129  종로구  \n",
              "1048570       1      19  20240129  종로구  \n",
              "1048571      25      21  20240129  종로구  \n",
              "1048572       9       6  20240129  종로구  \n",
              "1048573       0     181  20240129  성북구  \n",
              "1048574      13      68  20240129  종로구  "
            ],
            "text/html": [
              "\n",
              "  <div id=\"df-d1944ede-40b7-49b9-8347-9e8caad40e9d\" class=\"colab-df-container\">\n",
              "    <div>\n",
              "<style scoped>\n",
              "    .dataframe tbody tr th:only-of-type {\n",
              "        vertical-align: middle;\n",
              "    }\n",
              "\n",
              "    .dataframe tbody tr th {\n",
              "        vertical-align: top;\n",
              "    }\n",
              "\n",
              "    .dataframe thead th {\n",
              "        text-align: right;\n",
              "    }\n",
              "</style>\n",
              "<table border=\"1\" class=\"dataframe\">\n",
              "  <thead>\n",
              "    <tr style=\"text-align: right;\">\n",
              "      <th></th>\n",
              "      <th>사용일자</th>\n",
              "      <th>노선번호</th>\n",
              "      <th>노선명</th>\n",
              "      <th>버스정류장ARS번호</th>\n",
              "      <th>역명</th>\n",
              "      <th>승차총승객수</th>\n",
              "      <th>하차총승객수</th>\n",
              "      <th>등록일자</th>\n",
              "      <th>자치구</th>\n",
              "    </tr>\n",
              "  </thead>\n",
              "  <tbody>\n",
              "    <tr>\n",
              "      <th>1048565</th>\n",
              "      <td>20240126</td>\n",
              "      <td>종로05</td>\n",
              "      <td>종로05(서대문역~배화여중고)</td>\n",
              "      <td>01849</td>\n",
              "      <td>강북삼성병원(00027)</td>\n",
              "      <td>6</td>\n",
              "      <td>175</td>\n",
              "      <td>20240129</td>\n",
              "      <td>종로구</td>\n",
              "    </tr>\n",
              "    <tr>\n",
              "      <th>1048566</th>\n",
              "      <td>20240126</td>\n",
              "      <td>종로03</td>\n",
              "      <td>종로03(낙산공원~종로5가)</td>\n",
              "      <td>01825</td>\n",
              "      <td>창신초교(00021)</td>\n",
              "      <td>63</td>\n",
              "      <td>86</td>\n",
              "      <td>20240129</td>\n",
              "      <td>종로구</td>\n",
              "    </tr>\n",
              "    <tr>\n",
              "      <th>1048567</th>\n",
              "      <td>20240126</td>\n",
              "      <td>종로05</td>\n",
              "      <td>종로05(서대문역~배화여중고)</td>\n",
              "      <td>01796</td>\n",
              "      <td>배화여중고.매동초교(00017)</td>\n",
              "      <td>22</td>\n",
              "      <td>91</td>\n",
              "      <td>20240129</td>\n",
              "      <td>종로구</td>\n",
              "    </tr>\n",
              "    <tr>\n",
              "      <th>1048568</th>\n",
              "      <td>20240126</td>\n",
              "      <td>종로05</td>\n",
              "      <td>종로05(서대문역~배화여중고)</td>\n",
              "      <td>01820</td>\n",
              "      <td>교남동주민센터(00022)</td>\n",
              "      <td>7</td>\n",
              "      <td>25</td>\n",
              "      <td>20240129</td>\n",
              "      <td>종로구</td>\n",
              "    </tr>\n",
              "    <tr>\n",
              "      <th>1048569</th>\n",
              "      <td>20240126</td>\n",
              "      <td>종로05</td>\n",
              "      <td>종로05(서대문역~배화여중고)</td>\n",
              "      <td>01554</td>\n",
              "      <td>독립문역3번출구(00006)</td>\n",
              "      <td>343</td>\n",
              "      <td>191</td>\n",
              "      <td>20240129</td>\n",
              "      <td>종로구</td>\n",
              "    </tr>\n",
              "    <tr>\n",
              "      <th>1048570</th>\n",
              "      <td>20240126</td>\n",
              "      <td>종로05</td>\n",
              "      <td>종로05(서대문역~배화여중고)</td>\n",
              "      <td>01837</td>\n",
              "      <td>스위스대사관(00025)</td>\n",
              "      <td>1</td>\n",
              "      <td>19</td>\n",
              "      <td>20240129</td>\n",
              "      <td>종로구</td>\n",
              "    </tr>\n",
              "    <tr>\n",
              "      <th>1048571</th>\n",
              "      <td>20240126</td>\n",
              "      <td>종로05</td>\n",
              "      <td>종로05(서대문역~배화여중고)</td>\n",
              "      <td>01831</td>\n",
              "      <td>월암공원(00024)</td>\n",
              "      <td>25</td>\n",
              "      <td>21</td>\n",
              "      <td>20240129</td>\n",
              "      <td>종로구</td>\n",
              "    </tr>\n",
              "    <tr>\n",
              "      <th>1048572</th>\n",
              "      <td>20240126</td>\n",
              "      <td>종로05</td>\n",
              "      <td>종로05(서대문역~배화여중고)</td>\n",
              "      <td>01514</td>\n",
              "      <td>적십자병원후문앞(00002)</td>\n",
              "      <td>9</td>\n",
              "      <td>6</td>\n",
              "      <td>20240129</td>\n",
              "      <td>종로구</td>\n",
              "    </tr>\n",
              "    <tr>\n",
              "      <th>1048573</th>\n",
              "      <td>20240126</td>\n",
              "      <td>성북07</td>\n",
              "      <td>성북07(정릉4동종점~길음역)</td>\n",
              "      <td>08454</td>\n",
              "      <td>정릉4동종점(00014)</td>\n",
              "      <td>0</td>\n",
              "      <td>181</td>\n",
              "      <td>20240129</td>\n",
              "      <td>성북구</td>\n",
              "    </tr>\n",
              "    <tr>\n",
              "      <th>1048574</th>\n",
              "      <td>20240126</td>\n",
              "      <td>종로05</td>\n",
              "      <td>종로05(서대문역~배화여중고)</td>\n",
              "      <td>01587</td>\n",
              "      <td>신학대학교총회본부(00011)</td>\n",
              "      <td>13</td>\n",
              "      <td>68</td>\n",
              "      <td>20240129</td>\n",
              "      <td>종로구</td>\n",
              "    </tr>\n",
              "  </tbody>\n",
              "</table>\n",
              "</div>\n",
              "    <div class=\"colab-df-buttons\">\n",
              "\n",
              "  <div class=\"colab-df-container\">\n",
              "    <button class=\"colab-df-convert\" onclick=\"convertToInteractive('df-d1944ede-40b7-49b9-8347-9e8caad40e9d')\"\n",
              "            title=\"Convert this dataframe to an interactive table.\"\n",
              "            style=\"display:none;\">\n",
              "\n",
              "  <svg xmlns=\"http://www.w3.org/2000/svg\" height=\"24px\" viewBox=\"0 -960 960 960\">\n",
              "    <path d=\"M120-120v-720h720v720H120Zm60-500h600v-160H180v160Zm220 220h160v-160H400v160Zm0 220h160v-160H400v160ZM180-400h160v-160H180v160Zm440 0h160v-160H620v160ZM180-180h160v-160H180v160Zm440 0h160v-160H620v160Z\"/>\n",
              "  </svg>\n",
              "    </button>\n",
              "\n",
              "  <style>\n",
              "    .colab-df-container {\n",
              "      display:flex;\n",
              "      gap: 12px;\n",
              "    }\n",
              "\n",
              "    .colab-df-convert {\n",
              "      background-color: #E8F0FE;\n",
              "      border: none;\n",
              "      border-radius: 50%;\n",
              "      cursor: pointer;\n",
              "      display: none;\n",
              "      fill: #1967D2;\n",
              "      height: 32px;\n",
              "      padding: 0 0 0 0;\n",
              "      width: 32px;\n",
              "    }\n",
              "\n",
              "    .colab-df-convert:hover {\n",
              "      background-color: #E2EBFA;\n",
              "      box-shadow: 0px 1px 2px rgba(60, 64, 67, 0.3), 0px 1px 3px 1px rgba(60, 64, 67, 0.15);\n",
              "      fill: #174EA6;\n",
              "    }\n",
              "\n",
              "    .colab-df-buttons div {\n",
              "      margin-bottom: 4px;\n",
              "    }\n",
              "\n",
              "    [theme=dark] .colab-df-convert {\n",
              "      background-color: #3B4455;\n",
              "      fill: #D2E3FC;\n",
              "    }\n",
              "\n",
              "    [theme=dark] .colab-df-convert:hover {\n",
              "      background-color: #434B5C;\n",
              "      box-shadow: 0px 1px 3px 1px rgba(0, 0, 0, 0.15);\n",
              "      filter: drop-shadow(0px 1px 2px rgba(0, 0, 0, 0.3));\n",
              "      fill: #FFFFFF;\n",
              "    }\n",
              "  </style>\n",
              "\n",
              "    <script>\n",
              "      const buttonEl =\n",
              "        document.querySelector('#df-d1944ede-40b7-49b9-8347-9e8caad40e9d button.colab-df-convert');\n",
              "      buttonEl.style.display =\n",
              "        google.colab.kernel.accessAllowed ? 'block' : 'none';\n",
              "\n",
              "      async function convertToInteractive(key) {\n",
              "        const element = document.querySelector('#df-d1944ede-40b7-49b9-8347-9e8caad40e9d');\n",
              "        const dataTable =\n",
              "          await google.colab.kernel.invokeFunction('convertToInteractive',\n",
              "                                                    [key], {});\n",
              "        if (!dataTable) return;\n",
              "\n",
              "        const docLinkHtml = 'Like what you see? Visit the ' +\n",
              "          '<a target=\"_blank\" href=https://colab.research.google.com/notebooks/data_table.ipynb>data table notebook</a>'\n",
              "          + ' to learn more about interactive tables.';\n",
              "        element.innerHTML = '';\n",
              "        dataTable['output_type'] = 'display_data';\n",
              "        await google.colab.output.renderOutput(dataTable, element);\n",
              "        const docLink = document.createElement('div');\n",
              "        docLink.innerHTML = docLinkHtml;\n",
              "        element.appendChild(docLink);\n",
              "      }\n",
              "    </script>\n",
              "  </div>\n",
              "\n",
              "\n",
              "<div id=\"df-233ca5ac-caf2-4a6b-850c-7b169e67351a\">\n",
              "  <button class=\"colab-df-quickchart\" onclick=\"quickchart('df-233ca5ac-caf2-4a6b-850c-7b169e67351a')\"\n",
              "            title=\"Suggest charts\"\n",
              "            style=\"display:none;\">\n",
              "\n",
              "<svg xmlns=\"http://www.w3.org/2000/svg\" height=\"24px\"viewBox=\"0 0 24 24\"\n",
              "     width=\"24px\">\n",
              "    <g>\n",
              "        <path d=\"M19 3H5c-1.1 0-2 .9-2 2v14c0 1.1.9 2 2 2h14c1.1 0 2-.9 2-2V5c0-1.1-.9-2-2-2zM9 17H7v-7h2v7zm4 0h-2V7h2v10zm4 0h-2v-4h2v4z\"/>\n",
              "    </g>\n",
              "</svg>\n",
              "  </button>\n",
              "\n",
              "<style>\n",
              "  .colab-df-quickchart {\n",
              "      --bg-color: #E8F0FE;\n",
              "      --fill-color: #1967D2;\n",
              "      --hover-bg-color: #E2EBFA;\n",
              "      --hover-fill-color: #174EA6;\n",
              "      --disabled-fill-color: #AAA;\n",
              "      --disabled-bg-color: #DDD;\n",
              "  }\n",
              "\n",
              "  [theme=dark] .colab-df-quickchart {\n",
              "      --bg-color: #3B4455;\n",
              "      --fill-color: #D2E3FC;\n",
              "      --hover-bg-color: #434B5C;\n",
              "      --hover-fill-color: #FFFFFF;\n",
              "      --disabled-bg-color: #3B4455;\n",
              "      --disabled-fill-color: #666;\n",
              "  }\n",
              "\n",
              "  .colab-df-quickchart {\n",
              "    background-color: var(--bg-color);\n",
              "    border: none;\n",
              "    border-radius: 50%;\n",
              "    cursor: pointer;\n",
              "    display: none;\n",
              "    fill: var(--fill-color);\n",
              "    height: 32px;\n",
              "    padding: 0;\n",
              "    width: 32px;\n",
              "  }\n",
              "\n",
              "  .colab-df-quickchart:hover {\n",
              "    background-color: var(--hover-bg-color);\n",
              "    box-shadow: 0 1px 2px rgba(60, 64, 67, 0.3), 0 1px 3px 1px rgba(60, 64, 67, 0.15);\n",
              "    fill: var(--button-hover-fill-color);\n",
              "  }\n",
              "\n",
              "  .colab-df-quickchart-complete:disabled,\n",
              "  .colab-df-quickchart-complete:disabled:hover {\n",
              "    background-color: var(--disabled-bg-color);\n",
              "    fill: var(--disabled-fill-color);\n",
              "    box-shadow: none;\n",
              "  }\n",
              "\n",
              "  .colab-df-spinner {\n",
              "    border: 2px solid var(--fill-color);\n",
              "    border-color: transparent;\n",
              "    border-bottom-color: var(--fill-color);\n",
              "    animation:\n",
              "      spin 1s steps(1) infinite;\n",
              "  }\n",
              "\n",
              "  @keyframes spin {\n",
              "    0% {\n",
              "      border-color: transparent;\n",
              "      border-bottom-color: var(--fill-color);\n",
              "      border-left-color: var(--fill-color);\n",
              "    }\n",
              "    20% {\n",
              "      border-color: transparent;\n",
              "      border-left-color: var(--fill-color);\n",
              "      border-top-color: var(--fill-color);\n",
              "    }\n",
              "    30% {\n",
              "      border-color: transparent;\n",
              "      border-left-color: var(--fill-color);\n",
              "      border-top-color: var(--fill-color);\n",
              "      border-right-color: var(--fill-color);\n",
              "    }\n",
              "    40% {\n",
              "      border-color: transparent;\n",
              "      border-right-color: var(--fill-color);\n",
              "      border-top-color: var(--fill-color);\n",
              "    }\n",
              "    60% {\n",
              "      border-color: transparent;\n",
              "      border-right-color: var(--fill-color);\n",
              "    }\n",
              "    80% {\n",
              "      border-color: transparent;\n",
              "      border-right-color: var(--fill-color);\n",
              "      border-bottom-color: var(--fill-color);\n",
              "    }\n",
              "    90% {\n",
              "      border-color: transparent;\n",
              "      border-bottom-color: var(--fill-color);\n",
              "    }\n",
              "  }\n",
              "</style>\n",
              "\n",
              "  <script>\n",
              "    async function quickchart(key) {\n",
              "      const quickchartButtonEl =\n",
              "        document.querySelector('#' + key + ' button');\n",
              "      quickchartButtonEl.disabled = true;  // To prevent multiple clicks.\n",
              "      quickchartButtonEl.classList.add('colab-df-spinner');\n",
              "      try {\n",
              "        const charts = await google.colab.kernel.invokeFunction(\n",
              "            'suggestCharts', [key], {});\n",
              "      } catch (error) {\n",
              "        console.error('Error during call to suggestCharts:', error);\n",
              "      }\n",
              "      quickchartButtonEl.classList.remove('colab-df-spinner');\n",
              "      quickchartButtonEl.classList.add('colab-df-quickchart-complete');\n",
              "    }\n",
              "    (() => {\n",
              "      let quickchartButtonEl =\n",
              "        document.querySelector('#df-233ca5ac-caf2-4a6b-850c-7b169e67351a button');\n",
              "      quickchartButtonEl.style.display =\n",
              "        google.colab.kernel.accessAllowed ? 'block' : 'none';\n",
              "    })();\n",
              "  </script>\n",
              "</div>\n",
              "\n",
              "    </div>\n",
              "  </div>\n"
            ],
            "application/vnd.google.colaboratory.intrinsic+json": {
              "type": "dataframe",
              "summary": "{\n  \"name\": \"bus_station\",\n  \"rows\": 10,\n  \"fields\": [\n    {\n      \"column\": \"\\uc0ac\\uc6a9\\uc77c\\uc790\",\n      \"properties\": {\n        \"dtype\": \"number\",\n        \"std\": 0,\n        \"min\": 20240126,\n        \"max\": 20240126,\n        \"num_unique_values\": 1,\n        \"samples\": [\n          20240126\n        ],\n        \"semantic_type\": \"\",\n        \"description\": \"\"\n      }\n    },\n    {\n      \"column\": \"\\ub178\\uc120\\ubc88\\ud638\",\n      \"properties\": {\n        \"dtype\": \"category\",\n        \"num_unique_values\": 3,\n        \"samples\": [\n          \"\\uc885\\ub85c05\"\n        ],\n        \"semantic_type\": \"\",\n        \"description\": \"\"\n      }\n    },\n    {\n      \"column\": \"\\ub178\\uc120\\uba85\",\n      \"properties\": {\n        \"dtype\": \"category\",\n        \"num_unique_values\": 3,\n        \"samples\": [\n          \"\\uc885\\ub85c05(\\uc11c\\ub300\\ubb38\\uc5ed~\\ubc30\\ud654\\uc5ec\\uc911\\uace0)\"\n        ],\n        \"semantic_type\": \"\",\n        \"description\": \"\"\n      }\n    },\n    {\n      \"column\": \"\\ubc84\\uc2a4\\uc815\\ub958\\uc7a5ARS\\ubc88\\ud638\",\n      \"properties\": {\n        \"dtype\": \"string\",\n        \"num_unique_values\": 10,\n        \"samples\": [\n          \"08454\"\n        ],\n        \"semantic_type\": \"\",\n        \"description\": \"\"\n      }\n    },\n    {\n      \"column\": \"\\uc5ed\\uba85\",\n      \"properties\": {\n        \"dtype\": \"string\",\n        \"num_unique_values\": 10,\n        \"samples\": [\n          \"\\uc815\\ub9894\\ub3d9\\uc885\\uc810(00014)\"\n        ],\n        \"semantic_type\": \"\",\n        \"description\": \"\"\n      }\n    },\n    {\n      \"column\": \"\\uc2b9\\ucc28\\ucd1d\\uc2b9\\uac1d\\uc218\",\n      \"properties\": {\n        \"dtype\": \"number\",\n        \"std\": 104,\n        \"min\": 0,\n        \"max\": 343,\n        \"num_unique_values\": 10,\n        \"samples\": [\n          0\n        ],\n        \"semantic_type\": \"\",\n        \"description\": \"\"\n      }\n    },\n    {\n      \"column\": \"\\ud558\\ucc28\\ucd1d\\uc2b9\\uac1d\\uc218\",\n      \"properties\": {\n        \"dtype\": \"number\",\n        \"std\": 72,\n        \"min\": 6,\n        \"max\": 191,\n        \"num_unique_values\": 10,\n        \"samples\": [\n          181\n        ],\n        \"semantic_type\": \"\",\n        \"description\": \"\"\n      }\n    },\n    {\n      \"column\": \"\\ub4f1\\ub85d\\uc77c\\uc790\",\n      \"properties\": {\n        \"dtype\": \"number\",\n        \"std\": 0,\n        \"min\": 20240129,\n        \"max\": 20240129,\n        \"num_unique_values\": 1,\n        \"samples\": [\n          20240129\n        ],\n        \"semantic_type\": \"\",\n        \"description\": \"\"\n      }\n    },\n    {\n      \"column\": \"\\uc790\\uce58\\uad6c\",\n      \"properties\": {\n        \"dtype\": \"category\",\n        \"num_unique_values\": 2,\n        \"samples\": [\n          \"\\uc131\\ubd81\\uad6c\"\n        ],\n        \"semantic_type\": \"\",\n        \"description\": \"\"\n      }\n    }\n  ]\n}"
            }
          },
          "metadata": {},
          "execution_count": 37
        }
      ],
      "source": [
        "# 아래에 실습코드를 작성하고 결과를 확인합니다.\n",
        "# tail(10)\n",
        "\n",
        "bus_station.tail(10)"
      ]
    },
    {
      "cell_type": "markdown",
      "id": "0606db26",
      "metadata": {
        "id": "0606db26"
      },
      "source": [
        "#### [실습문제4] 결측치 처리하기\n",
        "\n"
      ]
    },
    {
      "cell_type": "code",
      "execution_count": 65,
      "id": "915f766b",
      "metadata": {
        "colab": {
          "base_uri": "https://localhost:8080/"
        },
        "id": "915f766b",
        "outputId": "4f26f9e1-388f-45fc-9bca-18408522092b"
      },
      "outputs": [
        {
          "output_type": "stream",
          "name": "stdout",
          "text": [
            "             사용일자  노선번호                      노선명 버스정류장ARS번호  \\\n",
            "699      20240101   441      441번(월암공영차고지~신사사거리)          ~   \n",
            "1261     20240101  7021     7021번(은평공영차고지~롯데백화점)          ~   \n",
            "1337     20240101  7017     7017번(은평공영차고지~롯데백화점)          ~   \n",
            "1427     20240101  7016         7016번(은평차고지~상명대)          ~   \n",
            "3332     20240101  750B         750B번(은평차고지~서울대)          ~   \n",
            "...           ...   ...                      ...        ...   \n",
            "1040945  20240126   271  271번(용마문화복지센터~월드컵파크7단지)          ~   \n",
            "1040953  20240126   271  271번(용마문화복지센터~월드컵파크7단지)          ~   \n",
            "1041836  20240126   N64    N64번(염곡공영차고지~강서공영차고지)          ~   \n",
            "1042754  20240126   N72  N72중랑 (중랑공영차고지~은평공영차고지)          ~   \n",
            "1043252  20240126   01A        01A번(예장주차장~예장주차장)          ~   \n",
            "\n",
            "                               역명  승차총승객수  하차총승객수      등록일자  자치구  \n",
            "699            월암차고지(종점가상)(00126)       0       1  20240104  NaN  \n",
            "1261           은평공영차고지(가상)(00076)       0      10  20240104  NaN  \n",
            "1337           은평공영차고지(가상)(00090)       0      10  20240104  NaN  \n",
            "1427           은평공영차고지(가상)(00107)       0      16  20240104  NaN  \n",
            "3332           은평공영차고지(가상)(00076)       0      15  20240104  NaN  \n",
            "...                           ...     ...     ...       ...  ...  \n",
            "1040945         경성여객(종점가상)(00125)       0      35  20240129  NaN  \n",
            "1040953         경성여객(기점가상)(00001)      61      12  20240129  NaN  \n",
            "1041836         대흥교통(기점가상)(00001)       0       1  20240129  NaN  \n",
            "1042754      중랑공영차고지(기점가상)(00001)       3       0  20240129  NaN  \n",
            "1043252  남산예장버스환승주차장(종점가상)(00025)       2     165  20240129  NaN  \n",
            "\n",
            "[4358 rows x 9 columns]\n"
          ]
        }
      ],
      "source": [
        "# (가상), (기점가상) 정류장은 ARS번호가 '~'로 나옵니다.\n",
        "# (가상) 정류장 : 버스정보시스템 상에서 위치 정보를 표시하기 위해 임의로 가상의 정류장을 설정, 실제하지 않음\n",
        "# '버스정류장ARS번호'가 '~'인 곳을 확인해주세요.\n",
        "\n",
        "invalid_ars_numbers = bus_station[bus_station['버스정류장ARS번호'] == '~']\n",
        "print(invalid_ars_numbers)"
      ]
    },
    {
      "cell_type": "code",
      "execution_count": 10,
      "id": "f516f562",
      "metadata": {
        "id": "f516f562"
      },
      "outputs": [],
      "source": [
        "# NaN 값을 제거 해주세요.\n",
        "# dropna()\n",
        "\n",
        "bus_station = bus_station.dropna()"
      ]
    },
    {
      "cell_type": "code",
      "execution_count": 40,
      "id": "3e9342f9",
      "metadata": {
        "colab": {
          "base_uri": "https://localhost:8080/"
        },
        "id": "3e9342f9",
        "outputId": "545990c0-2f4d-47cb-afbd-6e8cb2633875"
      },
      "outputs": [
        {
          "output_type": "stream",
          "name": "stdout",
          "text": [
            "<class 'pandas.core.frame.DataFrame'>\n",
            "Int64Index: 960811 entries, 0 to 1048574\n",
            "Data columns (total 9 columns):\n",
            " #   Column      Non-Null Count   Dtype \n",
            "---  ------      --------------   ----- \n",
            " 0   사용일자        960811 non-null  int64 \n",
            " 1   노선번호        960811 non-null  object\n",
            " 2   노선명         960811 non-null  object\n",
            " 3   버스정류장ARS번호  960811 non-null  object\n",
            " 4   역명          960811 non-null  object\n",
            " 5   승차총승객수      960811 non-null  int64 \n",
            " 6   하차총승객수      960811 non-null  int64 \n",
            " 7   등록일자        960811 non-null  int64 \n",
            " 8   자치구         960811 non-null  object\n",
            "dtypes: int64(4), object(5)\n",
            "memory usage: 73.3+ MB\n"
          ]
        }
      ],
      "source": [
        "# 컬럼별 NaN 값이 있는지 확인, info()\n",
        "\n",
        "bus_station.info()"
      ]
    },
    {
      "cell_type": "code",
      "execution_count": 11,
      "id": "ae560474",
      "metadata": {
        "id": "ae560474"
      },
      "outputs": [],
      "source": [
        "# \"버스정류장ARS번호\" dtype을 정수형(int)으로 변경\n",
        "\n",
        "bus_station['버스정류장ARS번호'] = bus_station['버스정류장ARS번호'].astype(int)"
      ]
    },
    {
      "cell_type": "markdown",
      "id": "003322b3",
      "metadata": {
        "id": "003322b3"
      },
      "source": [
        "#### [실습문제5] 구별로 버스정류장의 개수 확인하기 (서울시)\n"
      ]
    },
    {
      "cell_type": "code",
      "execution_count": 12,
      "id": "7b63abb7",
      "metadata": {
        "colab": {
          "base_uri": "https://localhost:8080/"
        },
        "id": "7b63abb7",
        "outputId": "5fa5c049-7324-4e85-e492-a47f6de5a090"
      },
      "outputs": [
        {
          "output_type": "stream",
          "name": "stdout",
          "text": [
            "자치구\n",
            "강남구     501\n",
            "강동구     367\n",
            "강북구     410\n",
            "강서구     567\n",
            "관악구     468\n",
            "광진구     280\n",
            "구로구     486\n",
            "금천구     347\n",
            "노원구     496\n",
            "도봉구     368\n",
            "동대문구    308\n",
            "동작구     441\n",
            "마포구     565\n",
            "서대문구    460\n",
            "서초구     601\n",
            "성동구     433\n",
            "성북구     599\n",
            "송파구     470\n",
            "양천구     323\n",
            "영등포구    467\n",
            "용산구     326\n",
            "은평구     497\n",
            "종로구     357\n",
            "중구      174\n",
            "중랑구     428\n",
            "Name: 버스정류장ARS번호, dtype: int64\n"
          ]
        }
      ],
      "source": [
        "# 자치구별 버스정류장 고유값들의 갯수를 출력하여 'bus_station_count' 변수로 저장\n",
        "# nunique(), groupby()\n",
        "\n",
        "bus_station_count = bus_station.groupby('자치구')['버스정류장ARS번호'].nunique()\n",
        "print(bus_station_count)"
      ]
    },
    {
      "cell_type": "code",
      "execution_count": 13,
      "id": "3c63d951",
      "metadata": {
        "colab": {
          "base_uri": "https://localhost:8080/"
        },
        "id": "3c63d951",
        "outputId": "8c897156-f8b1-475f-d889-137f65ac5cf6"
      },
      "outputs": [
        {
          "output_type": "stream",
          "name": "stdout",
          "text": [
            "428\n"
          ]
        }
      ],
      "source": [
        "# 중랑구에 428개의 버스정류장이 있다는데, 실제 ARS번호를 확인해봅시다.\n",
        "# 자치구별 버스정류장 고유값들을 출력하여 'bus_staiton_unique' 변수로 저장\n",
        "# 중랑구 버스정류장ARS번호 전체 출력\n",
        "\n",
        "bus_station_unique = bus_station.groupby('자치구')['버스정류장ARS번호'].unique()\n",
        "#print(bus_station_unique)\n",
        "\n",
        "jongrogu_stations = bus_station_unique.get('중랑구')\n",
        "print(len(jongrogu_stations))"
      ]
    },
    {
      "cell_type": "code",
      "execution_count": 14,
      "id": "94b2de9c",
      "metadata": {
        "colab": {
          "base_uri": "https://localhost:8080/"
        },
        "id": "94b2de9c",
        "outputId": "7ea27dcb-db0b-4908-d9ec-7ff0f85c45df"
      },
      "outputs": [
        {
          "output_type": "stream",
          "name": "stdout",
          "text": [
            "             사용일자  노선번호                노선명  버스정류장ARS번호           역명  승차총승객수  \\\n",
            "43608    20240102  9409  9409번(구미동차고지~신사역)        7674  이우중고(00005)       1   \n",
            "84449    20240103  9409  9409번(구미동차고지~신사역)        7674  이우중고(00005)       0   \n",
            "206641   20240106  9409  9409번(구미동차고지~신사역)        7674  이우중고(00005)       3   \n",
            "287124   20240108  9409  9409번(구미동차고지~신사역)        7674  이우중고(00005)       0   \n",
            "327856   20240109  9409  9409번(구미동차고지~신사역)        7674  이우중고(00005)       1   \n",
            "450342   20240112  9409  9409번(구미동차고지~신사역)        7674  이우중고(00005)       1   \n",
            "612051   20240116  9409  9409번(구미동차고지~신사역)        7674  이우중고(00005)       0   \n",
            "652849   20240117  9409  9409번(구미동차고지~신사역)        7674  이우중고(00005)       1   \n",
            "693641   20240118  9409  9409번(구미동차고지~신사역)        7674  이우중고(00005)       0   \n",
            "814818   20240121  9409  9409번(구미동차고지~신사역)        7674  이우중고(00005)       2   \n",
            "855341   20240122  9409  9409번(구미동차고지~신사역)        7674  이우중고(00005)       0   \n",
            "896148   20240123  9409  9409번(구미동차고지~신사역)        7674  이우중고(00005)       0   \n",
            "977959   20240125  9409  9409번(구미동차고지~신사역)        7674  이우중고(00005)       0   \n",
            "1018890  20240126  9409  9409번(구미동차고지~신사역)        7674  이우중고(00005)       0   \n",
            "\n",
            "         하차총승객수      등록일자  자치구  \n",
            "43608         1  20240105  중랑구  \n",
            "84449         1  20240106  중랑구  \n",
            "206641        0  20240109  중랑구  \n",
            "287124        2  20240111  중랑구  \n",
            "327856        4  20240112  중랑구  \n",
            "450342        0  20240115  중랑구  \n",
            "612051        1  20240119  중랑구  \n",
            "652849        0  20240120  중랑구  \n",
            "693641        1  20240121  중랑구  \n",
            "814818        0  20240124  중랑구  \n",
            "855341        1  20240125  중랑구  \n",
            "896148        2  20240126  중랑구  \n",
            "977959        1  20240128  중랑구  \n",
            "1018890       2  20240129  중랑구  \n"
          ]
        }
      ],
      "source": [
        "# 서울 지역 외 '버스정류장ARS번호' 샘플 확인\n",
        "# 중랑구의 버스정류장ARS번호 7674 인 정류장 확인해보기\n",
        "\n",
        "sample_row = bus_station[(bus_station['자치구'] == '중랑구') & (bus_station['버스정류장ARS번호'] == 7674)]\n",
        "print(sample_row)"
      ]
    },
    {
      "cell_type": "code",
      "execution_count": 15,
      "id": "0753a1e1",
      "metadata": {
        "colab": {
          "base_uri": "https://localhost:8080/"
        },
        "id": "0753a1e1",
        "outputId": "3e91eac0-9084-43f7-ca1d-bf9623ff5792"
      },
      "outputs": [
        {
          "output_type": "stream",
          "name": "stdout",
          "text": [
            "       ARS_ID           정류소명\n",
            "0        1001        종로2가사거리\n",
            "1        1002    창경궁.서울대학교병원\n",
            "2        1003      명륜3가.성대입구\n",
            "3        1004       종로2가.삼일교\n",
            "4        1005  혜화동로터리.여운형활동터\n",
            "...       ...            ...\n",
            "11258   25995          우성아파트\n",
            "11259   25996          우성아파트\n",
            "11260   25997           조일약국\n",
            "11261   25998           성내시장\n",
            "11262   25999    천호우체국.로데오거리\n",
            "\n",
            "[11263 rows x 2 columns]\n"
          ]
        }
      ],
      "source": [
        "# 서울의 버스 정류장 데이터만 포함하고 있는 excel 파일 열기 ('/content/drive/MyDrive/KTaivle/1차미니프로젝트/1.1 bus_station_202401.xlsx')\n",
        "# https://data.seoul.go.kr/dataList/OA-15067/S/1/datasetView.do (출처:서울열린데이터광장)\n",
        "# 'only_seoul' 변수로 저장\n",
        "\n",
        "import pandas as pd\n",
        "\n",
        "# 엑셀 파일 경로\n",
        "file_path = '/content/drive/MyDrive/KTaivle/1차미니프로젝트/1.1 bus_station_202401.xlsx'\n",
        "\n",
        "# 엑셀 파일 읽어오기\n",
        "bus_station2 = pd.read_excel(file_path)\n",
        "\n",
        "# 'ARS_ID'가 '0101'부터 '2525'까지인 데이터만 추출\n",
        "only_seoul = bus_station2[(bus_station2['ARS_ID'].astype(int) >= 1000) & (bus_station2['ARS_ID'].astype(int) <= 25999)]\n",
        "\n",
        "# 결과 출력\n",
        "print(only_seoul)\n"
      ]
    },
    {
      "cell_type": "code",
      "execution_count": 55,
      "id": "32e23908",
      "metadata": {
        "colab": {
          "base_uri": "https://localhost:8080/"
        },
        "id": "32e23908",
        "outputId": "9c60f394-10e8-4911-b2c9-05c3c6cc361a"
      },
      "outputs": [
        {
          "output_type": "stream",
          "name": "stdout",
          "text": [
            "<class 'pandas.core.frame.DataFrame'>\n",
            "Int64Index: 11263 entries, 0 to 11262\n",
            "Data columns (total 3 columns):\n",
            " #   Column         Non-Null Count  Dtype \n",
            "---  ------         --------------  ----- \n",
            " 0   ARS_ID         11263 non-null  int64 \n",
            " 1   정류소명           11263 non-null  object\n",
            " 2   ARS_ID_length  11263 non-null  int64 \n",
            "dtypes: int64(2), object(1)\n",
            "memory usage: 352.0+ KB\n"
          ]
        }
      ],
      "source": [
        "# 데이터 구조 확인, info()\n",
        "\n",
        "only_seoul.info()"
      ]
    },
    {
      "cell_type": "code",
      "execution_count": 73,
      "id": "e2291dc7",
      "metadata": {
        "colab": {
          "base_uri": "https://localhost:8080/"
        },
        "id": "e2291dc7",
        "outputId": "437d519d-ccb6-48b9-9e9a-059bbfd226f8"
      },
      "outputs": [
        {
          "output_type": "stream",
          "name": "stdout",
          "text": [
            "       ARS_ID           정류소명\n",
            "0        1001        종로2가사거리\n",
            "1        1002    창경궁.서울대학교병원\n",
            "2        1003      명륜3가.성대입구\n",
            "3        1004       종로2가.삼일교\n",
            "4        1005  혜화동로터리.여운형활동터\n",
            "...       ...            ...\n",
            "11258   25995          우성아파트\n",
            "11259   25996          우성아파트\n",
            "11260   25997           조일약국\n",
            "11261   25998           성내시장\n",
            "11262   25999    천호우체국.로데오거리\n",
            "\n",
            "[11263 rows x 2 columns]\n"
          ]
        }
      ],
      "source": [
        "# 데이터 확인\n",
        "\n",
        "print(only_seoul)"
      ]
    },
    {
      "cell_type": "code",
      "execution_count": 16,
      "id": "e4f35a67",
      "metadata": {
        "colab": {
          "base_uri": "https://localhost:8080/"
        },
        "id": "e4f35a67",
        "outputId": "304f6c06-3726-425f-f4da-4e761870c6f2"
      },
      "outputs": [
        {
          "output_type": "stream",
          "name": "stdout",
          "text": [
            "Empty DataFrame\n",
            "Columns: [ARS_ID, 정류소명]\n",
            "Index: []\n"
          ]
        }
      ],
      "source": [
        "# 서울 지역 외 '버스정류장ARS번호' 샘플 확인\n",
        "\n",
        "others = bus_station2[(bus_station2['ARS_ID'].astype(int) < 1000) | (bus_station2['ARS_ID'].astype(int) > 25999)]\n",
        "print(others)"
      ]
    },
    {
      "cell_type": "code",
      "execution_count": 17,
      "id": "d607bf62",
      "metadata": {
        "colab": {
          "base_uri": "https://localhost:8080/"
        },
        "id": "d607bf62",
        "outputId": "2a2013ea-55db-4cda-94c3-88bb2e7458f8"
      },
      "outputs": [
        {
          "output_type": "stream",
          "name": "stdout",
          "text": [
            "       버스정류장ARS번호           정류소명\n",
            "0            1001        종로2가사거리\n",
            "1            1002    창경궁.서울대학교병원\n",
            "2            1003      명륜3가.성대입구\n",
            "3            1004       종로2가.삼일교\n",
            "4            1005  혜화동로터리.여운형활동터\n",
            "...           ...            ...\n",
            "11258       25995          우성아파트\n",
            "11259       25996          우성아파트\n",
            "11260       25997           조일약국\n",
            "11261       25998           성내시장\n",
            "11262       25999    천호우체국.로데오거리\n",
            "\n",
            "[11263 rows x 2 columns]\n"
          ]
        }
      ],
      "source": [
        "# 'ARS-ID'열 이름을 '버스정류장ARS번호'로 바꾸기\n",
        "\n",
        "only_seoul = only_seoul.rename(columns={'ARS_ID': '버스정류장ARS번호'})\n",
        "\n",
        "# 변경된 데이터프레임 확인\n",
        "print(only_seoul)"
      ]
    },
    {
      "cell_type": "code",
      "execution_count": 18,
      "id": "75b114c8",
      "metadata": {
        "colab": {
          "base_uri": "https://localhost:8080/"
        },
        "id": "75b114c8",
        "outputId": "e6a839ec-0e8d-4114-df60-fbb2b90b3b7e"
      },
      "outputs": [
        {
          "output_type": "stream",
          "name": "stdout",
          "text": [
            "        버스정류장ARS번호         정류소명        사용일자 노선번호                    노선명  \\\n",
            "0             1001      종로2가사거리  20240101.0  N37  N37번(송파공영차고지~진관공영차고지)   \n",
            "1             1001      종로2가사거리  20240101.0  N37  N37번(진관공영차고지~송파공영차고지)   \n",
            "2             1001      종로2가사거리  20240101.0  470       470번(상암차고지~안골마을)   \n",
            "3             1001      종로2가사거리  20240101.0  741      741번(진관차고지~헌인릉입구)   \n",
            "4             1001      종로2가사거리  20240102.0  N37  N37번(송파공영차고지~진관공영차고지)   \n",
            "...            ...          ...         ...  ...                    ...   \n",
            "958215       25995        우성아파트         NaN  NaN                    NaN   \n",
            "958216       25996        우성아파트         NaN  NaN                    NaN   \n",
            "958217       25997         조일약국         NaN  NaN                    NaN   \n",
            "958218       25998         성내시장         NaN  NaN                    NaN   \n",
            "958219       25999  천호우체국.로데오거리         NaN  NaN                    NaN   \n",
            "\n",
            "                    역명  승차총승객수  하차총승객수        등록일자  자치구  \n",
            "0       종로2가사거리(00032)     3.0     5.0  20240104.0  종로구  \n",
            "1       종로2가사거리(00089)    21.0    11.0  20240104.0  종로구  \n",
            "2       종로2가사거리(00066)    98.0   117.0  20240104.0  종로구  \n",
            "3       종로2가사거리(00075)    92.0   116.0  20240104.0  종로구  \n",
            "4       종로2가사거리(00032)     2.0    11.0  20240105.0  종로구  \n",
            "...                ...     ...     ...         ...  ...  \n",
            "958215             NaN     NaN     NaN         NaN  NaN  \n",
            "958216             NaN     NaN     NaN         NaN  NaN  \n",
            "958217             NaN     NaN     NaN         NaN  NaN  \n",
            "958218             NaN     NaN     NaN         NaN  NaN  \n",
            "958219             NaN     NaN     NaN         NaN  NaN  \n",
            "\n",
            "[958220 rows x 10 columns]\n"
          ]
        }
      ],
      "source": [
        "# 'only_seoul'과 'bus_station' 데이터 병합\n",
        "\n",
        "merged_data = pd.merge(only_seoul, bus_station, on='버스정류장ARS번호', how='left')\n",
        "\n",
        "# 병합된 데이터프레임 확인\n",
        "print(merged_data)"
      ]
    },
    {
      "cell_type": "code",
      "execution_count": 19,
      "id": "62dbb217",
      "metadata": {
        "colab": {
          "base_uri": "https://localhost:8080/"
        },
        "id": "62dbb217",
        "outputId": "6ff13dae-0eb0-43a7-ec72-9736135040d0"
      },
      "outputs": [
        {
          "output_type": "stream",
          "name": "stdout",
          "text": [
            "자치구\n",
            "강남구     501\n",
            "강동구     367\n",
            "강북구     410\n",
            "강서구     567\n",
            "관악구     466\n",
            "광진구     274\n",
            "구로구     486\n",
            "금천구     346\n",
            "노원구     495\n",
            "도봉구     366\n",
            "동대문구    307\n",
            "동작구     435\n",
            "마포구     558\n",
            "서대문구    456\n",
            "서초구     601\n",
            "성동구     432\n",
            "성북구     595\n",
            "송파구     470\n",
            "양천구     319\n",
            "영등포구    465\n",
            "용산구     326\n",
            "은평구     497\n",
            "종로구     356\n",
            "중구      173\n",
            "중랑구     384\n",
            "Name: 버스정류장ARS번호, dtype: int64\n"
          ]
        }
      ],
      "source": [
        "# 구 별로 버스 정류장의 개수 확인하기, 'seoul_bus_station_ARS' 변수로 저장\n",
        "\n",
        "seoul_bus_station_ARS = merged_data.groupby('자치구')['버스정류장ARS번호'].nunique()\n",
        "\n",
        "# 결과 출력\n",
        "print(seoul_bus_station_ARS)"
      ]
    },
    {
      "cell_type": "code",
      "execution_count": 20,
      "id": "1fa4277b",
      "metadata": {
        "colab": {
          "base_uri": "https://localhost:8080/"
        },
        "id": "1fa4277b",
        "outputId": "5fdf7b4b-f9ab-41d3-ff26-81dfd27e3d18"
      },
      "outputs": [
        {
          "output_type": "stream",
          "name": "stdout",
          "text": [
            "서울시 전체 버스 정류장 개수: 11263\n"
          ]
        }
      ],
      "source": [
        "# 서울시에 있는 버스정류장 개수 구하기\n",
        "\n",
        "total_bus_stations_seoul = merged_data['버스정류장ARS번호'].nunique()\n",
        "\n",
        "# 결과 출력\n",
        "print(\"서울시 전체 버스 정류장 개수:\", total_bus_stations_seoul)"
      ]
    },
    {
      "cell_type": "markdown",
      "id": "33564b09",
      "metadata": {
        "id": "33564b09"
      },
      "source": [
        "#### [실습문제6] 구 별로 버스 노선의 개수 확인하기"
      ]
    },
    {
      "cell_type": "code",
      "execution_count": 21,
      "id": "5588cb7f",
      "metadata": {
        "colab": {
          "base_uri": "https://localhost:8080/"
        },
        "id": "5588cb7f",
        "outputId": "6393f160-3724-42c0-e389-773aba20f155"
      },
      "outputs": [
        {
          "output_type": "stream",
          "name": "stdout",
          "text": [
            "     자치구  노선번호\n",
            "0    강남구    98\n",
            "1    강동구    22\n",
            "2    강북구    71\n",
            "3    강서구    51\n",
            "4    관악구    81\n",
            "5    광진구    43\n",
            "6    구로구    80\n",
            "7    금천구    56\n",
            "8    노원구    58\n",
            "9    도봉구    54\n",
            "10  동대문구    74\n",
            "11   동작구    93\n",
            "12   마포구   100\n",
            "13  서대문구   109\n",
            "14   서초구    99\n",
            "15   성동구    58\n",
            "16   성북구    98\n",
            "17   송파구    60\n",
            "18   양천구    57\n",
            "19  영등포구   100\n",
            "20   용산구    69\n",
            "21   은평구    74\n",
            "22   종로구   105\n",
            "23    중구   102\n",
            "24   중랑구    50\n"
          ]
        }
      ],
      "source": [
        "# 자치구별 노선번호의 개수 구하기, 'seoul_bus_staion_line' 변수로 저장\n",
        "seoul_bus_station_line = merged_data.groupby('자치구')['노선번호'].nunique().reset_index()\n",
        "\n",
        "# 결과 출력\n",
        "print(seoul_bus_station_line)"
      ]
    },
    {
      "cell_type": "markdown",
      "id": "3666e46c",
      "metadata": {
        "id": "3666e46c"
      },
      "source": [
        "#### [실습문제7] 각 구별로 승차 총 승객수, 하차 총 승객수 구하기"
      ]
    },
    {
      "cell_type": "code",
      "execution_count": 22,
      "id": "1cdd246f",
      "metadata": {
        "colab": {
          "base_uri": "https://localhost:8080/"
        },
        "id": "1cdd246f",
        "outputId": "a94b03a2-f8a4-4a32-9d25-7c4aa4f72ebc"
      },
      "outputs": [
        {
          "output_type": "stream",
          "name": "stderr",
          "text": [
            "<ipython-input-22-822127888f6a>:3: FutureWarning: Indexing with multiple keys (implicitly converted to a tuple of keys) will be deprecated, use a list instead.\n",
            "  seoul_bus_station_sum = merged_data.groupby('자치구')['승차총승객수', '하차총승객수'].sum().reset_index()\n"
          ]
        },
        {
          "output_type": "stream",
          "name": "stdout",
          "text": [
            "     자치구     승차총승객수     하차총승객수\n",
            "0    강남구  6960336.0  6597087.0\n",
            "1    강동구  2515582.0  2460905.0\n",
            "2    강북구  3998077.0  3858057.0\n",
            "3    강서구  3981173.0  3963283.0\n",
            "4    관악구  5862490.0  5996915.0\n",
            "5    광진구  2365355.0  2382437.0\n",
            "6    구로구  4204229.0  4023135.0\n",
            "7    금천구  3133461.0  3014364.0\n",
            "8    노원구  3553485.0  3497450.0\n",
            "9    도봉구  2771076.0  2695540.0\n",
            "10  동대문구  4530373.0  4426822.0\n",
            "11   동작구  4125466.0  3979142.0\n",
            "12   마포구  4517711.0  4395035.0\n",
            "13  서대문구  5069197.0  4978622.0\n",
            "14   서초구  5919552.0  5755058.0\n",
            "15   성동구  2371151.0  2331836.0\n",
            "16   성북구  5051648.0  5060251.0\n",
            "17   송파구  4746623.0  4744766.0\n",
            "18   양천구  3478159.0  3344254.0\n",
            "19  영등포구  4987187.0  5041026.0\n",
            "20   용산구  3495720.0  3422432.0\n",
            "21   은평구  4296944.0  4223666.0\n",
            "22   종로구  4500874.0  4348356.0\n",
            "23    중구  3138112.0  3050645.0\n",
            "24   중랑구  3200879.0  3155827.0\n"
          ]
        }
      ],
      "source": [
        "# 자치구별 \"승차총승객수\",\"하차총승객수\"의 합 구하기, 'seoul_bus_station_sum' 변수로 저장\n",
        "# groupby()\n",
        "seoul_bus_station_sum = merged_data.groupby('자치구')['승차총승객수', '하차총승객수'].sum().reset_index()\n",
        "\n",
        "# 결과 출력\n",
        "print(seoul_bus_station_sum)"
      ]
    },
    {
      "cell_type": "markdown",
      "id": "a3dcb6d4",
      "metadata": {
        "id": "a3dcb6d4"
      },
      "source": [
        "#### [실습문제8] 각 구별 승차 평균 승객수, 하차 평균 승객수 구하기"
      ]
    },
    {
      "cell_type": "code",
      "execution_count": 23,
      "id": "ad901b47",
      "metadata": {
        "colab": {
          "base_uri": "https://localhost:8080/"
        },
        "id": "ad901b47",
        "outputId": "96e6a91b-b06b-4543-84ec-a4e259f8f37b"
      },
      "outputs": [
        {
          "output_type": "stream",
          "name": "stdout",
          "text": [
            "     자치구     승차평균승객수     하차평균승객수\n",
            "0    강남구  123.257234  116.824633\n",
            "1    강동구   91.578944   89.588445\n",
            "2    강북구  126.465395  122.036345\n",
            "3    강서구   86.932767   86.542122\n",
            "4    관악구  134.946712  138.040996\n",
            "5    광진구  107.491706  108.267985\n",
            "6    구로구  114.700415  109.759781\n",
            "7    금천구  123.088384  118.410025\n",
            "8    노원구   83.356439   82.041989\n",
            "9    도봉구  101.649829   98.878985\n",
            "10  동대문구  127.573018  124.657074\n",
            "11   동작구  108.467845  104.620655\n",
            "12   마포구   95.578543   92.983159\n",
            "13  서대문구  104.720330  102.849216\n",
            "14   서초구  113.621221  110.463886\n",
            "15   성동구   90.495039   88.994581\n",
            "16   성북구  112.288788  112.480017\n",
            "17   송파구   99.003483   98.964751\n",
            "18   양천구   96.452095   92.738804\n",
            "19  영등포구  116.711217  117.971168\n",
            "20   용산구  119.962938  117.447907\n",
            "21   은평구   93.725603   92.127252\n",
            "22   종로구  123.298104  119.119987\n",
            "23    중구  113.699710  110.530616\n",
            "24   중랑구   79.082866   77.969784\n"
          ]
        },
        {
          "output_type": "stream",
          "name": "stderr",
          "text": [
            "<ipython-input-23-f6ee150c3a88>:5: FutureWarning: Indexing with multiple keys (implicitly converted to a tuple of keys) will be deprecated, use a list instead.\n",
            "  seoul_bus_station_mean = merged_data.groupby('자치구')['승차총승객수', '하차총승객수'].mean().reset_index()\n"
          ]
        }
      ],
      "source": [
        "# 자치구별 \"승차총승객수\",\"하차총승객수\"의 평균 구하기, 'seoul_bus_station_mean' 변수로 저장\n",
        "# '승차총승객수' -> '승차평균승객수', '하차총승객수' -> '하차평균승객수'로 열이름 변경\n",
        "\n",
        "# 자치구별 \"승차총승객수\"과 \"하차총승객수\"의 평균 구하기\n",
        "seoul_bus_station_mean = merged_data.groupby('자치구')['승차총승객수', '하차총승객수'].mean().reset_index()\n",
        "\n",
        "# 열이름 변경\n",
        "seoul_bus_station_mean = seoul_bus_station_mean.rename(columns={'승차총승객수': '승차평균승객수', '하차총승객수': '하차평균승객수'})\n",
        "\n",
        "# 결과 출력\n",
        "print(seoul_bus_station_mean)"
      ]
    },
    {
      "cell_type": "markdown",
      "id": "7f329891",
      "metadata": {
        "id": "7f329891"
      },
      "source": [
        "#### [실습문제9] 데이터 프레임 합치기"
      ]
    },
    {
      "cell_type": "code",
      "execution_count": 24,
      "id": "dc284dfd",
      "metadata": {
        "colab": {
          "base_uri": "https://localhost:8080/"
        },
        "id": "dc284dfd",
        "outputId": "09e4d9d8-c0ff-400f-8dfe-6f9b31b2ef64"
      },
      "outputs": [
        {
          "output_type": "stream",
          "name": "stdout",
          "text": [
            "     자치구  버스정류장ARS번호  노선번호     승차총승객수     하차총승객수     승차평균승객수     하차평균승객수\n",
            "0    강남구         501    98  6960336.0  6597087.0  123.257234  116.824633\n",
            "1    강동구         367    22  2515582.0  2460905.0   91.578944   89.588445\n",
            "2    강북구         410    71  3998077.0  3858057.0  126.465395  122.036345\n",
            "3    강서구         567    51  3981173.0  3963283.0   86.932767   86.542122\n",
            "4    관악구         466    81  5862490.0  5996915.0  134.946712  138.040996\n",
            "5    광진구         274    43  2365355.0  2382437.0  107.491706  108.267985\n",
            "6    구로구         486    80  4204229.0  4023135.0  114.700415  109.759781\n",
            "7    금천구         346    56  3133461.0  3014364.0  123.088384  118.410025\n",
            "8    노원구         495    58  3553485.0  3497450.0   83.356439   82.041989\n",
            "9    도봉구         366    54  2771076.0  2695540.0  101.649829   98.878985\n",
            "10  동대문구         307    74  4530373.0  4426822.0  127.573018  124.657074\n",
            "11   동작구         435    93  4125466.0  3979142.0  108.467845  104.620655\n",
            "12   마포구         558   100  4517711.0  4395035.0   95.578543   92.983159\n",
            "13  서대문구         456   109  5069197.0  4978622.0  104.720330  102.849216\n",
            "14   서초구         601    99  5919552.0  5755058.0  113.621221  110.463886\n",
            "15   성동구         432    58  2371151.0  2331836.0   90.495039   88.994581\n",
            "16   성북구         595    98  5051648.0  5060251.0  112.288788  112.480017\n",
            "17   송파구         470    60  4746623.0  4744766.0   99.003483   98.964751\n",
            "18   양천구         319    57  3478159.0  3344254.0   96.452095   92.738804\n",
            "19  영등포구         465   100  4987187.0  5041026.0  116.711217  117.971168\n",
            "20   용산구         326    69  3495720.0  3422432.0  119.962938  117.447907\n",
            "21   은평구         497    74  4296944.0  4223666.0   93.725603   92.127252\n",
            "22   종로구         356   105  4500874.0  4348356.0  123.298104  119.119987\n",
            "23    중구         173   102  3138112.0  3050645.0  113.699710  110.530616\n",
            "24   중랑구         384    50  3200879.0  3155827.0   79.082866   77.969784\n"
          ]
        }
      ],
      "source": [
        "# 네 개 파일을 합쳐주세요.\n",
        "\n",
        "# seoul_bus_station_ARS\n",
        "# seoul_bus_station_line\n",
        "# seoul_bus_station_sum\n",
        "# seoul_bus_station_mean\n",
        "\n",
        "# 네 개의 데이터프레임을 합치기\n",
        "merged_all = pd.merge(seoul_bus_station_ARS, seoul_bus_station_line, on='자치구', how='outer')\n",
        "merged_all = pd.merge(merged_all, seoul_bus_station_sum, on='자치구', how='outer')\n",
        "merged_all = pd.merge(merged_all, seoul_bus_station_mean, on='자치구', how='outer')\n",
        "\n",
        "# 결과 출력\n",
        "print(merged_all)\n"
      ]
    },
    {
      "cell_type": "code",
      "execution_count": 25,
      "id": "0f4a0eca",
      "metadata": {
        "colab": {
          "base_uri": "https://localhost:8080/"
        },
        "id": "0f4a0eca",
        "outputId": "23f62ad4-7416-40fb-e2cd-5ddd2f030be9"
      },
      "outputs": [
        {
          "output_type": "stream",
          "name": "stdout",
          "text": [
            "     자치구  정류장수  노선수     승차총승객수     하차총승객수     승차평균승객수     하차평균승객수\n",
            "0    강남구   501   98  6960336.0  6597087.0  123.257234  116.824633\n",
            "1    강동구   367   22  2515582.0  2460905.0   91.578944   89.588445\n",
            "2    강북구   410   71  3998077.0  3858057.0  126.465395  122.036345\n",
            "3    강서구   567   51  3981173.0  3963283.0   86.932767   86.542122\n",
            "4    관악구   466   81  5862490.0  5996915.0  134.946712  138.040996\n",
            "5    광진구   274   43  2365355.0  2382437.0  107.491706  108.267985\n",
            "6    구로구   486   80  4204229.0  4023135.0  114.700415  109.759781\n",
            "7    금천구   346   56  3133461.0  3014364.0  123.088384  118.410025\n",
            "8    노원구   495   58  3553485.0  3497450.0   83.356439   82.041989\n",
            "9    도봉구   366   54  2771076.0  2695540.0  101.649829   98.878985\n",
            "10  동대문구   307   74  4530373.0  4426822.0  127.573018  124.657074\n",
            "11   동작구   435   93  4125466.0  3979142.0  108.467845  104.620655\n",
            "12   마포구   558  100  4517711.0  4395035.0   95.578543   92.983159\n",
            "13  서대문구   456  109  5069197.0  4978622.0  104.720330  102.849216\n",
            "14   서초구   601   99  5919552.0  5755058.0  113.621221  110.463886\n",
            "15   성동구   432   58  2371151.0  2331836.0   90.495039   88.994581\n",
            "16   성북구   595   98  5051648.0  5060251.0  112.288788  112.480017\n",
            "17   송파구   470   60  4746623.0  4744766.0   99.003483   98.964751\n",
            "18   양천구   319   57  3478159.0  3344254.0   96.452095   92.738804\n",
            "19  영등포구   465  100  4987187.0  5041026.0  116.711217  117.971168\n",
            "20   용산구   326   69  3495720.0  3422432.0  119.962938  117.447907\n",
            "21   은평구   497   74  4296944.0  4223666.0   93.725603   92.127252\n",
            "22   종로구   356  105  4500874.0  4348356.0  123.298104  119.119987\n",
            "23    중구   173  102  3138112.0  3050645.0  113.699710  110.530616\n",
            "24   중랑구   384   50  3200879.0  3155827.0   79.082866   77.969784\n"
          ]
        }
      ],
      "source": [
        "# '버스정류장ARS번호' -> '정류장수', '노선번호' -> '노선수'로 열이름 변경\n",
        "# 열 이름 변경\n",
        "merged_all.rename(columns={'버스정류장ARS번호': '정류장수', '노선번호': '노선수'}, inplace=True)\n",
        "\n",
        "# 변경된 결과 출력\n",
        "print(merged_all)"
      ]
    },
    {
      "cell_type": "code",
      "execution_count": 26,
      "id": "470c3d5d",
      "metadata": {
        "colab": {
          "base_uri": "https://localhost:8080/"
        },
        "id": "470c3d5d",
        "outputId": "5a4fbf08-3ee9-4e4f-ee12-6c0af82ba556"
      },
      "outputs": [
        {
          "output_type": "stream",
          "name": "stdout",
          "text": [
            "     자치구  정류장수  노선수     승차총승객수     하차총승객수     승차평균승객수     하차평균승객수\n",
            "0    강남구   501   98  6960336.0  6597087.0  123.257234  116.824633\n",
            "1    강동구   367   22  2515582.0  2460905.0   91.578944   89.588445\n",
            "2    강북구   410   71  3998077.0  3858057.0  126.465395  122.036345\n",
            "3    강서구   567   51  3981173.0  3963283.0   86.932767   86.542122\n",
            "4    관악구   466   81  5862490.0  5996915.0  134.946712  138.040996\n",
            "5    광진구   274   43  2365355.0  2382437.0  107.491706  108.267985\n",
            "6    구로구   486   80  4204229.0  4023135.0  114.700415  109.759781\n",
            "7    금천구   346   56  3133461.0  3014364.0  123.088384  118.410025\n",
            "8    노원구   495   58  3553485.0  3497450.0   83.356439   82.041989\n",
            "9    도봉구   366   54  2771076.0  2695540.0  101.649829   98.878985\n",
            "10  동대문구   307   74  4530373.0  4426822.0  127.573018  124.657074\n",
            "11   동작구   435   93  4125466.0  3979142.0  108.467845  104.620655\n",
            "12   마포구   558  100  4517711.0  4395035.0   95.578543   92.983159\n",
            "13  서대문구   456  109  5069197.0  4978622.0  104.720330  102.849216\n",
            "14   서초구   601   99  5919552.0  5755058.0  113.621221  110.463886\n",
            "15   성동구   432   58  2371151.0  2331836.0   90.495039   88.994581\n",
            "16   성북구   595   98  5051648.0  5060251.0  112.288788  112.480017\n",
            "17   송파구   470   60  4746623.0  4744766.0   99.003483   98.964751\n",
            "18   양천구   319   57  3478159.0  3344254.0   96.452095   92.738804\n",
            "19  영등포구   465  100  4987187.0  5041026.0  116.711217  117.971168\n",
            "20   용산구   326   69  3495720.0  3422432.0  119.962938  117.447907\n",
            "21   은평구   497   74  4296944.0  4223666.0   93.725603   92.127252\n",
            "22   종로구   356  105  4500874.0  4348356.0  123.298104  119.119987\n",
            "23    중구   173  102  3138112.0  3050645.0  113.699710  110.530616\n",
            "24   중랑구   384   50  3200879.0  3155827.0   79.082866   77.969784\n"
          ]
        }
      ],
      "source": [
        "# 데이터를 합친 결과를 확인합니다.\n",
        "\n",
        "print(merged_all)"
      ]
    },
    {
      "cell_type": "code",
      "execution_count": null,
      "id": "97d0cc3f",
      "metadata": {
        "id": "97d0cc3f"
      },
      "outputs": [],
      "source": [
        "# 해당 데이터프레임을 csv 파일로 저장하세요.\n",
        "\n"
      ]
    },
    {
      "cell_type": "markdown",
      "id": "602b8bae",
      "metadata": {
        "id": "602b8bae"
      },
      "source": [
        "---"
      ]
    },
    {
      "cell_type": "markdown",
      "id": "southeast-integration",
      "metadata": {
        "id": "southeast-integration"
      },
      "source": [
        "# 3.데이터 분석하기\n",
        "+ KeyPoint : 데이터의 형태를 살펴보고 다양한 분석기법을 통해 모델링에 적합하도록 정제요소를 선별할 수 있다.\n",
        "  * 데이터들의 패턴 탐색\n",
        "  * 변수들간의 관계 파악"
      ]
    },
    {
      "cell_type": "code",
      "source": [
        "!sudo apt-get install -y fonts-nanum\n",
        "!sudo fc-cache -fv\n",
        "!rm ~/.cache/matplotlib -rf"
      ],
      "metadata": {
        "colab": {
          "base_uri": "https://localhost:8080/"
        },
        "id": "std2h9B9W7x2",
        "outputId": "8de1008a-ac45-452c-b7c4-26c59e5220a3"
      },
      "id": "std2h9B9W7x2",
      "execution_count": 103,
      "outputs": [
        {
          "output_type": "stream",
          "name": "stdout",
          "text": [
            "Reading package lists... Done\n",
            "Building dependency tree... Done\n",
            "Reading state information... Done\n",
            "fonts-nanum is already the newest version (20200506-1).\n",
            "0 upgraded, 0 newly installed, 0 to remove and 35 not upgraded.\n",
            "/usr/share/fonts: caching, new cache contents: 0 fonts, 1 dirs\n",
            "/usr/share/fonts/truetype: caching, new cache contents: 0 fonts, 3 dirs\n",
            "/usr/share/fonts/truetype/humor-sans: caching, new cache contents: 1 fonts, 0 dirs\n",
            "/usr/share/fonts/truetype/liberation: caching, new cache contents: 16 fonts, 0 dirs\n",
            "/usr/share/fonts/truetype/nanum: caching, new cache contents: 12 fonts, 0 dirs\n",
            "/usr/local/share/fonts: caching, new cache contents: 0 fonts, 0 dirs\n",
            "/root/.local/share/fonts: skipping, no such directory\n",
            "/root/.fonts: skipping, no such directory\n",
            "/usr/share/fonts/truetype: skipping, looped directory detected\n",
            "/usr/share/fonts/truetype/humor-sans: skipping, looped directory detected\n",
            "/usr/share/fonts/truetype/liberation: skipping, looped directory detected\n",
            "/usr/share/fonts/truetype/nanum: skipping, looped directory detected\n",
            "/var/cache/fontconfig: cleaning cache directory\n",
            "/root/.cache/fontconfig: not cleaning non-existent cache directory\n",
            "/root/.fontconfig: not cleaning non-existent cache directory\n",
            "fc-cache: succeeded\n"
          ]
        }
      ]
    },
    {
      "cell_type": "code",
      "execution_count": 27,
      "id": "194ae01d",
      "metadata": {
        "id": "194ae01d"
      },
      "outputs": [],
      "source": [
        "# 시각화 한글폰트 설정\n",
        "# import seaborn as sns\n",
        "# import matplotlib.pyplot as plt\n",
        "\n",
        "# plt.rc('font', family='Malgun')\n",
        "# sns.set(font=\"Malgun Gothic\",\n",
        "#         rc={\"axes.unicode_minus\":False}, # 마이너스 부호 깨짐 현상 해결\n",
        "#         style='darkgrid')\n",
        "\n",
        "import matplotlib.pyplot as plt\n",
        "plt.rc('font', family='NanumBarunGothic')\n",
        "plt.rcParams['axes.unicode_minus'] =False"
      ]
    },
    {
      "cell_type": "markdown",
      "id": "material-complex",
      "metadata": {
        "id": "material-complex"
      },
      "source": [
        "#### [실습문제10] 데이터 분포 알아보기\n",
        "* 다양한 변수를 기준으로 그래프를 그려보고 인사이트를 도출해보세요."
      ]
    },
    {
      "cell_type": "code",
      "execution_count": 28,
      "id": "2a610ade",
      "metadata": {
        "colab": {
          "base_uri": "https://localhost:8080/",
          "height": 521
        },
        "id": "2a610ade",
        "outputId": "9b26cd01-8e67-4d4f-84b2-a5c8a8ca0467"
      },
      "outputs": [
        {
          "output_type": "display_data",
          "data": {
            "text/plain": [
              "<Figure size 1200x600 with 1 Axes>"
            ],
            "image/png": "[encoded data removed]"
          },
          "metadata": {}
        }
      ],
      "source": [
        "# 자치구별 정류장 수 그래프\n",
        "plt.figure(figsize=(12, 6))\n",
        "plt.bar(merged_all['자치구'], merged_all['정류장수'])\n",
        "plt.title('자치구별 정류장 수')\n",
        "plt.xlabel('자치구')\n",
        "plt.ylabel('정류장 수')\n",
        "plt.xticks(rotation=45, ha='right')  # x축 라벨 회전\n",
        "plt.tight_layout()\n",
        "plt.show()\n"
      ]
    },
    {
      "cell_type": "code",
      "execution_count": null,
      "id": "86892a60",
      "metadata": {
        "id": "86892a60"
      },
      "outputs": [],
      "source": [
        "# 위 차트를 통해 알게된 사실을 개인별로 정리해봅시다.\n",
        "# 1. 중구가 인구가 제일 적은 구인 만큼 정류장의 수가 가장 작았다. 하지만, 송파구가 가장 인구가 많다고 해서 정류장 수가 제일 많은 것도 아니였다.\n",
        "# 2. 가장 많은 정류장을 가진 구는 서초구였다. 서초구가 서울에서 면적이 제일 큰 구이다. 면적과 정류장 수는 비례하는 것으로 봐도 좋겠다.\n",
        "# 3. 강남구가 도로 면적이 가장 넓으나 정류장의 수가 제일 많지는 않았다. 아마, 자가용 및 택시를 이용하는 비중이 높아서이지 않을까 생각이 든다."
      ]
    },
    {
      "cell_type": "code",
      "source": [
        "# 자치구별 정류장 수 내림차순 그래프\n",
        "plt.figure(figsize=(12, 6))\n",
        "sorted_merged_all = merged_all.sort_values(by='정류장수', ascending=False)\n",
        "plt.bar(sorted_merged_all['자치구'], sorted_merged_all['정류장수'])\n",
        "plt.title('자치구별 정류장 수 (내림차순)')\n",
        "plt.xlabel('자치구')\n",
        "plt.ylabel('정류장 수')\n",
        "plt.xticks(rotation=45, ha='right')  # x축 라벨 회전\n",
        "plt.tight_layout()\n",
        "plt.show()\n",
        "\n",
        "# 승차평균승객수 내림차순 출력\n",
        "sorted_mean = merged_all.sort_values(by='승차평균승객수', ascending=False)\n",
        "print(\"승차평균승객수 내림차순:\")\n",
        "print(sorted_mean[['자치구', '승차평균승객수']])\n",
        "\n",
        "# 하차평균승객수 내림차순 출력\n",
        "sorted_mean = merged_all.sort_values(by='하차평균승객수', ascending=False)\n",
        "print(\"\\n하차평균승객수 내림차순:\")\n",
        "print(sorted_mean[['자치구', '하차평균승객수']])\n",
        "\n",
        "# 승차총승객수 내림차순 출력\n",
        "sorted_sum = merged_all.sort_values(by='승차총승객수', ascending=False)\n",
        "print(\"\\n승차총승객수 내림차순:\")\n",
        "print(sorted_sum[['자치구', '승차총승객수']])\n",
        "\n",
        "# 하차총승객수 내림차순 출력\n",
        "sorted_sum = merged_all.sort_values(by='하차총승객수', ascending=False)\n",
        "print(\"\\n하차총승객수 내림차순:\")\n",
        "print(sorted_sum[['자치구', '하차총승객수']])"
      ],
      "metadata": {
        "colab": {
          "base_uri": "https://localhost:8080/",
          "height": 1000
        },
        "id": "TU0_akoPd0a0",
        "outputId": "1a8c7ab9-3745-40e5-9ebf-1ca197bc62bd"
      },
      "id": "TU0_akoPd0a0",
      "execution_count": 31,
      "outputs": [
        {
          "output_type": "display_data",
          "data": {
            "text/plain": [
              "<Figure size 1200x600 with 1 Axes>"
            ],
            "image/png": "[encoded data removed]"
          },
          "metadata": {}
        },
        {
          "output_type": "stream",
          "name": "stdout",
          "text": [
            "승차평균승객수 내림차순:\n",
            "     자치구     승차평균승객수\n",
            "4    관악구  134.946712\n",
            "10  동대문구  127.573018\n",
            "2    강북구  126.465395\n",
            "22   종로구  123.298104\n",
            "0    강남구  123.257234\n",
            "7    금천구  123.088384\n",
            "20   용산구  119.962938\n",
            "19  영등포구  116.711217\n",
            "6    구로구  114.700415\n",
            "23    중구  113.699710\n",
            "14   서초구  113.621221\n",
            "16   성북구  112.288788\n",
            "11   동작구  108.467845\n",
            "5    광진구  107.491706\n",
            "13  서대문구  104.720330\n",
            "9    도봉구  101.649829\n",
            "17   송파구   99.003483\n",
            "18   양천구   96.452095\n",
            "12   마포구   95.578543\n",
            "21   은평구   93.725603\n",
            "1    강동구   91.578944\n",
            "15   성동구   90.495039\n",
            "3    강서구   86.932767\n",
            "8    노원구   83.356439\n",
            "24   중랑구   79.082866\n",
            "\n",
            "하차평균승객수 내림차순:\n",
            "     자치구     하차평균승객수\n",
            "4    관악구  138.040996\n",
            "10  동대문구  124.657074\n",
            "2    강북구  122.036345\n",
            "22   종로구  119.119987\n",
            "7    금천구  118.410025\n",
            "19  영등포구  117.971168\n",
            "20   용산구  117.447907\n",
            "0    강남구  116.824633\n",
            "16   성북구  112.480017\n",
            "23    중구  110.530616\n",
            "14   서초구  110.463886\n",
            "6    구로구  109.759781\n",
            "5    광진구  108.267985\n",
            "11   동작구  104.620655\n",
            "13  서대문구  102.849216\n",
            "17   송파구   98.964751\n",
            "9    도봉구   98.878985\n",
            "12   마포구   92.983159\n",
            "18   양천구   92.738804\n",
            "21   은평구   92.127252\n",
            "1    강동구   89.588445\n",
            "15   성동구   88.994581\n",
            "3    강서구   86.542122\n",
            "8    노원구   82.041989\n",
            "24   중랑구   77.969784\n",
            "\n",
            "승차총승객수 내림차순:\n",
            "     자치구     승차총승객수\n",
            "0    강남구  6960336.0\n",
            "14   서초구  5919552.0\n",
            "4    관악구  5862490.0\n",
            "13  서대문구  5069197.0\n",
            "16   성북구  5051648.0\n",
            "19  영등포구  4987187.0\n",
            "17   송파구  4746623.0\n",
            "10  동대문구  4530373.0\n",
            "12   마포구  4517711.0\n",
            "22   종로구  4500874.0\n",
            "21   은평구  4296944.0\n",
            "6    구로구  4204229.0\n",
            "11   동작구  4125466.0\n",
            "2    강북구  3998077.0\n",
            "3    강서구  3981173.0\n",
            "8    노원구  3553485.0\n",
            "20   용산구  3495720.0\n",
            "18   양천구  3478159.0\n",
            "24   중랑구  3200879.0\n",
            "23    중구  3138112.0\n",
            "7    금천구  3133461.0\n",
            "9    도봉구  2771076.0\n",
            "1    강동구  2515582.0\n",
            "15   성동구  2371151.0\n",
            "5    광진구  2365355.0\n",
            "\n",
            "하차총승객수 내림차순:\n",
            "     자치구     하차총승객수\n",
            "0    강남구  6597087.0\n",
            "4    관악구  5996915.0\n",
            "14   서초구  5755058.0\n",
            "16   성북구  5060251.0\n",
            "19  영등포구  5041026.0\n",
            "13  서대문구  4978622.0\n",
            "17   송파구  4744766.0\n",
            "10  동대문구  4426822.0\n",
            "12   마포구  4395035.0\n",
            "22   종로구  4348356.0\n",
            "21   은평구  4223666.0\n",
            "6    구로구  4023135.0\n",
            "11   동작구  3979142.0\n",
            "3    강서구  3963283.0\n",
            "2    강북구  3858057.0\n",
            "8    노원구  3497450.0\n",
            "20   용산구  3422432.0\n",
            "18   양천구  3344254.0\n",
            "24   중랑구  3155827.0\n",
            "23    중구  3050645.0\n",
            "7    금천구  3014364.0\n",
            "9    도봉구  2695540.0\n",
            "1    강동구  2460905.0\n",
            "5    광진구  2382437.0\n",
            "15   성동구  2331836.0\n"
          ]
        }
      ]
    },
    {
      "cell_type": "markdown",
      "id": "ca567b34",
      "metadata": {
        "id": "ca567b34"
      },
      "source": [
        "---"
      ]
    }
  ],
  "metadata": {
    "kernelspec": {
      "display_name": "Python 3 (ipykernel)",
      "language": "python",
      "name": "python3"
    },
    "language_info": {
      "codemirror_mode": {
        "name": "ipython",
        "version": 3
      },
      "file_extension": ".py",
      "mimetype": "text/x-python",
      "name": "python",
      "nbconvert_exporter": "python",
      "pygments_lexer": "ipython3",
      "version": "3.11.5"
    },
    "vscode": {
      "interpreter": {
        "hash": "f08154012ddadd8e950e6e9e035c7a7b32c136e7647e9b7c77e02eb723a8bedb"
      }
    },
    "colab": {
      "provenance": []
    }
  },
  "nbformat": 4,
  "nbformat_minor": 5
}