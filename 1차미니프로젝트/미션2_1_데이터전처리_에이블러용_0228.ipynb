{
  "cells": [
    {
      "cell_type": "markdown",
      "id": "d6a3fec5",
      "metadata": {
        "id": "d6a3fec5"
      },
      "source": [
        "# 서울시 공유자전거 '따릉이' 수요 예측 프로젝트\n",
        "## 단계1. 데이터 전처리"
      ]
    },
    {
      "cell_type": "markdown",
      "id": "706c1f1a",
      "metadata": {
        "id": "706c1f1a"
      },
      "source": [
        "## 0.프로젝트 소개\n",
        "\n",
        "### (1) 수행 목표\n",
        "여러분은 서울시 정책 연구원으로써 서울시 공유자전거인 '따릉이'의 수요와 날씨간 연관성을 분석하라는 미션을 부여받았습니다.\n",
        "\n",
        "#### <font color=\"blue\"> 데이터 분석의 주 목적은 가치있는 정보를 찾아내는것!! </font>\n",
        "\n",
        "#### 우리가 풀어야 하는 문제는 무엇인가요?\n",
        "\n",
        " - 기상상황이 따릉이 수요에 주는 영향을 분석해봅시다.\n",
        "\n",
        "    * 1.데이터를 탐색하며 정보 획득\n",
        "        * 날씨 데이터와 서울시 공유 자전거 따릉이의 수요 데이터를 제공해드렸습니다.\n",
        "        * 우리는 따릉이의 수요와 날씨간 어떤 연관성이 있는지 탐색 해 봅시다.\n",
        "    * 2.EDA\n",
        "        * 주어진 데이터의 변수들을 분석해 봅시다.\n",
        "\n",
        "\n",
        "### (2) 데이터 소개\n",
        "\n",
        "#### 1) 기본 데이터\n",
        "\n",
        "        * 학습데이터 : sbikedata.csv\n",
        "\n",
        "#### 2) 데이터셋의 변수 소개\n",
        "\n",
        "        * date : 날짜\n",
        "        * hour : 시간\n",
        "        * temperature : 온도\n",
        "        * precipitation : 강우 여부, 비가 오지 않았으면 0, 비가 오면 1\n",
        "        * windspeed : 풍속(평균)\n",
        "        * humidity : 습도\n",
        "        * visibility : 시정(視程), 시계(視界)(특정 기상 상태에 따른 가시성을 의미)\n",
        "        * ozone : 오존 수치\n",
        "        * PM10 : 미세먼지 수치(머리카락 굵기의 1/5에서 1/7 크기의 미세먼지)\n",
        "        * PM2.5 : 초미세먼지 수치(머리카락 굵기의 1/20에서 1/30 크기의 미세먼지)\n",
        "        * count : 시간에 따른 따릉이 대여 수\n"
      ]
    },
    {
      "cell_type": "markdown",
      "id": "1f75d42d",
      "metadata": {
        "id": "1f75d42d"
      },
      "source": [
        "## 1.환경설정"
      ]
    },
    {
      "cell_type": "markdown",
      "id": "eab3d3b0",
      "metadata": {
        "id": "eab3d3b0"
      },
      "source": [
        "* 세부 요구사항\n",
        "    - 경로 설정\n",
        "        * 로컬 수행(Ananconda)\n",
        "            * 제공된 압축파일을 다운받아 압축을 풀고\n",
        "            * anaconda의 root directory(보통 C:/Users/< ID > 에 project 폴더를 만들고, 복사해 넣습니다.\n",
        "        \n",
        "    - 기본적으로 필요한 라이브러리를 import 하도록 코드가 작성되어 있습니다.\n",
        "        * 필요하다고 판단되는 라이브러리를 추가하세요."
      ]
    },
    {
      "cell_type": "markdown",
      "id": "38b44a6e",
      "metadata": {
        "id": "38b44a6e"
      },
      "source": [
        "### (1) 경로 설정 및 라이브러리 로딩\n",
        "* 이번 프로젝트는 로컬환경에서 진행합니다."
      ]
    },
    {
      "cell_type": "markdown",
      "id": "84eef66f",
      "metadata": {
        "id": "84eef66f"
      },
      "source": [
        "#### 1) 로컬 수행(Anaconda)\n",
        "* project 폴더에 필요한 파일들을 넣고, 본 파일을 열었다면, 별도 경로 지정이 필요하지 않습니다."
      ]
    },
    {
      "cell_type": "code",
      "execution_count": null,
      "id": "48878d45",
      "metadata": {
        "id": "48878d45"
      },
      "outputs": [],
      "source": [
        "# path = 'C:/Users/User/'"
      ]
    },
    {
      "cell_type": "markdown",
      "id": "26d9ab4e",
      "metadata": {
        "id": "26d9ab4e"
      },
      "source": [
        "#### 2) 라이브러리 로딩"
      ]
    },
    {
      "cell_type": "code",
      "source": [
        "from google.colab import drive\n",
        "drive.mount('/content/drive')"
      ],
      "metadata": {
        "colab": {
          "base_uri": "https://localhost:8080/"
        },
        "id": "aS_aRqY_ajWa",
        "outputId": "b4966830-7d51-4d9f-8b7c-c73d3a0e3320"
      },
      "id": "aS_aRqY_ajWa",
      "execution_count": 1,
      "outputs": [
        {
          "output_type": "stream",
          "name": "stdout",
          "text": [
            "Mounted at /content/drive\n"
          ]
        }
      ]
    },
    {
      "cell_type": "code",
      "execution_count": 2,
      "id": "024f6e60",
      "metadata": {
        "id": "024f6e60"
      },
      "outputs": [],
      "source": [
        "import pandas as pd\n",
        "import numpy as np\n",
        "import matplotlib.pyplot as plt\n",
        "import seaborn as sns\n",
        "\n",
        "from statsmodels.graphics.mosaicplot import mosaic\n",
        "from scipy import stats as spst\n",
        "import statsmodels.api as sm\n",
        "import joblib\n",
        "\n",
        "# 더 필요한 라이브러리를 아래에 추가합니다.\n",
        "\n"
      ]
    },
    {
      "cell_type": "markdown",
      "id": "2b70c230",
      "metadata": {
        "id": "2b70c230"
      },
      "source": [
        "### (2) 데이터 불러오기\n",
        "* 주어진 데이터셋\n",
        "    * 따릉이 수요 및 날씨 데이터 : sbikedata.csv"
      ]
    },
    {
      "cell_type": "markdown",
      "id": "39dcb980",
      "metadata": {
        "id": "39dcb980"
      },
      "source": [
        "#### 1) 데이터로딩"
      ]
    },
    {
      "cell_type": "code",
      "execution_count": 3,
      "id": "1d3deb9c",
      "metadata": {
        "id": "1d3deb9c"
      },
      "outputs": [],
      "source": [
        "# 아래에 실습코드를 작성하고 결과를 확인합니다.\n",
        "\n",
        "data = pd.read_csv('/content/drive/MyDrive/KTaivle/1차미니프로젝트/sbikedata.csv', sep=\",\", encoding = \"cp949\")"
      ]
    },
    {
      "cell_type": "markdown",
      "id": "4ed61f29",
      "metadata": {
        "id": "4ed61f29"
      },
      "source": [
        "#### 2) 기본 정보 조회\n",
        "- 데이터를 head, tail. describe, info 등을 활용하여 확인하세요."
      ]
    },
    {
      "cell_type": "code",
      "execution_count": 4,
      "id": "862f8a38",
      "metadata": {
        "colab": {
          "base_uri": "https://localhost:8080/",
          "height": 204
        },
        "id": "862f8a38",
        "outputId": "765c420e-dddd-4270-e59c-9279df6e24cf"
      },
      "outputs": [
        {
          "output_type": "execute_result",
          "data": {
            "text/plain": [
              "         date  hour  PM10  PM2.5  ozone  temperature  precipitation  \\\n",
              "0  2021-04-01     1  42.0   21.0  0.002         13.1              0   \n",
              "1  2021-04-01     2  41.0   21.0  0.003         12.4              0   \n",
              "2  2021-04-01     3  30.0   13.0  0.023         13.1              0   \n",
              "3  2021-04-01     4  27.0   12.0  0.028         13.0              0   \n",
              "4  2021-04-01     5  29.0   14.0  0.008         13.0              0   \n",
              "\n",
              "   windspeed  humidity  visibility  count  \n",
              "0        1.4        49        2000     46  \n",
              "1        2.1        53        2000     40  \n",
              "2        3.4        43        2000     31  \n",
              "3        3.1        44        2000     12  \n",
              "4        2.9        44        2000     30  "
            ],
            "text/html": [
              "\n",
              "  <div id=\"df-e0a6b810-0ec7-4a46-960a-8159241a7645\" class=\"colab-df-container\">\n",
              "    <div>\n",
              "<style scoped>\n",
              "    .dataframe tbody tr th:only-of-type {\n",
              "        vertical-align: middle;\n",
              "    }\n",
              "\n",
              "    .dataframe tbody tr th {\n",
              "        vertical-align: top;\n",
              "    }\n",
              "\n",
              "    .dataframe thead th {\n",
              "        text-align: right;\n",
              "    }\n",
              "</style>\n",
              "<table border=\"1\" class=\"dataframe\">\n",
              "  <thead>\n",
              "    <tr style=\"text-align: right;\">\n",
              "      <th></th>\n",
              "      <th>date</th>\n",
              "      <th>hour</th>\n",
              "      <th>PM10</th>\n",
              "      <th>PM2.5</th>\n",
              "      <th>ozone</th>\n",
              "      <th>temperature</th>\n",
              "      <th>precipitation</th>\n",
              "      <th>windspeed</th>\n",
              "      <th>humidity</th>\n",
              "      <th>visibility</th>\n",
              "      <th>count</th>\n",
              "    </tr>\n",
              "  </thead>\n",
              "  <tbody>\n",
              "    <tr>\n",
              "      <th>0</th>\n",
              "      <td>2021-04-01</td>\n",
              "      <td>1</td>\n",
              "      <td>42.0</td>\n",
              "      <td>21.0</td>\n",
              "      <td>0.002</td>\n",
              "      <td>13.1</td>\n",
              "      <td>0</td>\n",
              "      <td>1.4</td>\n",
              "      <td>49</td>\n",
              "      <td>2000</td>\n",
              "      <td>46</td>\n",
              "    </tr>\n",
              "    <tr>\n",
              "      <th>1</th>\n",
              "      <td>2021-04-01</td>\n",
              "      <td>2</td>\n",
              "      <td>41.0</td>\n",
              "      <td>21.0</td>\n",
              "      <td>0.003</td>\n",
              "      <td>12.4</td>\n",
              "      <td>0</td>\n",
              "      <td>2.1</td>\n",
              "      <td>53</td>\n",
              "      <td>2000</td>\n",
              "      <td>40</td>\n",
              "    </tr>\n",
              "    <tr>\n",
              "      <th>2</th>\n",
              "      <td>2021-04-01</td>\n",
              "      <td>3</td>\n",
              "      <td>30.0</td>\n",
              "      <td>13.0</td>\n",
              "      <td>0.023</td>\n",
              "      <td>13.1</td>\n",
              "      <td>0</td>\n",
              "      <td>3.4</td>\n",
              "      <td>43</td>\n",
              "      <td>2000</td>\n",
              "      <td>31</td>\n",
              "    </tr>\n",
              "    <tr>\n",
              "      <th>3</th>\n",
              "      <td>2021-04-01</td>\n",
              "      <td>4</td>\n",
              "      <td>27.0</td>\n",
              "      <td>12.0</td>\n",
              "      <td>0.028</td>\n",
              "      <td>13.0</td>\n",
              "      <td>0</td>\n",
              "      <td>3.1</td>\n",
              "      <td>44</td>\n",
              "      <td>2000</td>\n",
              "      <td>12</td>\n",
              "    </tr>\n",
              "    <tr>\n",
              "      <th>4</th>\n",
              "      <td>2021-04-01</td>\n",
              "      <td>5</td>\n",
              "      <td>29.0</td>\n",
              "      <td>14.0</td>\n",
              "      <td>0.008</td>\n",
              "      <td>13.0</td>\n",
              "      <td>0</td>\n",
              "      <td>2.9</td>\n",
              "      <td>44</td>\n",
              "      <td>2000</td>\n",
              "      <td>30</td>\n",
              "    </tr>\n",
              "  </tbody>\n",
              "</table>\n",
              "</div>\n",
              "    <div class=\"colab-df-buttons\">\n",
              "\n",
              "  <div class=\"colab-df-container\">\n",
              "    <button class=\"colab-df-convert\" onclick=\"convertToInteractive('df-e0a6b810-0ec7-4a46-960a-8159241a7645')\"\n",
              "            title=\"Convert this dataframe to an interactive table.\"\n",
              "            style=\"display:none;\">\n",
              "\n",
              "  <svg xmlns=\"http://www.w3.org/2000/svg\" height=\"24px\" viewBox=\"0 -960 960 960\">\n",
              "    <path d=\"M120-120v-720h720v720H120Zm60-500h600v-160H180v160Zm220 220h160v-160H400v160Zm0 220h160v-160H400v160ZM180-400h160v-160H180v160Zm440 0h160v-160H620v160ZM180-180h160v-160H180v160Zm440 0h160v-160H620v160Z\"/>\n",
              "  </svg>\n",
              "    </button>\n",
              "\n",
              "  <style>\n",
              "    .colab-df-container {\n",
              "      display:flex;\n",
              "      gap: 12px;\n",
              "    }\n",
              "\n",
              "    .colab-df-convert {\n",
              "      background-color: #E8F0FE;\n",
              "      border: none;\n",
              "      border-radius: 50%;\n",
              "      cursor: pointer;\n",
              "      display: none;\n",
              "      fill: #1967D2;\n",
              "      height: 32px;\n",
              "      padding: 0 0 0 0;\n",
              "      width: 32px;\n",
              "    }\n",
              "\n",
              "    .colab-df-convert:hover {\n",
              "      background-color: #E2EBFA;\n",
              "      box-shadow: 0px 1px 2px rgba(60, 64, 67, 0.3), 0px 1px 3px 1px rgba(60, 64, 67, 0.15);\n",
              "      fill: #174EA6;\n",
              "    }\n",
              "\n",
              "    .colab-df-buttons div {\n",
              "      margin-bottom: 4px;\n",
              "    }\n",
              "\n",
              "    [theme=dark] .colab-df-convert {\n",
              "      background-color: #3B4455;\n",
              "      fill: #D2E3FC;\n",
              "    }\n",
              "\n",
              "    [theme=dark] .colab-df-convert:hover {\n",
              "      background-color: #434B5C;\n",
              "      box-shadow: 0px 1px 3px 1px rgba(0, 0, 0, 0.15);\n",
              "      filter: drop-shadow(0px 1px 2px rgba(0, 0, 0, 0.3));\n",
              "      fill: #FFFFFF;\n",
              "    }\n",
              "  </style>\n",
              "\n",
              "    <script>\n",
              "      const buttonEl =\n",
              "        document.querySelector('#df-e0a6b810-0ec7-4a46-960a-8159241a7645 button.colab-df-convert');\n",
              "      buttonEl.style.display =\n",
              "        google.colab.kernel.accessAllowed ? 'block' : 'none';\n",
              "\n",
              "      async function convertToInteractive(key) {\n",
              "        const element = document.querySelector('#df-e0a6b810-0ec7-4a46-960a-8159241a7645');\n",
              "        const dataTable =\n",
              "          await google.colab.kernel.invokeFunction('convertToInteractive',\n",
              "                                                    [key], {});\n",
              "        if (!dataTable) return;\n",
              "\n",
              "        const docLinkHtml = 'Like what you see? Visit the ' +\n",
              "          '<a target=\"_blank\" href=https://colab.research.google.com/notebooks/data_table.ipynb>data table notebook</a>'\n",
              "          + ' to learn more about interactive tables.';\n",
              "        element.innerHTML = '';\n",
              "        dataTable['output_type'] = 'display_data';\n",
              "        await google.colab.output.renderOutput(dataTable, element);\n",
              "        const docLink = document.createElement('div');\n",
              "        docLink.innerHTML = docLinkHtml;\n",
              "        element.appendChild(docLink);\n",
              "      }\n",
              "    </script>\n",
              "  </div>\n",
              "\n",
              "\n",
              "<div id=\"df-c885b594-2b04-4920-864d-98261fe9a814\">\n",
              "  <button class=\"colab-df-quickchart\" onclick=\"quickchart('df-c885b594-2b04-4920-864d-98261fe9a814')\"\n",
              "            title=\"Suggest charts\"\n",
              "            style=\"display:none;\">\n",
              "\n",
              "<svg xmlns=\"http://www.w3.org/2000/svg\" height=\"24px\"viewBox=\"0 0 24 24\"\n",
              "     width=\"24px\">\n",
              "    <g>\n",
              "        <path d=\"M19 3H5c-1.1 0-2 .9-2 2v14c0 1.1.9 2 2 2h14c1.1 0 2-.9 2-2V5c0-1.1-.9-2-2-2zM9 17H7v-7h2v7zm4 0h-2V7h2v10zm4 0h-2v-4h2v4z\"/>\n",
              "    </g>\n",
              "</svg>\n",
              "  </button>\n",
              "\n",
              "<style>\n",
              "  .colab-df-quickchart {\n",
              "      --bg-color: #E8F0FE;\n",
              "      --fill-color: #1967D2;\n",
              "      --hover-bg-color: #E2EBFA;\n",
              "      --hover-fill-color: #174EA6;\n",
              "      --disabled-fill-color: #AAA;\n",
              "      --disabled-bg-color: #DDD;\n",
              "  }\n",
              "\n",
              "  [theme=dark] .colab-df-quickchart {\n",
              "      --bg-color: #3B4455;\n",
              "      --fill-color: #D2E3FC;\n",
              "      --hover-bg-color: #434B5C;\n",
              "      --hover-fill-color: #FFFFFF;\n",
              "      --disabled-bg-color: #3B4455;\n",
              "      --disabled-fill-color: #666;\n",
              "  }\n",
              "\n",
              "  .colab-df-quickchart {\n",
              "    background-color: var(--bg-color);\n",
              "    border: none;\n",
              "    border-radius: 50%;\n",
              "    cursor: pointer;\n",
              "    display: none;\n",
              "    fill: var(--fill-color);\n",
              "    height: 32px;\n",
              "    padding: 0;\n",
              "    width: 32px;\n",
              "  }\n",
              "\n",
              "  .colab-df-quickchart:hover {\n",
              "    background-color: var(--hover-bg-color);\n",
              "    box-shadow: 0 1px 2px rgba(60, 64, 67, 0.3), 0 1px 3px 1px rgba(60, 64, 67, 0.15);\n",
              "    fill: var(--button-hover-fill-color);\n",
              "  }\n",
              "\n",
              "  .colab-df-quickchart-complete:disabled,\n",
              "  .colab-df-quickchart-complete:disabled:hover {\n",
              "    background-color: var(--disabled-bg-color);\n",
              "    fill: var(--disabled-fill-color);\n",
              "    box-shadow: none;\n",
              "  }\n",
              "\n",
              "  .colab-df-spinner {\n",
              "    border: 2px solid var(--fill-color);\n",
              "    border-color: transparent;\n",
              "    border-bottom-color: var(--fill-color);\n",
              "    animation:\n",
              "      spin 1s steps(1) infinite;\n",
              "  }\n",
              "\n",
              "  @keyframes spin {\n",
              "    0% {\n",
              "      border-color: transparent;\n",
              "      border-bottom-color: var(--fill-color);\n",
              "      border-left-color: var(--fill-color);\n",
              "    }\n",
              "    20% {\n",
              "      border-color: transparent;\n",
              "      border-left-color: var(--fill-color);\n",
              "      border-top-color: var(--fill-color);\n",
              "    }\n",
              "    30% {\n",
              "      border-color: transparent;\n",
              "      border-left-color: var(--fill-color);\n",
              "      border-top-color: var(--fill-color);\n",
              "      border-right-color: var(--fill-color);\n",
              "    }\n",
              "    40% {\n",
              "      border-color: transparent;\n",
              "      border-right-color: var(--fill-color);\n",
              "      border-top-color: var(--fill-color);\n",
              "    }\n",
              "    60% {\n",
              "      border-color: transparent;\n",
              "      border-right-color: var(--fill-color);\n",
              "    }\n",
              "    80% {\n",
              "      border-color: transparent;\n",
              "      border-right-color: var(--fill-color);\n",
              "      border-bottom-color: var(--fill-color);\n",
              "    }\n",
              "    90% {\n",
              "      border-color: transparent;\n",
              "      border-bottom-color: var(--fill-color);\n",
              "    }\n",
              "  }\n",
              "</style>\n",
              "\n",
              "  <script>\n",
              "    async function quickchart(key) {\n",
              "      const quickchartButtonEl =\n",
              "        document.querySelector('#' + key + ' button');\n",
              "      quickchartButtonEl.disabled = true;  // To prevent multiple clicks.\n",
              "      quickchartButtonEl.classList.add('colab-df-spinner');\n",
              "      try {\n",
              "        const charts = await google.colab.kernel.invokeFunction(\n",
              "            'suggestCharts', [key], {});\n",
              "      } catch (error) {\n",
              "        console.error('Error during call to suggestCharts:', error);\n",
              "      }\n",
              "      quickchartButtonEl.classList.remove('colab-df-spinner');\n",
              "      quickchartButtonEl.classList.add('colab-df-quickchart-complete');\n",
              "    }\n",
              "    (() => {\n",
              "      let quickchartButtonEl =\n",
              "        document.querySelector('#df-c885b594-2b04-4920-864d-98261fe9a814 button');\n",
              "      quickchartButtonEl.style.display =\n",
              "        google.colab.kernel.accessAllowed ? 'block' : 'none';\n",
              "    })();\n",
              "  </script>\n",
              "</div>\n",
              "\n",
              "    </div>\n",
              "  </div>\n"
            ],
            "application/vnd.google.colaboratory.intrinsic+json": {
              "type": "dataframe",
              "variable_name": "data",
              "repr_error": "'str' object has no attribute 'empty'"
            }
          },
          "metadata": {},
          "execution_count": 4
        }
      ],
      "source": [
        "# 아래에 실습코드를 작성하고 결과를 확인합니다.\n",
        "\n",
        "data.head()"
      ]
    },
    {
      "cell_type": "code",
      "execution_count": 5,
      "id": "69c3c6c7",
      "metadata": {
        "colab": {
          "base_uri": "https://localhost:8080/",
          "height": 204
        },
        "id": "69c3c6c7",
        "outputId": "41a827b6-d76c-4dd5-e6ff-2777c3953762"
      },
      "outputs": [
        {
          "output_type": "execute_result",
          "data": {
            "text/plain": [
              "            date  hour  PM10  PM2.5  ozone  temperature  precipitation  \\\n",
              "5822  2021-11-29    20  74.0   58.0  0.002          9.3              0   \n",
              "5823  2021-11-29    21  65.0   56.0  0.002          8.4              0   \n",
              "5824  2021-11-29    22  51.0   41.0  0.002          8.6              0   \n",
              "5825  2021-11-29    23  43.0   35.0  0.001          8.2              0   \n",
              "5826  2021-11-30     0  39.0   31.0  0.004          7.9              0   \n",
              "\n",
              "      windspeed  humidity  visibility  count  \n",
              "5822        0.3        66        1193    273  \n",
              "5823        2.0        70        1233    228  \n",
              "5824        1.9        70        1250    215  \n",
              "5825        2.1        71        1262    125  \n",
              "5826        2.3        71        1483     95  "
            ],
            "text/html": [
              "\n",
              "  <div id=\"df-b44e38b7-06ad-4663-8b91-ed3f23e254b5\" class=\"colab-df-container\">\n",
              "    <div>\n",
              "<style scoped>\n",
              "    .dataframe tbody tr th:only-of-type {\n",
              "        vertical-align: middle;\n",
              "    }\n",
              "\n",
              "    .dataframe tbody tr th {\n",
              "        vertical-align: top;\n",
              "    }\n",
              "\n",
              "    .dataframe thead th {\n",
              "        text-align: right;\n",
              "    }\n",
              "</style>\n",
              "<table border=\"1\" class=\"dataframe\">\n",
              "  <thead>\n",
              "    <tr style=\"text-align: right;\">\n",
              "      <th></th>\n",
              "      <th>date</th>\n",
              "      <th>hour</th>\n",
              "      <th>PM10</th>\n",
              "      <th>PM2.5</th>\n",
              "      <th>ozone</th>\n",
              "      <th>temperature</th>\n",
              "      <th>precipitation</th>\n",
              "      <th>windspeed</th>\n",
              "      <th>humidity</th>\n",
              "      <th>visibility</th>\n",
              "      <th>count</th>\n",
              "    </tr>\n",
              "  </thead>\n",
              "  <tbody>\n",
              "    <tr>\n",
              "      <th>5822</th>\n",
              "      <td>2021-11-29</td>\n",
              "      <td>20</td>\n",
              "      <td>74.0</td>\n",
              "      <td>58.0</td>\n",
              "      <td>0.002</td>\n",
              "      <td>9.3</td>\n",
              "      <td>0</td>\n",
              "      <td>0.3</td>\n",
              "      <td>66</td>\n",
              "      <td>1193</td>\n",
              "      <td>273</td>\n",
              "    </tr>\n",
              "    <tr>\n",
              "      <th>5823</th>\n",
              "      <td>2021-11-29</td>\n",
              "      <td>21</td>\n",
              "      <td>65.0</td>\n",
              "      <td>56.0</td>\n",
              "      <td>0.002</td>\n",
              "      <td>8.4</td>\n",
              "      <td>0</td>\n",
              "      <td>2.0</td>\n",
              "      <td>70</td>\n",
              "      <td>1233</td>\n",
              "      <td>228</td>\n",
              "    </tr>\n",
              "    <tr>\n",
              "      <th>5824</th>\n",
              "      <td>2021-11-29</td>\n",
              "      <td>22</td>\n",
              "      <td>51.0</td>\n",
              "      <td>41.0</td>\n",
              "      <td>0.002</td>\n",
              "      <td>8.6</td>\n",
              "      <td>0</td>\n",
              "      <td>1.9</td>\n",
              "      <td>70</td>\n",
              "      <td>1250</td>\n",
              "      <td>215</td>\n",
              "    </tr>\n",
              "    <tr>\n",
              "      <th>5825</th>\n",
              "      <td>2021-11-29</td>\n",
              "      <td>23</td>\n",
              "      <td>43.0</td>\n",
              "      <td>35.0</td>\n",
              "      <td>0.001</td>\n",
              "      <td>8.2</td>\n",
              "      <td>0</td>\n",
              "      <td>2.1</td>\n",
              "      <td>71</td>\n",
              "      <td>1262</td>\n",
              "      <td>125</td>\n",
              "    </tr>\n",
              "    <tr>\n",
              "      <th>5826</th>\n",
              "      <td>2021-11-30</td>\n",
              "      <td>0</td>\n",
              "      <td>39.0</td>\n",
              "      <td>31.0</td>\n",
              "      <td>0.004</td>\n",
              "      <td>7.9</td>\n",
              "      <td>0</td>\n",
              "      <td>2.3</td>\n",
              "      <td>71</td>\n",
              "      <td>1483</td>\n",
              "      <td>95</td>\n",
              "    </tr>\n",
              "  </tbody>\n",
              "</table>\n",
              "</div>\n",
              "    <div class=\"colab-df-buttons\">\n",
              "\n",
              "  <div class=\"colab-df-container\">\n",
              "    <button class=\"colab-df-convert\" onclick=\"convertToInteractive('df-b44e38b7-06ad-4663-8b91-ed3f23e254b5')\"\n",
              "            title=\"Convert this dataframe to an interactive table.\"\n",
              "            style=\"display:none;\">\n",
              "\n",
              "  <svg xmlns=\"http://www.w3.org/2000/svg\" height=\"24px\" viewBox=\"0 -960 960 960\">\n",
              "    <path d=\"M120-120v-720h720v720H120Zm60-500h600v-160H180v160Zm220 220h160v-160H400v160Zm0 220h160v-160H400v160ZM180-400h160v-160H180v160Zm440 0h160v-160H620v160ZM180-180h160v-160H180v160Zm440 0h160v-160H620v160Z\"/>\n",
              "  </svg>\n",
              "    </button>\n",
              "\n",
              "  <style>\n",
              "    .colab-df-container {\n",
              "      display:flex;\n",
              "      gap: 12px;\n",
              "    }\n",
              "\n",
              "    .colab-df-convert {\n",
              "      background-color: #E8F0FE;\n",
              "      border: none;\n",
              "      border-radius: 50%;\n",
              "      cursor: pointer;\n",
              "      display: none;\n",
              "      fill: #1967D2;\n",
              "      height: 32px;\n",
              "      padding: 0 0 0 0;\n",
              "      width: 32px;\n",
              "    }\n",
              "\n",
              "    .colab-df-convert:hover {\n",
              "      background-color: #E2EBFA;\n",
              "      box-shadow: 0px 1px 2px rgba(60, 64, 67, 0.3), 0px 1px 3px 1px rgba(60, 64, 67, 0.15);\n",
              "      fill: #174EA6;\n",
              "    }\n",
              "\n",
              "    .colab-df-buttons div {\n",
              "      margin-bottom: 4px;\n",
              "    }\n",
              "\n",
              "    [theme=dark] .colab-df-convert {\n",
              "      background-color: #3B4455;\n",
              "      fill: #D2E3FC;\n",
              "    }\n",
              "\n",
              "    [theme=dark] .colab-df-convert:hover {\n",
              "      background-color: #434B5C;\n",
              "      box-shadow: 0px 1px 3px 1px rgba(0, 0, 0, 0.15);\n",
              "      filter: drop-shadow(0px 1px 2px rgba(0, 0, 0, 0.3));\n",
              "      fill: #FFFFFF;\n",
              "    }\n",
              "  </style>\n",
              "\n",
              "    <script>\n",
              "      const buttonEl =\n",
              "        document.querySelector('#df-b44e38b7-06ad-4663-8b91-ed3f23e254b5 button.colab-df-convert');\n",
              "      buttonEl.style.display =\n",
              "        google.colab.kernel.accessAllowed ? 'block' : 'none';\n",
              "\n",
              "      async function convertToInteractive(key) {\n",
              "        const element = document.querySelector('#df-b44e38b7-06ad-4663-8b91-ed3f23e254b5');\n",
              "        const dataTable =\n",
              "          await google.colab.kernel.invokeFunction('convertToInteractive',\n",
              "                                                    [key], {});\n",
              "        if (!dataTable) return;\n",
              "\n",
              "        const docLinkHtml = 'Like what you see? Visit the ' +\n",
              "          '<a target=\"_blank\" href=https://colab.research.google.com/notebooks/data_table.ipynb>data table notebook</a>'\n",
              "          + ' to learn more about interactive tables.';\n",
              "        element.innerHTML = '';\n",
              "        dataTable['output_type'] = 'display_data';\n",
              "        await google.colab.output.renderOutput(dataTable, element);\n",
              "        const docLink = document.createElement('div');\n",
              "        docLink.innerHTML = docLinkHtml;\n",
              "        element.appendChild(docLink);\n",
              "      }\n",
              "    </script>\n",
              "  </div>\n",
              "\n",
              "\n",
              "<div id=\"df-418c2b93-6fd0-4b38-9a58-9bf39ac11a08\">\n",
              "  <button class=\"colab-df-quickchart\" onclick=\"quickchart('df-418c2b93-6fd0-4b38-9a58-9bf39ac11a08')\"\n",
              "            title=\"Suggest charts\"\n",
              "            style=\"display:none;\">\n",
              "\n",
              "<svg xmlns=\"http://www.w3.org/2000/svg\" height=\"24px\"viewBox=\"0 0 24 24\"\n",
              "     width=\"24px\">\n",
              "    <g>\n",
              "        <path d=\"M19 3H5c-1.1 0-2 .9-2 2v14c0 1.1.9 2 2 2h14c1.1 0 2-.9 2-2V5c0-1.1-.9-2-2-2zM9 17H7v-7h2v7zm4 0h-2V7h2v10zm4 0h-2v-4h2v4z\"/>\n",
              "    </g>\n",
              "</svg>\n",
              "  </button>\n",
              "\n",
              "<style>\n",
              "  .colab-df-quickchart {\n",
              "      --bg-color: #E8F0FE;\n",
              "      --fill-color: #1967D2;\n",
              "      --hover-bg-color: #E2EBFA;\n",
              "      --hover-fill-color: #174EA6;\n",
              "      --disabled-fill-color: #AAA;\n",
              "      --disabled-bg-color: #DDD;\n",
              "  }\n",
              "\n",
              "  [theme=dark] .colab-df-quickchart {\n",
              "      --bg-color: #3B4455;\n",
              "      --fill-color: #D2E3FC;\n",
              "      --hover-bg-color: #434B5C;\n",
              "      --hover-fill-color: #FFFFFF;\n",
              "      --disabled-bg-color: #3B4455;\n",
              "      --disabled-fill-color: #666;\n",
              "  }\n",
              "\n",
              "  .colab-df-quickchart {\n",
              "    background-color: var(--bg-color);\n",
              "    border: none;\n",
              "    border-radius: 50%;\n",
              "    cursor: pointer;\n",
              "    display: none;\n",
              "    fill: var(--fill-color);\n",
              "    height: 32px;\n",
              "    padding: 0;\n",
              "    width: 32px;\n",
              "  }\n",
              "\n",
              "  .colab-df-quickchart:hover {\n",
              "    background-color: var(--hover-bg-color);\n",
              "    box-shadow: 0 1px 2px rgba(60, 64, 67, 0.3), 0 1px 3px 1px rgba(60, 64, 67, 0.15);\n",
              "    fill: var(--button-hover-fill-color);\n",
              "  }\n",
              "\n",
              "  .colab-df-quickchart-complete:disabled,\n",
              "  .colab-df-quickchart-complete:disabled:hover {\n",
              "    background-color: var(--disabled-bg-color);\n",
              "    fill: var(--disabled-fill-color);\n",
              "    box-shadow: none;\n",
              "  }\n",
              "\n",
              "  .colab-df-spinner {\n",
              "    border: 2px solid var(--fill-color);\n",
              "    border-color: transparent;\n",
              "    border-bottom-color: var(--fill-color);\n",
              "    animation:\n",
              "      spin 1s steps(1) infinite;\n",
              "  }\n",
              "\n",
              "  @keyframes spin {\n",
              "    0% {\n",
              "      border-color: transparent;\n",
              "      border-bottom-color: var(--fill-color);\n",
              "      border-left-color: var(--fill-color);\n",
              "    }\n",
              "    20% {\n",
              "      border-color: transparent;\n",
              "      border-left-color: var(--fill-color);\n",
              "      border-top-color: var(--fill-color);\n",
              "    }\n",
              "    30% {\n",
              "      border-color: transparent;\n",
              "      border-left-color: var(--fill-color);\n",
              "      border-top-color: var(--fill-color);\n",
              "      border-right-color: var(--fill-color);\n",
              "    }\n",
              "    40% {\n",
              "      border-color: transparent;\n",
              "      border-right-color: var(--fill-color);\n",
              "      border-top-color: var(--fill-color);\n",
              "    }\n",
              "    60% {\n",
              "      border-color: transparent;\n",
              "      border-right-color: var(--fill-color);\n",
              "    }\n",
              "    80% {\n",
              "      border-color: transparent;\n",
              "      border-right-color: var(--fill-color);\n",
              "      border-bottom-color: var(--fill-color);\n",
              "    }\n",
              "    90% {\n",
              "      border-color: transparent;\n",
              "      border-bottom-color: var(--fill-color);\n",
              "    }\n",
              "  }\n",
              "</style>\n",
              "\n",
              "  <script>\n",
              "    async function quickchart(key) {\n",
              "      const quickchartButtonEl =\n",
              "        document.querySelector('#' + key + ' button');\n",
              "      quickchartButtonEl.disabled = true;  // To prevent multiple clicks.\n",
              "      quickchartButtonEl.classList.add('colab-df-spinner');\n",
              "      try {\n",
              "        const charts = await google.colab.kernel.invokeFunction(\n",
              "            'suggestCharts', [key], {});\n",
              "      } catch (error) {\n",
              "        console.error('Error during call to suggestCharts:', error);\n",
              "      }\n",
              "      quickchartButtonEl.classList.remove('colab-df-spinner');\n",
              "      quickchartButtonEl.classList.add('colab-df-quickchart-complete');\n",
              "    }\n",
              "    (() => {\n",
              "      let quickchartButtonEl =\n",
              "        document.querySelector('#df-418c2b93-6fd0-4b38-9a58-9bf39ac11a08 button');\n",
              "      quickchartButtonEl.style.display =\n",
              "        google.colab.kernel.accessAllowed ? 'block' : 'none';\n",
              "    })();\n",
              "  </script>\n",
              "</div>\n",
              "\n",
              "    </div>\n",
              "  </div>\n"
            ],
            "application/vnd.google.colaboratory.intrinsic+json": {
              "type": "dataframe",
              "repr_error": "'str' object has no attribute 'empty'"
            }
          },
          "metadata": {},
          "execution_count": 5
        }
      ],
      "source": [
        "# 아래에 실습코드를 작성하고 결과를 확인합니다.\n",
        "\n",
        "data.tail()"
      ]
    },
    {
      "cell_type": "code",
      "execution_count": 6,
      "id": "3396bdcc",
      "metadata": {
        "colab": {
          "base_uri": "https://localhost:8080/",
          "height": 317
        },
        "id": "3396bdcc",
        "outputId": "741ca924-7c7d-4204-dfd9-15279e88f08b"
      },
      "outputs": [
        {
          "output_type": "execute_result",
          "data": {
            "text/plain": [
              "              hour         PM10        PM2.5        ozone  temperature  \\\n",
              "count  5827.000000  5725.000000  5732.000000  5699.000000  5827.000000   \n",
              "mean     11.506607    31.970655    15.666609     0.031811    19.376798   \n",
              "std       6.921963    42.987292    13.850990     0.018277     7.501572   \n",
              "min       0.000000     3.000000     1.000000     0.001000    -3.500000   \n",
              "25%       6.000000    16.000000     7.000000     0.019000    14.100000   \n",
              "50%      12.000000    25.000000    13.000000     0.031000    20.400000   \n",
              "75%      18.000000    37.000000    20.000000     0.041000    24.900000   \n",
              "max      23.000000   827.000000   125.000000     0.137000    36.300000   \n",
              "\n",
              "       precipitation    windspeed     humidity   visibility        count  \n",
              "count    5827.000000  5827.000000  5827.000000  5827.000000  5827.000000  \n",
              "mean        0.075511     2.237601    68.608718  1758.438648   215.117899  \n",
              "std         0.264236     1.054516    17.277266   490.969394   185.972900  \n",
              "min         0.000000     0.000000    19.000000    60.000000     1.000000  \n",
              "25%         0.000000     1.500000    56.000000  1935.500000    53.000000  \n",
              "50%         0.000000     2.200000    70.000000  2000.000000   186.000000  \n",
              "75%         0.000000     2.800000    82.000000  2000.000000   315.000000  \n",
              "max         1.000000     8.300000   100.000000  2000.000000  1746.000000  "
            ],
            "text/html": [
              "\n",
              "  <div id=\"df-053e445a-6a3c-4656-a30e-ccb389864663\" class=\"colab-df-container\">\n",
              "    <div>\n",
              "<style scoped>\n",
              "    .dataframe tbody tr th:only-of-type {\n",
              "        vertical-align: middle;\n",
              "    }\n",
              "\n",
              "    .dataframe tbody tr th {\n",
              "        vertical-align: top;\n",
              "    }\n",
              "\n",
              "    .dataframe thead th {\n",
              "        text-align: right;\n",
              "    }\n",
              "</style>\n",
              "<table border=\"1\" class=\"dataframe\">\n",
              "  <thead>\n",
              "    <tr style=\"text-align: right;\">\n",
              "      <th></th>\n",
              "      <th>hour</th>\n",
              "      <th>PM10</th>\n",
              "      <th>PM2.5</th>\n",
              "      <th>ozone</th>\n",
              "      <th>temperature</th>\n",
              "      <th>precipitation</th>\n",
              "      <th>windspeed</th>\n",
              "      <th>humidity</th>\n",
              "      <th>visibility</th>\n",
              "      <th>count</th>\n",
              "    </tr>\n",
              "  </thead>\n",
              "  <tbody>\n",
              "    <tr>\n",
              "      <th>count</th>\n",
              "      <td>5827.000000</td>\n",
              "      <td>5725.000000</td>\n",
              "      <td>5732.000000</td>\n",
              "      <td>5699.000000</td>\n",
              "      <td>5827.000000</td>\n",
              "      <td>5827.000000</td>\n",
              "      <td>5827.000000</td>\n",
              "      <td>5827.000000</td>\n",
              "      <td>5827.000000</td>\n",
              "      <td>5827.000000</td>\n",
              "    </tr>\n",
              "    <tr>\n",
              "      <th>mean</th>\n",
              "      <td>11.506607</td>\n",
              "      <td>31.970655</td>\n",
              "      <td>15.666609</td>\n",
              "      <td>0.031811</td>\n",
              "      <td>19.376798</td>\n",
              "      <td>0.075511</td>\n",
              "      <td>2.237601</td>\n",
              "      <td>68.608718</td>\n",
              "      <td>1758.438648</td>\n",
              "      <td>215.117899</td>\n",
              "    </tr>\n",
              "    <tr>\n",
              "      <th>std</th>\n",
              "      <td>6.921963</td>\n",
              "      <td>42.987292</td>\n",
              "      <td>13.850990</td>\n",
              "      <td>0.018277</td>\n",
              "      <td>7.501572</td>\n",
              "      <td>0.264236</td>\n",
              "      <td>1.054516</td>\n",
              "      <td>17.277266</td>\n",
              "      <td>490.969394</td>\n",
              "      <td>185.972900</td>\n",
              "    </tr>\n",
              "    <tr>\n",
              "      <th>min</th>\n",
              "      <td>0.000000</td>\n",
              "      <td>3.000000</td>\n",
              "      <td>1.000000</td>\n",
              "      <td>0.001000</td>\n",
              "      <td>-3.500000</td>\n",
              "      <td>0.000000</td>\n",
              "      <td>0.000000</td>\n",
              "      <td>19.000000</td>\n",
              "      <td>60.000000</td>\n",
              "      <td>1.000000</td>\n",
              "    </tr>\n",
              "    <tr>\n",
              "      <th>25%</th>\n",
              "      <td>6.000000</td>\n",
              "      <td>16.000000</td>\n",
              "      <td>7.000000</td>\n",
              "      <td>0.019000</td>\n",
              "      <td>14.100000</td>\n",
              "      <td>0.000000</td>\n",
              "      <td>1.500000</td>\n",
              "      <td>56.000000</td>\n",
              "      <td>1935.500000</td>\n",
              "      <td>53.000000</td>\n",
              "    </tr>\n",
              "    <tr>\n",
              "      <th>50%</th>\n",
              "      <td>12.000000</td>\n",
              "      <td>25.000000</td>\n",
              "      <td>13.000000</td>\n",
              "      <td>0.031000</td>\n",
              "      <td>20.400000</td>\n",
              "      <td>0.000000</td>\n",
              "      <td>2.200000</td>\n",
              "      <td>70.000000</td>\n",
              "      <td>2000.000000</td>\n",
              "      <td>186.000000</td>\n",
              "    </tr>\n",
              "    <tr>\n",
              "      <th>75%</th>\n",
              "      <td>18.000000</td>\n",
              "      <td>37.000000</td>\n",
              "      <td>20.000000</td>\n",
              "      <td>0.041000</td>\n",
              "      <td>24.900000</td>\n",
              "      <td>0.000000</td>\n",
              "      <td>2.800000</td>\n",
              "      <td>82.000000</td>\n",
              "      <td>2000.000000</td>\n",
              "      <td>315.000000</td>\n",
              "    </tr>\n",
              "    <tr>\n",
              "      <th>max</th>\n",
              "      <td>23.000000</td>\n",
              "      <td>827.000000</td>\n",
              "      <td>125.000000</td>\n",
              "      <td>0.137000</td>\n",
              "      <td>36.300000</td>\n",
              "      <td>1.000000</td>\n",
              "      <td>8.300000</td>\n",
              "      <td>100.000000</td>\n",
              "      <td>2000.000000</td>\n",
              "      <td>1746.000000</td>\n",
              "    </tr>\n",
              "  </tbody>\n",
              "</table>\n",
              "</div>\n",
              "    <div class=\"colab-df-buttons\">\n",
              "\n",
              "  <div class=\"colab-df-container\">\n",
              "    <button class=\"colab-df-convert\" onclick=\"convertToInteractive('df-053e445a-6a3c-4656-a30e-ccb389864663')\"\n",
              "            title=\"Convert this dataframe to an interactive table.\"\n",
              "            style=\"display:none;\">\n",
              "\n",
              "  <svg xmlns=\"http://www.w3.org/2000/svg\" height=\"24px\" viewBox=\"0 -960 960 960\">\n",
              "    <path d=\"M120-120v-720h720v720H120Zm60-500h600v-160H180v160Zm220 220h160v-160H400v160Zm0 220h160v-160H400v160ZM180-400h160v-160H180v160Zm440 0h160v-160H620v160ZM180-180h160v-160H180v160Zm440 0h160v-160H620v160Z\"/>\n",
              "  </svg>\n",
              "    </button>\n",
              "\n",
              "  <style>\n",
              "    .colab-df-container {\n",
              "      display:flex;\n",
              "      gap: 12px;\n",
              "    }\n",
              "\n",
              "    .colab-df-convert {\n",
              "      background-color: #E8F0FE;\n",
              "      border: none;\n",
              "      border-radius: 50%;\n",
              "      cursor: pointer;\n",
              "      display: none;\n",
              "      fill: #1967D2;\n",
              "      height: 32px;\n",
              "      padding: 0 0 0 0;\n",
              "      width: 32px;\n",
              "    }\n",
              "\n",
              "    .colab-df-convert:hover {\n",
              "      background-color: #E2EBFA;\n",
              "      box-shadow: 0px 1px 2px rgba(60, 64, 67, 0.3), 0px 1px 3px 1px rgba(60, 64, 67, 0.15);\n",
              "      fill: #174EA6;\n",
              "    }\n",
              "\n",
              "    .colab-df-buttons div {\n",
              "      margin-bottom: 4px;\n",
              "    }\n",
              "\n",
              "    [theme=dark] .colab-df-convert {\n",
              "      background-color: #3B4455;\n",
              "      fill: #D2E3FC;\n",
              "    }\n",
              "\n",
              "    [theme=dark] .colab-df-convert:hover {\n",
              "      background-color: #434B5C;\n",
              "      box-shadow: 0px 1px 3px 1px rgba(0, 0, 0, 0.15);\n",
              "      filter: drop-shadow(0px 1px 2px rgba(0, 0, 0, 0.3));\n",
              "      fill: #FFFFFF;\n",
              "    }\n",
              "  </style>\n",
              "\n",
              "    <script>\n",
              "      const buttonEl =\n",
              "        document.querySelector('#df-053e445a-6a3c-4656-a30e-ccb389864663 button.colab-df-convert');\n",
              "      buttonEl.style.display =\n",
              "        google.colab.kernel.accessAllowed ? 'block' : 'none';\n",
              "\n",
              "      async function convertToInteractive(key) {\n",
              "        const element = document.querySelector('#df-053e445a-6a3c-4656-a30e-ccb389864663');\n",
              "        const dataTable =\n",
              "          await google.colab.kernel.invokeFunction('convertToInteractive',\n",
              "                                                    [key], {});\n",
              "        if (!dataTable) return;\n",
              "\n",
              "        const docLinkHtml = 'Like what you see? Visit the ' +\n",
              "          '<a target=\"_blank\" href=https://colab.research.google.com/notebooks/data_table.ipynb>data table notebook</a>'\n",
              "          + ' to learn more about interactive tables.';\n",
              "        element.innerHTML = '';\n",
              "        dataTable['output_type'] = 'display_data';\n",
              "        await google.colab.output.renderOutput(dataTable, element);\n",
              "        const docLink = document.createElement('div');\n",
              "        docLink.innerHTML = docLinkHtml;\n",
              "        element.appendChild(docLink);\n",
              "      }\n",
              "    </script>\n",
              "  </div>\n",
              "\n",
              "\n",
              "<div id=\"df-770e7523-36e7-4c3e-977a-904599fe05ef\">\n",
              "  <button class=\"colab-df-quickchart\" onclick=\"quickchart('df-770e7523-36e7-4c3e-977a-904599fe05ef')\"\n",
              "            title=\"Suggest charts\"\n",
              "            style=\"display:none;\">\n",
              "\n",
              "<svg xmlns=\"http://www.w3.org/2000/svg\" height=\"24px\"viewBox=\"0 0 24 24\"\n",
              "     width=\"24px\">\n",
              "    <g>\n",
              "        <path d=\"M19 3H5c-1.1 0-2 .9-2 2v14c0 1.1.9 2 2 2h14c1.1 0 2-.9 2-2V5c0-1.1-.9-2-2-2zM9 17H7v-7h2v7zm4 0h-2V7h2v10zm4 0h-2v-4h2v4z\"/>\n",
              "    </g>\n",
              "</svg>\n",
              "  </button>\n",
              "\n",
              "<style>\n",
              "  .colab-df-quickchart {\n",
              "      --bg-color: #E8F0FE;\n",
              "      --fill-color: #1967D2;\n",
              "      --hover-bg-color: #E2EBFA;\n",
              "      --hover-fill-color: #174EA6;\n",
              "      --disabled-fill-color: #AAA;\n",
              "      --disabled-bg-color: #DDD;\n",
              "  }\n",
              "\n",
              "  [theme=dark] .colab-df-quickchart {\n",
              "      --bg-color: #3B4455;\n",
              "      --fill-color: #D2E3FC;\n",
              "      --hover-bg-color: #434B5C;\n",
              "      --hover-fill-color: #FFFFFF;\n",
              "      --disabled-bg-color: #3B4455;\n",
              "      --disabled-fill-color: #666;\n",
              "  }\n",
              "\n",
              "  .colab-df-quickchart {\n",
              "    background-color: var(--bg-color);\n",
              "    border: none;\n",
              "    border-radius: 50%;\n",
              "    cursor: pointer;\n",
              "    display: none;\n",
              "    fill: var(--fill-color);\n",
              "    height: 32px;\n",
              "    padding: 0;\n",
              "    width: 32px;\n",
              "  }\n",
              "\n",
              "  .colab-df-quickchart:hover {\n",
              "    background-color: var(--hover-bg-color);\n",
              "    box-shadow: 0 1px 2px rgba(60, 64, 67, 0.3), 0 1px 3px 1px rgba(60, 64, 67, 0.15);\n",
              "    fill: var(--button-hover-fill-color);\n",
              "  }\n",
              "\n",
              "  .colab-df-quickchart-complete:disabled,\n",
              "  .colab-df-quickchart-complete:disabled:hover {\n",
              "    background-color: var(--disabled-bg-color);\n",
              "    fill: var(--disabled-fill-color);\n",
              "    box-shadow: none;\n",
              "  }\n",
              "\n",
              "  .colab-df-spinner {\n",
              "    border: 2px solid var(--fill-color);\n",
              "    border-color: transparent;\n",
              "    border-bottom-color: var(--fill-color);\n",
              "    animation:\n",
              "      spin 1s steps(1) infinite;\n",
              "  }\n",
              "\n",
              "  @keyframes spin {\n",
              "    0% {\n",
              "      border-color: transparent;\n",
              "      border-bottom-color: var(--fill-color);\n",
              "      border-left-color: var(--fill-color);\n",
              "    }\n",
              "    20% {\n",
              "      border-color: transparent;\n",
              "      border-left-color: var(--fill-color);\n",
              "      border-top-color: var(--fill-color);\n",
              "    }\n",
              "    30% {\n",
              "      border-color: transparent;\n",
              "      border-left-color: var(--fill-color);\n",
              "      border-top-color: var(--fill-color);\n",
              "      border-right-color: var(--fill-color);\n",
              "    }\n",
              "    40% {\n",
              "      border-color: transparent;\n",
              "      border-right-color: var(--fill-color);\n",
              "      border-top-color: var(--fill-color);\n",
              "    }\n",
              "    60% {\n",
              "      border-color: transparent;\n",
              "      border-right-color: var(--fill-color);\n",
              "    }\n",
              "    80% {\n",
              "      border-color: transparent;\n",
              "      border-right-color: var(--fill-color);\n",
              "      border-bottom-color: var(--fill-color);\n",
              "    }\n",
              "    90% {\n",
              "      border-color: transparent;\n",
              "      border-bottom-color: var(--fill-color);\n",
              "    }\n",
              "  }\n",
              "</style>\n",
              "\n",
              "  <script>\n",
              "    async function quickchart(key) {\n",
              "      const quickchartButtonEl =\n",
              "        document.querySelector('#' + key + ' button');\n",
              "      quickchartButtonEl.disabled = true;  // To prevent multiple clicks.\n",
              "      quickchartButtonEl.classList.add('colab-df-spinner');\n",
              "      try {\n",
              "        const charts = await google.colab.kernel.invokeFunction(\n",
              "            'suggestCharts', [key], {});\n",
              "      } catch (error) {\n",
              "        console.error('Error during call to suggestCharts:', error);\n",
              "      }\n",
              "      quickchartButtonEl.classList.remove('colab-df-spinner');\n",
              "      quickchartButtonEl.classList.add('colab-df-quickchart-complete');\n",
              "    }\n",
              "    (() => {\n",
              "      let quickchartButtonEl =\n",
              "        document.querySelector('#df-770e7523-36e7-4c3e-977a-904599fe05ef button');\n",
              "      quickchartButtonEl.style.display =\n",
              "        google.colab.kernel.accessAllowed ? 'block' : 'none';\n",
              "    })();\n",
              "  </script>\n",
              "</div>\n",
              "\n",
              "    </div>\n",
              "  </div>\n"
            ],
            "application/vnd.google.colaboratory.intrinsic+json": {
              "type": "dataframe",
              "summary": "{\n  \"name\": \"data\",\n  \"rows\": 8,\n  \"fields\": [\n    {\n      \"column\": \"hour\",\n      \"properties\": {\n        \"dtype\": \"number\",\n        \"std\": 2056.2572699850757,\n        \"min\": 0.0,\n        \"max\": 5827.0,\n        \"num_unique_values\": 8,\n        \"samples\": [\n          11.50660717350266,\n          12.0,\n          5827.0\n        ],\n        \"semantic_type\": \"\",\n        \"description\": \"\"\n      }\n    },\n    {\n      \"column\": \"PM10\",\n      \"properties\": {\n        \"dtype\": \"number\",\n        \"std\": 1994.280950017099,\n        \"min\": 3.0,\n        \"max\": 5725.0,\n        \"num_unique_values\": 8,\n        \"samples\": [\n          31.970655021834062,\n          25.0,\n          5725.0\n        ],\n        \"semantic_type\": \"\",\n        \"description\": \"\"\n      }\n    },\n    {\n      \"column\": \"PM2.5\",\n      \"properties\": {\n        \"dtype\": \"number\",\n        \"std\": 2017.0902728822539,\n        \"min\": 1.0,\n        \"max\": 5732.0,\n        \"num_unique_values\": 8,\n        \"samples\": [\n          15.666608513607816,\n          13.0,\n          5732.0\n        ],\n        \"semantic_type\": \"\",\n        \"description\": \"\"\n      }\n    },\n    {\n      \"column\": \"ozone\",\n      \"properties\": {\n        \"dtype\": \"number\",\n        \"std\": 2014.886677342614,\n        \"min\": 0.001,\n        \"max\": 5699.0,\n        \"num_unique_values\": 8,\n        \"samples\": [\n          0.03181137041586243,\n          0.031,\n          5699.0\n        ],\n        \"semantic_type\": \"\",\n        \"description\": \"\"\n      }\n    },\n    {\n      \"column\": \"temperature\",\n      \"properties\": {\n        \"dtype\": \"number\",\n        \"std\": 2054.175004938522,\n        \"min\": -3.5,\n        \"max\": 5827.0,\n        \"num_unique_values\": 8,\n        \"samples\": [\n          19.37679766603741,\n          20.4,\n          5827.0\n        ],\n        \"semantic_type\": \"\",\n        \"description\": \"\"\n      }\n    },\n    {\n      \"column\": \"precipitation\",\n      \"properties\": {\n        \"dtype\": \"number\",\n        \"std\": 2060.0879679651775,\n        \"min\": 0.0,\n        \"max\": 5827.0,\n        \"num_unique_values\": 5,\n        \"samples\": [\n          0.07551055431611464,\n          1.0,\n          0.26423605502264236\n        ],\n        \"semantic_type\": \"\",\n        \"description\": \"\"\n      }\n    },\n    {\n      \"column\": \"windspeed\",\n      \"properties\": {\n        \"dtype\": \"number\",\n        \"std\": 2059.243314823637,\n        \"min\": 0.0,\n        \"max\": 5827.0,\n        \"num_unique_values\": 8,\n        \"samples\": [\n          2.2376008237515017,\n          2.2,\n          5827.0\n        ],\n        \"semantic_type\": \"\",\n        \"description\": \"\"\n      }\n    },\n    {\n      \"column\": \"humidity\",\n      \"properties\": {\n        \"dtype\": \"number\",\n        \"std\": 2039.5039145800336,\n        \"min\": 17.27726618215682,\n        \"max\": 5827.0,\n        \"num_unique_values\": 8,\n        \"samples\": [\n          68.60871803672559,\n          70.0,\n          5827.0\n        ],\n        \"semantic_type\": \"\",\n        \"description\": \"\"\n      }\n    },\n    {\n      \"column\": \"visibility\",\n      \"properties\": {\n        \"dtype\": \"number\",\n        \"std\": 1721.6507096332061,\n        \"min\": 60.0,\n        \"max\": 5827.0,\n        \"num_unique_values\": 6,\n        \"samples\": [\n          5827.0,\n          1758.438647674618,\n          2000.0\n        ],\n        \"semantic_type\": \"\",\n        \"description\": \"\"\n      }\n    },\n    {\n      \"column\": \"count\",\n      \"properties\": {\n        \"dtype\": \"number\",\n        \"std\": 2004.5221695107944,\n        \"min\": 1.0,\n        \"max\": 5827.0,\n        \"num_unique_values\": 8,\n        \"samples\": [\n          215.11789943367083,\n          186.0,\n          5827.0\n        ],\n        \"semantic_type\": \"\",\n        \"description\": \"\"\n      }\n    }\n  ]\n}"
            }
          },
          "metadata": {},
          "execution_count": 6
        }
      ],
      "source": [
        "# 아래에 실습코드를 작성하고 결과를 확인합니다.\n",
        "\n",
        "data.describe()"
      ]
    },
    {
      "cell_type": "code",
      "execution_count": 7,
      "id": "7b9a3238",
      "metadata": {
        "colab": {
          "base_uri": "https://localhost:8080/"
        },
        "id": "7b9a3238",
        "outputId": "34faaa4f-8eca-47e9-9974-c711adfd4124"
      },
      "outputs": [
        {
          "output_type": "stream",
          "name": "stdout",
          "text": [
            "<class 'pandas.core.frame.DataFrame'>\n",
            "RangeIndex: 5827 entries, 0 to 5826\n",
            "Data columns (total 11 columns):\n",
            " #   Column         Non-Null Count  Dtype  \n",
            "---  ------         --------------  -----  \n",
            " 0   date           5827 non-null   object \n",
            " 1   hour           5827 non-null   int64  \n",
            " 2   PM10           5725 non-null   float64\n",
            " 3   PM2.5          5732 non-null   float64\n",
            " 4   ozone          5699 non-null   float64\n",
            " 5   temperature    5827 non-null   float64\n",
            " 6   precipitation  5827 non-null   int64  \n",
            " 7   windspeed      5827 non-null   float64\n",
            " 8   humidity       5827 non-null   int64  \n",
            " 9   visibility     5827 non-null   int64  \n",
            " 10  count          5827 non-null   int64  \n",
            "dtypes: float64(5), int64(5), object(1)\n",
            "memory usage: 500.9+ KB\n"
          ]
        }
      ],
      "source": [
        "# 아래에 실습코드를 작성하고 결과를 확인합니다.\n",
        "\n",
        "data.info()"
      ]
    },
    {
      "cell_type": "markdown",
      "id": "8e126a7d",
      "metadata": {
        "id": "8e126a7d"
      },
      "source": [
        "## 2.EDA 1단계 - 데이터 기본 탐색\n",
        "\n",
        "* 단변량 분석은 데이터분석의 매우 기초적인 분석기법으로, 독립적인 개별 변수가 가지고있는 특성들을 이해하는 과정입니다.\n",
        "\n",
        "    * <span style=\"color: green\"> 개별 변수에 대해 아래 사항들을 분석해보세요. </span>\n",
        "\n",
        "        1. 변수가 내포하고 있는 의미\n",
        "        2. 변수가 수치형인지, 범주형인지\n",
        "        3. 결측치 존재 여부 및 조치 방안\n",
        "        4. 기초 통계량 확인\n",
        "        5. 데이터 분포 확인\n",
        "        6. 위 정보로부터 파악한 내용 정리\n",
        "        7. 추가 분석사항 도출"
      ]
    },
    {
      "cell_type": "markdown",
      "id": "dc63b28e",
      "metadata": {
        "id": "dc63b28e"
      },
      "source": [
        "### (1) 변수별 단변량 분석"
      ]
    },
    {
      "cell_type": "markdown",
      "id": "e3fe59cc",
      "metadata": {
        "id": "e3fe59cc"
      },
      "source": [
        "#### 1) Feature1 : hour"
      ]
    },
    {
      "cell_type": "code",
      "execution_count": 8,
      "id": "d098623d",
      "metadata": {
        "colab": {
          "base_uri": "https://localhost:8080/"
        },
        "id": "d098623d",
        "outputId": "64746fa9-f971-4bf9-8c91-943f08e51299"
      },
      "outputs": [
        {
          "output_type": "stream",
          "name": "stdout",
          "text": [
            "count    5827.000000\n",
            "mean       11.506607\n",
            "std         6.921963\n",
            "min         0.000000\n",
            "25%         6.000000\n",
            "50%        12.000000\n",
            "75%        18.000000\n",
            "max        23.000000\n",
            "Name: hour, dtype: float64\n"
          ]
        }
      ],
      "source": [
        "# 아래에 실습코드를 작성하고 결과를 확인합니다.\n",
        "\n",
        "print(data['hour'].describe())"
      ]
    },
    {
      "cell_type": "markdown",
      "id": "74305cdf",
      "metadata": {
        "id": "74305cdf"
      },
      "source": [
        "변수가 내포하고 있는 의미\n",
        "- 시간을 24시로 표현"
      ]
    },
    {
      "cell_type": "markdown",
      "id": "f5598656",
      "metadata": {
        "id": "f5598656"
      },
      "source": [
        "변수가 수치형인지 범주형인지\n",
        "- 시간은 범주형? 수치형?"
      ]
    },
    {
      "cell_type": "code",
      "execution_count": null,
      "id": "17431249",
      "metadata": {
        "id": "17431249"
      },
      "outputs": [],
      "source": [
        "# 아래에 실습코드를 작성하고 결과를 확인합니다.\n",
        "\n",
        "# 타입이 float이므로, 수치형이다."
      ]
    },
    {
      "cell_type": "markdown",
      "id": "52aeba21",
      "metadata": {
        "id": "52aeba21"
      },
      "source": [
        "변수의 결측치 존재 여부 및 조치방안"
      ]
    },
    {
      "cell_type": "code",
      "execution_count": 10,
      "id": "b35f59ce",
      "metadata": {
        "colab": {
          "base_uri": "https://localhost:8080/"
        },
        "id": "b35f59ce",
        "outputId": "8c8e4141-e998-44d7-91eb-4a4ab0610f12"
      },
      "outputs": [
        {
          "output_type": "stream",
          "name": "stdout",
          "text": [
            "결측치 개수: 0\n"
          ]
        }
      ],
      "source": [
        "# 아래에 실습코드를 작성하고 결과를 확인합니다.\n",
        "\n",
        "missing_values = data['hour'].isnull().sum()\n",
        "print(f\"결측치 개수: {missing_values}\")"
      ]
    },
    {
      "cell_type": "markdown",
      "id": "2d9760fd",
      "metadata": {
        "id": "2d9760fd"
      },
      "source": [
        "변수의 기초 통계량 확인"
      ]
    },
    {
      "cell_type": "code",
      "execution_count": null,
      "id": "a749aab7",
      "metadata": {
        "id": "a749aab7"
      },
      "outputs": [],
      "source": [
        "# 아래에 실습코드를 작성하고 결과를 확인합니다.\n",
        "\n"
      ]
    },
    {
      "cell_type": "markdown",
      "id": "4eb1b708",
      "metadata": {
        "id": "4eb1b708"
      },
      "source": [
        "변수의 분포 확인\n",
        "* kdeplot 활용"
      ]
    },
    {
      "cell_type": "code",
      "execution_count": 11,
      "id": "ad5e55cb",
      "metadata": {
        "colab": {
          "base_uri": "https://localhost:8080/",
          "height": 449
        },
        "id": "ad5e55cb",
        "outputId": "b1b101cd-d6b2-4213-d523-fa477711327f"
      },
      "outputs": [
        {
          "output_type": "display_data",
          "data": {
            "text/plain": [
              "<Figure size 640x480 with 1 Axes>"
            ],
            "image/png": "[encoded data removed]"
          },
          "metadata": {}
        }
      ],
      "source": [
        "# 아래에 실습코드를 작성하고 결과를 확인합니다.\n",
        "\n",
        "sns.histplot(data['hour'], kde=True, bins=24)\n",
        "plt.show()"
      ]
    },
    {
      "cell_type": "markdown",
      "id": "314284e2",
      "metadata": {
        "id": "314284e2"
      },
      "source": [
        "위 정보로 부터 파악한 내용 정리\n",
        "- 데이터의 '시간' 열은 5827개 row로 구성되어있으며 결측치는 없음\n",
        "- 0시 및 일부 중간시간대 데이터가 비어있음"
      ]
    },
    {
      "cell_type": "markdown",
      "id": "a3ce1e2a",
      "metadata": {
        "id": "a3ce1e2a"
      },
      "source": [
        "#### 2) Feature2 : temperature"
      ]
    },
    {
      "cell_type": "markdown",
      "id": "bdf00b61",
      "metadata": {
        "id": "bdf00b61"
      },
      "source": [
        "변수가 내포하고 있는 의미\n",
        "- 따릉이 대여 시점의 온도\n"
      ]
    },
    {
      "cell_type": "code",
      "execution_count": 12,
      "id": "ad088ce4",
      "metadata": {
        "colab": {
          "base_uri": "https://localhost:8080/"
        },
        "id": "ad088ce4",
        "outputId": "ca264e65-7c6a-41e9-b308-ca9ce255b8c1"
      },
      "outputs": [
        {
          "output_type": "stream",
          "name": "stdout",
          "text": [
            "count    5827.000000\n",
            "mean       19.376798\n",
            "std         7.501572\n",
            "min        -3.500000\n",
            "25%        14.100000\n",
            "50%        20.400000\n",
            "75%        24.900000\n",
            "max        36.300000\n",
            "Name: temperature, dtype: float64\n"
          ]
        }
      ],
      "source": [
        "# 아래에 실습코드를 작성하고 결과를 확인합니다.\n",
        "\n",
        "print(data['temperature'].describe())"
      ]
    },
    {
      "cell_type": "markdown",
      "id": "3946f54b",
      "metadata": {
        "id": "3946f54b"
      },
      "source": [
        "변수가 수치형인지 범주형인지\n",
        "- 기온은 수치형? 범주형?"
      ]
    },
    {
      "cell_type": "code",
      "execution_count": null,
      "id": "49361356",
      "metadata": {
        "id": "49361356"
      },
      "outputs": [],
      "source": [
        "# 아래에 실습코드를 작성하고 결과를 확인합니다.\n",
        "\n",
        "# 데이터 타입이 float이므로, 수치형이다."
      ]
    },
    {
      "cell_type": "markdown",
      "id": "070e7647",
      "metadata": {
        "id": "070e7647"
      },
      "source": [
        "변수의 결측치 존재 여부 및 조치방안"
      ]
    },
    {
      "cell_type": "code",
      "execution_count": 13,
      "id": "66e3ae24",
      "metadata": {
        "colab": {
          "base_uri": "https://localhost:8080/"
        },
        "id": "66e3ae24",
        "outputId": "5f30c225-1f6d-4bb8-cbe0-1a5dbdfce0ee"
      },
      "outputs": [
        {
          "output_type": "stream",
          "name": "stdout",
          "text": [
            "결측치 개수: 0\n"
          ]
        }
      ],
      "source": [
        "# 아래에 실습코드를 작성하고 결과를 확인합니다.\n",
        "\n",
        "missing_values = data['temperature'].isnull().sum()\n",
        "print(f\"결측치 개수: {missing_values}\")"
      ]
    },
    {
      "cell_type": "markdown",
      "id": "3504f38b",
      "metadata": {
        "id": "3504f38b"
      },
      "source": [
        "변수의 기초 통계량 확인"
      ]
    },
    {
      "cell_type": "code",
      "execution_count": null,
      "id": "eb897079",
      "metadata": {
        "id": "eb897079"
      },
      "outputs": [],
      "source": [
        "# 아래에 실습코드를 작성하고 결과를 확인합니다.\n",
        "\n"
      ]
    },
    {
      "cell_type": "markdown",
      "id": "f2654913",
      "metadata": {
        "id": "f2654913"
      },
      "source": [
        "변수의 분포 확인"
      ]
    },
    {
      "cell_type": "code",
      "execution_count": 14,
      "id": "07d0fac6",
      "metadata": {
        "colab": {
          "base_uri": "https://localhost:8080/",
          "height": 449
        },
        "id": "07d0fac6",
        "outputId": "ddaa464e-6e90-48f6-e5cd-3cdfbb2bf2b9"
      },
      "outputs": [
        {
          "output_type": "display_data",
          "data": {
            "text/plain": [
              "<Figure size 640x480 with 1 Axes>"
            ],
            "image/png": "[encoded data removed]"
          },
          "metadata": {}
        }
      ],
      "source": [
        "sns.histplot(data['temperature'], kde=True, bins=24)\n",
        "plt.show()"
      ]
    },
    {
      "cell_type": "markdown",
      "id": "b7f63822",
      "metadata": {
        "id": "b7f63822"
      },
      "source": [
        "위 정보로 부터 파악한 내용 정리\n"
      ]
    },
    {
      "cell_type": "markdown",
      "id": "d28e0cb7",
      "metadata": {
        "id": "d28e0cb7"
      },
      "source": [
        "#### 3) Feature3 : precipitation"
      ]
    },
    {
      "cell_type": "markdown",
      "id": "2ce4d935",
      "metadata": {
        "id": "2ce4d935"
      },
      "source": [
        "변수가 내포하고 있는 의미\n",
        "- 따릉이 대여 시점의 강우 여부 (비가 안왔으면 0, 왔으면 1)"
      ]
    },
    {
      "cell_type": "code",
      "execution_count": 15,
      "id": "3b797f2d",
      "metadata": {
        "colab": {
          "base_uri": "https://localhost:8080/"
        },
        "id": "3b797f2d",
        "outputId": "e71570bd-6fec-4684-a715-722eacd77694"
      },
      "outputs": [
        {
          "output_type": "stream",
          "name": "stdout",
          "text": [
            "count    5827.000000\n",
            "mean        0.075511\n",
            "std         0.264236\n",
            "min         0.000000\n",
            "25%         0.000000\n",
            "50%         0.000000\n",
            "75%         0.000000\n",
            "max         1.000000\n",
            "Name: precipitation, dtype: float64\n"
          ]
        }
      ],
      "source": [
        "# 아래에 실습코드를 작성하고 결과를 확인합니다.\n",
        "\n",
        "print(data['precipitation'].describe())"
      ]
    },
    {
      "cell_type": "markdown",
      "id": "5255e1f1",
      "metadata": {
        "id": "5255e1f1"
      },
      "source": [
        "변수가 수치형인지 범주형인지\n",
        "- 1시간 전 강우 유무는 범주형? 수치형?"
      ]
    },
    {
      "cell_type": "code",
      "execution_count": null,
      "id": "377abde0",
      "metadata": {
        "id": "377abde0"
      },
      "outputs": [],
      "source": [
        "# 아래에 실습코드를 작성하고 결과를 확인합니다.\n",
        "\n",
        "# 데이터 타입이 float이기 때문에 수치형이지만, 종류가 두 가지이기 떄문에 따로 분류하여 범주형으로 만들 수 있다."
      ]
    },
    {
      "cell_type": "markdown",
      "id": "30039c7e",
      "metadata": {
        "id": "30039c7e"
      },
      "source": [
        "변수의 결측치 존재 여부 및 조치 방안\n"
      ]
    },
    {
      "cell_type": "code",
      "execution_count": 16,
      "id": "f8650fec",
      "metadata": {
        "colab": {
          "base_uri": "https://localhost:8080/"
        },
        "id": "f8650fec",
        "outputId": "d35c3b43-444f-4a4d-c077-19b18f4040a4"
      },
      "outputs": [
        {
          "output_type": "stream",
          "name": "stdout",
          "text": [
            "결측치 개수: 0\n"
          ]
        }
      ],
      "source": [
        "# 아래에 실습코드를 작성하고 결과를 확인합니다.\n",
        "\n",
        "missing_values = data['precipitation'].isnull().sum()\n",
        "print(f\"결측치 개수: {missing_values}\")"
      ]
    },
    {
      "cell_type": "markdown",
      "id": "aa89a86f",
      "metadata": {
        "id": "aa89a86f"
      },
      "source": [
        "변수의 기초 통계량 확인"
      ]
    },
    {
      "cell_type": "code",
      "execution_count": null,
      "id": "80518c33",
      "metadata": {
        "id": "80518c33"
      },
      "outputs": [],
      "source": [
        "# 아래에 실습코드를 작성하고 결과를 확인합니다.\n",
        "\n"
      ]
    },
    {
      "cell_type": "markdown",
      "id": "ca1d3e86",
      "metadata": {
        "id": "ca1d3e86"
      },
      "source": [
        "변수의 분포 확인"
      ]
    },
    {
      "cell_type": "code",
      "execution_count": 17,
      "id": "9694bb33",
      "metadata": {
        "colab": {
          "base_uri": "https://localhost:8080/",
          "height": 449
        },
        "id": "9694bb33",
        "outputId": "60418c2c-b60e-4a02-c470-7ef0af991701"
      },
      "outputs": [
        {
          "output_type": "display_data",
          "data": {
            "text/plain": [
              "<Figure size 640x480 with 1 Axes>"
            ],
            "image/png": "[encoded data removed]"
          },
          "metadata": {}
        }
      ],
      "source": [
        "# 아래에 실습코드를 작성하고 결과를 확인합니다.\n",
        "\n",
        "sns.histplot(data['precipitation'], kde=True, bins=24)\n",
        "plt.show()"
      ]
    },
    {
      "cell_type": "markdown",
      "id": "ea7ffee6",
      "metadata": {
        "id": "ea7ffee6"
      },
      "source": [
        "위 정보로 부터 파악한 내용 정리\n"
      ]
    },
    {
      "cell_type": "markdown",
      "id": "c559e931",
      "metadata": {
        "id": "c559e931"
      },
      "source": [
        "#### 4) Feature4 : windspeed"
      ]
    },
    {
      "cell_type": "markdown",
      "id": "414fcce3",
      "metadata": {
        "id": "414fcce3"
      },
      "source": [
        "변수가 내포하고 있는 의미\n",
        "- 따릉이 대여 시점의 풍속, 풍량"
      ]
    },
    {
      "cell_type": "code",
      "execution_count": 18,
      "id": "24491c56",
      "metadata": {
        "colab": {
          "base_uri": "https://localhost:8080/"
        },
        "id": "24491c56",
        "outputId": "ecfdc9d8-5fcd-4ab6-c33f-f0db29472959"
      },
      "outputs": [
        {
          "output_type": "stream",
          "name": "stdout",
          "text": [
            "count    5827.000000\n",
            "mean        2.237601\n",
            "std         1.054516\n",
            "min         0.000000\n",
            "25%         1.500000\n",
            "50%         2.200000\n",
            "75%         2.800000\n",
            "max         8.300000\n",
            "Name: windspeed, dtype: float64\n"
          ]
        }
      ],
      "source": [
        "# 아래에 실습코드를 작성하고 결과를 확인합니다.\n",
        "\n",
        "print(data['windspeed'].describe())"
      ]
    },
    {
      "cell_type": "markdown",
      "id": "89a59834",
      "metadata": {
        "id": "89a59834"
      },
      "source": [
        "변수가 수치형인지 범주형인지\n"
      ]
    },
    {
      "cell_type": "code",
      "execution_count": null,
      "id": "01bc4b8f",
      "metadata": {
        "id": "01bc4b8f"
      },
      "outputs": [],
      "source": [
        "# 아래에 실습코드를 작성하고 결과를 확인합니다.\n",
        "\n",
        "# 데이터 타입이 float이므로, 수치형이다."
      ]
    },
    {
      "cell_type": "markdown",
      "id": "062f03ae",
      "metadata": {
        "id": "062f03ae"
      },
      "source": [
        "변수의 결측치 존재 여부 및 조치방안"
      ]
    },
    {
      "cell_type": "code",
      "execution_count": null,
      "id": "388e5f1c",
      "metadata": {
        "id": "388e5f1c"
      },
      "outputs": [],
      "source": [
        "# 아래에 실습코드를 작성하고 결과를 확인합니다.\n",
        "\n",
        "# 5827이므로 결측치는 없다."
      ]
    },
    {
      "cell_type": "markdown",
      "id": "c5684936",
      "metadata": {
        "id": "c5684936"
      },
      "source": [
        "변수의 기초 통계량 확인"
      ]
    },
    {
      "cell_type": "code",
      "execution_count": null,
      "id": "37b3d9d1",
      "metadata": {
        "id": "37b3d9d1"
      },
      "outputs": [],
      "source": [
        "# 아래에 실습코드를 작성하고 결과를 확인합니다.\n",
        "\n"
      ]
    },
    {
      "cell_type": "markdown",
      "id": "72b17bbc",
      "metadata": {
        "id": "72b17bbc"
      },
      "source": [
        "변수의 분포 확인"
      ]
    },
    {
      "cell_type": "code",
      "execution_count": 19,
      "id": "6a3caeb7",
      "metadata": {
        "colab": {
          "base_uri": "https://localhost:8080/",
          "height": 452
        },
        "id": "6a3caeb7",
        "outputId": "3fcc5e7e-5eca-437b-a7dc-3a73086d7c8f"
      },
      "outputs": [
        {
          "output_type": "display_data",
          "data": {
            "text/plain": [
              "<Figure size 640x480 with 1 Axes>"
            ],
            "image/png": "[encoded data removed]"
          },
          "metadata": {}
        }
      ],
      "source": [
        "# 아래에 실습코드를 작성하고 결과를 확인합니다.\n",
        "\n",
        "sns.histplot(data['windspeed'], kde=True, bins=24)\n",
        "plt.show()"
      ]
    },
    {
      "cell_type": "markdown",
      "id": "c4efd45c",
      "metadata": {
        "id": "c4efd45c"
      },
      "source": [
        "위 정보로 부터 파악한 내용 정리\n"
      ]
    },
    {
      "cell_type": "markdown",
      "metadata": {
        "id": "7cQnvchUaSkJ"
      },
      "source": [
        "#### 5) Feature5 : humidity"
      ],
      "id": "7cQnvchUaSkJ"
    },
    {
      "cell_type": "markdown",
      "metadata": {
        "id": "4C4Ql6T-aSkK"
      },
      "source": [
        "변수가 내포하고 있는 의미\n",
        "- 따릉이 대여 시점의 습도"
      ],
      "id": "4C4Ql6T-aSkK"
    },
    {
      "cell_type": "code",
      "execution_count": 20,
      "metadata": {
        "colab": {
          "base_uri": "https://localhost:8080/"
        },
        "id": "cx-7YejQaSkK",
        "outputId": "0e8dd142-9ec7-4576-fa07-97a78ee40c05"
      },
      "outputs": [
        {
          "output_type": "stream",
          "name": "stdout",
          "text": [
            "count    5827.000000\n",
            "mean       68.608718\n",
            "std        17.277266\n",
            "min        19.000000\n",
            "25%        56.000000\n",
            "50%        70.000000\n",
            "75%        82.000000\n",
            "max       100.000000\n",
            "Name: humidity, dtype: float64\n"
          ]
        }
      ],
      "source": [
        "# 아래에 실습코드를 작성하고 결과를 확인합니다.\n",
        "\n",
        "print(data['humidity'].describe())"
      ],
      "id": "cx-7YejQaSkK"
    },
    {
      "cell_type": "markdown",
      "metadata": {
        "id": "Abp8yMn_aSkK"
      },
      "source": [
        "변수가 수치형인지 범주형인지\n"
      ],
      "id": "Abp8yMn_aSkK"
    },
    {
      "cell_type": "code",
      "execution_count": null,
      "metadata": {
        "id": "wOZoP6G6aSkK"
      },
      "outputs": [],
      "source": [
        "# 아래에 실습코드를 작성하고 결과를 확인합니다.\n",
        "\n",
        "# 수치형"
      ],
      "id": "wOZoP6G6aSkK"
    },
    {
      "cell_type": "markdown",
      "metadata": {
        "id": "HCJriZlnaSkK"
      },
      "source": [
        "변수의 결측치 존재 여부 및 조치방안"
      ],
      "id": "HCJriZlnaSkK"
    },
    {
      "cell_type": "code",
      "execution_count": null,
      "metadata": {
        "id": "5Ln6502yaSkK"
      },
      "outputs": [],
      "source": [
        "# 아래에 실습코드를 작성하고 결과를 확인합니다.\n",
        "\n",
        "# 없음"
      ],
      "id": "5Ln6502yaSkK"
    },
    {
      "cell_type": "markdown",
      "metadata": {
        "id": "GbildVI1aSkK"
      },
      "source": [
        "변수의 기초 통계량 확인"
      ],
      "id": "GbildVI1aSkK"
    },
    {
      "cell_type": "code",
      "execution_count": null,
      "metadata": {
        "id": "MqfVSSsRaSkK"
      },
      "outputs": [],
      "source": [
        "# 아래에 실습코드를 작성하고 결과를 확인합니다.\n",
        "\n"
      ],
      "id": "MqfVSSsRaSkK"
    },
    {
      "cell_type": "markdown",
      "metadata": {
        "id": "9UDTehhNaSkK"
      },
      "source": [
        "변수의 분포 확인"
      ],
      "id": "9UDTehhNaSkK"
    },
    {
      "cell_type": "code",
      "execution_count": 21,
      "metadata": {
        "colab": {
          "base_uri": "https://localhost:8080/",
          "height": 449
        },
        "id": "FmnzHNz4aSkL",
        "outputId": "5c155c52-c4e5-4d2d-df4d-3fad67bb9b47"
      },
      "outputs": [
        {
          "output_type": "display_data",
          "data": {
            "text/plain": [
              "<Figure size 640x480 with 1 Axes>"
            ],
            "image/png": "[encoded data removed]"
          },
          "metadata": {}
        }
      ],
      "source": [
        "# 아래에 실습코드를 작성하고 결과를 확인합니다.\n",
        "\n",
        "sns.histplot(data['humidity'], kde=True, bins=24)\n",
        "plt.show()"
      ],
      "id": "FmnzHNz4aSkL"
    },
    {
      "cell_type": "markdown",
      "id": "7b879858",
      "metadata": {
        "id": "7b879858"
      },
      "source": [
        "위 정보로 부터 파악한 내용 정리\n"
      ]
    },
    {
      "cell_type": "markdown",
      "metadata": {
        "id": "9Tj3mM84aSkL"
      },
      "source": [
        "#### 6) Feature6 : visibility"
      ],
      "id": "9Tj3mM84aSkL"
    },
    {
      "cell_type": "markdown",
      "metadata": {
        "id": "S7eQHcRdaSkL"
      },
      "source": [
        "변수가 내포하고 있는 의미\n",
        "- 대여 시점의 시계 (시정 거리)"
      ],
      "id": "S7eQHcRdaSkL"
    },
    {
      "cell_type": "code",
      "execution_count": 22,
      "metadata": {
        "colab": {
          "base_uri": "https://localhost:8080/"
        },
        "id": "7L2vWOYqaSkL",
        "outputId": "45f3bf97-6a3f-4441-ab83-a9d4eb88d258"
      },
      "outputs": [
        {
          "output_type": "stream",
          "name": "stdout",
          "text": [
            "count    5827.000000\n",
            "mean     1758.438648\n",
            "std       490.969394\n",
            "min        60.000000\n",
            "25%      1935.500000\n",
            "50%      2000.000000\n",
            "75%      2000.000000\n",
            "max      2000.000000\n",
            "Name: visibility, dtype: float64\n"
          ]
        }
      ],
      "source": [
        "# 아래에 실습코드를 작성하고 결과를 확인합니다.\n",
        "\n",
        "print(data['visibility'].describe())"
      ],
      "id": "7L2vWOYqaSkL"
    },
    {
      "cell_type": "markdown",
      "metadata": {
        "id": "-3QcCdEyaSkL"
      },
      "source": [
        "변수가 수치형인지 범주형인지"
      ],
      "id": "-3QcCdEyaSkL"
    },
    {
      "cell_type": "code",
      "execution_count": null,
      "metadata": {
        "id": "Qux93-_waSkL"
      },
      "outputs": [],
      "source": [
        "# 아래에 실습코드를 작성하고 결과를 확인합니다.\n",
        "\n",
        "# 수치형"
      ],
      "id": "Qux93-_waSkL"
    },
    {
      "cell_type": "markdown",
      "metadata": {
        "id": "e-C_Jh18aSkL"
      },
      "source": [
        "변수의 결측치 존재 여부 및 조치방안"
      ],
      "id": "e-C_Jh18aSkL"
    },
    {
      "cell_type": "code",
      "execution_count": null,
      "metadata": {
        "id": "HD8HeXPgaSkL"
      },
      "outputs": [],
      "source": [
        "# 아래에 실습코드를 작성하고 결과를 확인합니다.\n",
        "\n",
        "# 없음"
      ],
      "id": "HD8HeXPgaSkL"
    },
    {
      "cell_type": "markdown",
      "metadata": {
        "id": "Yj3t9jKraSkM"
      },
      "source": [
        "변수의 기초 통계량 확인"
      ],
      "id": "Yj3t9jKraSkM"
    },
    {
      "cell_type": "code",
      "execution_count": 23,
      "metadata": {
        "colab": {
          "base_uri": "https://localhost:8080/",
          "height": 449
        },
        "id": "HRPdVUYeaSkM",
        "outputId": "65636383-ab58-44a4-c14e-b40440619fd9"
      },
      "outputs": [
        {
          "output_type": "display_data",
          "data": {
            "text/plain": [
              "<Figure size 640x480 with 1 Axes>"
            ],
            "image/png": "[encoded data removed]"
          },
          "metadata": {}
        }
      ],
      "source": [
        "# 아래에 실습코드를 작성하고 결과를 확인합니다.\n",
        "\n",
        "sns.histplot(data['visibility'], kde=True, bins=24)\n",
        "plt.show()"
      ],
      "id": "HRPdVUYeaSkM"
    },
    {
      "cell_type": "markdown",
      "metadata": {
        "id": "m9xvMl5VaSkM"
      },
      "source": [
        "변수의 분포 확인"
      ],
      "id": "m9xvMl5VaSkM"
    },
    {
      "cell_type": "code",
      "execution_count": null,
      "metadata": {
        "id": "LJkAdODvaSkM"
      },
      "outputs": [],
      "source": [
        "# 아래에 실습코드를 작성하고 결과를 확인합니다.\n",
        "\n"
      ],
      "id": "LJkAdODvaSkM"
    },
    {
      "cell_type": "markdown",
      "metadata": {
        "id": "oaPd9g91aSkM"
      },
      "source": [
        "위 정보로 부터 파악한 내용 정리\n"
      ],
      "id": "oaPd9g91aSkM"
    },
    {
      "cell_type": "markdown",
      "metadata": {
        "id": "RG2DrwIiaSkM"
      },
      "source": [
        "#### 7) Feature7 : ozone"
      ],
      "id": "RG2DrwIiaSkM"
    },
    {
      "cell_type": "markdown",
      "metadata": {
        "id": "bp1e3ByKaSkM"
      },
      "source": [
        "변수가 내포하고 있는 의미\n",
        "- 따릉이 대여 시점의 오존 수치"
      ],
      "id": "bp1e3ByKaSkM"
    },
    {
      "cell_type": "code",
      "execution_count": null,
      "metadata": {
        "id": "if-XGnUQaSkM"
      },
      "outputs": [],
      "source": [
        "# 아래에 실습코드를 작성하고 결과를 확인합니다.\n",
        "\n"
      ],
      "id": "if-XGnUQaSkM"
    },
    {
      "cell_type": "markdown",
      "metadata": {
        "id": "yAPCJ2hxaSkN"
      },
      "source": [
        "변수가 수치형인지 범주형인지\n"
      ],
      "id": "yAPCJ2hxaSkN"
    },
    {
      "cell_type": "code",
      "execution_count": null,
      "metadata": {
        "id": "BsZ1mBIwaSkN"
      },
      "outputs": [],
      "source": [
        "# 아래에 실습코드를 작성하고 결과를 확인합니다.\n",
        "\n"
      ],
      "id": "BsZ1mBIwaSkN"
    },
    {
      "cell_type": "markdown",
      "metadata": {
        "id": "Wags2wBvaSkN"
      },
      "source": [
        "변수의 결측치 존재 여부 및 조치방안"
      ],
      "id": "Wags2wBvaSkN"
    },
    {
      "cell_type": "code",
      "execution_count": null,
      "metadata": {
        "id": "ChogakoXaSkN"
      },
      "outputs": [],
      "source": [
        "# 아래에 실습코드를 작성하고 결과를 확인합니다.\n",
        "\n"
      ],
      "id": "ChogakoXaSkN"
    },
    {
      "cell_type": "markdown",
      "id": "8b97cd3f",
      "metadata": {
        "id": "8b97cd3f"
      },
      "source": [
        "만약 결측치가 존재한다면?-> 어떻게 처리할 것인가?"
      ]
    },
    {
      "cell_type": "code",
      "execution_count": null,
      "id": "8e567c88",
      "metadata": {
        "id": "8e567c88"
      },
      "outputs": [],
      "source": [
        "# 아래에 실습코드를 작성하고 결과를 확인합니다.\n",
        "\n"
      ]
    },
    {
      "cell_type": "markdown",
      "metadata": {
        "id": "_ZXfHFzxaSkN"
      },
      "source": [
        "변수의 기초 통계량 확인"
      ],
      "id": "_ZXfHFzxaSkN"
    },
    {
      "cell_type": "code",
      "execution_count": null,
      "metadata": {
        "id": "96n4t8MVaSkO"
      },
      "outputs": [],
      "source": [
        "# 아래에 실습코드를 작성하고 결과를 확인합니다.\n",
        "\n"
      ],
      "id": "96n4t8MVaSkO"
    },
    {
      "cell_type": "markdown",
      "metadata": {
        "id": "tn3PBgAGaSkO"
      },
      "source": [
        "변수의 분포 확인"
      ],
      "id": "tn3PBgAGaSkO"
    },
    {
      "cell_type": "code",
      "execution_count": null,
      "metadata": {
        "id": "-2AWp0NkaSkO"
      },
      "outputs": [],
      "source": [
        "# 아래에 실습코드를 작성하고 결과를 확인합니다.\n",
        "\n"
      ],
      "id": "-2AWp0NkaSkO"
    },
    {
      "cell_type": "markdown",
      "metadata": {
        "id": "gsdqixfaaSkO"
      },
      "source": [
        "위 정보로 부터 파악한 내용 정리\n"
      ],
      "id": "gsdqixfaaSkO"
    },
    {
      "cell_type": "markdown",
      "metadata": {
        "id": "xhg8POIGaSkO"
      },
      "source": [
        "#### 8) Feature8 : PM10"
      ],
      "id": "xhg8POIGaSkO"
    },
    {
      "cell_type": "markdown",
      "metadata": {
        "id": "g4ZTMkqtaSkO"
      },
      "source": [
        "변수가 내포하고 있는 의미\n",
        "- 따릉이 대여 시점의 미세먼지 농도"
      ],
      "id": "g4ZTMkqtaSkO"
    },
    {
      "cell_type": "code",
      "execution_count": null,
      "metadata": {
        "id": "Zh2GjIhRaSkO"
      },
      "outputs": [],
      "source": [
        "# 아래에 실습코드를 작성하고 결과를 확인합니다.\n",
        "\n"
      ],
      "id": "Zh2GjIhRaSkO"
    },
    {
      "cell_type": "markdown",
      "metadata": {
        "id": "fzcOuLuSaSkP"
      },
      "source": [
        "변수가 수치형인지 범주형인지\n"
      ],
      "id": "fzcOuLuSaSkP"
    },
    {
      "cell_type": "code",
      "execution_count": null,
      "metadata": {
        "id": "Ak9OxNIxaSkP"
      },
      "outputs": [],
      "source": [
        "# 아래에 실습코드를 작성하고 결과를 확인합니다.\n",
        "\n"
      ],
      "id": "Ak9OxNIxaSkP"
    },
    {
      "cell_type": "markdown",
      "metadata": {
        "id": "QhbHo2fTaSkP"
      },
      "source": [
        "변수의 결측치 존재 여부 및 조치방안"
      ],
      "id": "QhbHo2fTaSkP"
    },
    {
      "cell_type": "code",
      "execution_count": null,
      "metadata": {
        "id": "5F-pbbpFaSkP"
      },
      "outputs": [],
      "source": [
        "# 아래에 실습코드를 작성하고 결과를 확인합니다.\n",
        "\n"
      ],
      "id": "5F-pbbpFaSkP"
    },
    {
      "cell_type": "markdown",
      "metadata": {
        "id": "RrQQYIkXaSkP"
      },
      "source": [
        "변수의 기초 통계량 확인"
      ],
      "id": "RrQQYIkXaSkP"
    },
    {
      "cell_type": "code",
      "execution_count": null,
      "metadata": {
        "id": "bwZZ2XaWaSkP"
      },
      "outputs": [],
      "source": [
        "# 아래에 실습코드를 작성하고 결과를 확인합니다.\n",
        "\n"
      ],
      "id": "bwZZ2XaWaSkP"
    },
    {
      "cell_type": "markdown",
      "metadata": {
        "id": "XTNgDxrAaSkP"
      },
      "source": [
        "변수의 분포 확인"
      ],
      "id": "XTNgDxrAaSkP"
    },
    {
      "cell_type": "code",
      "execution_count": null,
      "metadata": {
        "id": "DkzvZYdJaSkP"
      },
      "outputs": [],
      "source": [
        "# 아래에 실습코드를 작성하고 결과를 확인합니다.\n",
        "\n"
      ],
      "id": "DkzvZYdJaSkP"
    },
    {
      "cell_type": "markdown",
      "metadata": {
        "id": "IChbSQfvaSkP"
      },
      "source": [
        "위 정보로 부터 파악한 내용 정리\n"
      ],
      "id": "IChbSQfvaSkP"
    },
    {
      "cell_type": "markdown",
      "metadata": {
        "id": "IZxskLD5aSkP"
      },
      "source": [
        "#### 9) Feature9 : PM2.5"
      ],
      "id": "IZxskLD5aSkP"
    },
    {
      "cell_type": "markdown",
      "metadata": {
        "id": "VQYQ2XBsaSkQ"
      },
      "source": [
        "변수가 내포하고 있는 의미\n",
        "- 따릉이 대여시점의 초미세먼지 수치"
      ],
      "id": "VQYQ2XBsaSkQ"
    },
    {
      "cell_type": "code",
      "execution_count": null,
      "metadata": {
        "id": "32OcXVMcaSkQ"
      },
      "outputs": [],
      "source": [
        "# 아래에 실습코드를 작성하고 결과를 확인합니다.\n",
        "\n"
      ],
      "id": "32OcXVMcaSkQ"
    },
    {
      "cell_type": "markdown",
      "metadata": {
        "id": "_qkZMbK6aSkQ"
      },
      "source": [
        "변수가 수치형인지 범주형인지\n"
      ],
      "id": "_qkZMbK6aSkQ"
    },
    {
      "cell_type": "code",
      "execution_count": null,
      "metadata": {
        "id": "fqb4Ud1MaSkQ"
      },
      "outputs": [],
      "source": [
        "# 아래에 실습코드를 작성하고 결과를 확인합니다.\n",
        "\n"
      ],
      "id": "fqb4Ud1MaSkQ"
    },
    {
      "cell_type": "markdown",
      "metadata": {
        "id": "mtl5rEVeaSkQ"
      },
      "source": [
        "변수의 결측치 존재 여부 및 조치방안"
      ],
      "id": "mtl5rEVeaSkQ"
    },
    {
      "cell_type": "code",
      "execution_count": null,
      "metadata": {
        "id": "lZszaVYEaSkQ"
      },
      "outputs": [],
      "source": [
        "# 아래에 실습코드를 작성하고 결과를 확인합니다.\n",
        "\n"
      ],
      "id": "lZszaVYEaSkQ"
    },
    {
      "cell_type": "markdown",
      "metadata": {
        "id": "5Ltce7nRaSkQ"
      },
      "source": [
        "변수의 기초 통계량 확인"
      ],
      "id": "5Ltce7nRaSkQ"
    },
    {
      "cell_type": "code",
      "execution_count": null,
      "metadata": {
        "id": "TfuANpLqaSkQ"
      },
      "outputs": [],
      "source": [
        "# 아래에 실습코드를 작성하고 결과를 확인합니다.\n",
        "\n"
      ],
      "id": "TfuANpLqaSkQ"
    },
    {
      "cell_type": "markdown",
      "metadata": {
        "id": "4T5N_DNuaSkQ"
      },
      "source": [
        "변수의 분포 확인"
      ],
      "id": "4T5N_DNuaSkQ"
    },
    {
      "cell_type": "code",
      "execution_count": null,
      "metadata": {
        "id": "T2TV7CSbaSkQ"
      },
      "outputs": [],
      "source": [
        "# 아래에 실습코드를 작성하고 결과를 확인합니다.\n",
        "\n"
      ],
      "id": "T2TV7CSbaSkQ"
    },
    {
      "cell_type": "markdown",
      "metadata": {
        "id": "RyAFjkQRaSkR"
      },
      "source": [
        "위 정보로 부터 파악한 내용 정리\n"
      ],
      "id": "RyAFjkQRaSkR"
    },
    {
      "cell_type": "markdown",
      "id": "13cf9192",
      "metadata": {
        "id": "13cf9192"
      },
      "source": [
        "#### 10) Count (Target)"
      ]
    },
    {
      "cell_type": "code",
      "execution_count": null,
      "id": "2a027d4c",
      "metadata": {
        "id": "2a027d4c"
      },
      "outputs": [],
      "source": [
        "# 아래에 실습코드를 작성하고 결과를 확인합니다.\n",
        "\n"
      ]
    },
    {
      "cell_type": "markdown",
      "id": "7007298b",
      "metadata": {
        "id": "7007298b"
      },
      "source": [
        "변수가 내포하고 있는 의미\n",
        "- 따릉이의 대여량 -> 우리가 예측해야 할 변수!"
      ]
    },
    {
      "cell_type": "code",
      "execution_count": null,
      "id": "da1b23c4",
      "metadata": {
        "id": "da1b23c4"
      },
      "outputs": [],
      "source": [
        "# 아래에 실습코드를 작성하고 결과를 확인합니다.\n",
        "\n"
      ]
    },
    {
      "cell_type": "markdown",
      "id": "56219b68",
      "metadata": {
        "id": "56219b68"
      },
      "source": [
        "변수가 수치형인지 범주형인지\n"
      ]
    },
    {
      "cell_type": "markdown",
      "id": "9f1bf19c",
      "metadata": {
        "id": "9f1bf19c"
      },
      "source": [
        "변수의 결측치 존재 여부 및 조치 방안"
      ]
    },
    {
      "cell_type": "code",
      "execution_count": null,
      "id": "502c4c8d",
      "metadata": {
        "id": "502c4c8d"
      },
      "outputs": [],
      "source": [
        "# 아래에 실습코드를 작성하고 결과를 확인합니다.\n",
        "\n"
      ]
    },
    {
      "cell_type": "markdown",
      "id": "fd336e86",
      "metadata": {
        "id": "fd336e86"
      },
      "source": [
        "변수의 기초 통계량 확인"
      ]
    },
    {
      "cell_type": "code",
      "execution_count": null,
      "id": "2a1ba541",
      "metadata": {
        "id": "2a1ba541"
      },
      "outputs": [],
      "source": [
        "# 아래에 실습코드를 작성하고 결과를 확인합니다.\n",
        "\n"
      ]
    },
    {
      "cell_type": "markdown",
      "id": "3b3e68a5",
      "metadata": {
        "id": "3b3e68a5"
      },
      "source": [
        "변수의 분포 확인"
      ]
    },
    {
      "cell_type": "code",
      "execution_count": null,
      "id": "395e2996",
      "metadata": {
        "id": "395e2996"
      },
      "outputs": [],
      "source": [
        "# 아래에 실습코드를 작성하고 결과를 확인합니다.\n",
        "\n"
      ]
    },
    {
      "cell_type": "markdown",
      "id": "531dc5e3",
      "metadata": {
        "id": "531dc5e3"
      },
      "source": [
        "위 정보로 부터 파악한 내용 정리\n"
      ]
    },
    {
      "cell_type": "code",
      "source": [
        "data.columns"
      ],
      "metadata": {
        "colab": {
          "base_uri": "https://localhost:8080/"
        },
        "id": "NMARg3L9eEmw",
        "outputId": "1155f27f-51b3-41e6-b3d8-57386ac1aced"
      },
      "id": "NMARg3L9eEmw",
      "execution_count": 24,
      "outputs": [
        {
          "output_type": "execute_result",
          "data": {
            "text/plain": [
              "Index(['date', 'hour', 'PM10', 'PM2.5', 'ozone', 'temperature',\n",
              "       'precipitation', 'windspeed', 'humidity', 'visibility', 'count'],\n",
              "      dtype='object')"
            ]
          },
          "metadata": {},
          "execution_count": 24
        }
      ]
    },
    {
      "cell_type": "code",
      "source": [
        "for i in data.columns:\n",
        "  sns.histplot(data[i], kde=True, bins=24)\n",
        "  plt.show()"
      ],
      "metadata": {
        "colab": {
          "base_uri": "https://localhost:8080/",
          "height": 1000
        },
        "id": "XHRFRWd2eK4V",
        "outputId": "204e00bb-9744-4d00-f418-7fb81a9f72b0"
      },
      "id": "XHRFRWd2eK4V",
      "execution_count": 25,
      "outputs": [
        {
          "output_type": "display_data",
          "data": {
            "text/plain": [
              "<Figure size 640x480 with 1 Axes>"
            ],
            "image/png": "[encoded data removed]"
          },
          "metadata": {}
        },
        {
          "output_type": "display_data",
          "data": {
            "text/plain": [
              "<Figure size 640x480 with 1 Axes>"
            ],
            "image/png": "[encoded data removed]"
          },
          "metadata": {}
        },
        {
          "output_type": "display_data",
          "data": {
            "text/plain": [
              "<Figure size 640x480 with 1 Axes>"
            ],
            "image/png": "[encoded data removed]"
          },
          "metadata": {}
        },
        {
          "output_type": "display_data",
          "data": {
            "text/plain": [
              "<Figure size 640x480 with 1 Axes>"
            ],
            "image/png": "[encoded data removed]"
          },
          "metadata": {}
        },
        {
          "output_type": "display_data",
          "data": {
            "text/plain": [
              "<Figure size 640x480 with 1 Axes>"
            ],
            "image/png": "[encoded data removed]"
          },
          "metadata": {}
        },
        {
          "output_type": "display_data",
          "data": {
            "text/plain": [
              "<Figure size 640x480 with 1 Axes>"
            ],
            "image/png": "[encoded data removed]"
          },
          "metadata": {}
        },
        {
          "output_type": "display_data",
          "data": {
            "text/plain": [
              "<Figure size 640x480 with 1 Axes>"
            ],
            "image/png": "[encoded data removed]"
          },
          "metadata": {}
        },
        {
          "output_type": "display_data",
          "data": {
            "text/plain": [
              "<Figure size 640x480 with 1 Axes>"
            ],
            "image/png": "[encoded data removed]"
          },
          "metadata": {}
        },
        {
          "output_type": "display_data",
          "data": {
            "text/plain": [
              "<Figure size 640x480 with 1 Axes>"
            ],
            "image/png": "[encoded data removed]"
          },
          "metadata": {}
        },
        {
          "output_type": "display_data",
          "data": {
            "text/plain": [
              "<Figure size 640x480 with 1 Axes>"
            ],
            "image/png": "[encoded data removed]"
          },
          "metadata": {}
        },
        {
          "output_type": "display_data",
          "data": {
            "text/plain": [
              "<Figure size 640x480 with 1 Axes>"
            ],
            "image/png": "[encoded data removed]"
          },
          "metadata": {}
        }
      ]
    },
    {
      "cell_type": "code",
      "source": [
        "# 날짜와 시간은 크게 의미가 없음.\n",
        "# PM10, PM2, Ozone 작을수록 대여 수가 많음. 왼쪽으로 치우친 정규분포곡선임.\n",
        "# temperature가 25도 정도일 때 대여 수가 많음. 날이 좋아서 ㅋㅋ\n",
        "# 당연히 비가 올 때보다 안올 때, 대여 수가 압도적으로 많음.\n",
        "# 풍속은 적당히 ~\n",
        "# 습도는 70프로 ~\n",
        "# 시정(가시성)이 좋을 때 ~\n",
        "# 대여를 안 한 비율이 훨씬 크긴 함."
      ],
      "metadata": {
        "id": "PSQ7092teTaK"
      },
      "id": "PSQ7092teTaK",
      "execution_count": null,
      "outputs": []
    }
  ],
  "metadata": {
    "colab": {
      "provenance": []
    },
    "kernelspec": {
      "display_name": "Python 3.9.5 64-bit",
      "language": "python",
      "name": "python3"
    },
    "language_info": {
      "codemirror_mode": {
        "name": "ipython",
        "version": 3
      },
      "file_extension": ".py",
      "mimetype": "text/x-python",
      "name": "python",
      "nbconvert_exporter": "python",
      "pygments_lexer": "ipython3",
      "version": "3.11.5"
    },
    "vscode": {
      "interpreter": {
        "hash": "cf92aa13fedf815d5c8dd192b8d835913fde3e8bc926b2a0ad6cc74ef2ba3ca2"
      }
    }
  },
  "nbformat": 4,
  "nbformat_minor": 5
}